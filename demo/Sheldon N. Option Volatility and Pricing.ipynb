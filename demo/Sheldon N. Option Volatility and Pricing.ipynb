{
 "cells": [
  {
   "cell_type": "markdown",
   "id": "44800f3d-4e59-45a4-a433-54e83dec64d3",
   "metadata": {
    "editable": true,
    "slideshow": {
     "slide_type": ""
    },
    "tags": []
   },
   "source": [
    "# Sheldon N. Option Volatility & Pricing: Advanced Trading Strategies and Techniques\n",
    "Demo code for book"
   ]
  },
  {
   "cell_type": "code",
   "execution_count": null,
   "id": "dcd9d649-776c-4652-b790-0d5281a2b88e",
   "metadata": {},
   "outputs": [],
   "source": [
    "# TODO"
   ]
  }
 ],
 "metadata": {
  "kernelspec": {
   "display_name": "Python 3 (ipykernel)",
   "language": "python",
   "name": "python3"
  },
  "language_info": {
   "codemirror_mode": {
    "name": "ipython",
    "version": 3
   },
   "file_extension": ".py",
   "mimetype": "text/x-python",
   "name": "python",
   "nbconvert_exporter": "python",
   "pygments_lexer": "ipython3",
   "version": "3.13.0"
  }
 },
 "nbformat": 4,
 "nbformat_minor": 5
}
