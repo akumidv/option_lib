{
 "cells": [
  {
   "cell_type": "markdown",
   "id": "b15e828b-7014-4ca9-a5dc-92e65983e05d",
   "metadata": {},
   "source": [
    "### From articles \"Options for smart investor\"\n",
    "\n",
    "https://dzen.ru/id/5f6b2336d03ed90da6bf9d00\n"
   ]
  },
  {
   "cell_type": "code",
   "execution_count": 4,
   "id": "d69cb3a3-0b44-4ad9-b63d-59f32cacf86a",
   "metadata": {},
   "outputs": [
    {
     "data": {
      "text/html": "        <script type=\"text/javascript\">\n        window.PlotlyConfig = {MathJaxConfig: 'local'};\n        if (window.MathJax && window.MathJax.Hub && window.MathJax.Hub.Config) {window.MathJax.Hub.Config({SVG: {font: \"STIX-Web\"}});}\n        if (typeof require !== 'undefined') {\n        require.undef(\"plotly\");\n        requirejs.config({\n            paths: {\n                'plotly': ['https://cdn.plot.ly/plotly-2.35.2.min']\n            }\n        });\n        require(['plotly'], function(Plotly) {\n            window._Plotly = Plotly;\n        });\n        }\n        </script>\n        "
     },
     "metadata": {},
     "output_type": "display_data"
    }
   ],
   "source": [
    "import datetime\n",
    "import pandas as pd\n",
    "from chart_studio import plotly\n",
    "\n",
    "from plotly import graph_objs as go\n",
    "from plotly.offline import iplot, init_notebook_mode\n",
    "#import plotly.express as px\n",
    "\n",
    "from option_lib.provider import PandasLocalFileProvider, RequestParameters\n",
    "from option_lib.entities import OptionType, OptionPriceStatus\n",
    "from option_lib import Option\n",
    "from option_lib.entities import LegType, OptionLeg\n",
    "\n",
    "\n",
    "init_notebook_mode(connected=True)\n",
    "\n",
    "pd.set_option(\"display.max_rows\", 20, \"display.max_columns\", 30)"
   ]
  },
  {
   "cell_type": "code",
   "execution_count": 9,
   "outputs": [],
   "source": [
    "cme_provider = PandasLocalFileProvider('CME', '../data')\n",
    "cur_dt = datetime.date.today()\n",
    "provider_params = RequestParameters(period_to=cur_dt.year-1)\n",
    "brn = Option(cme_provider, 'BRN', provider_params, option_columns=['datetime', 'expiration_date','strike', 'type', 'premium', 'iv',  'futures_expiration_date', 'delta', 'gamma', 'vega', 'theta', 'quick_delta', 'contract_size'])"
   ],
   "metadata": {
    "collapsed": false
   }
  },
  {
   "cell_type": "code",
   "execution_count": 10,
   "id": "9e861fa5-47b3-417d-8ec2-52a2b42ea203",
   "metadata": {},
   "outputs": [
    {
     "data": {
      "text/plain": "     datetime expiration_date  strike type    premium        iv  \\\n0  2024-12-23      2024-12-23     6.0    c  66.629997  4.999922   \n1  2024-12-23      2024-12-23     6.0    p   0.010000       NaN   \n\n  futures_expiration_date  delta  gamma  vega  theta  quick_delta  \\\n0              2024-12-30    1.0    0.0   0.0    NaN          1.0   \n1              2024-12-30    NaN    NaN   NaN    NaN         -0.0   \n\n   contract_size  \n0         1000.0  \n1         1000.0  ",
      "text/html": "<div>\n<style scoped>\n    .dataframe tbody tr th:only-of-type {\n        vertical-align: middle;\n    }\n\n    .dataframe tbody tr th {\n        vertical-align: top;\n    }\n\n    .dataframe thead th {\n        text-align: right;\n    }\n</style>\n<table border=\"1\" class=\"dataframe\">\n  <thead>\n    <tr style=\"text-align: right;\">\n      <th></th>\n      <th>datetime</th>\n      <th>expiration_date</th>\n      <th>strike</th>\n      <th>type</th>\n      <th>premium</th>\n      <th>iv</th>\n      <th>futures_expiration_date</th>\n      <th>delta</th>\n      <th>gamma</th>\n      <th>vega</th>\n      <th>theta</th>\n      <th>quick_delta</th>\n      <th>contract_size</th>\n    </tr>\n  </thead>\n  <tbody>\n    <tr>\n      <th>0</th>\n      <td>2024-12-23</td>\n      <td>2024-12-23</td>\n      <td>6.0</td>\n      <td>c</td>\n      <td>66.629997</td>\n      <td>4.999922</td>\n      <td>2024-12-30</td>\n      <td>1.0</td>\n      <td>0.0</td>\n      <td>0.0</td>\n      <td>NaN</td>\n      <td>1.0</td>\n      <td>1000.0</td>\n    </tr>\n    <tr>\n      <th>1</th>\n      <td>2024-12-23</td>\n      <td>2024-12-23</td>\n      <td>6.0</td>\n      <td>p</td>\n      <td>0.010000</td>\n      <td>NaN</td>\n      <td>2024-12-30</td>\n      <td>NaN</td>\n      <td>NaN</td>\n      <td>NaN</td>\n      <td>NaN</td>\n      <td>-0.0</td>\n      <td>1000.0</td>\n    </tr>\n  </tbody>\n</table>\n</div>"
     },
     "execution_count": 10,
     "metadata": {},
     "output_type": "execute_result"
    }
   ],
   "source": [
    "brn.df_hist.head(2)"
   ]
  },
  {
   "cell_type": "code",
   "execution_count": 11,
   "outputs": [
    {
     "data": {
      "text/plain": "     datetime expiration_date  price\n0  2024-12-23      2024-12-30  72.63\n1  2024-12-23      2025-01-31  72.32",
      "text/html": "<div>\n<style scoped>\n    .dataframe tbody tr th:only-of-type {\n        vertical-align: middle;\n    }\n\n    .dataframe tbody tr th {\n        vertical-align: top;\n    }\n\n    .dataframe thead th {\n        text-align: right;\n    }\n</style>\n<table border=\"1\" class=\"dataframe\">\n  <thead>\n    <tr style=\"text-align: right;\">\n      <th></th>\n      <th>datetime</th>\n      <th>expiration_date</th>\n      <th>price</th>\n    </tr>\n  </thead>\n  <tbody>\n    <tr>\n      <th>0</th>\n      <td>2024-12-23</td>\n      <td>2024-12-30</td>\n      <td>72.63</td>\n    </tr>\n    <tr>\n      <th>1</th>\n      <td>2024-12-23</td>\n      <td>2025-01-31</td>\n      <td>72.32</td>\n    </tr>\n  </tbody>\n</table>\n</div>"
     },
     "execution_count": 11,
     "metadata": {},
     "output_type": "execute_result"
    }
   ],
   "source": [
    "df_fut = brn.df_fut\n",
    "df_fut.head(2)"
   ],
   "metadata": {
    "collapsed": false
   }
  },
  {
   "cell_type": "code",
   "execution_count": 12,
   "outputs": [
    {
     "data": {
      "text/plain": "     datetime expiration_date  strike type    premium        iv  \\\n0  2024-12-23      2024-12-23     6.0    c  66.629997  4.999922   \n1  2024-12-23      2024-12-23     6.0    p   0.010000       NaN   \n\n  futures_expiration_date  delta  gamma  vega  theta  quick_delta  \\\n0              2024-12-30    1.0    0.0   0.0    NaN          1.0   \n1              2024-12-30    NaN    NaN   NaN    NaN         -0.0   \n\n   contract_size  futures_price  intrinsic_value  time_value  \n0         1000.0          72.63            66.63   -0.000003  \n1         1000.0          72.63             0.00    0.010000  ",
      "text/html": "<div>\n<style scoped>\n    .dataframe tbody tr th:only-of-type {\n        vertical-align: middle;\n    }\n\n    .dataframe tbody tr th {\n        vertical-align: top;\n    }\n\n    .dataframe thead th {\n        text-align: right;\n    }\n</style>\n<table border=\"1\" class=\"dataframe\">\n  <thead>\n    <tr style=\"text-align: right;\">\n      <th></th>\n      <th>datetime</th>\n      <th>expiration_date</th>\n      <th>strike</th>\n      <th>type</th>\n      <th>premium</th>\n      <th>iv</th>\n      <th>futures_expiration_date</th>\n      <th>delta</th>\n      <th>gamma</th>\n      <th>vega</th>\n      <th>theta</th>\n      <th>quick_delta</th>\n      <th>contract_size</th>\n      <th>futures_price</th>\n      <th>intrinsic_value</th>\n      <th>time_value</th>\n    </tr>\n  </thead>\n  <tbody>\n    <tr>\n      <th>0</th>\n      <td>2024-12-23</td>\n      <td>2024-12-23</td>\n      <td>6.0</td>\n      <td>c</td>\n      <td>66.629997</td>\n      <td>4.999922</td>\n      <td>2024-12-30</td>\n      <td>1.0</td>\n      <td>0.0</td>\n      <td>0.0</td>\n      <td>NaN</td>\n      <td>1.0</td>\n      <td>1000.0</td>\n      <td>72.63</td>\n      <td>66.63</td>\n      <td>-0.000003</td>\n    </tr>\n    <tr>\n      <th>1</th>\n      <td>2024-12-23</td>\n      <td>2024-12-23</td>\n      <td>6.0</td>\n      <td>p</td>\n      <td>0.010000</td>\n      <td>NaN</td>\n      <td>2024-12-30</td>\n      <td>NaN</td>\n      <td>NaN</td>\n      <td>NaN</td>\n      <td>NaN</td>\n      <td>-0.0</td>\n      <td>1000.0</td>\n      <td>72.63</td>\n      <td>0.00</td>\n      <td>0.010000</td>\n    </tr>\n  </tbody>\n</table>\n</div>"
     },
     "execution_count": 12,
     "metadata": {},
     "output_type": "execute_result"
    }
   ],
   "source": [
    "brn.enrichment.add_future().add_intrinsic_and_time_value()\n",
    "brn.df_hist.head(2)"
   ],
   "metadata": {
    "collapsed": false
   }
  },
  {
   "cell_type": "code",
   "execution_count": 13,
   "id": "1351f71b-062f-4419-81cb-5e451b78ba6d",
   "metadata": {
    "editable": true,
    "slideshow": {
     "slide_type": ""
    },
    "tags": []
   },
   "outputs": [
    {
     "data": {
      "text/plain": "       datetime expiration_date  strike type  premium        iv  \\\n144  2024-12-23      2024-12-23   72.75    c     0.53  4.999922   \n145  2024-12-23      2024-12-23   72.75    p     0.12  4.999922   \n\n    futures_expiration_date  delta  gamma  vega  theta  quick_delta  \\\n144              2024-12-30    0.0    0.0   0.0    NaN          0.0   \n145              2024-12-30   -1.0    0.0   0.0    NaN         -1.0   \n\n     contract_size  futures_price  intrinsic_value    time_value price_status  \n144         1000.0          72.63             0.00  5.300000e-01          atm  \n145         1000.0          72.63             0.12 -2.682214e-09          atm  ",
      "text/html": "<div>\n<style scoped>\n    .dataframe tbody tr th:only-of-type {\n        vertical-align: middle;\n    }\n\n    .dataframe tbody tr th {\n        vertical-align: top;\n    }\n\n    .dataframe thead th {\n        text-align: right;\n    }\n</style>\n<table border=\"1\" class=\"dataframe\">\n  <thead>\n    <tr style=\"text-align: right;\">\n      <th></th>\n      <th>datetime</th>\n      <th>expiration_date</th>\n      <th>strike</th>\n      <th>type</th>\n      <th>premium</th>\n      <th>iv</th>\n      <th>futures_expiration_date</th>\n      <th>delta</th>\n      <th>gamma</th>\n      <th>vega</th>\n      <th>theta</th>\n      <th>quick_delta</th>\n      <th>contract_size</th>\n      <th>futures_price</th>\n      <th>intrinsic_value</th>\n      <th>time_value</th>\n      <th>price_status</th>\n    </tr>\n  </thead>\n  <tbody>\n    <tr>\n      <th>144</th>\n      <td>2024-12-23</td>\n      <td>2024-12-23</td>\n      <td>72.75</td>\n      <td>c</td>\n      <td>0.53</td>\n      <td>4.999922</td>\n      <td>2024-12-30</td>\n      <td>0.0</td>\n      <td>0.0</td>\n      <td>0.0</td>\n      <td>NaN</td>\n      <td>0.0</td>\n      <td>1000.0</td>\n      <td>72.63</td>\n      <td>0.00</td>\n      <td>5.300000e-01</td>\n      <td>atm</td>\n    </tr>\n    <tr>\n      <th>145</th>\n      <td>2024-12-23</td>\n      <td>2024-12-23</td>\n      <td>72.75</td>\n      <td>p</td>\n      <td>0.12</td>\n      <td>4.999922</td>\n      <td>2024-12-30</td>\n      <td>-1.0</td>\n      <td>0.0</td>\n      <td>0.0</td>\n      <td>NaN</td>\n      <td>-1.0</td>\n      <td>1000.0</td>\n      <td>72.63</td>\n      <td>0.12</td>\n      <td>-2.682214e-09</td>\n      <td>atm</td>\n    </tr>\n  </tbody>\n</table>\n</div>"
     },
     "execution_count": 13,
     "metadata": {},
     "output_type": "execute_result"
    }
   ],
   "source": [
    "brn.enrichment.add_atm_itm_otm()\n",
    "brn.df_hist[brn.df_hist['price_status']==OptionPriceStatus.ATM.code].head(2)"
   ]
  },
  {
   "cell_type": "code",
   "execution_count": 14,
   "outputs": [
    {
     "data": {
      "text/plain": "           datetime expiration_date  strike type    premium        iv  \\\n0        2024-12-23      2024-12-23     6.0    c  66.629997  4.999922   \n1        2024-12-23      2024-12-23     6.0    p   0.010000       NaN   \n2        2024-12-23      2024-12-23    10.0    c  62.630001  4.999922   \n3        2024-12-23      2024-12-23    10.0    p   0.010000       NaN   \n4        2024-12-23      2024-12-23    20.0    c  52.630001  4.999922   \n...             ...             ...     ...  ...        ...       ...   \n2555177  2024-10-17      2029-04-25    65.0    p  11.444299  0.241947   \n2555178  2024-10-17      2029-04-25    64.0    c  16.694535  0.243474   \n2555179  2024-10-17      2029-04-25    64.0    p  10.984536  0.243474   \n2555180  2024-10-17      2029-04-25    63.0    p  10.535058  0.245009   \n2555181  2024-10-17      2029-04-25    63.0    c  17.245057  0.245009   \n\n        futures_expiration_date     delta     gamma      vega     theta  \\\n0                    2024-12-30  1.000000  0.000000  0.000000       NaN   \n1                    2024-12-30       NaN       NaN       NaN       NaN   \n2                    2024-12-30  1.000000  0.000000  0.000000       NaN   \n3                    2024-12-30       NaN       NaN       NaN       NaN   \n4                    2024-12-30  1.000000  0.000000  0.000000       NaN   \n...                         ...       ...       ...       ...       ...   \n2555177              2029-04-30 -0.240271  0.008672  0.461183 -0.001094   \n2555178              2029-04-30  0.768582  0.008441  0.451735 -0.006437   \n2555179              2029-04-30 -0.231418  0.008441  0.451735 -0.001134   \n2555180              2029-04-30 -0.222714  0.008209  0.442075 -0.001169   \n2555181              2029-04-30  0.777286  0.008209  0.442075 -0.006389   \n\n         quick_delta  contract_size  futures_price  intrinsic_value  \\\n0           1.000000         1000.0          72.63            66.63   \n1          -0.000000         1000.0          72.63             0.00   \n2           1.000000         1000.0          72.63            62.63   \n3          -0.000000         1000.0          72.63             0.00   \n4           1.000000         1000.0          72.63            52.63   \n...              ...            ...            ...              ...   \n2555177    -0.444279         1000.0          69.71             0.00   \n2555178     0.567961         1000.0          69.71             5.71   \n2555179    -0.432039         1000.0          69.71             0.00   \n2555180    -0.419672         1000.0          69.71             0.00   \n2555181     0.580328         1000.0          69.71             6.71   \n\n         time_value price_status  \n0         -0.000003          itm  \n1          0.010000          otm  \n2          0.000001          itm  \n3          0.010000          otm  \n4          0.000001          itm  \n...             ...          ...  \n2555177   11.444299          otm  \n2555178   10.984535          itm  \n2555179   10.984536          otm  \n2555180   10.535058          otm  \n2555181   10.535057          itm  \n\n[2555182 rows x 17 columns]",
      "text/html": "<div>\n<style scoped>\n    .dataframe tbody tr th:only-of-type {\n        vertical-align: middle;\n    }\n\n    .dataframe tbody tr th {\n        vertical-align: top;\n    }\n\n    .dataframe thead th {\n        text-align: right;\n    }\n</style>\n<table border=\"1\" class=\"dataframe\">\n  <thead>\n    <tr style=\"text-align: right;\">\n      <th></th>\n      <th>datetime</th>\n      <th>expiration_date</th>\n      <th>strike</th>\n      <th>type</th>\n      <th>premium</th>\n      <th>iv</th>\n      <th>futures_expiration_date</th>\n      <th>delta</th>\n      <th>gamma</th>\n      <th>vega</th>\n      <th>theta</th>\n      <th>quick_delta</th>\n      <th>contract_size</th>\n      <th>futures_price</th>\n      <th>intrinsic_value</th>\n      <th>time_value</th>\n      <th>price_status</th>\n    </tr>\n  </thead>\n  <tbody>\n    <tr>\n      <th>0</th>\n      <td>2024-12-23</td>\n      <td>2024-12-23</td>\n      <td>6.0</td>\n      <td>c</td>\n      <td>66.629997</td>\n      <td>4.999922</td>\n      <td>2024-12-30</td>\n      <td>1.000000</td>\n      <td>0.000000</td>\n      <td>0.000000</td>\n      <td>NaN</td>\n      <td>1.000000</td>\n      <td>1000.0</td>\n      <td>72.63</td>\n      <td>66.63</td>\n      <td>-0.000003</td>\n      <td>itm</td>\n    </tr>\n    <tr>\n      <th>1</th>\n      <td>2024-12-23</td>\n      <td>2024-12-23</td>\n      <td>6.0</td>\n      <td>p</td>\n      <td>0.010000</td>\n      <td>NaN</td>\n      <td>2024-12-30</td>\n      <td>NaN</td>\n      <td>NaN</td>\n      <td>NaN</td>\n      <td>NaN</td>\n      <td>-0.000000</td>\n      <td>1000.0</td>\n      <td>72.63</td>\n      <td>0.00</td>\n      <td>0.010000</td>\n      <td>otm</td>\n    </tr>\n    <tr>\n      <th>2</th>\n      <td>2024-12-23</td>\n      <td>2024-12-23</td>\n      <td>10.0</td>\n      <td>c</td>\n      <td>62.630001</td>\n      <td>4.999922</td>\n      <td>2024-12-30</td>\n      <td>1.000000</td>\n      <td>0.000000</td>\n      <td>0.000000</td>\n      <td>NaN</td>\n      <td>1.000000</td>\n      <td>1000.0</td>\n      <td>72.63</td>\n      <td>62.63</td>\n      <td>0.000001</td>\n      <td>itm</td>\n    </tr>\n    <tr>\n      <th>3</th>\n      <td>2024-12-23</td>\n      <td>2024-12-23</td>\n      <td>10.0</td>\n      <td>p</td>\n      <td>0.010000</td>\n      <td>NaN</td>\n      <td>2024-12-30</td>\n      <td>NaN</td>\n      <td>NaN</td>\n      <td>NaN</td>\n      <td>NaN</td>\n      <td>-0.000000</td>\n      <td>1000.0</td>\n      <td>72.63</td>\n      <td>0.00</td>\n      <td>0.010000</td>\n      <td>otm</td>\n    </tr>\n    <tr>\n      <th>4</th>\n      <td>2024-12-23</td>\n      <td>2024-12-23</td>\n      <td>20.0</td>\n      <td>c</td>\n      <td>52.630001</td>\n      <td>4.999922</td>\n      <td>2024-12-30</td>\n      <td>1.000000</td>\n      <td>0.000000</td>\n      <td>0.000000</td>\n      <td>NaN</td>\n      <td>1.000000</td>\n      <td>1000.0</td>\n      <td>72.63</td>\n      <td>52.63</td>\n      <td>0.000001</td>\n      <td>itm</td>\n    </tr>\n    <tr>\n      <th>...</th>\n      <td>...</td>\n      <td>...</td>\n      <td>...</td>\n      <td>...</td>\n      <td>...</td>\n      <td>...</td>\n      <td>...</td>\n      <td>...</td>\n      <td>...</td>\n      <td>...</td>\n      <td>...</td>\n      <td>...</td>\n      <td>...</td>\n      <td>...</td>\n      <td>...</td>\n      <td>...</td>\n      <td>...</td>\n    </tr>\n    <tr>\n      <th>2555177</th>\n      <td>2024-10-17</td>\n      <td>2029-04-25</td>\n      <td>65.0</td>\n      <td>p</td>\n      <td>11.444299</td>\n      <td>0.241947</td>\n      <td>2029-04-30</td>\n      <td>-0.240271</td>\n      <td>0.008672</td>\n      <td>0.461183</td>\n      <td>-0.001094</td>\n      <td>-0.444279</td>\n      <td>1000.0</td>\n      <td>69.71</td>\n      <td>0.00</td>\n      <td>11.444299</td>\n      <td>otm</td>\n    </tr>\n    <tr>\n      <th>2555178</th>\n      <td>2024-10-17</td>\n      <td>2029-04-25</td>\n      <td>64.0</td>\n      <td>c</td>\n      <td>16.694535</td>\n      <td>0.243474</td>\n      <td>2029-04-30</td>\n      <td>0.768582</td>\n      <td>0.008441</td>\n      <td>0.451735</td>\n      <td>-0.006437</td>\n      <td>0.567961</td>\n      <td>1000.0</td>\n      <td>69.71</td>\n      <td>5.71</td>\n      <td>10.984535</td>\n      <td>itm</td>\n    </tr>\n    <tr>\n      <th>2555179</th>\n      <td>2024-10-17</td>\n      <td>2029-04-25</td>\n      <td>64.0</td>\n      <td>p</td>\n      <td>10.984536</td>\n      <td>0.243474</td>\n      <td>2029-04-30</td>\n      <td>-0.231418</td>\n      <td>0.008441</td>\n      <td>0.451735</td>\n      <td>-0.001134</td>\n      <td>-0.432039</td>\n      <td>1000.0</td>\n      <td>69.71</td>\n      <td>0.00</td>\n      <td>10.984536</td>\n      <td>otm</td>\n    </tr>\n    <tr>\n      <th>2555180</th>\n      <td>2024-10-17</td>\n      <td>2029-04-25</td>\n      <td>63.0</td>\n      <td>p</td>\n      <td>10.535058</td>\n      <td>0.245009</td>\n      <td>2029-04-30</td>\n      <td>-0.222714</td>\n      <td>0.008209</td>\n      <td>0.442075</td>\n      <td>-0.001169</td>\n      <td>-0.419672</td>\n      <td>1000.0</td>\n      <td>69.71</td>\n      <td>0.00</td>\n      <td>10.535058</td>\n      <td>otm</td>\n    </tr>\n    <tr>\n      <th>2555181</th>\n      <td>2024-10-17</td>\n      <td>2029-04-25</td>\n      <td>63.0</td>\n      <td>c</td>\n      <td>17.245057</td>\n      <td>0.245009</td>\n      <td>2029-04-30</td>\n      <td>0.777286</td>\n      <td>0.008209</td>\n      <td>0.442075</td>\n      <td>-0.006389</td>\n      <td>0.580328</td>\n      <td>1000.0</td>\n      <td>69.71</td>\n      <td>6.71</td>\n      <td>10.535057</td>\n      <td>itm</td>\n    </tr>\n  </tbody>\n</table>\n<p>2555182 rows × 17 columns</p>\n</div>"
     },
     "execution_count": 14,
     "metadata": {},
     "output_type": "execute_result"
    }
   ],
   "source": [
    "df_opt = brn.df_hist\n",
    "df_opt"
   ],
   "metadata": {
    "collapsed": false
   }
  },
  {
   "cell_type": "code",
   "execution_count": 15,
   "id": "6c1b52c4-fa39-4750-be1e-c258ad611962",
   "metadata": {},
   "outputs": [
    {
     "data": {
      "text/plain": "       datetime expiration_date  strike type     premium        iv  \\\n0    2024-12-23      2024-12-23     6.0    c   66.629997  4.999922   \n1    2024-12-23      2024-12-23     6.0    p    0.010000       NaN   \n2    2024-12-23      2024-12-23    10.0    c   62.630001  4.999922   \n3    2024-12-23      2024-12-23    10.0    p    0.010000       NaN   \n4    2024-12-23      2024-12-23    20.0    c   52.630001  4.999922   \n..          ...             ...     ...  ...         ...       ...   \n351  2024-12-23      2024-12-23   210.0    p  137.369995  4.999922   \n352  2024-12-23      2024-12-23   225.0    c    0.010000       NaN   \n353  2024-12-23      2024-12-23   225.0    p  152.369995  4.999922   \n354  2024-12-23      2024-12-23   250.0    c    0.010000       NaN   \n355  2024-12-23      2024-12-23   250.0    p  177.369995  4.999922   \n\n    futures_expiration_date  delta  gamma  vega  theta  quick_delta  \\\n0                2024-12-30    1.0    0.0   0.0    NaN          1.0   \n1                2024-12-30    NaN    NaN   NaN    NaN         -0.0   \n2                2024-12-30    1.0    0.0   0.0    NaN          1.0   \n3                2024-12-30    NaN    NaN   NaN    NaN         -0.0   \n4                2024-12-30    1.0    0.0   0.0    NaN          1.0   \n..                      ...    ...    ...   ...    ...          ...   \n351              2024-12-30   -1.0    0.0   0.0    NaN         -1.0   \n352              2024-12-30    NaN    NaN   NaN    NaN          0.0   \n353              2024-12-30   -1.0    0.0   0.0    NaN         -1.0   \n354              2024-12-30    NaN    NaN   NaN    NaN          0.0   \n355              2024-12-30   -1.0    0.0   0.0    NaN         -1.0   \n\n     contract_size  futures_price  intrinsic_value  time_value price_status  \n0           1000.0          72.63            66.63   -0.000003          itm  \n1           1000.0          72.63             0.00    0.010000          otm  \n2           1000.0          72.63            62.63    0.000001          itm  \n3           1000.0          72.63             0.00    0.010000          otm  \n4           1000.0          72.63            52.63    0.000001          itm  \n..             ...            ...              ...         ...          ...  \n351         1000.0          72.63           137.37   -0.000005          itm  \n352         1000.0          72.63             0.00    0.010000          otm  \n353         1000.0          72.63           152.37   -0.000005          itm  \n354         1000.0          72.63             0.00    0.010000          otm  \n355         1000.0          72.63           177.37   -0.000005          itm  \n\n[356 rows x 17 columns]",
      "text/html": "<div>\n<style scoped>\n    .dataframe tbody tr th:only-of-type {\n        vertical-align: middle;\n    }\n\n    .dataframe tbody tr th {\n        vertical-align: top;\n    }\n\n    .dataframe thead th {\n        text-align: right;\n    }\n</style>\n<table border=\"1\" class=\"dataframe\">\n  <thead>\n    <tr style=\"text-align: right;\">\n      <th></th>\n      <th>datetime</th>\n      <th>expiration_date</th>\n      <th>strike</th>\n      <th>type</th>\n      <th>premium</th>\n      <th>iv</th>\n      <th>futures_expiration_date</th>\n      <th>delta</th>\n      <th>gamma</th>\n      <th>vega</th>\n      <th>theta</th>\n      <th>quick_delta</th>\n      <th>contract_size</th>\n      <th>futures_price</th>\n      <th>intrinsic_value</th>\n      <th>time_value</th>\n      <th>price_status</th>\n    </tr>\n  </thead>\n  <tbody>\n    <tr>\n      <th>0</th>\n      <td>2024-12-23</td>\n      <td>2024-12-23</td>\n      <td>6.0</td>\n      <td>c</td>\n      <td>66.629997</td>\n      <td>4.999922</td>\n      <td>2024-12-30</td>\n      <td>1.0</td>\n      <td>0.0</td>\n      <td>0.0</td>\n      <td>NaN</td>\n      <td>1.0</td>\n      <td>1000.0</td>\n      <td>72.63</td>\n      <td>66.63</td>\n      <td>-0.000003</td>\n      <td>itm</td>\n    </tr>\n    <tr>\n      <th>1</th>\n      <td>2024-12-23</td>\n      <td>2024-12-23</td>\n      <td>6.0</td>\n      <td>p</td>\n      <td>0.010000</td>\n      <td>NaN</td>\n      <td>2024-12-30</td>\n      <td>NaN</td>\n      <td>NaN</td>\n      <td>NaN</td>\n      <td>NaN</td>\n      <td>-0.0</td>\n      <td>1000.0</td>\n      <td>72.63</td>\n      <td>0.00</td>\n      <td>0.010000</td>\n      <td>otm</td>\n    </tr>\n    <tr>\n      <th>2</th>\n      <td>2024-12-23</td>\n      <td>2024-12-23</td>\n      <td>10.0</td>\n      <td>c</td>\n      <td>62.630001</td>\n      <td>4.999922</td>\n      <td>2024-12-30</td>\n      <td>1.0</td>\n      <td>0.0</td>\n      <td>0.0</td>\n      <td>NaN</td>\n      <td>1.0</td>\n      <td>1000.0</td>\n      <td>72.63</td>\n      <td>62.63</td>\n      <td>0.000001</td>\n      <td>itm</td>\n    </tr>\n    <tr>\n      <th>3</th>\n      <td>2024-12-23</td>\n      <td>2024-12-23</td>\n      <td>10.0</td>\n      <td>p</td>\n      <td>0.010000</td>\n      <td>NaN</td>\n      <td>2024-12-30</td>\n      <td>NaN</td>\n      <td>NaN</td>\n      <td>NaN</td>\n      <td>NaN</td>\n      <td>-0.0</td>\n      <td>1000.0</td>\n      <td>72.63</td>\n      <td>0.00</td>\n      <td>0.010000</td>\n      <td>otm</td>\n    </tr>\n    <tr>\n      <th>4</th>\n      <td>2024-12-23</td>\n      <td>2024-12-23</td>\n      <td>20.0</td>\n      <td>c</td>\n      <td>52.630001</td>\n      <td>4.999922</td>\n      <td>2024-12-30</td>\n      <td>1.0</td>\n      <td>0.0</td>\n      <td>0.0</td>\n      <td>NaN</td>\n      <td>1.0</td>\n      <td>1000.0</td>\n      <td>72.63</td>\n      <td>52.63</td>\n      <td>0.000001</td>\n      <td>itm</td>\n    </tr>\n    <tr>\n      <th>...</th>\n      <td>...</td>\n      <td>...</td>\n      <td>...</td>\n      <td>...</td>\n      <td>...</td>\n      <td>...</td>\n      <td>...</td>\n      <td>...</td>\n      <td>...</td>\n      <td>...</td>\n      <td>...</td>\n      <td>...</td>\n      <td>...</td>\n      <td>...</td>\n      <td>...</td>\n      <td>...</td>\n      <td>...</td>\n    </tr>\n    <tr>\n      <th>351</th>\n      <td>2024-12-23</td>\n      <td>2024-12-23</td>\n      <td>210.0</td>\n      <td>p</td>\n      <td>137.369995</td>\n      <td>4.999922</td>\n      <td>2024-12-30</td>\n      <td>-1.0</td>\n      <td>0.0</td>\n      <td>0.0</td>\n      <td>NaN</td>\n      <td>-1.0</td>\n      <td>1000.0</td>\n      <td>72.63</td>\n      <td>137.37</td>\n      <td>-0.000005</td>\n      <td>itm</td>\n    </tr>\n    <tr>\n      <th>352</th>\n      <td>2024-12-23</td>\n      <td>2024-12-23</td>\n      <td>225.0</td>\n      <td>c</td>\n      <td>0.010000</td>\n      <td>NaN</td>\n      <td>2024-12-30</td>\n      <td>NaN</td>\n      <td>NaN</td>\n      <td>NaN</td>\n      <td>NaN</td>\n      <td>0.0</td>\n      <td>1000.0</td>\n      <td>72.63</td>\n      <td>0.00</td>\n      <td>0.010000</td>\n      <td>otm</td>\n    </tr>\n    <tr>\n      <th>353</th>\n      <td>2024-12-23</td>\n      <td>2024-12-23</td>\n      <td>225.0</td>\n      <td>p</td>\n      <td>152.369995</td>\n      <td>4.999922</td>\n      <td>2024-12-30</td>\n      <td>-1.0</td>\n      <td>0.0</td>\n      <td>0.0</td>\n      <td>NaN</td>\n      <td>-1.0</td>\n      <td>1000.0</td>\n      <td>72.63</td>\n      <td>152.37</td>\n      <td>-0.000005</td>\n      <td>itm</td>\n    </tr>\n    <tr>\n      <th>354</th>\n      <td>2024-12-23</td>\n      <td>2024-12-23</td>\n      <td>250.0</td>\n      <td>c</td>\n      <td>0.010000</td>\n      <td>NaN</td>\n      <td>2024-12-30</td>\n      <td>NaN</td>\n      <td>NaN</td>\n      <td>NaN</td>\n      <td>NaN</td>\n      <td>0.0</td>\n      <td>1000.0</td>\n      <td>72.63</td>\n      <td>0.00</td>\n      <td>0.010000</td>\n      <td>otm</td>\n    </tr>\n    <tr>\n      <th>355</th>\n      <td>2024-12-23</td>\n      <td>2024-12-23</td>\n      <td>250.0</td>\n      <td>p</td>\n      <td>177.369995</td>\n      <td>4.999922</td>\n      <td>2024-12-30</td>\n      <td>-1.0</td>\n      <td>0.0</td>\n      <td>0.0</td>\n      <td>NaN</td>\n      <td>-1.0</td>\n      <td>1000.0</td>\n      <td>72.63</td>\n      <td>177.37</td>\n      <td>-0.000005</td>\n      <td>itm</td>\n    </tr>\n  </tbody>\n</table>\n<p>356 rows × 17 columns</p>\n</div>"
     },
     "execution_count": 15,
     "metadata": {},
     "output_type": "execute_result"
    }
   ],
   "source": [
    "df_opt_chain = brn.chain.select_chain()\n",
    "df_opt_chain"
   ]
  },
  {
   "cell_type": "markdown",
   "id": "5da1c84d-5f0d-43ca-ba5a-63614bfa35d1",
   "metadata": {},
   "source": [
    "Futures types:\n",
    "* Currency\n",
    "* Index\n",
    "* Commodities\n",
    "* Stock\n",
    "* Percent\n",
    "\n",
    "Is crypto new type or currency?\n"
   ]
  },
  {
   "cell_type": "markdown",
   "id": "7b45d294-0297-49cc-8adb-f506de46b0c0",
   "metadata": {},
   "source": [
    "BRN specification https://www.cmegroup.com/markets/energy/crude-oil/brent-crude-oil.html\n",
    "\n",
    "Option chain https://www.barchart.com/futures/quotes/CB*0/options?futuresOptionsView=merged"
   ]
  },
  {
   "cell_type": "code",
   "execution_count": 16,
   "id": "c08e4dd5-a51b-4bc0-ab83-f0b23ec196cc",
   "metadata": {},
   "outputs": [
    {
     "data": {
      "text/plain": "np.float64(72.75)"
     },
     "execution_count": 16,
     "metadata": {},
     "output_type": "execute_result"
    }
   ],
   "source": [
    "atm_nearest_strikes = brn.chain.get_atm_nearest_strikes()\n",
    "atm_strike = atm_nearest_strikes[0]\n",
    "atm_strike"
   ]
  },
  {
   "cell_type": "code",
   "execution_count": 17,
   "outputs": [
    {
     "data": {
      "text/plain": "       datetime expiration_date  strike type  premium        iv  \\\n144  2024-12-23      2024-12-23   72.75    c     0.53  4.999922   \n145  2024-12-23      2024-12-23   72.75    p     0.12  4.999922   \n\n    futures_expiration_date  delta  gamma  vega  theta  quick_delta  \\\n144              2024-12-30    0.0    0.0   0.0    NaN          0.0   \n145              2024-12-30   -1.0    0.0   0.0    NaN         -1.0   \n\n     contract_size  futures_price  intrinsic_value    time_value price_status  \n144         1000.0          72.63             0.00  5.300000e-01          atm  \n145         1000.0          72.63             0.12 -2.682214e-09          atm  ",
      "text/html": "<div>\n<style scoped>\n    .dataframe tbody tr th:only-of-type {\n        vertical-align: middle;\n    }\n\n    .dataframe tbody tr th {\n        vertical-align: top;\n    }\n\n    .dataframe thead th {\n        text-align: right;\n    }\n</style>\n<table border=\"1\" class=\"dataframe\">\n  <thead>\n    <tr style=\"text-align: right;\">\n      <th></th>\n      <th>datetime</th>\n      <th>expiration_date</th>\n      <th>strike</th>\n      <th>type</th>\n      <th>premium</th>\n      <th>iv</th>\n      <th>futures_expiration_date</th>\n      <th>delta</th>\n      <th>gamma</th>\n      <th>vega</th>\n      <th>theta</th>\n      <th>quick_delta</th>\n      <th>contract_size</th>\n      <th>futures_price</th>\n      <th>intrinsic_value</th>\n      <th>time_value</th>\n      <th>price_status</th>\n    </tr>\n  </thead>\n  <tbody>\n    <tr>\n      <th>144</th>\n      <td>2024-12-23</td>\n      <td>2024-12-23</td>\n      <td>72.75</td>\n      <td>c</td>\n      <td>0.53</td>\n      <td>4.999922</td>\n      <td>2024-12-30</td>\n      <td>0.0</td>\n      <td>0.0</td>\n      <td>0.0</td>\n      <td>NaN</td>\n      <td>0.0</td>\n      <td>1000.0</td>\n      <td>72.63</td>\n      <td>0.00</td>\n      <td>5.300000e-01</td>\n      <td>atm</td>\n    </tr>\n    <tr>\n      <th>145</th>\n      <td>2024-12-23</td>\n      <td>2024-12-23</td>\n      <td>72.75</td>\n      <td>p</td>\n      <td>0.12</td>\n      <td>4.999922</td>\n      <td>2024-12-30</td>\n      <td>-1.0</td>\n      <td>0.0</td>\n      <td>0.0</td>\n      <td>NaN</td>\n      <td>-1.0</td>\n      <td>1000.0</td>\n      <td>72.63</td>\n      <td>0.12</td>\n      <td>-2.682214e-09</td>\n      <td>atm</td>\n    </tr>\n  </tbody>\n</table>\n</div>"
     },
     "execution_count": 17,
     "metadata": {},
     "output_type": "execute_result"
    }
   ],
   "source": [
    "atm_strike_df = df_opt_chain[df_opt_chain['strike'] == atm_strike]\n",
    "atm_strike_row = atm_strike_df[atm_strike_df['type']==OptionType.CALL.code].iloc[0]\n",
    "atm_strike_df"
   ],
   "metadata": {
    "collapsed": false
   }
  },
  {
   "cell_type": "code",
   "execution_count": 18,
   "id": "207f4e08-85ee-48c3-ba09-8627edc38b3e",
   "metadata": {},
   "outputs": [
    {
     "data": {
      "text/plain": "    premium_call   iv_call  delta_call  gamma_call  vega_call  theta_call  \\\n67          1.13  4.999922         1.0         0.0        0.0         NaN   \n68          0.88  4.999922         1.0         0.0        0.0         NaN   \n69          0.63  4.999922         1.0         0.0        0.0         NaN   \n70          0.38  4.999922         1.0         0.0        0.0         NaN   \n71          0.13  4.999922         1.0         0.0        0.0         NaN   \n72          0.53  4.999922         0.0         0.0        0.0         NaN   \n73          0.39  4.999922         0.0         0.0        0.0         NaN   \n74          0.28  4.999922         0.0         0.0        0.0         NaN   \n75          0.21  4.999922         0.0         0.0        0.0         NaN   \n76          0.15  4.999922         0.0         0.0        0.0         NaN   \n\n    quick_delta_call  intrinsic_value_call  time_value_call price_status_call  \\\n67               1.0                  1.13    -4.768367e-09               itm   \n68               1.0                  0.88    -4.768367e-09               itm   \n69               1.0                  0.63    -4.768367e-09               itm   \n70               1.0                  0.38    -4.768367e-09               itm   \n71               1.0                  0.13    -4.768367e-09               itm   \n72               0.0                  0.00     5.300000e-01               atm   \n73               0.0                  0.00     3.900000e-01               otm   \n74               0.0                  0.00     2.800000e-01               otm   \n75               0.0                  0.00     2.100000e-01               otm   \n76               0.0                  0.00     1.500000e-01               otm   \n\n    strike price_status_put  premium_put    iv_put  delta_put  gamma_put  \\\n67   71.50              otm         0.09  4.999922        0.0        0.0   \n68   71.75              otm         0.11  4.999922        0.0        0.0   \n69   72.00              otm         0.14  4.999922        0.0        0.0   \n70   72.25              otm         0.19  4.999922        0.0        0.0   \n71   72.50              otm         0.25  4.999922        0.0        0.0   \n72   72.75              atm         0.12  4.999922       -1.0        0.0   \n73   73.00              itm         0.37  4.999922       -1.0        0.0   \n74   73.25              itm         0.62  4.999922       -1.0        0.0   \n75   73.50              itm         0.87  4.999922       -1.0        0.0   \n76   73.75              itm         1.12  4.999922       -1.0        0.0   \n\n    vega_put  theta_put  quick_delta_put  intrinsic_value_put  time_value_put  \\\n67       0.0        NaN             -0.0                 0.00    9.000000e-02   \n68       0.0        NaN             -0.0                 0.00    1.100000e-01   \n69       0.0        NaN             -0.0                 0.00    1.400000e-01   \n70       0.0        NaN             -0.0                 0.00    1.900000e-01   \n71       0.0        NaN             -0.0                 0.00    2.500000e-01   \n72       0.0        NaN             -1.0                 0.12   -2.682214e-09   \n73       0.0        NaN             -1.0                 0.37    4.768367e-09   \n74       0.0        NaN             -1.0                 0.62    4.768367e-09   \n75       0.0        NaN             -1.0                 0.87    4.768367e-09   \n76       0.0        NaN             -1.0                 1.12    4.768367e-09   \n\n      datetime  futures_price expiration_date futures_expiration_date  \n67  2024-12-23          72.63      2024-12-23              2024-12-30  \n68  2024-12-23          72.63      2024-12-23              2024-12-30  \n69  2024-12-23          72.63      2024-12-23              2024-12-30  \n70  2024-12-23          72.63      2024-12-23              2024-12-30  \n71  2024-12-23          72.63      2024-12-23              2024-12-30  \n72  2024-12-23          72.63      2024-12-23              2024-12-30  \n73  2024-12-23          72.63      2024-12-23              2024-12-30  \n74  2024-12-23          72.63      2024-12-23              2024-12-30  \n75  2024-12-23          72.63      2024-12-23              2024-12-30  \n76  2024-12-23          72.63      2024-12-23              2024-12-30  ",
      "text/html": "<div>\n<style scoped>\n    .dataframe tbody tr th:only-of-type {\n        vertical-align: middle;\n    }\n\n    .dataframe tbody tr th {\n        vertical-align: top;\n    }\n\n    .dataframe thead th {\n        text-align: right;\n    }\n</style>\n<table border=\"1\" class=\"dataframe\">\n  <thead>\n    <tr style=\"text-align: right;\">\n      <th></th>\n      <th>premium_call</th>\n      <th>iv_call</th>\n      <th>delta_call</th>\n      <th>gamma_call</th>\n      <th>vega_call</th>\n      <th>theta_call</th>\n      <th>quick_delta_call</th>\n      <th>intrinsic_value_call</th>\n      <th>time_value_call</th>\n      <th>price_status_call</th>\n      <th>strike</th>\n      <th>price_status_put</th>\n      <th>premium_put</th>\n      <th>iv_put</th>\n      <th>delta_put</th>\n      <th>gamma_put</th>\n      <th>vega_put</th>\n      <th>theta_put</th>\n      <th>quick_delta_put</th>\n      <th>intrinsic_value_put</th>\n      <th>time_value_put</th>\n      <th>datetime</th>\n      <th>futures_price</th>\n      <th>expiration_date</th>\n      <th>futures_expiration_date</th>\n    </tr>\n  </thead>\n  <tbody>\n    <tr>\n      <th>67</th>\n      <td>1.13</td>\n      <td>4.999922</td>\n      <td>1.0</td>\n      <td>0.0</td>\n      <td>0.0</td>\n      <td>NaN</td>\n      <td>1.0</td>\n      <td>1.13</td>\n      <td>-4.768367e-09</td>\n      <td>itm</td>\n      <td>71.50</td>\n      <td>otm</td>\n      <td>0.09</td>\n      <td>4.999922</td>\n      <td>0.0</td>\n      <td>0.0</td>\n      <td>0.0</td>\n      <td>NaN</td>\n      <td>-0.0</td>\n      <td>0.00</td>\n      <td>9.000000e-02</td>\n      <td>2024-12-23</td>\n      <td>72.63</td>\n      <td>2024-12-23</td>\n      <td>2024-12-30</td>\n    </tr>\n    <tr>\n      <th>68</th>\n      <td>0.88</td>\n      <td>4.999922</td>\n      <td>1.0</td>\n      <td>0.0</td>\n      <td>0.0</td>\n      <td>NaN</td>\n      <td>1.0</td>\n      <td>0.88</td>\n      <td>-4.768367e-09</td>\n      <td>itm</td>\n      <td>71.75</td>\n      <td>otm</td>\n      <td>0.11</td>\n      <td>4.999922</td>\n      <td>0.0</td>\n      <td>0.0</td>\n      <td>0.0</td>\n      <td>NaN</td>\n      <td>-0.0</td>\n      <td>0.00</td>\n      <td>1.100000e-01</td>\n      <td>2024-12-23</td>\n      <td>72.63</td>\n      <td>2024-12-23</td>\n      <td>2024-12-30</td>\n    </tr>\n    <tr>\n      <th>69</th>\n      <td>0.63</td>\n      <td>4.999922</td>\n      <td>1.0</td>\n      <td>0.0</td>\n      <td>0.0</td>\n      <td>NaN</td>\n      <td>1.0</td>\n      <td>0.63</td>\n      <td>-4.768367e-09</td>\n      <td>itm</td>\n      <td>72.00</td>\n      <td>otm</td>\n      <td>0.14</td>\n      <td>4.999922</td>\n      <td>0.0</td>\n      <td>0.0</td>\n      <td>0.0</td>\n      <td>NaN</td>\n      <td>-0.0</td>\n      <td>0.00</td>\n      <td>1.400000e-01</td>\n      <td>2024-12-23</td>\n      <td>72.63</td>\n      <td>2024-12-23</td>\n      <td>2024-12-30</td>\n    </tr>\n    <tr>\n      <th>70</th>\n      <td>0.38</td>\n      <td>4.999922</td>\n      <td>1.0</td>\n      <td>0.0</td>\n      <td>0.0</td>\n      <td>NaN</td>\n      <td>1.0</td>\n      <td>0.38</td>\n      <td>-4.768367e-09</td>\n      <td>itm</td>\n      <td>72.25</td>\n      <td>otm</td>\n      <td>0.19</td>\n      <td>4.999922</td>\n      <td>0.0</td>\n      <td>0.0</td>\n      <td>0.0</td>\n      <td>NaN</td>\n      <td>-0.0</td>\n      <td>0.00</td>\n      <td>1.900000e-01</td>\n      <td>2024-12-23</td>\n      <td>72.63</td>\n      <td>2024-12-23</td>\n      <td>2024-12-30</td>\n    </tr>\n    <tr>\n      <th>71</th>\n      <td>0.13</td>\n      <td>4.999922</td>\n      <td>1.0</td>\n      <td>0.0</td>\n      <td>0.0</td>\n      <td>NaN</td>\n      <td>1.0</td>\n      <td>0.13</td>\n      <td>-4.768367e-09</td>\n      <td>itm</td>\n      <td>72.50</td>\n      <td>otm</td>\n      <td>0.25</td>\n      <td>4.999922</td>\n      <td>0.0</td>\n      <td>0.0</td>\n      <td>0.0</td>\n      <td>NaN</td>\n      <td>-0.0</td>\n      <td>0.00</td>\n      <td>2.500000e-01</td>\n      <td>2024-12-23</td>\n      <td>72.63</td>\n      <td>2024-12-23</td>\n      <td>2024-12-30</td>\n    </tr>\n    <tr>\n      <th>72</th>\n      <td>0.53</td>\n      <td>4.999922</td>\n      <td>0.0</td>\n      <td>0.0</td>\n      <td>0.0</td>\n      <td>NaN</td>\n      <td>0.0</td>\n      <td>0.00</td>\n      <td>5.300000e-01</td>\n      <td>atm</td>\n      <td>72.75</td>\n      <td>atm</td>\n      <td>0.12</td>\n      <td>4.999922</td>\n      <td>-1.0</td>\n      <td>0.0</td>\n      <td>0.0</td>\n      <td>NaN</td>\n      <td>-1.0</td>\n      <td>0.12</td>\n      <td>-2.682214e-09</td>\n      <td>2024-12-23</td>\n      <td>72.63</td>\n      <td>2024-12-23</td>\n      <td>2024-12-30</td>\n    </tr>\n    <tr>\n      <th>73</th>\n      <td>0.39</td>\n      <td>4.999922</td>\n      <td>0.0</td>\n      <td>0.0</td>\n      <td>0.0</td>\n      <td>NaN</td>\n      <td>0.0</td>\n      <td>0.00</td>\n      <td>3.900000e-01</td>\n      <td>otm</td>\n      <td>73.00</td>\n      <td>itm</td>\n      <td>0.37</td>\n      <td>4.999922</td>\n      <td>-1.0</td>\n      <td>0.0</td>\n      <td>0.0</td>\n      <td>NaN</td>\n      <td>-1.0</td>\n      <td>0.37</td>\n      <td>4.768367e-09</td>\n      <td>2024-12-23</td>\n      <td>72.63</td>\n      <td>2024-12-23</td>\n      <td>2024-12-30</td>\n    </tr>\n    <tr>\n      <th>74</th>\n      <td>0.28</td>\n      <td>4.999922</td>\n      <td>0.0</td>\n      <td>0.0</td>\n      <td>0.0</td>\n      <td>NaN</td>\n      <td>0.0</td>\n      <td>0.00</td>\n      <td>2.800000e-01</td>\n      <td>otm</td>\n      <td>73.25</td>\n      <td>itm</td>\n      <td>0.62</td>\n      <td>4.999922</td>\n      <td>-1.0</td>\n      <td>0.0</td>\n      <td>0.0</td>\n      <td>NaN</td>\n      <td>-1.0</td>\n      <td>0.62</td>\n      <td>4.768367e-09</td>\n      <td>2024-12-23</td>\n      <td>72.63</td>\n      <td>2024-12-23</td>\n      <td>2024-12-30</td>\n    </tr>\n    <tr>\n      <th>75</th>\n      <td>0.21</td>\n      <td>4.999922</td>\n      <td>0.0</td>\n      <td>0.0</td>\n      <td>0.0</td>\n      <td>NaN</td>\n      <td>0.0</td>\n      <td>0.00</td>\n      <td>2.100000e-01</td>\n      <td>otm</td>\n      <td>73.50</td>\n      <td>itm</td>\n      <td>0.87</td>\n      <td>4.999922</td>\n      <td>-1.0</td>\n      <td>0.0</td>\n      <td>0.0</td>\n      <td>NaN</td>\n      <td>-1.0</td>\n      <td>0.87</td>\n      <td>4.768367e-09</td>\n      <td>2024-12-23</td>\n      <td>72.63</td>\n      <td>2024-12-23</td>\n      <td>2024-12-30</td>\n    </tr>\n    <tr>\n      <th>76</th>\n      <td>0.15</td>\n      <td>4.999922</td>\n      <td>0.0</td>\n      <td>0.0</td>\n      <td>0.0</td>\n      <td>NaN</td>\n      <td>0.0</td>\n      <td>0.00</td>\n      <td>1.500000e-01</td>\n      <td>otm</td>\n      <td>73.75</td>\n      <td>itm</td>\n      <td>1.12</td>\n      <td>4.999922</td>\n      <td>-1.0</td>\n      <td>0.0</td>\n      <td>0.0</td>\n      <td>NaN</td>\n      <td>-1.0</td>\n      <td>1.12</td>\n      <td>4.768367e-09</td>\n      <td>2024-12-23</td>\n      <td>72.63</td>\n      <td>2024-12-23</td>\n      <td>2024-12-30</td>\n    </tr>\n  </tbody>\n</table>\n</div>"
     },
     "execution_count": 18,
     "metadata": {},
     "output_type": "execute_result"
    }
   ],
   "source": [
    "df_desk = brn.chain.get_desk(option_columns=['premium', 'iv' , 'delta', 'gamma', 'vega', 'theta', 'quick_delta', 'price_status', 'intrinsic_value', 'time_value', 'datetime', 'expiration_date', 'strike'])\n",
    "res_col = ['premium_call', 'iv_call', 'delta_call', 'gamma_call', 'vega_call', 'theta_call', 'quick_delta_call', 'intrinsic_value_call', 'time_value_call', 'price_status_call', 'strike', 'price_status_put','premium_put', 'iv_put', 'delta_put', 'gamma_put', 'vega_put', 'theta_put', 'quick_delta_put', 'intrinsic_value_put', 'time_value_put', 'datetime', 'futures_price', 'expiration_date', 'futures_expiration_date']\n",
    "df_desk[df_desk['strike'].isin(atm_nearest_strikes[:10])][res_col]"
   ]
  },
  {
   "cell_type": "markdown",
   "id": "29a24774-8941-489a-80b7-1dba8b8c6bbf",
   "metadata": {
    "editable": true,
    "slideshow": {
     "slide_type": ""
    },
    "tags": []
   },
   "source": [
    "The time value of the option decreases by the expiration date\n",
    "\n",
    "ITM options have a low time value (low weight) in the total option price. In fact, the deeper an option is in the money, the lower its time value and the more it resembles a linear underlying asset (i.e., the corresponding futures).\n",
    "\n",
    "OTM options have no intrinsic value (which is understandable – they are unprofitable to execute). The entire value of an out–of-money option is the intrinsic value. It is important to understand that if the market does not overcome the strike of this option, the final expiration option price will be zero.\n",
    "\n",
    "ATM options have the maximum weight of the time value in the option price and the maximum non-linearity. For this reason, they are the most liquid on the market. When the underlying asset moves up or down from current levels, the liquidity of these options will decrease."
   ]
  },
  {
   "cell_type": "code",
   "execution_count": 19,
   "outputs": [
    {
     "data": {
      "text/plain": "(datetime.date(2024, 12, 23), datetime.date(2024, 12, 23))"
     },
     "execution_count": 19,
     "metadata": {},
     "output_type": "execute_result"
    }
   ],
   "source": [
    "settlement_date, expiration_date = brn.chain.get_settlement_and_expiration_date()\n",
    "settlement_date, expiration_date"
   ],
   "metadata": {
    "collapsed": false
   }
  },
  {
   "cell_type": "code",
   "execution_count": 23,
   "outputs": [
    {
     "data": {
      "application/vnd.plotly.v1+json": {
       "data": [
        {
         "mode": "lines",
         "x": [
          "2024-01-02",
          "2024-01-03",
          "2024-01-04",
          "2024-01-05",
          "2024-01-08",
          "2024-01-09",
          "2024-01-10",
          "2024-01-11",
          "2024-01-12",
          "2024-01-15",
          "2024-01-16",
          "2024-01-17",
          "2024-01-18",
          "2024-01-19",
          "2024-01-22",
          "2024-01-23",
          "2024-01-24",
          "2024-01-25",
          "2024-01-26",
          "2024-01-29",
          "2024-01-30",
          "2024-01-31",
          "2024-02-01",
          "2024-02-02",
          "2024-02-05",
          "2024-02-06",
          "2024-02-07",
          "2024-02-08",
          "2024-02-09",
          "2024-02-12",
          "2024-02-13",
          "2024-02-14",
          "2024-02-15",
          "2024-02-16",
          "2024-02-19",
          "2024-02-20",
          "2024-02-21",
          "2024-02-22",
          "2024-02-23",
          "2024-02-26",
          "2024-02-27",
          "2024-02-28",
          "2024-02-29",
          "2024-03-01",
          "2024-03-04",
          "2024-03-05",
          "2024-03-06",
          "2024-03-07",
          "2024-03-08",
          "2024-03-11",
          "2024-03-12",
          "2024-03-13",
          "2024-03-14",
          "2024-03-15",
          "2024-03-18",
          "2024-03-19",
          "2024-03-20",
          "2024-03-21",
          "2024-03-22",
          "2024-03-25",
          "2024-03-26",
          "2024-03-27",
          "2024-03-28",
          "2024-03-29",
          "2024-04-01",
          "2024-04-02",
          "2024-04-03",
          "2024-04-04",
          "2024-04-05",
          "2024-04-08",
          "2024-04-09",
          "2024-04-10",
          "2024-04-11",
          "2024-04-12",
          "2024-04-15",
          "2024-04-16",
          "2024-04-17",
          "2024-04-18",
          "2024-04-19",
          "2024-04-22",
          "2024-04-23",
          "2024-04-24",
          "2024-04-25",
          "2024-04-26",
          "2024-04-29",
          "2024-04-30",
          "2024-05-01",
          "2024-05-02",
          "2024-05-03",
          "2024-05-06",
          "2024-05-07",
          "2024-05-08",
          "2024-05-09",
          "2024-05-10",
          "2024-05-13",
          "2024-05-14",
          "2024-05-15",
          "2024-05-16",
          "2024-05-17",
          "2024-05-20",
          "2024-05-21",
          "2024-05-22",
          "2024-05-23",
          "2024-05-24",
          "2024-05-27",
          "2024-05-28",
          "2024-05-29",
          "2024-05-30",
          "2024-05-31",
          "2024-06-03",
          "2024-06-04",
          "2024-06-05",
          "2024-06-06",
          "2024-06-07",
          "2024-06-10",
          "2024-06-11",
          "2024-06-12",
          "2024-06-13",
          "2024-06-14",
          "2024-06-17",
          "2024-06-18",
          "2024-06-19",
          "2024-06-20",
          "2024-06-21",
          "2024-06-24",
          "2024-06-25",
          "2024-06-26",
          "2024-06-27",
          "2024-06-28",
          "2024-07-01",
          "2024-07-02",
          "2024-07-03",
          "2024-07-04",
          "2024-07-05",
          "2024-07-08",
          "2024-07-09",
          "2024-07-10",
          "2024-07-11",
          "2024-07-12",
          "2024-07-15",
          "2024-07-16",
          "2024-07-17",
          "2024-07-18",
          "2024-07-19",
          "2024-07-22",
          "2024-07-23",
          "2024-07-24",
          "2024-07-25",
          "2024-07-26",
          "2024-07-29",
          "2024-07-30",
          "2024-07-31",
          "2024-08-01",
          "2024-08-02",
          "2024-08-05",
          "2024-08-06",
          "2024-08-07",
          "2024-08-08",
          "2024-08-09",
          "2024-08-12",
          "2024-08-13",
          "2024-08-14",
          "2024-08-15",
          "2024-08-16",
          "2024-08-19",
          "2024-08-20",
          "2024-08-21",
          "2024-08-22",
          "2024-08-23",
          "2024-08-26",
          "2024-08-27",
          "2024-08-28",
          "2024-08-29",
          "2024-08-30",
          "2024-09-02",
          "2024-09-03",
          "2024-09-04",
          "2024-09-05",
          "2024-09-06",
          "2024-09-09",
          "2024-09-10",
          "2024-09-11",
          "2024-09-12",
          "2024-09-13",
          "2024-09-16",
          "2024-09-17",
          "2024-09-18",
          "2024-09-19",
          "2024-09-20",
          "2024-09-23",
          "2024-09-24",
          "2024-09-25",
          "2024-09-26",
          "2024-09-27",
          "2024-09-30",
          "2024-10-01",
          "2024-10-02",
          "2024-10-03",
          "2024-10-04",
          "2024-10-07",
          "2024-10-08",
          "2024-10-09",
          "2024-10-10",
          "2024-10-11",
          "2024-10-14",
          "2024-10-15",
          "2024-10-16",
          "2024-10-17",
          "2024-10-18",
          "2024-10-21",
          "2024-10-22",
          "2024-10-23",
          "2024-10-24",
          "2024-10-25",
          "2024-10-28",
          "2024-10-29",
          "2024-10-30",
          "2024-10-31",
          "2024-11-01",
          "2024-11-04",
          "2024-11-05",
          "2024-11-06",
          "2024-11-07",
          "2024-11-08",
          "2024-11-11",
          "2024-11-12",
          "2024-11-13",
          "2024-11-14",
          "2024-11-15",
          "2024-11-18",
          "2024-11-19",
          "2024-11-20",
          "2024-11-21",
          "2024-11-22",
          "2024-11-25",
          "2024-11-26",
          "2024-11-27",
          "2024-11-28",
          "2024-11-29",
          "2024-12-02",
          "2024-12-03",
          "2024-12-04",
          "2024-12-05",
          "2024-12-06",
          "2024-12-09",
          "2024-12-10",
          "2024-12-11",
          "2024-12-12",
          "2024-12-13",
          "2024-12-16",
          "2024-12-17",
          "2024-12-18",
          "2024-12-19",
          "2024-12-20",
          "2024-12-23"
         ],
         "y": [
          9.032934712121786,
          9.188116819165337,
          9.043473210632989,
          9.168614633233084,
          9.136092867924376,
          9.16066424895341,
          9.070403038761718,
          9.188439222395218,
          9.355369468514894,
          9.382548590927485,
          9.309603099476114,
          9.2437352022731,
          9.217077514524945,
          9.038722017534674,
          9.110224247738145,
          9.135732060784157,
          9.025214747220645,
          8.925671261710448,
          8.955433296448604,
          8.946392944218765,
          8.835425585354109,
          8.712414197697676,
          8.574168930932004,
          8.453937622499815,
          8.348526142709964,
          8.435655921647339,
          8.388380035381878,
          8.409956120925763,
          8.50208314300135,
          8.36552462284191,
          8.221084240404494,
          8.254435017212977,
          8.122979514707808,
          8.117365119396844,
          8.032830175181545,
          7.986469398989158,
          7.938826671749993,
          7.865939447606181,
          7.825850436559271,
          7.801688579826887,
          7.742231069158457,
          7.705759356869208,
          7.625359137502123,
          7.696484980296653,
          7.673143644278703,
          7.582389192891846,
          7.58484443904581,
          7.52993950439803,
          7.50406053074618,
          7.417937402069349,
          7.340944190176387,
          7.324623830065178,
          7.3913644553553866,
          7.283770938724835,
          7.209777127615098,
          7.326428625608806,
          7.088324579719924,
          6.966579677016348,
          6.817494102634996,
          6.740181372736217,
          6.7072315660745545,
          6.6219620844490095,
          6.690591958170131,
          6.690627628423371,
          6.579789939683415,
          6.774679137330516,
          6.863014407621748,
          7.1738184996350185,
          7.415676276739958,
          6.9703263310486605,
          7.119764728260684,
          7.1426401054407265,
          7.217328738519292,
          7.304968416384391,
          7.230464589043493,
          7.183778766556138,
          7.089674809977872,
          6.922036865974249,
          6.708350242420131,
          6.586296354844826,
          6.656410104830833,
          6.6842949684261725,
          6.6303346816705115,
          6.77337824383644,
          6.426779109010148,
          6.399454217822893,
          6.291910774417367,
          6.19539691873517,
          6.230882898880793,
          6.218105876060477,
          6.0696036236348405,
          6.090128311006104,
          6.198389878187626,
          6.069632020631573,
          6.056160464590093,
          6.122757372978526,
          6.03776584375786,
          6.079969618172726,
          5.9149800927482445,
          5.880944850594851,
          6.101461733971746,
          6.021169941141018,
          6.073905322426725,
          6.09171371536668,
          6.010950528660622,
          5.9924218318326865,
          5.850039019987506,
          6.00872027208198,
          5.987179612243516,
          5.680885461920965,
          5.667780814908191,
          5.679793461427749,
          5.5845911068908265,
          5.542011726751518,
          5.52042860417739,
          5.37379442074905,
          5.313880565329747,
          5.390883680667784,
          5.323679255043842,
          5.143949451634619,
          5.130734189278229,
          5.15698819315282,
          5.262557700880102,
          5.269665753587333,
          5.426049382192559,
          5.197133466236714,
          5.348634869848681,
          5.4335314108330195,
          5.441064789112097,
          5.470535416028213,
          5.440954979929657,
          5.287719308793022,
          5.236425134332812,
          5.114458453520918,
          5.091881160540595,
          5.0109407934622325,
          4.928655723878734,
          4.8302251979398605,
          4.880582814265189,
          4.791643725943175,
          4.783011356430471,
          4.719415918288448,
          4.812764316991981,
          4.864901746147382,
          4.766479147067258,
          4.80677780189837,
          4.745789608471,
          4.808578779906675,
          4.750062190458117,
          4.753225095876836,
          4.837436070904573,
          4.976798796770488,
          4.990247414666314,
          5.077686857811813,
          5.473843519532778,
          5.280684419487827,
          5.285380055128485,
          5.131805854175838,
          5.025491496111442,
          5.084519342579412,
          5.079191369611678,
          5.009907484771588,
          4.9092566198774605,
          4.931628397265584,
          4.831310209419975,
          4.718401727859998,
          4.670552109152901,
          4.572020409696293,
          4.565533330083511,
          4.585941406711449,
          4.524314323507895,
          4.5038137866024215,
          4.533947637782958,
          4.514469100182197,
          4.422516890658969,
          4.479576732097932,
          4.517896516717421,
          4.432375426878558,
          4.331471943063249,
          4.271332941869893,
          4.41229701042662,
          4.337945469199546,
          4.241642426828996,
          4.238941859030845,
          4.277954219507741,
          4.181061603877829,
          4.180201845098331,
          4.072668234371051,
          4.019356427895886,
          4.030234175628493,
          3.973804588427342,
          4.022180931333693,
          4.188024979983588,
          4.262112879541647,
          4.17698686302159,
          4.428255760374988,
          4.7962736014181,
          5.485279888504905,
          5.090918062746766,
          5.350819754140581,
          4.88021593642965,
          4.881141116618686,
          5.3590311572164,
          5.362103917199313,
          5.176766289653912,
          4.723293997702115,
          4.572070473403301,
          4.417175900116497,
          4.320493493139807,
          4.302116956211066,
          4.509406622211564,
          4.464790289775628,
          4.37228401015755,
          4.582755848033607,
          3.5991953021806893,
          3.4490870530167825,
          3.3467966090385417,
          3.3704290686815312,
          3.5886992867222034,
          4.047605674027636,
          3.968443180301783,
          3.826004717233893,
          3.7449802553568006,
          3.381889958802951,
          3.068242469092553,
          2.9210896582257533,
          2.8470584671226717,
          2.711411234259451,
          2.680485957886212,
          2.623957607311681,
          2.5598713607698897,
          2.4501508024019785,
          2.3979463295819627,
          2.38743236078853,
          2.329100829819261,
          2.212856469809104,
          2.111543218301314,
          2.0565843517484694,
          1.921720832578977,
          1.818033352211664,
          1.7010067816538381,
          1.6669466920045295,
          1.4876055698565835,
          1.3696676396828735,
          1.2714137243795562,
          1.1921281745711951,
          1.235350235494579,
          1.202092188242247,
          1.2216333415807057,
          0.8596353244199051,
          0.7544670876693971,
          0.6298620588622086,
          0.5340558485154503,
          0.3914723512845981,
          0.5299999713897705
         ],
         "type": "scatter"
        }
       ],
       "layout": {
        "template": {
         "data": {
          "barpolar": [
           {
            "marker": {
             "line": {
              "color": "rgb(17,17,17)",
              "width": 0.5
             },
             "pattern": {
              "fillmode": "overlay",
              "size": 10,
              "solidity": 0.2
             }
            },
            "type": "barpolar"
           }
          ],
          "bar": [
           {
            "error_x": {
             "color": "#f2f5fa"
            },
            "error_y": {
             "color": "#f2f5fa"
            },
            "marker": {
             "line": {
              "color": "rgb(17,17,17)",
              "width": 0.5
             },
             "pattern": {
              "fillmode": "overlay",
              "size": 10,
              "solidity": 0.2
             }
            },
            "type": "bar"
           }
          ],
          "carpet": [
           {
            "aaxis": {
             "endlinecolor": "#A2B1C6",
             "gridcolor": "#506784",
             "linecolor": "#506784",
             "minorgridcolor": "#506784",
             "startlinecolor": "#A2B1C6"
            },
            "baxis": {
             "endlinecolor": "#A2B1C6",
             "gridcolor": "#506784",
             "linecolor": "#506784",
             "minorgridcolor": "#506784",
             "startlinecolor": "#A2B1C6"
            },
            "type": "carpet"
           }
          ],
          "choropleth": [
           {
            "colorbar": {
             "outlinewidth": 0,
             "ticks": ""
            },
            "type": "choropleth"
           }
          ],
          "contourcarpet": [
           {
            "colorbar": {
             "outlinewidth": 0,
             "ticks": ""
            },
            "type": "contourcarpet"
           }
          ],
          "contour": [
           {
            "colorbar": {
             "outlinewidth": 0,
             "ticks": ""
            },
            "colorscale": [
             [
              0.0,
              "#0d0887"
             ],
             [
              0.1111111111111111,
              "#46039f"
             ],
             [
              0.2222222222222222,
              "#7201a8"
             ],
             [
              0.3333333333333333,
              "#9c179e"
             ],
             [
              0.4444444444444444,
              "#bd3786"
             ],
             [
              0.5555555555555556,
              "#d8576b"
             ],
             [
              0.6666666666666666,
              "#ed7953"
             ],
             [
              0.7777777777777778,
              "#fb9f3a"
             ],
             [
              0.8888888888888888,
              "#fdca26"
             ],
             [
              1.0,
              "#f0f921"
             ]
            ],
            "type": "contour"
           }
          ],
          "heatmapgl": [
           {
            "colorbar": {
             "outlinewidth": 0,
             "ticks": ""
            },
            "colorscale": [
             [
              0.0,
              "#0d0887"
             ],
             [
              0.1111111111111111,
              "#46039f"
             ],
             [
              0.2222222222222222,
              "#7201a8"
             ],
             [
              0.3333333333333333,
              "#9c179e"
             ],
             [
              0.4444444444444444,
              "#bd3786"
             ],
             [
              0.5555555555555556,
              "#d8576b"
             ],
             [
              0.6666666666666666,
              "#ed7953"
             ],
             [
              0.7777777777777778,
              "#fb9f3a"
             ],
             [
              0.8888888888888888,
              "#fdca26"
             ],
             [
              1.0,
              "#f0f921"
             ]
            ],
            "type": "heatmapgl"
           }
          ],
          "heatmap": [
           {
            "colorbar": {
             "outlinewidth": 0,
             "ticks": ""
            },
            "colorscale": [
             [
              0.0,
              "#0d0887"
             ],
             [
              0.1111111111111111,
              "#46039f"
             ],
             [
              0.2222222222222222,
              "#7201a8"
             ],
             [
              0.3333333333333333,
              "#9c179e"
             ],
             [
              0.4444444444444444,
              "#bd3786"
             ],
             [
              0.5555555555555556,
              "#d8576b"
             ],
             [
              0.6666666666666666,
              "#ed7953"
             ],
             [
              0.7777777777777778,
              "#fb9f3a"
             ],
             [
              0.8888888888888888,
              "#fdca26"
             ],
             [
              1.0,
              "#f0f921"
             ]
            ],
            "type": "heatmap"
           }
          ],
          "histogram2dcontour": [
           {
            "colorbar": {
             "outlinewidth": 0,
             "ticks": ""
            },
            "colorscale": [
             [
              0.0,
              "#0d0887"
             ],
             [
              0.1111111111111111,
              "#46039f"
             ],
             [
              0.2222222222222222,
              "#7201a8"
             ],
             [
              0.3333333333333333,
              "#9c179e"
             ],
             [
              0.4444444444444444,
              "#bd3786"
             ],
             [
              0.5555555555555556,
              "#d8576b"
             ],
             [
              0.6666666666666666,
              "#ed7953"
             ],
             [
              0.7777777777777778,
              "#fb9f3a"
             ],
             [
              0.8888888888888888,
              "#fdca26"
             ],
             [
              1.0,
              "#f0f921"
             ]
            ],
            "type": "histogram2dcontour"
           }
          ],
          "histogram2d": [
           {
            "colorbar": {
             "outlinewidth": 0,
             "ticks": ""
            },
            "colorscale": [
             [
              0.0,
              "#0d0887"
             ],
             [
              0.1111111111111111,
              "#46039f"
             ],
             [
              0.2222222222222222,
              "#7201a8"
             ],
             [
              0.3333333333333333,
              "#9c179e"
             ],
             [
              0.4444444444444444,
              "#bd3786"
             ],
             [
              0.5555555555555556,
              "#d8576b"
             ],
             [
              0.6666666666666666,
              "#ed7953"
             ],
             [
              0.7777777777777778,
              "#fb9f3a"
             ],
             [
              0.8888888888888888,
              "#fdca26"
             ],
             [
              1.0,
              "#f0f921"
             ]
            ],
            "type": "histogram2d"
           }
          ],
          "histogram": [
           {
            "marker": {
             "pattern": {
              "fillmode": "overlay",
              "size": 10,
              "solidity": 0.2
             }
            },
            "type": "histogram"
           }
          ],
          "mesh3d": [
           {
            "colorbar": {
             "outlinewidth": 0,
             "ticks": ""
            },
            "type": "mesh3d"
           }
          ],
          "parcoords": [
           {
            "line": {
             "colorbar": {
              "outlinewidth": 0,
              "ticks": ""
             }
            },
            "type": "parcoords"
           }
          ],
          "pie": [
           {
            "automargin": true,
            "type": "pie"
           }
          ],
          "scatter3d": [
           {
            "line": {
             "colorbar": {
              "outlinewidth": 0,
              "ticks": ""
             }
            },
            "marker": {
             "colorbar": {
              "outlinewidth": 0,
              "ticks": ""
             }
            },
            "type": "scatter3d"
           }
          ],
          "scattercarpet": [
           {
            "marker": {
             "colorbar": {
              "outlinewidth": 0,
              "ticks": ""
             }
            },
            "type": "scattercarpet"
           }
          ],
          "scattergeo": [
           {
            "marker": {
             "colorbar": {
              "outlinewidth": 0,
              "ticks": ""
             }
            },
            "type": "scattergeo"
           }
          ],
          "scattergl": [
           {
            "marker": {
             "line": {
              "color": "#283442"
             }
            },
            "type": "scattergl"
           }
          ],
          "scattermapbox": [
           {
            "marker": {
             "colorbar": {
              "outlinewidth": 0,
              "ticks": ""
             }
            },
            "type": "scattermapbox"
           }
          ],
          "scatterpolargl": [
           {
            "marker": {
             "colorbar": {
              "outlinewidth": 0,
              "ticks": ""
             }
            },
            "type": "scatterpolargl"
           }
          ],
          "scatterpolar": [
           {
            "marker": {
             "colorbar": {
              "outlinewidth": 0,
              "ticks": ""
             }
            },
            "type": "scatterpolar"
           }
          ],
          "scatter": [
           {
            "marker": {
             "line": {
              "color": "#283442"
             }
            },
            "type": "scatter"
           }
          ],
          "scatterternary": [
           {
            "marker": {
             "colorbar": {
              "outlinewidth": 0,
              "ticks": ""
             }
            },
            "type": "scatterternary"
           }
          ],
          "surface": [
           {
            "colorbar": {
             "outlinewidth": 0,
             "ticks": ""
            },
            "colorscale": [
             [
              0.0,
              "#0d0887"
             ],
             [
              0.1111111111111111,
              "#46039f"
             ],
             [
              0.2222222222222222,
              "#7201a8"
             ],
             [
              0.3333333333333333,
              "#9c179e"
             ],
             [
              0.4444444444444444,
              "#bd3786"
             ],
             [
              0.5555555555555556,
              "#d8576b"
             ],
             [
              0.6666666666666666,
              "#ed7953"
             ],
             [
              0.7777777777777778,
              "#fb9f3a"
             ],
             [
              0.8888888888888888,
              "#fdca26"
             ],
             [
              1.0,
              "#f0f921"
             ]
            ],
            "type": "surface"
           }
          ],
          "table": [
           {
            "cells": {
             "fill": {
              "color": "#506784"
             },
             "line": {
              "color": "rgb(17,17,17)"
             }
            },
            "header": {
             "fill": {
              "color": "#2a3f5f"
             },
             "line": {
              "color": "rgb(17,17,17)"
             }
            },
            "type": "table"
           }
          ]
         },
         "layout": {
          "annotationdefaults": {
           "arrowcolor": "#f2f5fa",
           "arrowhead": 0,
           "arrowwidth": 1
          },
          "autotypenumbers": "strict",
          "coloraxis": {
           "colorbar": {
            "outlinewidth": 0,
            "ticks": ""
           }
          },
          "colorscale": {
           "diverging": [
            [
             0,
             "#8e0152"
            ],
            [
             0.1,
             "#c51b7d"
            ],
            [
             0.2,
             "#de77ae"
            ],
            [
             0.3,
             "#f1b6da"
            ],
            [
             0.4,
             "#fde0ef"
            ],
            [
             0.5,
             "#f7f7f7"
            ],
            [
             0.6,
             "#e6f5d0"
            ],
            [
             0.7,
             "#b8e186"
            ],
            [
             0.8,
             "#7fbc41"
            ],
            [
             0.9,
             "#4d9221"
            ],
            [
             1,
             "#276419"
            ]
           ],
           "sequential": [
            [
             0.0,
             "#0d0887"
            ],
            [
             0.1111111111111111,
             "#46039f"
            ],
            [
             0.2222222222222222,
             "#7201a8"
            ],
            [
             0.3333333333333333,
             "#9c179e"
            ],
            [
             0.4444444444444444,
             "#bd3786"
            ],
            [
             0.5555555555555556,
             "#d8576b"
            ],
            [
             0.6666666666666666,
             "#ed7953"
            ],
            [
             0.7777777777777778,
             "#fb9f3a"
            ],
            [
             0.8888888888888888,
             "#fdca26"
            ],
            [
             1.0,
             "#f0f921"
            ]
           ],
           "sequentialminus": [
            [
             0.0,
             "#0d0887"
            ],
            [
             0.1111111111111111,
             "#46039f"
            ],
            [
             0.2222222222222222,
             "#7201a8"
            ],
            [
             0.3333333333333333,
             "#9c179e"
            ],
            [
             0.4444444444444444,
             "#bd3786"
            ],
            [
             0.5555555555555556,
             "#d8576b"
            ],
            [
             0.6666666666666666,
             "#ed7953"
            ],
            [
             0.7777777777777778,
             "#fb9f3a"
            ],
            [
             0.8888888888888888,
             "#fdca26"
            ],
            [
             1.0,
             "#f0f921"
            ]
           ]
          },
          "colorway": [
           "#636efa",
           "#EF553B",
           "#00cc96",
           "#ab63fa",
           "#FFA15A",
           "#19d3f3",
           "#FF6692",
           "#B6E880",
           "#FF97FF",
           "#FECB52"
          ],
          "font": {
           "color": "#f2f5fa"
          },
          "geo": {
           "bgcolor": "rgb(17,17,17)",
           "lakecolor": "rgb(17,17,17)",
           "landcolor": "rgb(17,17,17)",
           "showlakes": true,
           "showland": true,
           "subunitcolor": "#506784"
          },
          "hoverlabel": {
           "align": "left"
          },
          "hovermode": "closest",
          "mapbox": {
           "style": "dark"
          },
          "paper_bgcolor": "rgb(17,17,17)",
          "plot_bgcolor": "rgb(17,17,17)",
          "polar": {
           "angularaxis": {
            "gridcolor": "#506784",
            "linecolor": "#506784",
            "ticks": ""
           },
           "bgcolor": "rgb(17,17,17)",
           "radialaxis": {
            "gridcolor": "#506784",
            "linecolor": "#506784",
            "ticks": ""
           }
          },
          "scene": {
           "xaxis": {
            "backgroundcolor": "rgb(17,17,17)",
            "gridcolor": "#506784",
            "gridwidth": 2,
            "linecolor": "#506784",
            "showbackground": true,
            "ticks": "",
            "zerolinecolor": "#C8D4E3"
           },
           "yaxis": {
            "backgroundcolor": "rgb(17,17,17)",
            "gridcolor": "#506784",
            "gridwidth": 2,
            "linecolor": "#506784",
            "showbackground": true,
            "ticks": "",
            "zerolinecolor": "#C8D4E3"
           },
           "zaxis": {
            "backgroundcolor": "rgb(17,17,17)",
            "gridcolor": "#506784",
            "gridwidth": 2,
            "linecolor": "#506784",
            "showbackground": true,
            "ticks": "",
            "zerolinecolor": "#C8D4E3"
           }
          },
          "shapedefaults": {
           "line": {
            "color": "#f2f5fa"
           }
          },
          "sliderdefaults": {
           "bgcolor": "#C8D4E3",
           "bordercolor": "rgb(17,17,17)",
           "borderwidth": 1,
           "tickwidth": 0
          },
          "ternary": {
           "aaxis": {
            "gridcolor": "#506784",
            "linecolor": "#506784",
            "ticks": ""
           },
           "baxis": {
            "gridcolor": "#506784",
            "linecolor": "#506784",
            "ticks": ""
           },
           "bgcolor": "rgb(17,17,17)",
           "caxis": {
            "gridcolor": "#506784",
            "linecolor": "#506784",
            "ticks": ""
           }
          },
          "title": {
           "x": 0.05
          },
          "updatemenudefaults": {
           "bgcolor": "#506784",
           "borderwidth": 0
          },
          "xaxis": {
           "automargin": true,
           "gridcolor": "#283442",
           "linecolor": "#506784",
           "ticks": "",
           "title": {
            "standoff": 15
           },
           "zerolinecolor": "#283442",
           "zerolinewidth": 2
          },
          "yaxis": {
           "automargin": true,
           "gridcolor": "#283442",
           "linecolor": "#506784",
           "ticks": "",
           "title": {
            "standoff": 15
           },
           "zerolinecolor": "#283442",
           "zerolinewidth": 2
          }
         }
        }
       },
       "config": {
        "showLink": false,
        "linkText": "Export to plot.ly",
        "plotlyServerURL": "https://plot.ly"
       }
      },
      "text/html": "<div>                            <div id=\"88322615-494f-4545-b225-2666bb5d15a6\" class=\"plotly-graph-div\" style=\"height:525px; width:100%;\"></div>            <script type=\"text/javascript\">                require([\"plotly\"], function(Plotly) {                    window.PLOTLYENV=window.PLOTLYENV || {};                                    if (document.getElementById(\"88322615-494f-4545-b225-2666bb5d15a6\")) {                    Plotly.newPlot(                        \"88322615-494f-4545-b225-2666bb5d15a6\",                        [{\"mode\":\"lines\",\"x\":[\"2024-01-02\",\"2024-01-03\",\"2024-01-04\",\"2024-01-05\",\"2024-01-08\",\"2024-01-09\",\"2024-01-10\",\"2024-01-11\",\"2024-01-12\",\"2024-01-15\",\"2024-01-16\",\"2024-01-17\",\"2024-01-18\",\"2024-01-19\",\"2024-01-22\",\"2024-01-23\",\"2024-01-24\",\"2024-01-25\",\"2024-01-26\",\"2024-01-29\",\"2024-01-30\",\"2024-01-31\",\"2024-02-01\",\"2024-02-02\",\"2024-02-05\",\"2024-02-06\",\"2024-02-07\",\"2024-02-08\",\"2024-02-09\",\"2024-02-12\",\"2024-02-13\",\"2024-02-14\",\"2024-02-15\",\"2024-02-16\",\"2024-02-19\",\"2024-02-20\",\"2024-02-21\",\"2024-02-22\",\"2024-02-23\",\"2024-02-26\",\"2024-02-27\",\"2024-02-28\",\"2024-02-29\",\"2024-03-01\",\"2024-03-04\",\"2024-03-05\",\"2024-03-06\",\"2024-03-07\",\"2024-03-08\",\"2024-03-11\",\"2024-03-12\",\"2024-03-13\",\"2024-03-14\",\"2024-03-15\",\"2024-03-18\",\"2024-03-19\",\"2024-03-20\",\"2024-03-21\",\"2024-03-22\",\"2024-03-25\",\"2024-03-26\",\"2024-03-27\",\"2024-03-28\",\"2024-03-29\",\"2024-04-01\",\"2024-04-02\",\"2024-04-03\",\"2024-04-04\",\"2024-04-05\",\"2024-04-08\",\"2024-04-09\",\"2024-04-10\",\"2024-04-11\",\"2024-04-12\",\"2024-04-15\",\"2024-04-16\",\"2024-04-17\",\"2024-04-18\",\"2024-04-19\",\"2024-04-22\",\"2024-04-23\",\"2024-04-24\",\"2024-04-25\",\"2024-04-26\",\"2024-04-29\",\"2024-04-30\",\"2024-05-01\",\"2024-05-02\",\"2024-05-03\",\"2024-05-06\",\"2024-05-07\",\"2024-05-08\",\"2024-05-09\",\"2024-05-10\",\"2024-05-13\",\"2024-05-14\",\"2024-05-15\",\"2024-05-16\",\"2024-05-17\",\"2024-05-20\",\"2024-05-21\",\"2024-05-22\",\"2024-05-23\",\"2024-05-24\",\"2024-05-27\",\"2024-05-28\",\"2024-05-29\",\"2024-05-30\",\"2024-05-31\",\"2024-06-03\",\"2024-06-04\",\"2024-06-05\",\"2024-06-06\",\"2024-06-07\",\"2024-06-10\",\"2024-06-11\",\"2024-06-12\",\"2024-06-13\",\"2024-06-14\",\"2024-06-17\",\"2024-06-18\",\"2024-06-19\",\"2024-06-20\",\"2024-06-21\",\"2024-06-24\",\"2024-06-25\",\"2024-06-26\",\"2024-06-27\",\"2024-06-28\",\"2024-07-01\",\"2024-07-02\",\"2024-07-03\",\"2024-07-04\",\"2024-07-05\",\"2024-07-08\",\"2024-07-09\",\"2024-07-10\",\"2024-07-11\",\"2024-07-12\",\"2024-07-15\",\"2024-07-16\",\"2024-07-17\",\"2024-07-18\",\"2024-07-19\",\"2024-07-22\",\"2024-07-23\",\"2024-07-24\",\"2024-07-25\",\"2024-07-26\",\"2024-07-29\",\"2024-07-30\",\"2024-07-31\",\"2024-08-01\",\"2024-08-02\",\"2024-08-05\",\"2024-08-06\",\"2024-08-07\",\"2024-08-08\",\"2024-08-09\",\"2024-08-12\",\"2024-08-13\",\"2024-08-14\",\"2024-08-15\",\"2024-08-16\",\"2024-08-19\",\"2024-08-20\",\"2024-08-21\",\"2024-08-22\",\"2024-08-23\",\"2024-08-26\",\"2024-08-27\",\"2024-08-28\",\"2024-08-29\",\"2024-08-30\",\"2024-09-02\",\"2024-09-03\",\"2024-09-04\",\"2024-09-05\",\"2024-09-06\",\"2024-09-09\",\"2024-09-10\",\"2024-09-11\",\"2024-09-12\",\"2024-09-13\",\"2024-09-16\",\"2024-09-17\",\"2024-09-18\",\"2024-09-19\",\"2024-09-20\",\"2024-09-23\",\"2024-09-24\",\"2024-09-25\",\"2024-09-26\",\"2024-09-27\",\"2024-09-30\",\"2024-10-01\",\"2024-10-02\",\"2024-10-03\",\"2024-10-04\",\"2024-10-07\",\"2024-10-08\",\"2024-10-09\",\"2024-10-10\",\"2024-10-11\",\"2024-10-14\",\"2024-10-15\",\"2024-10-16\",\"2024-10-17\",\"2024-10-18\",\"2024-10-21\",\"2024-10-22\",\"2024-10-23\",\"2024-10-24\",\"2024-10-25\",\"2024-10-28\",\"2024-10-29\",\"2024-10-30\",\"2024-10-31\",\"2024-11-01\",\"2024-11-04\",\"2024-11-05\",\"2024-11-06\",\"2024-11-07\",\"2024-11-08\",\"2024-11-11\",\"2024-11-12\",\"2024-11-13\",\"2024-11-14\",\"2024-11-15\",\"2024-11-18\",\"2024-11-19\",\"2024-11-20\",\"2024-11-21\",\"2024-11-22\",\"2024-11-25\",\"2024-11-26\",\"2024-11-27\",\"2024-11-28\",\"2024-11-29\",\"2024-12-02\",\"2024-12-03\",\"2024-12-04\",\"2024-12-05\",\"2024-12-06\",\"2024-12-09\",\"2024-12-10\",\"2024-12-11\",\"2024-12-12\",\"2024-12-13\",\"2024-12-16\",\"2024-12-17\",\"2024-12-18\",\"2024-12-19\",\"2024-12-20\",\"2024-12-23\"],\"y\":[9.032934712121786,9.188116819165337,9.043473210632989,9.168614633233084,9.136092867924376,9.16066424895341,9.070403038761718,9.188439222395218,9.355369468514894,9.382548590927485,9.309603099476114,9.2437352022731,9.217077514524945,9.038722017534674,9.110224247738145,9.135732060784157,9.025214747220645,8.925671261710448,8.955433296448604,8.946392944218765,8.835425585354109,8.712414197697676,8.574168930932004,8.453937622499815,8.348526142709964,8.435655921647339,8.388380035381878,8.409956120925763,8.50208314300135,8.36552462284191,8.221084240404494,8.254435017212977,8.122979514707808,8.117365119396844,8.032830175181545,7.986469398989158,7.938826671749993,7.865939447606181,7.825850436559271,7.801688579826887,7.742231069158457,7.705759356869208,7.625359137502123,7.696484980296653,7.673143644278703,7.582389192891846,7.58484443904581,7.52993950439803,7.50406053074618,7.417937402069349,7.340944190176387,7.324623830065178,7.3913644553553866,7.283770938724835,7.209777127615098,7.326428625608806,7.088324579719924,6.966579677016348,6.817494102634996,6.740181372736217,6.7072315660745545,6.6219620844490095,6.690591958170131,6.690627628423371,6.579789939683415,6.774679137330516,6.863014407621748,7.1738184996350185,7.415676276739958,6.9703263310486605,7.119764728260684,7.1426401054407265,7.217328738519292,7.304968416384391,7.230464589043493,7.183778766556138,7.089674809977872,6.922036865974249,6.708350242420131,6.586296354844826,6.656410104830833,6.6842949684261725,6.6303346816705115,6.77337824383644,6.426779109010148,6.399454217822893,6.291910774417367,6.19539691873517,6.230882898880793,6.218105876060477,6.0696036236348405,6.090128311006104,6.198389878187626,6.069632020631573,6.056160464590093,6.122757372978526,6.03776584375786,6.079969618172726,5.9149800927482445,5.880944850594851,6.101461733971746,6.021169941141018,6.073905322426725,6.09171371536668,6.010950528660622,5.9924218318326865,5.850039019987506,6.00872027208198,5.987179612243516,5.680885461920965,5.667780814908191,5.679793461427749,5.5845911068908265,5.542011726751518,5.52042860417739,5.37379442074905,5.313880565329747,5.390883680667784,5.323679255043842,5.143949451634619,5.130734189278229,5.15698819315282,5.262557700880102,5.269665753587333,5.426049382192559,5.197133466236714,5.348634869848681,5.4335314108330195,5.441064789112097,5.470535416028213,5.440954979929657,5.287719308793022,5.236425134332812,5.114458453520918,5.091881160540595,5.0109407934622325,4.928655723878734,4.8302251979398605,4.880582814265189,4.791643725943175,4.783011356430471,4.719415918288448,4.812764316991981,4.864901746147382,4.766479147067258,4.80677780189837,4.745789608471,4.808578779906675,4.750062190458117,4.753225095876836,4.837436070904573,4.976798796770488,4.990247414666314,5.077686857811813,5.473843519532778,5.280684419487827,5.285380055128485,5.131805854175838,5.025491496111442,5.084519342579412,5.079191369611678,5.009907484771588,4.9092566198774605,4.931628397265584,4.831310209419975,4.718401727859998,4.670552109152901,4.572020409696293,4.565533330083511,4.585941406711449,4.524314323507895,4.5038137866024215,4.533947637782958,4.514469100182197,4.422516890658969,4.479576732097932,4.517896516717421,4.432375426878558,4.331471943063249,4.271332941869893,4.41229701042662,4.337945469199546,4.241642426828996,4.238941859030845,4.277954219507741,4.181061603877829,4.180201845098331,4.072668234371051,4.019356427895886,4.030234175628493,3.973804588427342,4.022180931333693,4.188024979983588,4.262112879541647,4.17698686302159,4.428255760374988,4.7962736014181,5.485279888504905,5.090918062746766,5.350819754140581,4.88021593642965,4.881141116618686,5.3590311572164,5.362103917199313,5.176766289653912,4.723293997702115,4.572070473403301,4.417175900116497,4.320493493139807,4.302116956211066,4.509406622211564,4.464790289775628,4.37228401015755,4.582755848033607,3.5991953021806893,3.4490870530167825,3.3467966090385417,3.3704290686815312,3.5886992867222034,4.047605674027636,3.968443180301783,3.826004717233893,3.7449802553568006,3.381889958802951,3.068242469092553,2.9210896582257533,2.8470584671226717,2.711411234259451,2.680485957886212,2.623957607311681,2.5598713607698897,2.4501508024019785,2.3979463295819627,2.38743236078853,2.329100829819261,2.212856469809104,2.111543218301314,2.0565843517484694,1.921720832578977,1.818033352211664,1.7010067816538381,1.6669466920045295,1.4876055698565835,1.3696676396828735,1.2714137243795562,1.1921281745711951,1.235350235494579,1.202092188242247,1.2216333415807057,0.8596353244199051,0.7544670876693971,0.6298620588622086,0.5340558485154503,0.3914723512845981,0.5299999713897705],\"type\":\"scatter\"}],                        {\"template\":{\"data\":{\"barpolar\":[{\"marker\":{\"line\":{\"color\":\"rgb(17,17,17)\",\"width\":0.5},\"pattern\":{\"fillmode\":\"overlay\",\"size\":10,\"solidity\":0.2}},\"type\":\"barpolar\"}],\"bar\":[{\"error_x\":{\"color\":\"#f2f5fa\"},\"error_y\":{\"color\":\"#f2f5fa\"},\"marker\":{\"line\":{\"color\":\"rgb(17,17,17)\",\"width\":0.5},\"pattern\":{\"fillmode\":\"overlay\",\"size\":10,\"solidity\":0.2}},\"type\":\"bar\"}],\"carpet\":[{\"aaxis\":{\"endlinecolor\":\"#A2B1C6\",\"gridcolor\":\"#506784\",\"linecolor\":\"#506784\",\"minorgridcolor\":\"#506784\",\"startlinecolor\":\"#A2B1C6\"},\"baxis\":{\"endlinecolor\":\"#A2B1C6\",\"gridcolor\":\"#506784\",\"linecolor\":\"#506784\",\"minorgridcolor\":\"#506784\",\"startlinecolor\":\"#A2B1C6\"},\"type\":\"carpet\"}],\"choropleth\":[{\"colorbar\":{\"outlinewidth\":0,\"ticks\":\"\"},\"type\":\"choropleth\"}],\"contourcarpet\":[{\"colorbar\":{\"outlinewidth\":0,\"ticks\":\"\"},\"type\":\"contourcarpet\"}],\"contour\":[{\"colorbar\":{\"outlinewidth\":0,\"ticks\":\"\"},\"colorscale\":[[0.0,\"#0d0887\"],[0.1111111111111111,\"#46039f\"],[0.2222222222222222,\"#7201a8\"],[0.3333333333333333,\"#9c179e\"],[0.4444444444444444,\"#bd3786\"],[0.5555555555555556,\"#d8576b\"],[0.6666666666666666,\"#ed7953\"],[0.7777777777777778,\"#fb9f3a\"],[0.8888888888888888,\"#fdca26\"],[1.0,\"#f0f921\"]],\"type\":\"contour\"}],\"heatmapgl\":[{\"colorbar\":{\"outlinewidth\":0,\"ticks\":\"\"},\"colorscale\":[[0.0,\"#0d0887\"],[0.1111111111111111,\"#46039f\"],[0.2222222222222222,\"#7201a8\"],[0.3333333333333333,\"#9c179e\"],[0.4444444444444444,\"#bd3786\"],[0.5555555555555556,\"#d8576b\"],[0.6666666666666666,\"#ed7953\"],[0.7777777777777778,\"#fb9f3a\"],[0.8888888888888888,\"#fdca26\"],[1.0,\"#f0f921\"]],\"type\":\"heatmapgl\"}],\"heatmap\":[{\"colorbar\":{\"outlinewidth\":0,\"ticks\":\"\"},\"colorscale\":[[0.0,\"#0d0887\"],[0.1111111111111111,\"#46039f\"],[0.2222222222222222,\"#7201a8\"],[0.3333333333333333,\"#9c179e\"],[0.4444444444444444,\"#bd3786\"],[0.5555555555555556,\"#d8576b\"],[0.6666666666666666,\"#ed7953\"],[0.7777777777777778,\"#fb9f3a\"],[0.8888888888888888,\"#fdca26\"],[1.0,\"#f0f921\"]],\"type\":\"heatmap\"}],\"histogram2dcontour\":[{\"colorbar\":{\"outlinewidth\":0,\"ticks\":\"\"},\"colorscale\":[[0.0,\"#0d0887\"],[0.1111111111111111,\"#46039f\"],[0.2222222222222222,\"#7201a8\"],[0.3333333333333333,\"#9c179e\"],[0.4444444444444444,\"#bd3786\"],[0.5555555555555556,\"#d8576b\"],[0.6666666666666666,\"#ed7953\"],[0.7777777777777778,\"#fb9f3a\"],[0.8888888888888888,\"#fdca26\"],[1.0,\"#f0f921\"]],\"type\":\"histogram2dcontour\"}],\"histogram2d\":[{\"colorbar\":{\"outlinewidth\":0,\"ticks\":\"\"},\"colorscale\":[[0.0,\"#0d0887\"],[0.1111111111111111,\"#46039f\"],[0.2222222222222222,\"#7201a8\"],[0.3333333333333333,\"#9c179e\"],[0.4444444444444444,\"#bd3786\"],[0.5555555555555556,\"#d8576b\"],[0.6666666666666666,\"#ed7953\"],[0.7777777777777778,\"#fb9f3a\"],[0.8888888888888888,\"#fdca26\"],[1.0,\"#f0f921\"]],\"type\":\"histogram2d\"}],\"histogram\":[{\"marker\":{\"pattern\":{\"fillmode\":\"overlay\",\"size\":10,\"solidity\":0.2}},\"type\":\"histogram\"}],\"mesh3d\":[{\"colorbar\":{\"outlinewidth\":0,\"ticks\":\"\"},\"type\":\"mesh3d\"}],\"parcoords\":[{\"line\":{\"colorbar\":{\"outlinewidth\":0,\"ticks\":\"\"}},\"type\":\"parcoords\"}],\"pie\":[{\"automargin\":true,\"type\":\"pie\"}],\"scatter3d\":[{\"line\":{\"colorbar\":{\"outlinewidth\":0,\"ticks\":\"\"}},\"marker\":{\"colorbar\":{\"outlinewidth\":0,\"ticks\":\"\"}},\"type\":\"scatter3d\"}],\"scattercarpet\":[{\"marker\":{\"colorbar\":{\"outlinewidth\":0,\"ticks\":\"\"}},\"type\":\"scattercarpet\"}],\"scattergeo\":[{\"marker\":{\"colorbar\":{\"outlinewidth\":0,\"ticks\":\"\"}},\"type\":\"scattergeo\"}],\"scattergl\":[{\"marker\":{\"line\":{\"color\":\"#283442\"}},\"type\":\"scattergl\"}],\"scattermapbox\":[{\"marker\":{\"colorbar\":{\"outlinewidth\":0,\"ticks\":\"\"}},\"type\":\"scattermapbox\"}],\"scatterpolargl\":[{\"marker\":{\"colorbar\":{\"outlinewidth\":0,\"ticks\":\"\"}},\"type\":\"scatterpolargl\"}],\"scatterpolar\":[{\"marker\":{\"colorbar\":{\"outlinewidth\":0,\"ticks\":\"\"}},\"type\":\"scatterpolar\"}],\"scatter\":[{\"marker\":{\"line\":{\"color\":\"#283442\"}},\"type\":\"scatter\"}],\"scatterternary\":[{\"marker\":{\"colorbar\":{\"outlinewidth\":0,\"ticks\":\"\"}},\"type\":\"scatterternary\"}],\"surface\":[{\"colorbar\":{\"outlinewidth\":0,\"ticks\":\"\"},\"colorscale\":[[0.0,\"#0d0887\"],[0.1111111111111111,\"#46039f\"],[0.2222222222222222,\"#7201a8\"],[0.3333333333333333,\"#9c179e\"],[0.4444444444444444,\"#bd3786\"],[0.5555555555555556,\"#d8576b\"],[0.6666666666666666,\"#ed7953\"],[0.7777777777777778,\"#fb9f3a\"],[0.8888888888888888,\"#fdca26\"],[1.0,\"#f0f921\"]],\"type\":\"surface\"}],\"table\":[{\"cells\":{\"fill\":{\"color\":\"#506784\"},\"line\":{\"color\":\"rgb(17,17,17)\"}},\"header\":{\"fill\":{\"color\":\"#2a3f5f\"},\"line\":{\"color\":\"rgb(17,17,17)\"}},\"type\":\"table\"}]},\"layout\":{\"annotationdefaults\":{\"arrowcolor\":\"#f2f5fa\",\"arrowhead\":0,\"arrowwidth\":1},\"autotypenumbers\":\"strict\",\"coloraxis\":{\"colorbar\":{\"outlinewidth\":0,\"ticks\":\"\"}},\"colorscale\":{\"diverging\":[[0,\"#8e0152\"],[0.1,\"#c51b7d\"],[0.2,\"#de77ae\"],[0.3,\"#f1b6da\"],[0.4,\"#fde0ef\"],[0.5,\"#f7f7f7\"],[0.6,\"#e6f5d0\"],[0.7,\"#b8e186\"],[0.8,\"#7fbc41\"],[0.9,\"#4d9221\"],[1,\"#276419\"]],\"sequential\":[[0.0,\"#0d0887\"],[0.1111111111111111,\"#46039f\"],[0.2222222222222222,\"#7201a8\"],[0.3333333333333333,\"#9c179e\"],[0.4444444444444444,\"#bd3786\"],[0.5555555555555556,\"#d8576b\"],[0.6666666666666666,\"#ed7953\"],[0.7777777777777778,\"#fb9f3a\"],[0.8888888888888888,\"#fdca26\"],[1.0,\"#f0f921\"]],\"sequentialminus\":[[0.0,\"#0d0887\"],[0.1111111111111111,\"#46039f\"],[0.2222222222222222,\"#7201a8\"],[0.3333333333333333,\"#9c179e\"],[0.4444444444444444,\"#bd3786\"],[0.5555555555555556,\"#d8576b\"],[0.6666666666666666,\"#ed7953\"],[0.7777777777777778,\"#fb9f3a\"],[0.8888888888888888,\"#fdca26\"],[1.0,\"#f0f921\"]]},\"colorway\":[\"#636efa\",\"#EF553B\",\"#00cc96\",\"#ab63fa\",\"#FFA15A\",\"#19d3f3\",\"#FF6692\",\"#B6E880\",\"#FF97FF\",\"#FECB52\"],\"font\":{\"color\":\"#f2f5fa\"},\"geo\":{\"bgcolor\":\"rgb(17,17,17)\",\"lakecolor\":\"rgb(17,17,17)\",\"landcolor\":\"rgb(17,17,17)\",\"showlakes\":true,\"showland\":true,\"subunitcolor\":\"#506784\"},\"hoverlabel\":{\"align\":\"left\"},\"hovermode\":\"closest\",\"mapbox\":{\"style\":\"dark\"},\"paper_bgcolor\":\"rgb(17,17,17)\",\"plot_bgcolor\":\"rgb(17,17,17)\",\"polar\":{\"angularaxis\":{\"gridcolor\":\"#506784\",\"linecolor\":\"#506784\",\"ticks\":\"\"},\"bgcolor\":\"rgb(17,17,17)\",\"radialaxis\":{\"gridcolor\":\"#506784\",\"linecolor\":\"#506784\",\"ticks\":\"\"}},\"scene\":{\"xaxis\":{\"backgroundcolor\":\"rgb(17,17,17)\",\"gridcolor\":\"#506784\",\"gridwidth\":2,\"linecolor\":\"#506784\",\"showbackground\":true,\"ticks\":\"\",\"zerolinecolor\":\"#C8D4E3\"},\"yaxis\":{\"backgroundcolor\":\"rgb(17,17,17)\",\"gridcolor\":\"#506784\",\"gridwidth\":2,\"linecolor\":\"#506784\",\"showbackground\":true,\"ticks\":\"\",\"zerolinecolor\":\"#C8D4E3\"},\"zaxis\":{\"backgroundcolor\":\"rgb(17,17,17)\",\"gridcolor\":\"#506784\",\"gridwidth\":2,\"linecolor\":\"#506784\",\"showbackground\":true,\"ticks\":\"\",\"zerolinecolor\":\"#C8D4E3\"}},\"shapedefaults\":{\"line\":{\"color\":\"#f2f5fa\"}},\"sliderdefaults\":{\"bgcolor\":\"#C8D4E3\",\"bordercolor\":\"rgb(17,17,17)\",\"borderwidth\":1,\"tickwidth\":0},\"ternary\":{\"aaxis\":{\"gridcolor\":\"#506784\",\"linecolor\":\"#506784\",\"ticks\":\"\"},\"baxis\":{\"gridcolor\":\"#506784\",\"linecolor\":\"#506784\",\"ticks\":\"\"},\"bgcolor\":\"rgb(17,17,17)\",\"caxis\":{\"gridcolor\":\"#506784\",\"linecolor\":\"#506784\",\"ticks\":\"\"}},\"title\":{\"x\":0.05},\"updatemenudefaults\":{\"bgcolor\":\"#506784\",\"borderwidth\":0},\"xaxis\":{\"automargin\":true,\"gridcolor\":\"#283442\",\"linecolor\":\"#506784\",\"ticks\":\"\",\"title\":{\"standoff\":15},\"zerolinecolor\":\"#283442\",\"zerolinewidth\":2},\"yaxis\":{\"automargin\":true,\"gridcolor\":\"#283442\",\"linecolor\":\"#506784\",\"ticks\":\"\",\"title\":{\"standoff\":15},\"zerolinecolor\":\"#283442\",\"zerolinewidth\":2}}}},                        {\"responsive\": true}                    ).then(function(){\n                            \nvar gd = document.getElementById('88322615-494f-4545-b225-2666bb5d15a6');\nvar x = new MutationObserver(function (mutations, observer) {{\n        var display = window.getComputedStyle(gd).display;\n        if (!display || display === 'none') {{\n            console.log([gd, 'removed!']);\n            Plotly.purge(gd);\n            observer.disconnect();\n        }}\n}});\n\n// Listen for the removal of the full notebook cells\nvar notebookContainer = gd.closest('#notebook-container');\nif (notebookContainer) {{\n    x.observe(notebookContainer, {childList: true});\n}}\n\n// Listen for the clearing of the current output cell\nvar outputEl = gd.closest('.output');\nif (outputEl) {{\n    x.observe(outputEl, {childList: true});\n}}\n\n                        })                };                });            </script>        </div>"
     },
     "metadata": {},
     "output_type": "display_data"
    }
   ],
   "source": [
    "brn.chart.init()\n",
    "brn.chart.price.time_values()\n",
    "brn.chart.show()"
   ],
   "metadata": {
    "collapsed": false
   }
  },
  {
   "cell_type": "code",
   "execution_count": null,
   "outputs": [],
   "source": [
    "brn.chart.price.time_values_for_strike(strike=atm_nearest_strikes[5])\n",
    "brn.chart.price.time_values_for_distance(distance=0)\n",
    "brn.chart.show()"
   ],
   "metadata": {
    "collapsed": false
   }
  },
  {
   "cell_type": "code",
   "execution_count": 20,
   "outputs": [
    {
     "data": {
      "text/plain": "         datetime  strike    time_value\n50     2024-01-02    72.5  8.551340e+00\n13719  2024-06-13    79.0  4.938644e+00\n34345  2024-12-23    72.0 -4.768367e-09",
      "text/html": "<div>\n<style scoped>\n    .dataframe tbody tr th:only-of-type {\n        vertical-align: middle;\n    }\n\n    .dataframe tbody tr th {\n        vertical-align: top;\n    }\n\n    .dataframe thead th {\n        text-align: right;\n    }\n</style>\n<table border=\"1\" class=\"dataframe\">\n  <thead>\n    <tr style=\"text-align: right;\">\n      <th></th>\n      <th>datetime</th>\n      <th>strike</th>\n      <th>time_value</th>\n    </tr>\n  </thead>\n  <tbody>\n    <tr>\n      <th>50</th>\n      <td>2024-01-02</td>\n      <td>72.5</td>\n      <td>8.551340e+00</td>\n    </tr>\n    <tr>\n      <th>13719</th>\n      <td>2024-06-13</td>\n      <td>79.0</td>\n      <td>4.938644e+00</td>\n    </tr>\n    <tr>\n      <th>34345</th>\n      <td>2024-12-23</td>\n      <td>72.0</td>\n      <td>-4.768367e-09</td>\n    </tr>\n  </tbody>\n</table>\n</div>"
     },
     "execution_count": 20,
     "metadata": {},
     "output_type": "execute_result"
    }
   ],
   "source": [
    "df_time_value_strike = brn.analytic.price.time_value_series_by_strike_to_atm_distance(strike=atm_nearest_strikes[5])\n",
    "df_time_value_strike.iloc[[0,int(len(df_time_value_strike)/2),-1]]"
   ],
   "metadata": {
    "collapsed": false
   }
  },
  {
   "cell_type": "code",
   "execution_count": 21,
   "outputs": [
    {
     "data": {
      "text/plain": "         datetime  strike  time_value\n27     2024-01-02   73.50    9.032935\n120    2024-01-03   75.50    9.188117\n237    2024-01-04   75.00    9.043473\n414    2024-01-05   75.50    9.168615\n455    2024-01-08   73.50    9.136093\n...           ...     ...         ...\n33736  2024-12-17   73.25    0.754467\n33916  2024-12-18   73.50    0.629862\n34089  2024-12-19   73.00    0.534056\n34269  2024-12-20   73.00    0.391472\n34342  2024-12-23   72.75    0.530000\n\n[255 rows x 3 columns]",
      "text/html": "<div>\n<style scoped>\n    .dataframe tbody tr th:only-of-type {\n        vertical-align: middle;\n    }\n\n    .dataframe tbody tr th {\n        vertical-align: top;\n    }\n\n    .dataframe thead th {\n        text-align: right;\n    }\n</style>\n<table border=\"1\" class=\"dataframe\">\n  <thead>\n    <tr style=\"text-align: right;\">\n      <th></th>\n      <th>datetime</th>\n      <th>strike</th>\n      <th>time_value</th>\n    </tr>\n  </thead>\n  <tbody>\n    <tr>\n      <th>27</th>\n      <td>2024-01-02</td>\n      <td>73.50</td>\n      <td>9.032935</td>\n    </tr>\n    <tr>\n      <th>120</th>\n      <td>2024-01-03</td>\n      <td>75.50</td>\n      <td>9.188117</td>\n    </tr>\n    <tr>\n      <th>237</th>\n      <td>2024-01-04</td>\n      <td>75.00</td>\n      <td>9.043473</td>\n    </tr>\n    <tr>\n      <th>414</th>\n      <td>2024-01-05</td>\n      <td>75.50</td>\n      <td>9.168615</td>\n    </tr>\n    <tr>\n      <th>455</th>\n      <td>2024-01-08</td>\n      <td>73.50</td>\n      <td>9.136093</td>\n    </tr>\n    <tr>\n      <th>...</th>\n      <td>...</td>\n      <td>...</td>\n      <td>...</td>\n    </tr>\n    <tr>\n      <th>33736</th>\n      <td>2024-12-17</td>\n      <td>73.25</td>\n      <td>0.754467</td>\n    </tr>\n    <tr>\n      <th>33916</th>\n      <td>2024-12-18</td>\n      <td>73.50</td>\n      <td>0.629862</td>\n    </tr>\n    <tr>\n      <th>34089</th>\n      <td>2024-12-19</td>\n      <td>73.00</td>\n      <td>0.534056</td>\n    </tr>\n    <tr>\n      <th>34269</th>\n      <td>2024-12-20</td>\n      <td>73.00</td>\n      <td>0.391472</td>\n    </tr>\n    <tr>\n      <th>34342</th>\n      <td>2024-12-23</td>\n      <td>72.75</td>\n      <td>0.530000</td>\n    </tr>\n  </tbody>\n</table>\n<p>255 rows × 3 columns</p>\n</div>"
     },
     "execution_count": 21,
     "metadata": {},
     "output_type": "execute_result"
    }
   ],
   "source": [
    "df_time_value_atm = brn.analytic.price.time_value_series_by_atm_distance(distance=0)\n",
    "df_time_value_atm"
   ],
   "metadata": {
    "collapsed": false
   }
  },
  {
   "cell_type": "code",
   "execution_count": 24,
   "outputs": [
    {
     "data": {
      "application/vnd.plotly.v1+json": {
       "data": [
        {
         "mode": "lines",
         "name": "Strike cur ATM 72.75",
         "x": [
          "2024-01-02",
          "2024-01-02",
          "2024-01-03",
          "2024-01-03",
          "2024-01-04",
          "2024-01-04",
          "2024-01-05",
          "2024-01-05",
          "2024-01-08",
          "2024-01-08",
          "2024-01-09",
          "2024-01-09",
          "2024-01-10",
          "2024-01-10",
          "2024-01-11",
          "2024-01-11",
          "2024-01-12",
          "2024-01-12",
          "2024-01-15",
          "2024-01-15",
          "2024-01-16",
          "2024-01-16",
          "2024-01-17",
          "2024-01-17",
          "2024-01-18",
          "2024-01-18",
          "2024-01-19",
          "2024-01-19",
          "2024-01-22",
          "2024-01-22",
          "2024-01-23",
          "2024-01-23",
          "2024-01-24",
          "2024-01-24",
          "2024-01-25",
          "2024-01-26",
          "2024-01-26",
          "2024-01-29",
          "2024-01-29",
          "2024-01-30",
          "2024-01-31",
          "2024-01-31",
          "2024-02-01",
          "2024-02-01",
          "2024-02-02",
          "2024-02-02",
          "2024-02-05",
          "2024-02-05",
          "2024-02-06",
          "2024-02-06",
          "2024-02-07",
          "2024-02-07",
          "2024-02-08",
          "2024-02-08",
          "2024-02-09",
          "2024-02-09",
          "2024-02-12",
          "2024-02-12",
          "2024-02-13",
          "2024-02-13",
          "2024-02-14",
          "2024-02-14",
          "2024-02-15",
          "2024-02-15",
          "2024-02-16",
          "2024-02-19",
          "2024-02-20",
          "2024-02-20",
          "2024-02-21",
          "2024-02-22",
          "2024-02-22",
          "2024-02-23",
          "2024-02-23",
          "2024-02-26",
          "2024-02-26",
          "2024-02-27",
          "2024-02-27",
          "2024-02-28",
          "2024-02-28",
          "2024-02-29",
          "2024-02-29",
          "2024-03-01",
          "2024-03-01",
          "2024-03-04",
          "2024-03-04",
          "2024-03-05",
          "2024-03-05",
          "2024-03-06",
          "2024-03-06",
          "2024-03-07",
          "2024-03-07",
          "2024-03-08",
          "2024-03-08",
          "2024-03-11",
          "2024-03-11",
          "2024-03-12",
          "2024-03-13",
          "2024-03-13",
          "2024-03-14",
          "2024-03-14",
          "2024-03-15",
          "2024-03-15",
          "2024-03-18",
          "2024-03-19",
          "2024-03-20",
          "2024-03-20",
          "2024-03-21",
          "2024-03-21",
          "2024-03-22",
          "2024-03-22",
          "2024-03-25",
          "2024-03-26",
          "2024-03-26",
          "2024-03-27",
          "2024-03-27",
          "2024-03-28",
          "2024-03-29",
          "2024-04-01",
          "2024-04-02",
          "2024-04-03",
          "2024-04-04",
          "2024-04-05",
          "2024-04-08",
          "2024-04-09",
          "2024-04-10",
          "2024-04-11",
          "2024-04-12",
          "2024-04-12",
          "2024-04-15",
          "2024-04-15",
          "2024-04-16",
          "2024-04-16",
          "2024-04-17",
          "2024-04-18",
          "2024-04-19",
          "2024-04-22",
          "2024-04-23",
          "2024-04-24",
          "2024-04-25",
          "2024-04-26",
          "2024-04-29",
          "2024-04-30",
          "2024-05-01",
          "2024-05-01",
          "2024-05-02",
          "2024-05-02",
          "2024-05-03",
          "2024-05-03",
          "2024-05-06",
          "2024-05-06",
          "2024-05-07",
          "2024-05-07",
          "2024-05-08",
          "2024-05-08",
          "2024-05-09",
          "2024-05-09",
          "2024-05-10",
          "2024-05-10",
          "2024-05-13",
          "2024-05-13",
          "2024-05-14",
          "2024-05-14",
          "2024-05-15",
          "2024-05-15",
          "2024-05-16",
          "2024-05-16",
          "2024-05-17",
          "2024-05-20",
          "2024-05-21",
          "2024-05-21",
          "2024-05-22",
          "2024-05-22",
          "2024-05-23",
          "2024-05-23",
          "2024-05-24",
          "2024-05-24",
          "2024-05-27",
          "2024-05-27",
          "2024-05-28",
          "2024-05-29",
          "2024-05-30",
          "2024-05-30",
          "2024-05-31",
          "2024-05-31",
          "2024-06-03",
          "2024-06-03",
          "2024-06-04",
          "2024-06-04",
          "2024-06-05",
          "2024-06-05",
          "2024-06-06",
          "2024-06-06",
          "2024-06-07",
          "2024-06-07",
          "2024-06-10",
          "2024-06-10",
          "2024-06-11",
          "2024-06-11",
          "2024-06-12",
          "2024-06-12",
          "2024-06-13",
          "2024-06-13",
          "2024-06-14",
          "2024-06-14",
          "2024-06-17",
          "2024-06-17",
          "2024-06-18",
          "2024-06-19",
          "2024-06-20",
          "2024-06-21",
          "2024-06-24",
          "2024-06-25",
          "2024-06-26",
          "2024-06-26",
          "2024-06-27",
          "2024-06-27",
          "2024-06-28",
          "2024-06-28",
          "2024-07-01",
          "2024-07-01",
          "2024-07-02",
          "2024-07-02",
          "2024-07-03",
          "2024-07-03",
          "2024-07-04",
          "2024-07-04",
          "2024-07-05",
          "2024-07-05",
          "2024-07-08",
          "2024-07-08",
          "2024-07-09",
          "2024-07-09",
          "2024-07-10",
          "2024-07-10",
          "2024-07-11",
          "2024-07-11",
          "2024-07-12",
          "2024-07-12",
          "2024-07-15",
          "2024-07-15",
          "2024-07-16",
          "2024-07-16",
          "2024-07-17",
          "2024-07-17",
          "2024-07-18",
          "2024-07-18",
          "2024-07-19",
          "2024-07-19",
          "2024-07-22",
          "2024-07-22",
          "2024-07-23",
          "2024-07-24",
          "2024-07-24",
          "2024-07-25",
          "2024-07-25",
          "2024-07-26",
          "2024-07-29",
          "2024-07-30",
          "2024-07-30",
          "2024-07-31",
          "2024-07-31",
          "2024-08-01",
          "2024-08-02",
          "2024-08-02",
          "2024-08-05",
          "2024-08-05",
          "2024-08-06",
          "2024-08-06",
          "2024-08-07",
          "2024-08-07",
          "2024-08-08",
          "2024-08-08",
          "2024-08-09",
          "2024-08-09",
          "2024-08-12",
          "2024-08-12",
          "2024-08-13",
          "2024-08-14",
          "2024-08-15",
          "2024-08-15",
          "2024-08-16",
          "2024-08-16",
          "2024-08-19",
          "2024-08-19",
          "2024-08-20",
          "2024-08-20",
          "2024-08-21",
          "2024-08-21",
          "2024-08-22",
          "2024-08-22",
          "2024-08-23",
          "2024-08-23",
          "2024-08-26",
          "2024-08-27",
          "2024-08-27",
          "2024-08-28",
          "2024-08-28",
          "2024-08-29",
          "2024-08-29",
          "2024-08-30",
          "2024-08-30",
          "2024-09-02",
          "2024-09-02",
          "2024-09-03",
          "2024-09-03",
          "2024-09-04",
          "2024-09-04",
          "2024-09-05",
          "2024-09-05",
          "2024-09-06",
          "2024-09-06",
          "2024-09-09",
          "2024-09-09",
          "2024-09-10",
          "2024-09-10",
          "2024-09-11",
          "2024-09-11",
          "2024-09-12",
          "2024-09-12",
          "2024-09-13",
          "2024-09-13",
          "2024-09-16",
          "2024-09-16",
          "2024-09-17",
          "2024-09-17",
          "2024-09-18",
          "2024-09-18",
          "2024-09-19",
          "2024-09-19",
          "2024-09-20",
          "2024-09-20",
          "2024-09-23",
          "2024-09-23",
          "2024-09-24",
          "2024-09-24",
          "2024-09-25",
          "2024-09-25",
          "2024-09-26",
          "2024-09-27",
          "2024-09-30",
          "2024-10-01",
          "2024-10-02",
          "2024-10-03",
          "2024-10-04",
          "2024-10-07",
          "2024-10-08",
          "2024-10-09",
          "2024-10-10",
          "2024-10-11",
          "2024-10-14",
          "2024-10-15",
          "2024-10-16",
          "2024-10-17",
          "2024-10-18",
          "2024-10-21",
          "2024-10-22",
          "2024-10-23",
          "2024-10-24",
          "2024-10-25",
          "2024-10-28",
          "2024-10-29",
          "2024-10-30",
          "2024-10-31",
          "2024-11-01",
          "2024-11-04",
          "2024-11-05",
          "2024-11-06",
          "2024-11-07",
          "2024-11-08",
          "2024-11-11",
          "2024-11-12",
          "2024-11-13",
          "2024-11-14",
          "2024-11-15",
          "2024-11-18",
          "2024-11-19",
          "2024-11-20",
          "2024-11-21",
          "2024-11-22",
          "2024-11-25",
          "2024-11-26",
          "2024-11-27",
          "2024-11-28",
          "2024-11-29",
          "2024-12-02",
          "2024-12-03",
          "2024-12-04",
          "2024-12-05",
          "2024-12-06",
          "2024-12-09",
          "2024-12-10",
          "2024-12-11",
          "2024-12-12",
          "2024-12-13",
          "2024-12-16",
          "2024-12-17",
          "2024-12-18",
          "2024-12-19",
          "2024-12-20",
          "2024-12-23"
         ],
         "y": [
          8.551340125737866,
          8.789957196608043,
          8.705554755980636,
          8.944622775803886,
          8.76468346328108,
          9.006784391498329,
          8.925150853974408,
          8.686183921453704,
          8.89108336413286,
          8.650550976607988,
          8.792726522432588,
          9.034450079806248,
          8.816871141184166,
          9.061339207839566,
          8.776440999524603,
          9.020226756626336,
          8.866778167738268,
          9.108886889228401,
          8.889854943534168,
          9.134075353754135,
          8.954244048574857,
          9.19980426926007,
          8.753029391042041,
          8.996132507809698,
          8.755160729293443,
          8.998841198302195,
          8.705596683439254,
          8.949845158095165,
          8.835859446752877,
          9.080826385648564,
          8.687064115197757,
          8.92904541764672,
          8.734990486793805,
          8.97777658915117,
          8.74069489299147,
          8.47529166023233,
          8.712993464679457,
          8.467772819516561,
          8.704671102968227,
          8.477010155449918,
          8.471660621294873,
          8.23574641420472,
          8.094580641472113,
          8.331879189550698,
          7.973322233647423,
          8.211221485745696,
          8.090586229453173,
          8.332146850607145,
          7.96297538276594,
          8.20185939869799,
          8.15429219507515,
          7.915160740285117,
          7.976869064320354,
          8.215918223699255,
          8.02357883338766,
          8.260420812164405,
          7.888626901468712,
          8.124581039963488,
          7.747458544932627,
          7.981722001924162,
          7.776826326244418,
          8.01302558662428,
          7.650969934865621,
          7.884427853340284,
          7.759683906397491,
          7.67322658515014,
          7.534591804053704,
          7.772876486326737,
          7.576803132169189,
          7.38975655617871,
          7.625184815542099,
          7.4239362989567255,
          7.662204441995897,
          7.323306836483432,
          7.559811923385894,
          7.266554754339509,
          7.50169670911697,
          7.465811344826783,
          7.231665298938978,
          7.333502600353647,
          7.571716716505172,
          7.222271611785693,
          7.456619424107188,
          7.196756208630866,
          7.432173554069159,
          7.144777153572896,
          7.380795729324561,
          7.179589589156677,
          7.414457138263188,
          7.060080172389291,
          7.292352416511186,
          7.033548568369966,
          7.265897633791958,
          6.995988637889468,
          7.228835698619335,
          7.023910505691205,
          6.8576433981735505,
          7.088021162844441,
          6.92203525962249,
          7.153712981130511,
          6.979848035021284,
          7.213852935951195,
          7.053441133273985,
          6.903687813962769,
          6.624662055983116,
          6.853435671260804,
          6.496567846023645,
          6.728688708606079,
          6.581683584010776,
          6.352097265209892,
          6.599346771388511,
          6.243725598258706,
          6.4723402297387835,
          6.155597156246145,
          6.385510322572664,
          6.224681085043194,
          6.224838475244383,
          6.115133326154599,
          6.305351286754117,
          6.517396445076265,
          6.891574519160756,
          6.936290744520306,
          6.903379823631411,
          6.645734354365089,
          6.945229254461694,
          7.035091946593866,
          6.82580204014878,
          7.062235663217606,
          6.7646546820801134,
          7.004303300535447,
          6.702191810333879,
          6.939741415108223,
          6.61064017798337,
          6.584860849300206,
          6.55249924909706,
          6.110688588561587,
          6.1801902833182325,
          6.210430338134657,
          6.470815690542381,
          6.295869005155488,
          5.96054068052436,
          6.097937756711275,
          5.970113376632227,
          6.207354779440763,
          5.7207343298491296,
          5.954370304832835,
          5.818651849895389,
          6.0561092097932345,
          5.864160068185335,
          6.102535189993894,
          6.013602603493474,
          5.775124953763452,
          6.073594111496547,
          5.834583157014322,
          5.720227923747629,
          5.955675801168397,
          5.821723044063596,
          6.061987224829672,
          5.771274410022485,
          6.009970759626512,
          5.648384381115029,
          5.881919439558011,
          5.695517965059679,
          5.932878219325332,
          5.729386205366822,
          5.966013638855017,
          5.865695005347952,
          5.783888876884845,
          5.625481752701347,
          5.859785222716795,
          5.640956899032332,
          5.877305781601386,
          5.6491300592245395,
          5.882765053789939,
          5.628699173307261,
          5.861536506229534,
          5.568115522786698,
          5.800837066705746,
          5.598506874672793,
          5.718942215667838,
          5.5764709944643585,
          5.8088598103893005,
          5.51868085175596,
          5.749239594537343,
          5.6597999351629795,
          5.42630046038726,
          5.203393299586814,
          5.431890500661659,
          5.208989062079681,
          5.440610324850503,
          5.207870515504062,
          5.442329995213264,
          5.110280426178662,
          5.3421998318098645,
          5.0591882122288965,
          5.290822415606826,
          5.061724701059958,
          5.293777375691491,
          4.993423436379281,
          5.224639226532403,
          4.93864424294069,
          5.165714784243129,
          4.862740848196118,
          5.089107487146379,
          4.695307291735681,
          4.9155280975118245,
          4.685290007853695,
          4.708026028754631,
          4.987707741955376,
          4.822495655671553,
          4.96968363029854,
          4.753698382835523,
          5.079050525615273,
          5.309733107848345,
          4.974831896425876,
          5.2001149817478804,
          5.135917467489328,
          5.3694135006042885,
          5.00923417642786,
          5.235788994718419,
          4.977322171026799,
          5.20495591641226,
          4.82816915436338,
          5.0536907838966485,
          4.776947231033226,
          5.002361013966485,
          4.663080311388882,
          4.884447129244599,
          4.639064797339024,
          4.861157184289645,
          4.560943973867836,
          4.781607192311462,
          4.482239546482518,
          4.701075156898071,
          4.60984961852288,
          4.8355342962980785,
          4.432453786325105,
          4.652032197355496,
          4.457039644201039,
          4.679759473917784,
          4.449547102623043,
          4.671697629947261,
          4.510601572364742,
          4.735358415459864,
          4.594399473934985,
          4.819048063291163,
          4.420490404596222,
          4.63819443652185,
          4.325492445549578,
          4.541461595381243,
          4.600300692122389,
          4.2999785114407345,
          4.518354854363679,
          4.361103342119641,
          4.580359208035475,
          4.416118917103596,
          4.461534998457083,
          4.380534618630612,
          4.604464967045473,
          4.59537781300709,
          4.826599203407405,
          4.634490454562055,
          4.613405899692651,
          4.841142744778445,
          5.003446816703239,
          5.234551234916964,
          4.891303234226726,
          5.126792964712173,
          5.209695107929377,
          4.972564241268486,
          4.888814839925146,
          4.6545623793557525,
          4.546470863436291,
          4.781449521710108,
          4.600745999942717,
          4.838169164392198,
          4.719652378138456,
          4.643991246471046,
          4.656172862390143,
          4.898123481299642,
          4.470732591182447,
          4.706472741643019,
          4.592217056540115,
          4.362486922200752,
          4.585796003464992,
          4.352555920418347,
          4.274162566389059,
          4.507526645938945,
          4.339971517432261,
          4.576146193423959,
          4.102779479170344,
          4.3293063868639265,
          4.327517224695455,
          4.326281994532124,
          4.098016702958631,
          4.416271221145095,
          4.188222444429847,
          4.337578638303896,
          4.11091248352669,
          4.3959868359818515,
          4.1675355513825565,
          4.40208305084839,
          4.171582872957096,
          4.244581186213146,
          4.019363467089157,
          4.284304286629471,
          4.060070996824329,
          4.123721980611855,
          4.353209595254661,
          4.073257248161688,
          4.302491726197047,
          4.010884159413187,
          4.2411931575981185,
          4.27375623888922,
          4.044606576017415,
          3.8794665900878726,
          4.103878795772651,
          3.9228555070037174,
          4.152197479063929,
          3.852509213893164,
          4.080576100075604,
          4.042254764495382,
          3.816875560307153,
          3.860430196319548,
          4.090492917820519,
          3.9455090159811945,
          3.7212892237689275,
          3.8357442875815195,
          3.6096383928317692,
          3.6638509659829452,
          3.8961039617468316,
          3.7898476070976344,
          3.5606003393715397,
          3.7364093702857346,
          3.509912433215291,
          3.9104344560489963,
          3.679561539735346,
          3.844771175929793,
          3.9096489222112254,
          3.82521032310526,
          4.108276906939565,
          4.420190748916895,
          5.131384665895219,
          4.798292279216987,
          4.948543339949929,
          4.565471001801228,
          4.512744437791653,
          4.96075672181987,
          5.05344531769223,
          4.805227818143706,
          4.3374996413467315,
          4.28225965286763,
          4.030415716657416,
          3.9330451939238102,
          3.907198089679518,
          4.170427497839839,
          4.142769875940168,
          4.055791256814793,
          4.215287948136037,
          3.31052093372773,
          3.179977503601691,
          2.9735055732733002,
          3.0371415643390804,
          3.2016421751423536,
          3.710179047087337,
          3.6532468411314056,
          3.4099652123744804,
          3.3333460108103097,
          2.982772236872016,
          2.7692063791863433,
          2.6276605847884724,
          2.4860839794837943,
          2.3475223221050427,
          2.3237509312734517,
          2.2624250215933586,
          2.20442729692909,
          2.098837736935316,
          2.0368594412688665,
          2.134694673363853,
          1.9930117831838317,
          1.8668804244208204,
          1.7694913585408472,
          1.7143696479418082,
          1.5924463299340772,
          1.4842315116808962,
          1.3684954685823385,
          1.334764882589468,
          1.1622700373510142,
          1.0501210472887763,
          1.0438494847956292,
          0.9208766270332234,
          0.8954371744605467,
          0.9136785322482339,
          0.8709341944814852,
          0.5967325013040607,
          0.4834606920337876,
          0.41427558196480874,
          0.3414058862677152,
          0.1879001783521872,
          -4.768367034557741E-9
         ],
         "type": "scatter"
        },
        {
         "mode": "lines",
         "name": "ATM",
         "x": [
          "2024-01-02",
          "2024-01-03",
          "2024-01-04",
          "2024-01-05",
          "2024-01-08",
          "2024-01-09",
          "2024-01-10",
          "2024-01-11",
          "2024-01-12",
          "2024-01-15",
          "2024-01-16",
          "2024-01-17",
          "2024-01-18",
          "2024-01-19",
          "2024-01-22",
          "2024-01-23",
          "2024-01-24",
          "2024-01-25",
          "2024-01-26",
          "2024-01-29",
          "2024-01-30",
          "2024-01-31",
          "2024-02-01",
          "2024-02-02",
          "2024-02-05",
          "2024-02-06",
          "2024-02-07",
          "2024-02-08",
          "2024-02-09",
          "2024-02-12",
          "2024-02-13",
          "2024-02-14",
          "2024-02-15",
          "2024-02-16",
          "2024-02-19",
          "2024-02-20",
          "2024-02-21",
          "2024-02-22",
          "2024-02-23",
          "2024-02-26",
          "2024-02-27",
          "2024-02-28",
          "2024-02-29",
          "2024-03-01",
          "2024-03-04",
          "2024-03-05",
          "2024-03-06",
          "2024-03-07",
          "2024-03-08",
          "2024-03-11",
          "2024-03-12",
          "2024-03-13",
          "2024-03-14",
          "2024-03-15",
          "2024-03-18",
          "2024-03-19",
          "2024-03-20",
          "2024-03-21",
          "2024-03-22",
          "2024-03-25",
          "2024-03-26",
          "2024-03-27",
          "2024-03-28",
          "2024-03-29",
          "2024-04-01",
          "2024-04-02",
          "2024-04-03",
          "2024-04-04",
          "2024-04-05",
          "2024-04-08",
          "2024-04-09",
          "2024-04-10",
          "2024-04-11",
          "2024-04-12",
          "2024-04-15",
          "2024-04-16",
          "2024-04-17",
          "2024-04-18",
          "2024-04-19",
          "2024-04-22",
          "2024-04-23",
          "2024-04-24",
          "2024-04-25",
          "2024-04-26",
          "2024-04-29",
          "2024-04-30",
          "2024-05-01",
          "2024-05-02",
          "2024-05-03",
          "2024-05-06",
          "2024-05-07",
          "2024-05-08",
          "2024-05-09",
          "2024-05-10",
          "2024-05-13",
          "2024-05-14",
          "2024-05-15",
          "2024-05-16",
          "2024-05-17",
          "2024-05-20",
          "2024-05-21",
          "2024-05-22",
          "2024-05-23",
          "2024-05-24",
          "2024-05-27",
          "2024-05-28",
          "2024-05-29",
          "2024-05-30",
          "2024-05-31",
          "2024-06-03",
          "2024-06-04",
          "2024-06-05",
          "2024-06-06",
          "2024-06-07",
          "2024-06-10",
          "2024-06-11",
          "2024-06-12",
          "2024-06-13",
          "2024-06-14",
          "2024-06-17",
          "2024-06-18",
          "2024-06-19",
          "2024-06-20",
          "2024-06-21",
          "2024-06-24",
          "2024-06-25",
          "2024-06-26",
          "2024-06-27",
          "2024-06-28",
          "2024-07-01",
          "2024-07-02",
          "2024-07-03",
          "2024-07-04",
          "2024-07-05",
          "2024-07-08",
          "2024-07-09",
          "2024-07-10",
          "2024-07-11",
          "2024-07-12",
          "2024-07-15",
          "2024-07-16",
          "2024-07-17",
          "2024-07-18",
          "2024-07-19",
          "2024-07-22",
          "2024-07-23",
          "2024-07-24",
          "2024-07-25",
          "2024-07-26",
          "2024-07-29",
          "2024-07-30",
          "2024-07-31",
          "2024-08-01",
          "2024-08-02",
          "2024-08-05",
          "2024-08-06",
          "2024-08-07",
          "2024-08-08",
          "2024-08-09",
          "2024-08-12",
          "2024-08-13",
          "2024-08-14",
          "2024-08-15",
          "2024-08-16",
          "2024-08-19",
          "2024-08-20",
          "2024-08-21",
          "2024-08-22",
          "2024-08-23",
          "2024-08-26",
          "2024-08-27",
          "2024-08-28",
          "2024-08-29",
          "2024-08-30",
          "2024-09-02",
          "2024-09-03",
          "2024-09-04",
          "2024-09-05",
          "2024-09-06",
          "2024-09-09",
          "2024-09-10",
          "2024-09-11",
          "2024-09-12",
          "2024-09-13",
          "2024-09-16",
          "2024-09-17",
          "2024-09-18",
          "2024-09-19",
          "2024-09-20",
          "2024-09-23",
          "2024-09-24",
          "2024-09-25",
          "2024-09-26",
          "2024-09-27",
          "2024-09-30",
          "2024-10-01",
          "2024-10-02",
          "2024-10-03",
          "2024-10-04",
          "2024-10-07",
          "2024-10-08",
          "2024-10-09",
          "2024-10-10",
          "2024-10-11",
          "2024-10-14",
          "2024-10-15",
          "2024-10-16",
          "2024-10-17",
          "2024-10-18",
          "2024-10-21",
          "2024-10-22",
          "2024-10-23",
          "2024-10-24",
          "2024-10-25",
          "2024-10-28",
          "2024-10-29",
          "2024-10-30",
          "2024-10-31",
          "2024-11-01",
          "2024-11-04",
          "2024-11-05",
          "2024-11-06",
          "2024-11-07",
          "2024-11-08",
          "2024-11-11",
          "2024-11-12",
          "2024-11-13",
          "2024-11-14",
          "2024-11-15",
          "2024-11-18",
          "2024-11-19",
          "2024-11-20",
          "2024-11-21",
          "2024-11-22",
          "2024-11-25",
          "2024-11-26",
          "2024-11-27",
          "2024-11-28",
          "2024-11-29",
          "2024-12-02",
          "2024-12-03",
          "2024-12-04",
          "2024-12-05",
          "2024-12-06",
          "2024-12-09",
          "2024-12-10",
          "2024-12-11",
          "2024-12-12",
          "2024-12-13",
          "2024-12-16",
          "2024-12-17",
          "2024-12-18",
          "2024-12-19",
          "2024-12-20",
          "2024-12-23"
         ],
         "y": [
          9.032934712121786,
          9.188116819165337,
          9.043473210632989,
          9.168614633233084,
          9.136092867924376,
          9.16066424895341,
          9.070403038761718,
          9.188439222395218,
          9.355369468514894,
          9.382548590927485,
          9.309603099476114,
          9.2437352022731,
          9.217077514524945,
          9.038722017534674,
          9.110224247738145,
          9.135732060784157,
          9.025214747220645,
          8.925671261710448,
          8.955433296448604,
          8.946392944218765,
          8.835425585354109,
          8.712414197697676,
          8.574168930932004,
          8.453937622499815,
          8.348526142709964,
          8.435655921647339,
          8.388380035381878,
          8.409956120925763,
          8.50208314300135,
          8.36552462284191,
          8.221084240404494,
          8.254435017212977,
          8.122979514707808,
          8.117365119396844,
          8.032830175181545,
          7.986469398989158,
          7.938826671749993,
          7.865939447606181,
          7.825850436559271,
          7.801688579826887,
          7.742231069158457,
          7.705759356869208,
          7.625359137502123,
          7.696484980296653,
          7.673143644278703,
          7.582389192891846,
          7.58484443904581,
          7.52993950439803,
          7.50406053074618,
          7.417937402069349,
          7.340944190176387,
          7.324623830065178,
          7.3913644553553866,
          7.283770938724835,
          7.209777127615098,
          7.326428625608806,
          7.088324579719924,
          6.966579677016348,
          6.817494102634996,
          6.740181372736217,
          6.7072315660745545,
          6.6219620844490095,
          6.690591958170131,
          6.690627628423371,
          6.579789939683415,
          6.774679137330516,
          6.863014407621748,
          7.1738184996350185,
          7.415676276739958,
          6.9703263310486605,
          7.119764728260684,
          7.1426401054407265,
          7.217328738519292,
          7.304968416384391,
          7.230464589043493,
          7.183778766556138,
          7.089674809977872,
          6.922036865974249,
          6.708350242420131,
          6.586296354844826,
          6.656410104830833,
          6.6842949684261725,
          6.6303346816705115,
          6.77337824383644,
          6.426779109010148,
          6.399454217822893,
          6.291910774417367,
          6.19539691873517,
          6.230882898880793,
          6.218105876060477,
          6.0696036236348405,
          6.090128311006104,
          6.198389878187626,
          6.069632020631573,
          6.056160464590093,
          6.122757372978526,
          6.03776584375786,
          6.079969618172726,
          5.9149800927482445,
          5.880944850594851,
          6.101461733971746,
          6.021169941141018,
          6.073905322426725,
          6.09171371536668,
          6.010950528660622,
          5.9924218318326865,
          5.850039019987506,
          6.00872027208198,
          5.987179612243516,
          5.680885461920965,
          5.667780814908191,
          5.679793461427749,
          5.5845911068908265,
          5.542011726751518,
          5.52042860417739,
          5.37379442074905,
          5.313880565329747,
          5.390883680667784,
          5.323679255043842,
          5.143949451634619,
          5.130734189278229,
          5.15698819315282,
          5.262557700880102,
          5.269665753587333,
          5.426049382192559,
          5.197133466236714,
          5.348634869848681,
          5.4335314108330195,
          5.441064789112097,
          5.470535416028213,
          5.440954979929657,
          5.287719308793022,
          5.236425134332812,
          5.114458453520918,
          5.091881160540595,
          5.0109407934622325,
          4.928655723878734,
          4.8302251979398605,
          4.880582814265189,
          4.791643725943175,
          4.783011356430471,
          4.719415918288448,
          4.812764316991981,
          4.864901746147382,
          4.766479147067258,
          4.80677780189837,
          4.745789608471,
          4.808578779906675,
          4.750062190458117,
          4.753225095876836,
          4.837436070904573,
          4.976798796770488,
          4.990247414666314,
          5.077686857811813,
          5.473843519532778,
          5.280684419487827,
          5.285380055128485,
          5.131805854175838,
          5.025491496111442,
          5.084519342579412,
          5.079191369611678,
          5.009907484771588,
          4.9092566198774605,
          4.931628397265584,
          4.831310209419975,
          4.718401727859998,
          4.670552109152901,
          4.572020409696293,
          4.565533330083511,
          4.585941406711449,
          4.524314323507895,
          4.5038137866024215,
          4.533947637782958,
          4.514469100182197,
          4.422516890658969,
          4.479576732097932,
          4.517896516717421,
          4.432375426878558,
          4.331471943063249,
          4.271332941869893,
          4.41229701042662,
          4.337945469199546,
          4.241642426828996,
          4.238941859030845,
          4.277954219507741,
          4.181061603877829,
          4.180201845098331,
          4.072668234371051,
          4.019356427895886,
          4.030234175628493,
          3.973804588427342,
          4.022180931333693,
          4.188024979983588,
          4.262112879541647,
          4.17698686302159,
          4.428255760374988,
          4.7962736014181,
          5.485279888504905,
          5.090918062746766,
          5.350819754140581,
          4.88021593642965,
          4.881141116618686,
          5.3590311572164,
          5.362103917199313,
          5.176766289653912,
          4.723293997702115,
          4.572070473403301,
          4.417175900116497,
          4.320493493139807,
          4.302116956211066,
          4.509406622211564,
          4.464790289775628,
          4.37228401015755,
          4.582755848033607,
          3.5991953021806893,
          3.4490870530167825,
          3.3467966090385417,
          3.3704290686815312,
          3.5886992867222034,
          4.047605674027636,
          3.968443180301783,
          3.826004717233893,
          3.7449802553568006,
          3.381889958802951,
          3.068242469092553,
          2.9210896582257533,
          2.8470584671226717,
          2.711411234259451,
          2.680485957886212,
          2.623957607311681,
          2.5598713607698897,
          2.4501508024019785,
          2.3979463295819627,
          2.38743236078853,
          2.329100829819261,
          2.212856469809104,
          2.111543218301314,
          2.0565843517484694,
          1.921720832578977,
          1.818033352211664,
          1.7010067816538381,
          1.6669466920045295,
          1.4876055698565835,
          1.3696676396828735,
          1.2714137243795562,
          1.1921281745711951,
          1.235350235494579,
          1.202092188242247,
          1.2216333415807057,
          0.8596353244199051,
          0.7544670876693971,
          0.6298620588622086,
          0.5340558485154503,
          0.3914723512845981,
          0.5299999713897705
         ],
         "type": "scatter"
        }
       ],
       "layout": {
        "template": {
         "data": {
          "barpolar": [
           {
            "marker": {
             "line": {
              "color": "rgb(17,17,17)",
              "width": 0.5
             },
             "pattern": {
              "fillmode": "overlay",
              "size": 10,
              "solidity": 0.2
             }
            },
            "type": "barpolar"
           }
          ],
          "bar": [
           {
            "error_x": {
             "color": "#f2f5fa"
            },
            "error_y": {
             "color": "#f2f5fa"
            },
            "marker": {
             "line": {
              "color": "rgb(17,17,17)",
              "width": 0.5
             },
             "pattern": {
              "fillmode": "overlay",
              "size": 10,
              "solidity": 0.2
             }
            },
            "type": "bar"
           }
          ],
          "carpet": [
           {
            "aaxis": {
             "endlinecolor": "#A2B1C6",
             "gridcolor": "#506784",
             "linecolor": "#506784",
             "minorgridcolor": "#506784",
             "startlinecolor": "#A2B1C6"
            },
            "baxis": {
             "endlinecolor": "#A2B1C6",
             "gridcolor": "#506784",
             "linecolor": "#506784",
             "minorgridcolor": "#506784",
             "startlinecolor": "#A2B1C6"
            },
            "type": "carpet"
           }
          ],
          "choropleth": [
           {
            "colorbar": {
             "outlinewidth": 0,
             "ticks": ""
            },
            "type": "choropleth"
           }
          ],
          "contourcarpet": [
           {
            "colorbar": {
             "outlinewidth": 0,
             "ticks": ""
            },
            "type": "contourcarpet"
           }
          ],
          "contour": [
           {
            "colorbar": {
             "outlinewidth": 0,
             "ticks": ""
            },
            "colorscale": [
             [
              0.0,
              "#0d0887"
             ],
             [
              0.1111111111111111,
              "#46039f"
             ],
             [
              0.2222222222222222,
              "#7201a8"
             ],
             [
              0.3333333333333333,
              "#9c179e"
             ],
             [
              0.4444444444444444,
              "#bd3786"
             ],
             [
              0.5555555555555556,
              "#d8576b"
             ],
             [
              0.6666666666666666,
              "#ed7953"
             ],
             [
              0.7777777777777778,
              "#fb9f3a"
             ],
             [
              0.8888888888888888,
              "#fdca26"
             ],
             [
              1.0,
              "#f0f921"
             ]
            ],
            "type": "contour"
           }
          ],
          "heatmapgl": [
           {
            "colorbar": {
             "outlinewidth": 0,
             "ticks": ""
            },
            "colorscale": [
             [
              0.0,
              "#0d0887"
             ],
             [
              0.1111111111111111,
              "#46039f"
             ],
             [
              0.2222222222222222,
              "#7201a8"
             ],
             [
              0.3333333333333333,
              "#9c179e"
             ],
             [
              0.4444444444444444,
              "#bd3786"
             ],
             [
              0.5555555555555556,
              "#d8576b"
             ],
             [
              0.6666666666666666,
              "#ed7953"
             ],
             [
              0.7777777777777778,
              "#fb9f3a"
             ],
             [
              0.8888888888888888,
              "#fdca26"
             ],
             [
              1.0,
              "#f0f921"
             ]
            ],
            "type": "heatmapgl"
           }
          ],
          "heatmap": [
           {
            "colorbar": {
             "outlinewidth": 0,
             "ticks": ""
            },
            "colorscale": [
             [
              0.0,
              "#0d0887"
             ],
             [
              0.1111111111111111,
              "#46039f"
             ],
             [
              0.2222222222222222,
              "#7201a8"
             ],
             [
              0.3333333333333333,
              "#9c179e"
             ],
             [
              0.4444444444444444,
              "#bd3786"
             ],
             [
              0.5555555555555556,
              "#d8576b"
             ],
             [
              0.6666666666666666,
              "#ed7953"
             ],
             [
              0.7777777777777778,
              "#fb9f3a"
             ],
             [
              0.8888888888888888,
              "#fdca26"
             ],
             [
              1.0,
              "#f0f921"
             ]
            ],
            "type": "heatmap"
           }
          ],
          "histogram2dcontour": [
           {
            "colorbar": {
             "outlinewidth": 0,
             "ticks": ""
            },
            "colorscale": [
             [
              0.0,
              "#0d0887"
             ],
             [
              0.1111111111111111,
              "#46039f"
             ],
             [
              0.2222222222222222,
              "#7201a8"
             ],
             [
              0.3333333333333333,
              "#9c179e"
             ],
             [
              0.4444444444444444,
              "#bd3786"
             ],
             [
              0.5555555555555556,
              "#d8576b"
             ],
             [
              0.6666666666666666,
              "#ed7953"
             ],
             [
              0.7777777777777778,
              "#fb9f3a"
             ],
             [
              0.8888888888888888,
              "#fdca26"
             ],
             [
              1.0,
              "#f0f921"
             ]
            ],
            "type": "histogram2dcontour"
           }
          ],
          "histogram2d": [
           {
            "colorbar": {
             "outlinewidth": 0,
             "ticks": ""
            },
            "colorscale": [
             [
              0.0,
              "#0d0887"
             ],
             [
              0.1111111111111111,
              "#46039f"
             ],
             [
              0.2222222222222222,
              "#7201a8"
             ],
             [
              0.3333333333333333,
              "#9c179e"
             ],
             [
              0.4444444444444444,
              "#bd3786"
             ],
             [
              0.5555555555555556,
              "#d8576b"
             ],
             [
              0.6666666666666666,
              "#ed7953"
             ],
             [
              0.7777777777777778,
              "#fb9f3a"
             ],
             [
              0.8888888888888888,
              "#fdca26"
             ],
             [
              1.0,
              "#f0f921"
             ]
            ],
            "type": "histogram2d"
           }
          ],
          "histogram": [
           {
            "marker": {
             "pattern": {
              "fillmode": "overlay",
              "size": 10,
              "solidity": 0.2
             }
            },
            "type": "histogram"
           }
          ],
          "mesh3d": [
           {
            "colorbar": {
             "outlinewidth": 0,
             "ticks": ""
            },
            "type": "mesh3d"
           }
          ],
          "parcoords": [
           {
            "line": {
             "colorbar": {
              "outlinewidth": 0,
              "ticks": ""
             }
            },
            "type": "parcoords"
           }
          ],
          "pie": [
           {
            "automargin": true,
            "type": "pie"
           }
          ],
          "scatter3d": [
           {
            "line": {
             "colorbar": {
              "outlinewidth": 0,
              "ticks": ""
             }
            },
            "marker": {
             "colorbar": {
              "outlinewidth": 0,
              "ticks": ""
             }
            },
            "type": "scatter3d"
           }
          ],
          "scattercarpet": [
           {
            "marker": {
             "colorbar": {
              "outlinewidth": 0,
              "ticks": ""
             }
            },
            "type": "scattercarpet"
           }
          ],
          "scattergeo": [
           {
            "marker": {
             "colorbar": {
              "outlinewidth": 0,
              "ticks": ""
             }
            },
            "type": "scattergeo"
           }
          ],
          "scattergl": [
           {
            "marker": {
             "line": {
              "color": "#283442"
             }
            },
            "type": "scattergl"
           }
          ],
          "scattermapbox": [
           {
            "marker": {
             "colorbar": {
              "outlinewidth": 0,
              "ticks": ""
             }
            },
            "type": "scattermapbox"
           }
          ],
          "scatterpolargl": [
           {
            "marker": {
             "colorbar": {
              "outlinewidth": 0,
              "ticks": ""
             }
            },
            "type": "scatterpolargl"
           }
          ],
          "scatterpolar": [
           {
            "marker": {
             "colorbar": {
              "outlinewidth": 0,
              "ticks": ""
             }
            },
            "type": "scatterpolar"
           }
          ],
          "scatter": [
           {
            "marker": {
             "line": {
              "color": "#283442"
             }
            },
            "type": "scatter"
           }
          ],
          "scatterternary": [
           {
            "marker": {
             "colorbar": {
              "outlinewidth": 0,
              "ticks": ""
             }
            },
            "type": "scatterternary"
           }
          ],
          "surface": [
           {
            "colorbar": {
             "outlinewidth": 0,
             "ticks": ""
            },
            "colorscale": [
             [
              0.0,
              "#0d0887"
             ],
             [
              0.1111111111111111,
              "#46039f"
             ],
             [
              0.2222222222222222,
              "#7201a8"
             ],
             [
              0.3333333333333333,
              "#9c179e"
             ],
             [
              0.4444444444444444,
              "#bd3786"
             ],
             [
              0.5555555555555556,
              "#d8576b"
             ],
             [
              0.6666666666666666,
              "#ed7953"
             ],
             [
              0.7777777777777778,
              "#fb9f3a"
             ],
             [
              0.8888888888888888,
              "#fdca26"
             ],
             [
              1.0,
              "#f0f921"
             ]
            ],
            "type": "surface"
           }
          ],
          "table": [
           {
            "cells": {
             "fill": {
              "color": "#506784"
             },
             "line": {
              "color": "rgb(17,17,17)"
             }
            },
            "header": {
             "fill": {
              "color": "#2a3f5f"
             },
             "line": {
              "color": "rgb(17,17,17)"
             }
            },
            "type": "table"
           }
          ]
         },
         "layout": {
          "annotationdefaults": {
           "arrowcolor": "#f2f5fa",
           "arrowhead": 0,
           "arrowwidth": 1
          },
          "autotypenumbers": "strict",
          "coloraxis": {
           "colorbar": {
            "outlinewidth": 0,
            "ticks": ""
           }
          },
          "colorscale": {
           "diverging": [
            [
             0,
             "#8e0152"
            ],
            [
             0.1,
             "#c51b7d"
            ],
            [
             0.2,
             "#de77ae"
            ],
            [
             0.3,
             "#f1b6da"
            ],
            [
             0.4,
             "#fde0ef"
            ],
            [
             0.5,
             "#f7f7f7"
            ],
            [
             0.6,
             "#e6f5d0"
            ],
            [
             0.7,
             "#b8e186"
            ],
            [
             0.8,
             "#7fbc41"
            ],
            [
             0.9,
             "#4d9221"
            ],
            [
             1,
             "#276419"
            ]
           ],
           "sequential": [
            [
             0.0,
             "#0d0887"
            ],
            [
             0.1111111111111111,
             "#46039f"
            ],
            [
             0.2222222222222222,
             "#7201a8"
            ],
            [
             0.3333333333333333,
             "#9c179e"
            ],
            [
             0.4444444444444444,
             "#bd3786"
            ],
            [
             0.5555555555555556,
             "#d8576b"
            ],
            [
             0.6666666666666666,
             "#ed7953"
            ],
            [
             0.7777777777777778,
             "#fb9f3a"
            ],
            [
             0.8888888888888888,
             "#fdca26"
            ],
            [
             1.0,
             "#f0f921"
            ]
           ],
           "sequentialminus": [
            [
             0.0,
             "#0d0887"
            ],
            [
             0.1111111111111111,
             "#46039f"
            ],
            [
             0.2222222222222222,
             "#7201a8"
            ],
            [
             0.3333333333333333,
             "#9c179e"
            ],
            [
             0.4444444444444444,
             "#bd3786"
            ],
            [
             0.5555555555555556,
             "#d8576b"
            ],
            [
             0.6666666666666666,
             "#ed7953"
            ],
            [
             0.7777777777777778,
             "#fb9f3a"
            ],
            [
             0.8888888888888888,
             "#fdca26"
            ],
            [
             1.0,
             "#f0f921"
            ]
           ]
          },
          "colorway": [
           "#636efa",
           "#EF553B",
           "#00cc96",
           "#ab63fa",
           "#FFA15A",
           "#19d3f3",
           "#FF6692",
           "#B6E880",
           "#FF97FF",
           "#FECB52"
          ],
          "font": {
           "color": "#f2f5fa"
          },
          "geo": {
           "bgcolor": "rgb(17,17,17)",
           "lakecolor": "rgb(17,17,17)",
           "landcolor": "rgb(17,17,17)",
           "showlakes": true,
           "showland": true,
           "subunitcolor": "#506784"
          },
          "hoverlabel": {
           "align": "left"
          },
          "hovermode": "closest",
          "mapbox": {
           "style": "dark"
          },
          "paper_bgcolor": "rgb(17,17,17)",
          "plot_bgcolor": "rgb(17,17,17)",
          "polar": {
           "angularaxis": {
            "gridcolor": "#506784",
            "linecolor": "#506784",
            "ticks": ""
           },
           "bgcolor": "rgb(17,17,17)",
           "radialaxis": {
            "gridcolor": "#506784",
            "linecolor": "#506784",
            "ticks": ""
           }
          },
          "scene": {
           "xaxis": {
            "backgroundcolor": "rgb(17,17,17)",
            "gridcolor": "#506784",
            "gridwidth": 2,
            "linecolor": "#506784",
            "showbackground": true,
            "ticks": "",
            "zerolinecolor": "#C8D4E3"
           },
           "yaxis": {
            "backgroundcolor": "rgb(17,17,17)",
            "gridcolor": "#506784",
            "gridwidth": 2,
            "linecolor": "#506784",
            "showbackground": true,
            "ticks": "",
            "zerolinecolor": "#C8D4E3"
           },
           "zaxis": {
            "backgroundcolor": "rgb(17,17,17)",
            "gridcolor": "#506784",
            "gridwidth": 2,
            "linecolor": "#506784",
            "showbackground": true,
            "ticks": "",
            "zerolinecolor": "#C8D4E3"
           }
          },
          "shapedefaults": {
           "line": {
            "color": "#f2f5fa"
           }
          },
          "sliderdefaults": {
           "bgcolor": "#C8D4E3",
           "bordercolor": "rgb(17,17,17)",
           "borderwidth": 1,
           "tickwidth": 0
          },
          "ternary": {
           "aaxis": {
            "gridcolor": "#506784",
            "linecolor": "#506784",
            "ticks": ""
           },
           "baxis": {
            "gridcolor": "#506784",
            "linecolor": "#506784",
            "ticks": ""
           },
           "bgcolor": "rgb(17,17,17)",
           "caxis": {
            "gridcolor": "#506784",
            "linecolor": "#506784",
            "ticks": ""
           }
          },
          "title": {
           "x": 0.05
          },
          "updatemenudefaults": {
           "bgcolor": "#506784",
           "borderwidth": 0
          },
          "xaxis": {
           "automargin": true,
           "gridcolor": "#283442",
           "linecolor": "#506784",
           "ticks": "",
           "title": {
            "standoff": 15
           },
           "zerolinecolor": "#283442",
           "zerolinewidth": 2
          },
          "yaxis": {
           "automargin": true,
           "gridcolor": "#283442",
           "linecolor": "#506784",
           "ticks": "",
           "title": {
            "standoff": 15
           },
           "zerolinecolor": "#283442",
           "zerolinewidth": 2
          }
         }
        }
       },
       "config": {
        "showLink": false,
        "linkText": "Export to plot.ly",
        "plotlyServerURL": "https://plot.ly"
       }
      },
      "text/html": "<div>                            <div id=\"9ab7f190-364c-451f-ae67-7aecb49d0b1a\" class=\"plotly-graph-div\" style=\"height:525px; width:100%;\"></div>            <script type=\"text/javascript\">                require([\"plotly\"], function(Plotly) {                    window.PLOTLYENV=window.PLOTLYENV || {};                                    if (document.getElementById(\"9ab7f190-364c-451f-ae67-7aecb49d0b1a\")) {                    Plotly.newPlot(                        \"9ab7f190-364c-451f-ae67-7aecb49d0b1a\",                        [{\"mode\":\"lines\",\"name\":\"Strike cur ATM 72.75\",\"x\":[\"2024-01-02\",\"2024-01-02\",\"2024-01-03\",\"2024-01-03\",\"2024-01-04\",\"2024-01-04\",\"2024-01-05\",\"2024-01-05\",\"2024-01-08\",\"2024-01-08\",\"2024-01-09\",\"2024-01-09\",\"2024-01-10\",\"2024-01-10\",\"2024-01-11\",\"2024-01-11\",\"2024-01-12\",\"2024-01-12\",\"2024-01-15\",\"2024-01-15\",\"2024-01-16\",\"2024-01-16\",\"2024-01-17\",\"2024-01-17\",\"2024-01-18\",\"2024-01-18\",\"2024-01-19\",\"2024-01-19\",\"2024-01-22\",\"2024-01-22\",\"2024-01-23\",\"2024-01-23\",\"2024-01-24\",\"2024-01-24\",\"2024-01-25\",\"2024-01-26\",\"2024-01-26\",\"2024-01-29\",\"2024-01-29\",\"2024-01-30\",\"2024-01-31\",\"2024-01-31\",\"2024-02-01\",\"2024-02-01\",\"2024-02-02\",\"2024-02-02\",\"2024-02-05\",\"2024-02-05\",\"2024-02-06\",\"2024-02-06\",\"2024-02-07\",\"2024-02-07\",\"2024-02-08\",\"2024-02-08\",\"2024-02-09\",\"2024-02-09\",\"2024-02-12\",\"2024-02-12\",\"2024-02-13\",\"2024-02-13\",\"2024-02-14\",\"2024-02-14\",\"2024-02-15\",\"2024-02-15\",\"2024-02-16\",\"2024-02-19\",\"2024-02-20\",\"2024-02-20\",\"2024-02-21\",\"2024-02-22\",\"2024-02-22\",\"2024-02-23\",\"2024-02-23\",\"2024-02-26\",\"2024-02-26\",\"2024-02-27\",\"2024-02-27\",\"2024-02-28\",\"2024-02-28\",\"2024-02-29\",\"2024-02-29\",\"2024-03-01\",\"2024-03-01\",\"2024-03-04\",\"2024-03-04\",\"2024-03-05\",\"2024-03-05\",\"2024-03-06\",\"2024-03-06\",\"2024-03-07\",\"2024-03-07\",\"2024-03-08\",\"2024-03-08\",\"2024-03-11\",\"2024-03-11\",\"2024-03-12\",\"2024-03-13\",\"2024-03-13\",\"2024-03-14\",\"2024-03-14\",\"2024-03-15\",\"2024-03-15\",\"2024-03-18\",\"2024-03-19\",\"2024-03-20\",\"2024-03-20\",\"2024-03-21\",\"2024-03-21\",\"2024-03-22\",\"2024-03-22\",\"2024-03-25\",\"2024-03-26\",\"2024-03-26\",\"2024-03-27\",\"2024-03-27\",\"2024-03-28\",\"2024-03-29\",\"2024-04-01\",\"2024-04-02\",\"2024-04-03\",\"2024-04-04\",\"2024-04-05\",\"2024-04-08\",\"2024-04-09\",\"2024-04-10\",\"2024-04-11\",\"2024-04-12\",\"2024-04-12\",\"2024-04-15\",\"2024-04-15\",\"2024-04-16\",\"2024-04-16\",\"2024-04-17\",\"2024-04-18\",\"2024-04-19\",\"2024-04-22\",\"2024-04-23\",\"2024-04-24\",\"2024-04-25\",\"2024-04-26\",\"2024-04-29\",\"2024-04-30\",\"2024-05-01\",\"2024-05-01\",\"2024-05-02\",\"2024-05-02\",\"2024-05-03\",\"2024-05-03\",\"2024-05-06\",\"2024-05-06\",\"2024-05-07\",\"2024-05-07\",\"2024-05-08\",\"2024-05-08\",\"2024-05-09\",\"2024-05-09\",\"2024-05-10\",\"2024-05-10\",\"2024-05-13\",\"2024-05-13\",\"2024-05-14\",\"2024-05-14\",\"2024-05-15\",\"2024-05-15\",\"2024-05-16\",\"2024-05-16\",\"2024-05-17\",\"2024-05-20\",\"2024-05-21\",\"2024-05-21\",\"2024-05-22\",\"2024-05-22\",\"2024-05-23\",\"2024-05-23\",\"2024-05-24\",\"2024-05-24\",\"2024-05-27\",\"2024-05-27\",\"2024-05-28\",\"2024-05-29\",\"2024-05-30\",\"2024-05-30\",\"2024-05-31\",\"2024-05-31\",\"2024-06-03\",\"2024-06-03\",\"2024-06-04\",\"2024-06-04\",\"2024-06-05\",\"2024-06-05\",\"2024-06-06\",\"2024-06-06\",\"2024-06-07\",\"2024-06-07\",\"2024-06-10\",\"2024-06-10\",\"2024-06-11\",\"2024-06-11\",\"2024-06-12\",\"2024-06-12\",\"2024-06-13\",\"2024-06-13\",\"2024-06-14\",\"2024-06-14\",\"2024-06-17\",\"2024-06-17\",\"2024-06-18\",\"2024-06-19\",\"2024-06-20\",\"2024-06-21\",\"2024-06-24\",\"2024-06-25\",\"2024-06-26\",\"2024-06-26\",\"2024-06-27\",\"2024-06-27\",\"2024-06-28\",\"2024-06-28\",\"2024-07-01\",\"2024-07-01\",\"2024-07-02\",\"2024-07-02\",\"2024-07-03\",\"2024-07-03\",\"2024-07-04\",\"2024-07-04\",\"2024-07-05\",\"2024-07-05\",\"2024-07-08\",\"2024-07-08\",\"2024-07-09\",\"2024-07-09\",\"2024-07-10\",\"2024-07-10\",\"2024-07-11\",\"2024-07-11\",\"2024-07-12\",\"2024-07-12\",\"2024-07-15\",\"2024-07-15\",\"2024-07-16\",\"2024-07-16\",\"2024-07-17\",\"2024-07-17\",\"2024-07-18\",\"2024-07-18\",\"2024-07-19\",\"2024-07-19\",\"2024-07-22\",\"2024-07-22\",\"2024-07-23\",\"2024-07-24\",\"2024-07-24\",\"2024-07-25\",\"2024-07-25\",\"2024-07-26\",\"2024-07-29\",\"2024-07-30\",\"2024-07-30\",\"2024-07-31\",\"2024-07-31\",\"2024-08-01\",\"2024-08-02\",\"2024-08-02\",\"2024-08-05\",\"2024-08-05\",\"2024-08-06\",\"2024-08-06\",\"2024-08-07\",\"2024-08-07\",\"2024-08-08\",\"2024-08-08\",\"2024-08-09\",\"2024-08-09\",\"2024-08-12\",\"2024-08-12\",\"2024-08-13\",\"2024-08-14\",\"2024-08-15\",\"2024-08-15\",\"2024-08-16\",\"2024-08-16\",\"2024-08-19\",\"2024-08-19\",\"2024-08-20\",\"2024-08-20\",\"2024-08-21\",\"2024-08-21\",\"2024-08-22\",\"2024-08-22\",\"2024-08-23\",\"2024-08-23\",\"2024-08-26\",\"2024-08-27\",\"2024-08-27\",\"2024-08-28\",\"2024-08-28\",\"2024-08-29\",\"2024-08-29\",\"2024-08-30\",\"2024-08-30\",\"2024-09-02\",\"2024-09-02\",\"2024-09-03\",\"2024-09-03\",\"2024-09-04\",\"2024-09-04\",\"2024-09-05\",\"2024-09-05\",\"2024-09-06\",\"2024-09-06\",\"2024-09-09\",\"2024-09-09\",\"2024-09-10\",\"2024-09-10\",\"2024-09-11\",\"2024-09-11\",\"2024-09-12\",\"2024-09-12\",\"2024-09-13\",\"2024-09-13\",\"2024-09-16\",\"2024-09-16\",\"2024-09-17\",\"2024-09-17\",\"2024-09-18\",\"2024-09-18\",\"2024-09-19\",\"2024-09-19\",\"2024-09-20\",\"2024-09-20\",\"2024-09-23\",\"2024-09-23\",\"2024-09-24\",\"2024-09-24\",\"2024-09-25\",\"2024-09-25\",\"2024-09-26\",\"2024-09-27\",\"2024-09-30\",\"2024-10-01\",\"2024-10-02\",\"2024-10-03\",\"2024-10-04\",\"2024-10-07\",\"2024-10-08\",\"2024-10-09\",\"2024-10-10\",\"2024-10-11\",\"2024-10-14\",\"2024-10-15\",\"2024-10-16\",\"2024-10-17\",\"2024-10-18\",\"2024-10-21\",\"2024-10-22\",\"2024-10-23\",\"2024-10-24\",\"2024-10-25\",\"2024-10-28\",\"2024-10-29\",\"2024-10-30\",\"2024-10-31\",\"2024-11-01\",\"2024-11-04\",\"2024-11-05\",\"2024-11-06\",\"2024-11-07\",\"2024-11-08\",\"2024-11-11\",\"2024-11-12\",\"2024-11-13\",\"2024-11-14\",\"2024-11-15\",\"2024-11-18\",\"2024-11-19\",\"2024-11-20\",\"2024-11-21\",\"2024-11-22\",\"2024-11-25\",\"2024-11-26\",\"2024-11-27\",\"2024-11-28\",\"2024-11-29\",\"2024-12-02\",\"2024-12-03\",\"2024-12-04\",\"2024-12-05\",\"2024-12-06\",\"2024-12-09\",\"2024-12-10\",\"2024-12-11\",\"2024-12-12\",\"2024-12-13\",\"2024-12-16\",\"2024-12-17\",\"2024-12-18\",\"2024-12-19\",\"2024-12-20\",\"2024-12-23\"],\"y\":[8.551340125737866,8.789957196608043,8.705554755980636,8.944622775803886,8.76468346328108,9.006784391498329,8.925150853974408,8.686183921453704,8.89108336413286,8.650550976607988,8.792726522432588,9.034450079806248,8.816871141184166,9.061339207839566,8.776440999524603,9.020226756626336,8.866778167738268,9.108886889228401,8.889854943534168,9.134075353754135,8.954244048574857,9.19980426926007,8.753029391042041,8.996132507809698,8.755160729293443,8.998841198302195,8.705596683439254,8.949845158095165,8.835859446752877,9.080826385648564,8.687064115197757,8.92904541764672,8.734990486793805,8.97777658915117,8.74069489299147,8.47529166023233,8.712993464679457,8.467772819516561,8.704671102968227,8.477010155449918,8.471660621294873,8.23574641420472,8.094580641472113,8.331879189550698,7.973322233647423,8.211221485745696,8.090586229453173,8.332146850607145,7.96297538276594,8.20185939869799,8.15429219507515,7.915160740285117,7.976869064320354,8.215918223699255,8.02357883338766,8.260420812164405,7.888626901468712,8.124581039963488,7.747458544932627,7.981722001924162,7.776826326244418,8.01302558662428,7.650969934865621,7.884427853340284,7.759683906397491,7.67322658515014,7.534591804053704,7.772876486326737,7.576803132169189,7.38975655617871,7.625184815542099,7.4239362989567255,7.662204441995897,7.323306836483432,7.559811923385894,7.266554754339509,7.50169670911697,7.465811344826783,7.231665298938978,7.333502600353647,7.571716716505172,7.222271611785693,7.456619424107188,7.196756208630866,7.432173554069159,7.144777153572896,7.380795729324561,7.179589589156677,7.414457138263188,7.060080172389291,7.292352416511186,7.033548568369966,7.265897633791958,6.995988637889468,7.228835698619335,7.023910505691205,6.8576433981735505,7.088021162844441,6.92203525962249,7.153712981130511,6.979848035021284,7.213852935951195,7.053441133273985,6.903687813962769,6.624662055983116,6.853435671260804,6.496567846023645,6.728688708606079,6.581683584010776,6.352097265209892,6.599346771388511,6.243725598258706,6.4723402297387835,6.155597156246145,6.385510322572664,6.224681085043194,6.224838475244383,6.115133326154599,6.305351286754117,6.517396445076265,6.891574519160756,6.936290744520306,6.903379823631411,6.645734354365089,6.945229254461694,7.035091946593866,6.82580204014878,7.062235663217606,6.7646546820801134,7.004303300535447,6.702191810333879,6.939741415108223,6.61064017798337,6.584860849300206,6.55249924909706,6.110688588561587,6.1801902833182325,6.210430338134657,6.470815690542381,6.295869005155488,5.96054068052436,6.097937756711275,5.970113376632227,6.207354779440763,5.7207343298491296,5.954370304832835,5.818651849895389,6.0561092097932345,5.864160068185335,6.102535189993894,6.013602603493474,5.775124953763452,6.073594111496547,5.834583157014322,5.720227923747629,5.955675801168397,5.821723044063596,6.061987224829672,5.771274410022485,6.009970759626512,5.648384381115029,5.881919439558011,5.695517965059679,5.932878219325332,5.729386205366822,5.966013638855017,5.865695005347952,5.783888876884845,5.625481752701347,5.859785222716795,5.640956899032332,5.877305781601386,5.6491300592245395,5.882765053789939,5.628699173307261,5.861536506229534,5.568115522786698,5.800837066705746,5.598506874672793,5.718942215667838,5.5764709944643585,5.8088598103893005,5.51868085175596,5.749239594537343,5.6597999351629795,5.42630046038726,5.203393299586814,5.431890500661659,5.208989062079681,5.440610324850503,5.207870515504062,5.442329995213264,5.110280426178662,5.3421998318098645,5.0591882122288965,5.290822415606826,5.061724701059958,5.293777375691491,4.993423436379281,5.224639226532403,4.93864424294069,5.165714784243129,4.862740848196118,5.089107487146379,4.695307291735681,4.9155280975118245,4.685290007853695,4.708026028754631,4.987707741955376,4.822495655671553,4.96968363029854,4.753698382835523,5.079050525615273,5.309733107848345,4.974831896425876,5.2001149817478804,5.135917467489328,5.3694135006042885,5.00923417642786,5.235788994718419,4.977322171026799,5.20495591641226,4.82816915436338,5.0536907838966485,4.776947231033226,5.002361013966485,4.663080311388882,4.884447129244599,4.639064797339024,4.861157184289645,4.560943973867836,4.781607192311462,4.482239546482518,4.701075156898071,4.60984961852288,4.8355342962980785,4.432453786325105,4.652032197355496,4.457039644201039,4.679759473917784,4.449547102623043,4.671697629947261,4.510601572364742,4.735358415459864,4.594399473934985,4.819048063291163,4.420490404596222,4.63819443652185,4.325492445549578,4.541461595381243,4.600300692122389,4.2999785114407345,4.518354854363679,4.361103342119641,4.580359208035475,4.416118917103596,4.461534998457083,4.380534618630612,4.604464967045473,4.59537781300709,4.826599203407405,4.634490454562055,4.613405899692651,4.841142744778445,5.003446816703239,5.234551234916964,4.891303234226726,5.126792964712173,5.209695107929377,4.972564241268486,4.888814839925146,4.6545623793557525,4.546470863436291,4.781449521710108,4.600745999942717,4.838169164392198,4.719652378138456,4.643991246471046,4.656172862390143,4.898123481299642,4.470732591182447,4.706472741643019,4.592217056540115,4.362486922200752,4.585796003464992,4.352555920418347,4.274162566389059,4.507526645938945,4.339971517432261,4.576146193423959,4.102779479170344,4.3293063868639265,4.327517224695455,4.326281994532124,4.098016702958631,4.416271221145095,4.188222444429847,4.337578638303896,4.11091248352669,4.3959868359818515,4.1675355513825565,4.40208305084839,4.171582872957096,4.244581186213146,4.019363467089157,4.284304286629471,4.060070996824329,4.123721980611855,4.353209595254661,4.073257248161688,4.302491726197047,4.010884159413187,4.2411931575981185,4.27375623888922,4.044606576017415,3.8794665900878726,4.103878795772651,3.9228555070037174,4.152197479063929,3.852509213893164,4.080576100075604,4.042254764495382,3.816875560307153,3.860430196319548,4.090492917820519,3.9455090159811945,3.7212892237689275,3.8357442875815195,3.6096383928317692,3.6638509659829452,3.8961039617468316,3.7898476070976344,3.5606003393715397,3.7364093702857346,3.509912433215291,3.9104344560489963,3.679561539735346,3.844771175929793,3.9096489222112254,3.82521032310526,4.108276906939565,4.420190748916895,5.131384665895219,4.798292279216987,4.948543339949929,4.565471001801228,4.512744437791653,4.96075672181987,5.05344531769223,4.805227818143706,4.3374996413467315,4.28225965286763,4.030415716657416,3.9330451939238102,3.907198089679518,4.170427497839839,4.142769875940168,4.055791256814793,4.215287948136037,3.31052093372773,3.179977503601691,2.9735055732733002,3.0371415643390804,3.2016421751423536,3.710179047087337,3.6532468411314056,3.4099652123744804,3.3333460108103097,2.982772236872016,2.7692063791863433,2.6276605847884724,2.4860839794837943,2.3475223221050427,2.3237509312734517,2.2624250215933586,2.20442729692909,2.098837736935316,2.0368594412688665,2.134694673363853,1.9930117831838317,1.8668804244208204,1.7694913585408472,1.7143696479418082,1.5924463299340772,1.4842315116808962,1.3684954685823385,1.334764882589468,1.1622700373510142,1.0501210472887763,1.0438494847956292,0.9208766270332234,0.8954371744605467,0.9136785322482339,0.8709341944814852,0.5967325013040607,0.4834606920337876,0.41427558196480874,0.3414058862677152,0.1879001783521872,-4.768367034557741e-09],\"type\":\"scatter\"},{\"mode\":\"lines\",\"name\":\"ATM\",\"x\":[\"2024-01-02\",\"2024-01-03\",\"2024-01-04\",\"2024-01-05\",\"2024-01-08\",\"2024-01-09\",\"2024-01-10\",\"2024-01-11\",\"2024-01-12\",\"2024-01-15\",\"2024-01-16\",\"2024-01-17\",\"2024-01-18\",\"2024-01-19\",\"2024-01-22\",\"2024-01-23\",\"2024-01-24\",\"2024-01-25\",\"2024-01-26\",\"2024-01-29\",\"2024-01-30\",\"2024-01-31\",\"2024-02-01\",\"2024-02-02\",\"2024-02-05\",\"2024-02-06\",\"2024-02-07\",\"2024-02-08\",\"2024-02-09\",\"2024-02-12\",\"2024-02-13\",\"2024-02-14\",\"2024-02-15\",\"2024-02-16\",\"2024-02-19\",\"2024-02-20\",\"2024-02-21\",\"2024-02-22\",\"2024-02-23\",\"2024-02-26\",\"2024-02-27\",\"2024-02-28\",\"2024-02-29\",\"2024-03-01\",\"2024-03-04\",\"2024-03-05\",\"2024-03-06\",\"2024-03-07\",\"2024-03-08\",\"2024-03-11\",\"2024-03-12\",\"2024-03-13\",\"2024-03-14\",\"2024-03-15\",\"2024-03-18\",\"2024-03-19\",\"2024-03-20\",\"2024-03-21\",\"2024-03-22\",\"2024-03-25\",\"2024-03-26\",\"2024-03-27\",\"2024-03-28\",\"2024-03-29\",\"2024-04-01\",\"2024-04-02\",\"2024-04-03\",\"2024-04-04\",\"2024-04-05\",\"2024-04-08\",\"2024-04-09\",\"2024-04-10\",\"2024-04-11\",\"2024-04-12\",\"2024-04-15\",\"2024-04-16\",\"2024-04-17\",\"2024-04-18\",\"2024-04-19\",\"2024-04-22\",\"2024-04-23\",\"2024-04-24\",\"2024-04-25\",\"2024-04-26\",\"2024-04-29\",\"2024-04-30\",\"2024-05-01\",\"2024-05-02\",\"2024-05-03\",\"2024-05-06\",\"2024-05-07\",\"2024-05-08\",\"2024-05-09\",\"2024-05-10\",\"2024-05-13\",\"2024-05-14\",\"2024-05-15\",\"2024-05-16\",\"2024-05-17\",\"2024-05-20\",\"2024-05-21\",\"2024-05-22\",\"2024-05-23\",\"2024-05-24\",\"2024-05-27\",\"2024-05-28\",\"2024-05-29\",\"2024-05-30\",\"2024-05-31\",\"2024-06-03\",\"2024-06-04\",\"2024-06-05\",\"2024-06-06\",\"2024-06-07\",\"2024-06-10\",\"2024-06-11\",\"2024-06-12\",\"2024-06-13\",\"2024-06-14\",\"2024-06-17\",\"2024-06-18\",\"2024-06-19\",\"2024-06-20\",\"2024-06-21\",\"2024-06-24\",\"2024-06-25\",\"2024-06-26\",\"2024-06-27\",\"2024-06-28\",\"2024-07-01\",\"2024-07-02\",\"2024-07-03\",\"2024-07-04\",\"2024-07-05\",\"2024-07-08\",\"2024-07-09\",\"2024-07-10\",\"2024-07-11\",\"2024-07-12\",\"2024-07-15\",\"2024-07-16\",\"2024-07-17\",\"2024-07-18\",\"2024-07-19\",\"2024-07-22\",\"2024-07-23\",\"2024-07-24\",\"2024-07-25\",\"2024-07-26\",\"2024-07-29\",\"2024-07-30\",\"2024-07-31\",\"2024-08-01\",\"2024-08-02\",\"2024-08-05\",\"2024-08-06\",\"2024-08-07\",\"2024-08-08\",\"2024-08-09\",\"2024-08-12\",\"2024-08-13\",\"2024-08-14\",\"2024-08-15\",\"2024-08-16\",\"2024-08-19\",\"2024-08-20\",\"2024-08-21\",\"2024-08-22\",\"2024-08-23\",\"2024-08-26\",\"2024-08-27\",\"2024-08-28\",\"2024-08-29\",\"2024-08-30\",\"2024-09-02\",\"2024-09-03\",\"2024-09-04\",\"2024-09-05\",\"2024-09-06\",\"2024-09-09\",\"2024-09-10\",\"2024-09-11\",\"2024-09-12\",\"2024-09-13\",\"2024-09-16\",\"2024-09-17\",\"2024-09-18\",\"2024-09-19\",\"2024-09-20\",\"2024-09-23\",\"2024-09-24\",\"2024-09-25\",\"2024-09-26\",\"2024-09-27\",\"2024-09-30\",\"2024-10-01\",\"2024-10-02\",\"2024-10-03\",\"2024-10-04\",\"2024-10-07\",\"2024-10-08\",\"2024-10-09\",\"2024-10-10\",\"2024-10-11\",\"2024-10-14\",\"2024-10-15\",\"2024-10-16\",\"2024-10-17\",\"2024-10-18\",\"2024-10-21\",\"2024-10-22\",\"2024-10-23\",\"2024-10-24\",\"2024-10-25\",\"2024-10-28\",\"2024-10-29\",\"2024-10-30\",\"2024-10-31\",\"2024-11-01\",\"2024-11-04\",\"2024-11-05\",\"2024-11-06\",\"2024-11-07\",\"2024-11-08\",\"2024-11-11\",\"2024-11-12\",\"2024-11-13\",\"2024-11-14\",\"2024-11-15\",\"2024-11-18\",\"2024-11-19\",\"2024-11-20\",\"2024-11-21\",\"2024-11-22\",\"2024-11-25\",\"2024-11-26\",\"2024-11-27\",\"2024-11-28\",\"2024-11-29\",\"2024-12-02\",\"2024-12-03\",\"2024-12-04\",\"2024-12-05\",\"2024-12-06\",\"2024-12-09\",\"2024-12-10\",\"2024-12-11\",\"2024-12-12\",\"2024-12-13\",\"2024-12-16\",\"2024-12-17\",\"2024-12-18\",\"2024-12-19\",\"2024-12-20\",\"2024-12-23\"],\"y\":[9.032934712121786,9.188116819165337,9.043473210632989,9.168614633233084,9.136092867924376,9.16066424895341,9.070403038761718,9.188439222395218,9.355369468514894,9.382548590927485,9.309603099476114,9.2437352022731,9.217077514524945,9.038722017534674,9.110224247738145,9.135732060784157,9.025214747220645,8.925671261710448,8.955433296448604,8.946392944218765,8.835425585354109,8.712414197697676,8.574168930932004,8.453937622499815,8.348526142709964,8.435655921647339,8.388380035381878,8.409956120925763,8.50208314300135,8.36552462284191,8.221084240404494,8.254435017212977,8.122979514707808,8.117365119396844,8.032830175181545,7.986469398989158,7.938826671749993,7.865939447606181,7.825850436559271,7.801688579826887,7.742231069158457,7.705759356869208,7.625359137502123,7.696484980296653,7.673143644278703,7.582389192891846,7.58484443904581,7.52993950439803,7.50406053074618,7.417937402069349,7.340944190176387,7.324623830065178,7.3913644553553866,7.283770938724835,7.209777127615098,7.326428625608806,7.088324579719924,6.966579677016348,6.817494102634996,6.740181372736217,6.7072315660745545,6.6219620844490095,6.690591958170131,6.690627628423371,6.579789939683415,6.774679137330516,6.863014407621748,7.1738184996350185,7.415676276739958,6.9703263310486605,7.119764728260684,7.1426401054407265,7.217328738519292,7.304968416384391,7.230464589043493,7.183778766556138,7.089674809977872,6.922036865974249,6.708350242420131,6.586296354844826,6.656410104830833,6.6842949684261725,6.6303346816705115,6.77337824383644,6.426779109010148,6.399454217822893,6.291910774417367,6.19539691873517,6.230882898880793,6.218105876060477,6.0696036236348405,6.090128311006104,6.198389878187626,6.069632020631573,6.056160464590093,6.122757372978526,6.03776584375786,6.079969618172726,5.9149800927482445,5.880944850594851,6.101461733971746,6.021169941141018,6.073905322426725,6.09171371536668,6.010950528660622,5.9924218318326865,5.850039019987506,6.00872027208198,5.987179612243516,5.680885461920965,5.667780814908191,5.679793461427749,5.5845911068908265,5.542011726751518,5.52042860417739,5.37379442074905,5.313880565329747,5.390883680667784,5.323679255043842,5.143949451634619,5.130734189278229,5.15698819315282,5.262557700880102,5.269665753587333,5.426049382192559,5.197133466236714,5.348634869848681,5.4335314108330195,5.441064789112097,5.470535416028213,5.440954979929657,5.287719308793022,5.236425134332812,5.114458453520918,5.091881160540595,5.0109407934622325,4.928655723878734,4.8302251979398605,4.880582814265189,4.791643725943175,4.783011356430471,4.719415918288448,4.812764316991981,4.864901746147382,4.766479147067258,4.80677780189837,4.745789608471,4.808578779906675,4.750062190458117,4.753225095876836,4.837436070904573,4.976798796770488,4.990247414666314,5.077686857811813,5.473843519532778,5.280684419487827,5.285380055128485,5.131805854175838,5.025491496111442,5.084519342579412,5.079191369611678,5.009907484771588,4.9092566198774605,4.931628397265584,4.831310209419975,4.718401727859998,4.670552109152901,4.572020409696293,4.565533330083511,4.585941406711449,4.524314323507895,4.5038137866024215,4.533947637782958,4.514469100182197,4.422516890658969,4.479576732097932,4.517896516717421,4.432375426878558,4.331471943063249,4.271332941869893,4.41229701042662,4.337945469199546,4.241642426828996,4.238941859030845,4.277954219507741,4.181061603877829,4.180201845098331,4.072668234371051,4.019356427895886,4.030234175628493,3.973804588427342,4.022180931333693,4.188024979983588,4.262112879541647,4.17698686302159,4.428255760374988,4.7962736014181,5.485279888504905,5.090918062746766,5.350819754140581,4.88021593642965,4.881141116618686,5.3590311572164,5.362103917199313,5.176766289653912,4.723293997702115,4.572070473403301,4.417175900116497,4.320493493139807,4.302116956211066,4.509406622211564,4.464790289775628,4.37228401015755,4.582755848033607,3.5991953021806893,3.4490870530167825,3.3467966090385417,3.3704290686815312,3.5886992867222034,4.047605674027636,3.968443180301783,3.826004717233893,3.7449802553568006,3.381889958802951,3.068242469092553,2.9210896582257533,2.8470584671226717,2.711411234259451,2.680485957886212,2.623957607311681,2.5598713607698897,2.4501508024019785,2.3979463295819627,2.38743236078853,2.329100829819261,2.212856469809104,2.111543218301314,2.0565843517484694,1.921720832578977,1.818033352211664,1.7010067816538381,1.6669466920045295,1.4876055698565835,1.3696676396828735,1.2714137243795562,1.1921281745711951,1.235350235494579,1.202092188242247,1.2216333415807057,0.8596353244199051,0.7544670876693971,0.6298620588622086,0.5340558485154503,0.3914723512845981,0.5299999713897705],\"type\":\"scatter\"}],                        {\"template\":{\"data\":{\"barpolar\":[{\"marker\":{\"line\":{\"color\":\"rgb(17,17,17)\",\"width\":0.5},\"pattern\":{\"fillmode\":\"overlay\",\"size\":10,\"solidity\":0.2}},\"type\":\"barpolar\"}],\"bar\":[{\"error_x\":{\"color\":\"#f2f5fa\"},\"error_y\":{\"color\":\"#f2f5fa\"},\"marker\":{\"line\":{\"color\":\"rgb(17,17,17)\",\"width\":0.5},\"pattern\":{\"fillmode\":\"overlay\",\"size\":10,\"solidity\":0.2}},\"type\":\"bar\"}],\"carpet\":[{\"aaxis\":{\"endlinecolor\":\"#A2B1C6\",\"gridcolor\":\"#506784\",\"linecolor\":\"#506784\",\"minorgridcolor\":\"#506784\",\"startlinecolor\":\"#A2B1C6\"},\"baxis\":{\"endlinecolor\":\"#A2B1C6\",\"gridcolor\":\"#506784\",\"linecolor\":\"#506784\",\"minorgridcolor\":\"#506784\",\"startlinecolor\":\"#A2B1C6\"},\"type\":\"carpet\"}],\"choropleth\":[{\"colorbar\":{\"outlinewidth\":0,\"ticks\":\"\"},\"type\":\"choropleth\"}],\"contourcarpet\":[{\"colorbar\":{\"outlinewidth\":0,\"ticks\":\"\"},\"type\":\"contourcarpet\"}],\"contour\":[{\"colorbar\":{\"outlinewidth\":0,\"ticks\":\"\"},\"colorscale\":[[0.0,\"#0d0887\"],[0.1111111111111111,\"#46039f\"],[0.2222222222222222,\"#7201a8\"],[0.3333333333333333,\"#9c179e\"],[0.4444444444444444,\"#bd3786\"],[0.5555555555555556,\"#d8576b\"],[0.6666666666666666,\"#ed7953\"],[0.7777777777777778,\"#fb9f3a\"],[0.8888888888888888,\"#fdca26\"],[1.0,\"#f0f921\"]],\"type\":\"contour\"}],\"heatmapgl\":[{\"colorbar\":{\"outlinewidth\":0,\"ticks\":\"\"},\"colorscale\":[[0.0,\"#0d0887\"],[0.1111111111111111,\"#46039f\"],[0.2222222222222222,\"#7201a8\"],[0.3333333333333333,\"#9c179e\"],[0.4444444444444444,\"#bd3786\"],[0.5555555555555556,\"#d8576b\"],[0.6666666666666666,\"#ed7953\"],[0.7777777777777778,\"#fb9f3a\"],[0.8888888888888888,\"#fdca26\"],[1.0,\"#f0f921\"]],\"type\":\"heatmapgl\"}],\"heatmap\":[{\"colorbar\":{\"outlinewidth\":0,\"ticks\":\"\"},\"colorscale\":[[0.0,\"#0d0887\"],[0.1111111111111111,\"#46039f\"],[0.2222222222222222,\"#7201a8\"],[0.3333333333333333,\"#9c179e\"],[0.4444444444444444,\"#bd3786\"],[0.5555555555555556,\"#d8576b\"],[0.6666666666666666,\"#ed7953\"],[0.7777777777777778,\"#fb9f3a\"],[0.8888888888888888,\"#fdca26\"],[1.0,\"#f0f921\"]],\"type\":\"heatmap\"}],\"histogram2dcontour\":[{\"colorbar\":{\"outlinewidth\":0,\"ticks\":\"\"},\"colorscale\":[[0.0,\"#0d0887\"],[0.1111111111111111,\"#46039f\"],[0.2222222222222222,\"#7201a8\"],[0.3333333333333333,\"#9c179e\"],[0.4444444444444444,\"#bd3786\"],[0.5555555555555556,\"#d8576b\"],[0.6666666666666666,\"#ed7953\"],[0.7777777777777778,\"#fb9f3a\"],[0.8888888888888888,\"#fdca26\"],[1.0,\"#f0f921\"]],\"type\":\"histogram2dcontour\"}],\"histogram2d\":[{\"colorbar\":{\"outlinewidth\":0,\"ticks\":\"\"},\"colorscale\":[[0.0,\"#0d0887\"],[0.1111111111111111,\"#46039f\"],[0.2222222222222222,\"#7201a8\"],[0.3333333333333333,\"#9c179e\"],[0.4444444444444444,\"#bd3786\"],[0.5555555555555556,\"#d8576b\"],[0.6666666666666666,\"#ed7953\"],[0.7777777777777778,\"#fb9f3a\"],[0.8888888888888888,\"#fdca26\"],[1.0,\"#f0f921\"]],\"type\":\"histogram2d\"}],\"histogram\":[{\"marker\":{\"pattern\":{\"fillmode\":\"overlay\",\"size\":10,\"solidity\":0.2}},\"type\":\"histogram\"}],\"mesh3d\":[{\"colorbar\":{\"outlinewidth\":0,\"ticks\":\"\"},\"type\":\"mesh3d\"}],\"parcoords\":[{\"line\":{\"colorbar\":{\"outlinewidth\":0,\"ticks\":\"\"}},\"type\":\"parcoords\"}],\"pie\":[{\"automargin\":true,\"type\":\"pie\"}],\"scatter3d\":[{\"line\":{\"colorbar\":{\"outlinewidth\":0,\"ticks\":\"\"}},\"marker\":{\"colorbar\":{\"outlinewidth\":0,\"ticks\":\"\"}},\"type\":\"scatter3d\"}],\"scattercarpet\":[{\"marker\":{\"colorbar\":{\"outlinewidth\":0,\"ticks\":\"\"}},\"type\":\"scattercarpet\"}],\"scattergeo\":[{\"marker\":{\"colorbar\":{\"outlinewidth\":0,\"ticks\":\"\"}},\"type\":\"scattergeo\"}],\"scattergl\":[{\"marker\":{\"line\":{\"color\":\"#283442\"}},\"type\":\"scattergl\"}],\"scattermapbox\":[{\"marker\":{\"colorbar\":{\"outlinewidth\":0,\"ticks\":\"\"}},\"type\":\"scattermapbox\"}],\"scatterpolargl\":[{\"marker\":{\"colorbar\":{\"outlinewidth\":0,\"ticks\":\"\"}},\"type\":\"scatterpolargl\"}],\"scatterpolar\":[{\"marker\":{\"colorbar\":{\"outlinewidth\":0,\"ticks\":\"\"}},\"type\":\"scatterpolar\"}],\"scatter\":[{\"marker\":{\"line\":{\"color\":\"#283442\"}},\"type\":\"scatter\"}],\"scatterternary\":[{\"marker\":{\"colorbar\":{\"outlinewidth\":0,\"ticks\":\"\"}},\"type\":\"scatterternary\"}],\"surface\":[{\"colorbar\":{\"outlinewidth\":0,\"ticks\":\"\"},\"colorscale\":[[0.0,\"#0d0887\"],[0.1111111111111111,\"#46039f\"],[0.2222222222222222,\"#7201a8\"],[0.3333333333333333,\"#9c179e\"],[0.4444444444444444,\"#bd3786\"],[0.5555555555555556,\"#d8576b\"],[0.6666666666666666,\"#ed7953\"],[0.7777777777777778,\"#fb9f3a\"],[0.8888888888888888,\"#fdca26\"],[1.0,\"#f0f921\"]],\"type\":\"surface\"}],\"table\":[{\"cells\":{\"fill\":{\"color\":\"#506784\"},\"line\":{\"color\":\"rgb(17,17,17)\"}},\"header\":{\"fill\":{\"color\":\"#2a3f5f\"},\"line\":{\"color\":\"rgb(17,17,17)\"}},\"type\":\"table\"}]},\"layout\":{\"annotationdefaults\":{\"arrowcolor\":\"#f2f5fa\",\"arrowhead\":0,\"arrowwidth\":1},\"autotypenumbers\":\"strict\",\"coloraxis\":{\"colorbar\":{\"outlinewidth\":0,\"ticks\":\"\"}},\"colorscale\":{\"diverging\":[[0,\"#8e0152\"],[0.1,\"#c51b7d\"],[0.2,\"#de77ae\"],[0.3,\"#f1b6da\"],[0.4,\"#fde0ef\"],[0.5,\"#f7f7f7\"],[0.6,\"#e6f5d0\"],[0.7,\"#b8e186\"],[0.8,\"#7fbc41\"],[0.9,\"#4d9221\"],[1,\"#276419\"]],\"sequential\":[[0.0,\"#0d0887\"],[0.1111111111111111,\"#46039f\"],[0.2222222222222222,\"#7201a8\"],[0.3333333333333333,\"#9c179e\"],[0.4444444444444444,\"#bd3786\"],[0.5555555555555556,\"#d8576b\"],[0.6666666666666666,\"#ed7953\"],[0.7777777777777778,\"#fb9f3a\"],[0.8888888888888888,\"#fdca26\"],[1.0,\"#f0f921\"]],\"sequentialminus\":[[0.0,\"#0d0887\"],[0.1111111111111111,\"#46039f\"],[0.2222222222222222,\"#7201a8\"],[0.3333333333333333,\"#9c179e\"],[0.4444444444444444,\"#bd3786\"],[0.5555555555555556,\"#d8576b\"],[0.6666666666666666,\"#ed7953\"],[0.7777777777777778,\"#fb9f3a\"],[0.8888888888888888,\"#fdca26\"],[1.0,\"#f0f921\"]]},\"colorway\":[\"#636efa\",\"#EF553B\",\"#00cc96\",\"#ab63fa\",\"#FFA15A\",\"#19d3f3\",\"#FF6692\",\"#B6E880\",\"#FF97FF\",\"#FECB52\"],\"font\":{\"color\":\"#f2f5fa\"},\"geo\":{\"bgcolor\":\"rgb(17,17,17)\",\"lakecolor\":\"rgb(17,17,17)\",\"landcolor\":\"rgb(17,17,17)\",\"showlakes\":true,\"showland\":true,\"subunitcolor\":\"#506784\"},\"hoverlabel\":{\"align\":\"left\"},\"hovermode\":\"closest\",\"mapbox\":{\"style\":\"dark\"},\"paper_bgcolor\":\"rgb(17,17,17)\",\"plot_bgcolor\":\"rgb(17,17,17)\",\"polar\":{\"angularaxis\":{\"gridcolor\":\"#506784\",\"linecolor\":\"#506784\",\"ticks\":\"\"},\"bgcolor\":\"rgb(17,17,17)\",\"radialaxis\":{\"gridcolor\":\"#506784\",\"linecolor\":\"#506784\",\"ticks\":\"\"}},\"scene\":{\"xaxis\":{\"backgroundcolor\":\"rgb(17,17,17)\",\"gridcolor\":\"#506784\",\"gridwidth\":2,\"linecolor\":\"#506784\",\"showbackground\":true,\"ticks\":\"\",\"zerolinecolor\":\"#C8D4E3\"},\"yaxis\":{\"backgroundcolor\":\"rgb(17,17,17)\",\"gridcolor\":\"#506784\",\"gridwidth\":2,\"linecolor\":\"#506784\",\"showbackground\":true,\"ticks\":\"\",\"zerolinecolor\":\"#C8D4E3\"},\"zaxis\":{\"backgroundcolor\":\"rgb(17,17,17)\",\"gridcolor\":\"#506784\",\"gridwidth\":2,\"linecolor\":\"#506784\",\"showbackground\":true,\"ticks\":\"\",\"zerolinecolor\":\"#C8D4E3\"}},\"shapedefaults\":{\"line\":{\"color\":\"#f2f5fa\"}},\"sliderdefaults\":{\"bgcolor\":\"#C8D4E3\",\"bordercolor\":\"rgb(17,17,17)\",\"borderwidth\":1,\"tickwidth\":0},\"ternary\":{\"aaxis\":{\"gridcolor\":\"#506784\",\"linecolor\":\"#506784\",\"ticks\":\"\"},\"baxis\":{\"gridcolor\":\"#506784\",\"linecolor\":\"#506784\",\"ticks\":\"\"},\"bgcolor\":\"rgb(17,17,17)\",\"caxis\":{\"gridcolor\":\"#506784\",\"linecolor\":\"#506784\",\"ticks\":\"\"}},\"title\":{\"x\":0.05},\"updatemenudefaults\":{\"bgcolor\":\"#506784\",\"borderwidth\":0},\"xaxis\":{\"automargin\":true,\"gridcolor\":\"#283442\",\"linecolor\":\"#506784\",\"ticks\":\"\",\"title\":{\"standoff\":15},\"zerolinecolor\":\"#283442\",\"zerolinewidth\":2},\"yaxis\":{\"automargin\":true,\"gridcolor\":\"#283442\",\"linecolor\":\"#506784\",\"ticks\":\"\",\"title\":{\"standoff\":15},\"zerolinecolor\":\"#283442\",\"zerolinewidth\":2}}}},                        {\"responsive\": true}                    ).then(function(){\n                            \nvar gd = document.getElementById('9ab7f190-364c-451f-ae67-7aecb49d0b1a');\nvar x = new MutationObserver(function (mutations, observer) {{\n        var display = window.getComputedStyle(gd).display;\n        if (!display || display === 'none') {{\n            console.log([gd, 'removed!']);\n            Plotly.purge(gd);\n            observer.disconnect();\n        }}\n}});\n\n// Listen for the removal of the full notebook cells\nvar notebookContainer = gd.closest('#notebook-container');\nif (notebookContainer) {{\n    x.observe(notebookContainer, {childList: true});\n}}\n\n// Listen for the clearing of the current output cell\nvar outputEl = gd.closest('.output');\nif (outputEl) {{\n    x.observe(outputEl, {childList: true});\n}}\n\n                        })                };                });            </script>        </div>"
     },
     "metadata": {},
     "output_type": "display_data"
    }
   ],
   "source": [
    "brn.chart.init()\n",
    "brn.chart.price.time_values([df_time_value_strike, df_time_value_atm], [f'Strike cur ATM {atm_strike}', 'ATM'])\n",
    "brn.chart.show()"
   ],
   "metadata": {
    "collapsed": false
   }
  },
  {
   "cell_type": "markdown",
   "id": "3a293c1b-8c08-42bd-b75f-d5d328ab2652",
   "metadata": {},
   "source": [
    "## Non-linearity of options"
   ]
  },
  {
   "cell_type": "code",
   "execution_count": 28,
   "id": "9629a5c6-a150-4ecf-8faa-aae8023dba4c",
   "metadata": {},
   "outputs": [
    {
     "data": {
      "text/plain": "(np.float64(69.0), np.float64(80.25))"
     },
     "execution_count": 28,
     "metadata": {},
     "output_type": "execute_result"
    }
   ],
   "source": [
    "strikes = brn.chain.get_atm_nearest_strikes()\n",
    "strike_start = sorted(filter(lambda x: x <= atm_strike * 0.95, strikes))[-1]\n",
    "strike_end = sorted(filter(lambda x: x >= atm_strike * 1.1, strikes))[0]\n",
    "strike_start, strike_end"
   ]
  },
  {
   "cell_type": "code",
   "execution_count": 29,
   "outputs": [
    {
     "data": {
      "text/plain": "        risk_pnl\nstrike          \n69.00      -3.63\n69.25      -3.38",
      "text/html": "<div>\n<style scoped>\n    .dataframe tbody tr th:only-of-type {\n        vertical-align: middle;\n    }\n\n    .dataframe tbody tr th {\n        vertical-align: top;\n    }\n\n    .dataframe thead th {\n        text-align: right;\n    }\n</style>\n<table border=\"1\" class=\"dataframe\">\n  <thead>\n    <tr style=\"text-align: right;\">\n      <th></th>\n      <th>risk_pnl</th>\n    </tr>\n    <tr>\n      <th>strike</th>\n      <th></th>\n    </tr>\n  </thead>\n  <tbody>\n    <tr>\n      <th>69.00</th>\n      <td>-3.63</td>\n    </tr>\n    <tr>\n      <th>69.25</th>\n      <td>-3.38</td>\n    </tr>\n  </tbody>\n</table>\n</div>"
     },
     "execution_count": 29,
     "metadata": {},
     "output_type": "execute_result"
    }
   ],
   "source": [
    "fut_legs = [OptionLeg(strike=0, lots=1, type=LegType.FUTURE)]\n",
    "fut_risk_profile, fut_risk_legs_pnl = brn.analytic.risk.chain_risk_profile(fut_legs)\n",
    "fut_risk_profile = fut_risk_profile.loc[strike_start:strike_end]\n",
    "fut_risk_profile.head(2)"
   ],
   "metadata": {
    "collapsed": false
   }
  },
  {
   "cell_type": "code",
   "execution_count": 30,
   "outputs": [
    {
     "data": {
      "text/plain": "        risk_pnl\nstrike          \n69.00      -0.53\n69.25      -0.53",
      "text/html": "<div>\n<style scoped>\n    .dataframe tbody tr th:only-of-type {\n        vertical-align: middle;\n    }\n\n    .dataframe tbody tr th {\n        vertical-align: top;\n    }\n\n    .dataframe thead th {\n        text-align: right;\n    }\n</style>\n<table border=\"1\" class=\"dataframe\">\n  <thead>\n    <tr style=\"text-align: right;\">\n      <th></th>\n      <th>risk_pnl</th>\n    </tr>\n    <tr>\n      <th>strike</th>\n      <th></th>\n    </tr>\n  </thead>\n  <tbody>\n    <tr>\n      <th>69.00</th>\n      <td>-0.53</td>\n    </tr>\n    <tr>\n      <th>69.25</th>\n      <td>-0.53</td>\n    </tr>\n  </tbody>\n</table>\n</div>"
     },
     "execution_count": 30,
     "metadata": {},
     "output_type": "execute_result"
    }
   ],
   "source": [
    "call_legs = [OptionLeg(strike=atm_strike, lots=1, type=LegType.OPTION_CALL)]\n",
    "call_risk_profile, call_risk_legs_pnl = brn.analytic.risk.chain_risk_profile(call_legs)\n",
    "call_risk_profile=call_risk_profile.loc[strike_start:strike_end]\n",
    "call_risk_profile.head(2)"
   ],
   "metadata": {
    "collapsed": false
   }
  },
  {
   "cell_type": "code",
   "execution_count": 31,
   "outputs": [
    {
     "data": {
      "text/plain": "        risk_pnl\nstrike          \n69.00      -0.07\n69.25      -0.07",
      "text/html": "<div>\n<style scoped>\n    .dataframe tbody tr th:only-of-type {\n        vertical-align: middle;\n    }\n\n    .dataframe tbody tr th {\n        vertical-align: top;\n    }\n\n    .dataframe thead th {\n        text-align: right;\n    }\n</style>\n<table border=\"1\" class=\"dataframe\">\n  <thead>\n    <tr style=\"text-align: right;\">\n      <th></th>\n      <th>risk_pnl</th>\n    </tr>\n    <tr>\n      <th>strike</th>\n      <th></th>\n    </tr>\n  </thead>\n  <tbody>\n    <tr>\n      <th>69.00</th>\n      <td>-0.07</td>\n    </tr>\n    <tr>\n      <th>69.25</th>\n      <td>-0.07</td>\n    </tr>\n  </tbody>\n</table>\n</div>"
     },
     "execution_count": 31,
     "metadata": {},
     "output_type": "execute_result"
    }
   ],
   "source": [
    "call_legs_1 = [OptionLeg(strike=strikes[15], lots=1, type=LegType.OPTION_CALL)]\n",
    "call_risk_profile_1, _ = brn.analytic.risk.chain_risk_profile(call_legs_1)\n",
    "call_risk_profile_1=call_risk_profile_1.loc[strike_start:strike_end]\n",
    "call_risk_profile_1.head(2)"
   ],
   "metadata": {
    "collapsed": false
   }
  },
  {
   "cell_type": "markdown",
   "source": [],
   "metadata": {
    "collapsed": false
   }
  },
  {
   "cell_type": "code",
   "execution_count": 28,
   "id": "0c56e063-ee5a-43e8-9645-b866550e27c3",
   "metadata": {},
   "outputs": [
    {
     "data": {
      "application/vnd.plotly.v1+json": {
       "data": [
        {
         "mode": "lines",
         "name": "fut",
         "x": [
          69.0,
          69.25,
          69.5,
          69.75,
          70.0,
          70.25,
          70.5,
          70.75,
          71.0,
          71.25,
          71.5,
          71.75,
          72.0,
          72.25,
          72.5,
          72.75,
          73.0,
          73.25,
          73.5,
          73.75,
          74.0,
          74.25,
          74.4,
          74.5,
          74.75,
          75.0,
          75.2,
          75.25,
          75.5,
          75.75,
          76.0,
          76.25,
          76.5,
          76.75,
          77.0,
          77.25,
          77.5,
          77.75,
          78.0,
          78.25,
          78.5,
          78.75,
          79.0,
          79.25,
          79.5,
          79.75,
          80.0,
          80.25
         ],
         "y": [
          -3.6299999999999955,
          -3.3799999999999955,
          -3.1299999999999955,
          -2.8799999999999955,
          -2.6299999999999955,
          -2.3799999999999955,
          -2.1299999999999955,
          -1.8799999999999955,
          -1.6299999999999955,
          -1.3799999999999955,
          -1.1299999999999955,
          -0.8799999999999955,
          -0.6299999999999955,
          -0.37999999999999545,
          -0.12999999999999545,
          0.12000000000000455,
          0.37000000000000455,
          0.6200000000000045,
          0.8700000000000045,
          1.1200000000000045,
          1.3700000000000045,
          1.6200000000000045,
          1.7700000000000102,
          1.8700000000000045,
          2.1200000000000045,
          2.3700000000000045,
          2.5700000000000074,
          2.6200000000000045,
          2.8700000000000045,
          3.1200000000000045,
          3.3700000000000045,
          3.6200000000000045,
          3.8700000000000045,
          4.1200000000000045,
          4.3700000000000045,
          4.6200000000000045,
          4.8700000000000045,
          5.1200000000000045,
          5.3700000000000045,
          5.6200000000000045,
          5.8700000000000045,
          6.1200000000000045,
          6.3700000000000045,
          6.6200000000000045,
          6.8700000000000045,
          7.1200000000000045,
          7.3700000000000045,
          7.6200000000000045
         ],
         "type": "scatter"
        },
        {
         "mode": "lines",
         "name": "call atm 72.75",
         "x": [
          69.0,
          69.25,
          69.5,
          69.75,
          70.0,
          70.25,
          70.5,
          70.75,
          71.0,
          71.25,
          71.5,
          71.75,
          72.0,
          72.25,
          72.5,
          72.75,
          73.0,
          73.25,
          73.5,
          73.75,
          74.0,
          74.25,
          74.4,
          74.5,
          74.75,
          75.0,
          75.2,
          75.25,
          75.5,
          75.75,
          76.0,
          76.25,
          76.5,
          76.75,
          77.0,
          77.25,
          77.5,
          77.75,
          78.0,
          78.25,
          78.5,
          78.75,
          79.0,
          79.25,
          79.5,
          79.75,
          80.0,
          80.25
         ],
         "y": [
          -0.5299999713897705,
          -0.5299999713897705,
          -0.5299999713897705,
          -0.5299999713897705,
          -0.5299999713897705,
          -0.5299999713897705,
          -0.5299999713897705,
          -0.5299999713897705,
          -0.5299999713897705,
          -0.5299999713897705,
          -0.5299999713897705,
          -0.5299999713897705,
          -0.5299999713897705,
          -0.5299999713897705,
          -0.5299999713897705,
          -0.40999997138976596,
          -0.15999997138976596,
          0.09000002861023404,
          0.34000002861023404,
          0.590000028610234,
          0.840000028610234,
          1.090000028610234,
          1.2400000286102397,
          1.340000028610234,
          1.590000028610234,
          1.840000028610234,
          2.040000028610237,
          2.090000028610234,
          2.340000028610234,
          2.590000028610234,
          2.840000028610234,
          3.090000028610234,
          3.340000028610234,
          3.590000028610234,
          3.840000028610234,
          4.090000028610234,
          4.340000028610234,
          4.590000028610234,
          4.840000028610234,
          5.090000028610234,
          5.340000028610234,
          5.590000028610234,
          5.840000028610234,
          6.090000028610234,
          6.340000028610234,
          6.590000028610234,
          6.840000028610234,
          7.090000028610234
         ],
         "type": "scatter"
        },
        {
         "mode": "lines",
         "name": "call 74.5",
         "x": [
          69.0,
          69.25,
          69.5,
          69.75,
          70.0,
          70.25,
          70.5,
          70.75,
          71.0,
          71.25,
          71.5,
          71.75,
          72.0,
          72.25,
          72.5,
          72.75,
          73.0,
          73.25,
          73.5,
          73.75,
          74.0,
          74.25,
          74.4,
          74.5,
          74.75,
          75.0,
          75.2,
          75.25,
          75.5,
          75.75,
          76.0,
          76.25,
          76.5,
          76.75,
          77.0,
          77.25,
          77.5,
          77.75,
          78.0,
          78.25,
          78.5,
          78.75,
          79.0,
          79.25,
          79.5,
          79.75,
          80.0,
          80.25
         ],
         "y": [
          -0.07000000029802322,
          -0.07000000029802322,
          -0.07000000029802322,
          -0.07000000029802322,
          -0.07000000029802322,
          -0.07000000029802322,
          -0.07000000029802322,
          -0.07000000029802322,
          -0.07000000029802322,
          -0.07000000029802322,
          -0.07000000029802322,
          -0.07000000029802322,
          -0.07000000029802322,
          -0.07000000029802322,
          -0.07000000029802322,
          0.049999999701981324,
          0.2999999997019813,
          0.5499999997019813,
          0.7999999997019813,
          1.0499999997019813,
          1.2999999997019813,
          1.5499999997019813,
          1.699999999701987,
          1.7999999997019813,
          2.0499999997019813,
          2.2999999997019813,
          2.499999999701984,
          2.5499999997019813,
          2.7999999997019813,
          3.0499999997019813,
          3.2999999997019813,
          3.5499999997019813,
          3.7999999997019813,
          4.049999999701981,
          4.299999999701981,
          4.549999999701981,
          4.799999999701981,
          5.049999999701981,
          5.299999999701981,
          5.549999999701981,
          5.799999999701981,
          6.049999999701981,
          6.299999999701981,
          6.549999999701981,
          6.799999999701981,
          7.049999999701981,
          7.299999999701981,
          7.549999999701981
         ],
         "type": "scatter"
        }
       ],
       "layout": {
        "template": {
         "data": {
          "barpolar": [
           {
            "marker": {
             "line": {
              "color": "rgb(17,17,17)",
              "width": 0.5
             },
             "pattern": {
              "fillmode": "overlay",
              "size": 10,
              "solidity": 0.2
             }
            },
            "type": "barpolar"
           }
          ],
          "bar": [
           {
            "error_x": {
             "color": "#f2f5fa"
            },
            "error_y": {
             "color": "#f2f5fa"
            },
            "marker": {
             "line": {
              "color": "rgb(17,17,17)",
              "width": 0.5
             },
             "pattern": {
              "fillmode": "overlay",
              "size": 10,
              "solidity": 0.2
             }
            },
            "type": "bar"
           }
          ],
          "carpet": [
           {
            "aaxis": {
             "endlinecolor": "#A2B1C6",
             "gridcolor": "#506784",
             "linecolor": "#506784",
             "minorgridcolor": "#506784",
             "startlinecolor": "#A2B1C6"
            },
            "baxis": {
             "endlinecolor": "#A2B1C6",
             "gridcolor": "#506784",
             "linecolor": "#506784",
             "minorgridcolor": "#506784",
             "startlinecolor": "#A2B1C6"
            },
            "type": "carpet"
           }
          ],
          "choropleth": [
           {
            "colorbar": {
             "outlinewidth": 0,
             "ticks": ""
            },
            "type": "choropleth"
           }
          ],
          "contourcarpet": [
           {
            "colorbar": {
             "outlinewidth": 0,
             "ticks": ""
            },
            "type": "contourcarpet"
           }
          ],
          "contour": [
           {
            "colorbar": {
             "outlinewidth": 0,
             "ticks": ""
            },
            "colorscale": [
             [
              0.0,
              "#0d0887"
             ],
             [
              0.1111111111111111,
              "#46039f"
             ],
             [
              0.2222222222222222,
              "#7201a8"
             ],
             [
              0.3333333333333333,
              "#9c179e"
             ],
             [
              0.4444444444444444,
              "#bd3786"
             ],
             [
              0.5555555555555556,
              "#d8576b"
             ],
             [
              0.6666666666666666,
              "#ed7953"
             ],
             [
              0.7777777777777778,
              "#fb9f3a"
             ],
             [
              0.8888888888888888,
              "#fdca26"
             ],
             [
              1.0,
              "#f0f921"
             ]
            ],
            "type": "contour"
           }
          ],
          "heatmapgl": [
           {
            "colorbar": {
             "outlinewidth": 0,
             "ticks": ""
            },
            "colorscale": [
             [
              0.0,
              "#0d0887"
             ],
             [
              0.1111111111111111,
              "#46039f"
             ],
             [
              0.2222222222222222,
              "#7201a8"
             ],
             [
              0.3333333333333333,
              "#9c179e"
             ],
             [
              0.4444444444444444,
              "#bd3786"
             ],
             [
              0.5555555555555556,
              "#d8576b"
             ],
             [
              0.6666666666666666,
              "#ed7953"
             ],
             [
              0.7777777777777778,
              "#fb9f3a"
             ],
             [
              0.8888888888888888,
              "#fdca26"
             ],
             [
              1.0,
              "#f0f921"
             ]
            ],
            "type": "heatmapgl"
           }
          ],
          "heatmap": [
           {
            "colorbar": {
             "outlinewidth": 0,
             "ticks": ""
            },
            "colorscale": [
             [
              0.0,
              "#0d0887"
             ],
             [
              0.1111111111111111,
              "#46039f"
             ],
             [
              0.2222222222222222,
              "#7201a8"
             ],
             [
              0.3333333333333333,
              "#9c179e"
             ],
             [
              0.4444444444444444,
              "#bd3786"
             ],
             [
              0.5555555555555556,
              "#d8576b"
             ],
             [
              0.6666666666666666,
              "#ed7953"
             ],
             [
              0.7777777777777778,
              "#fb9f3a"
             ],
             [
              0.8888888888888888,
              "#fdca26"
             ],
             [
              1.0,
              "#f0f921"
             ]
            ],
            "type": "heatmap"
           }
          ],
          "histogram2dcontour": [
           {
            "colorbar": {
             "outlinewidth": 0,
             "ticks": ""
            },
            "colorscale": [
             [
              0.0,
              "#0d0887"
             ],
             [
              0.1111111111111111,
              "#46039f"
             ],
             [
              0.2222222222222222,
              "#7201a8"
             ],
             [
              0.3333333333333333,
              "#9c179e"
             ],
             [
              0.4444444444444444,
              "#bd3786"
             ],
             [
              0.5555555555555556,
              "#d8576b"
             ],
             [
              0.6666666666666666,
              "#ed7953"
             ],
             [
              0.7777777777777778,
              "#fb9f3a"
             ],
             [
              0.8888888888888888,
              "#fdca26"
             ],
             [
              1.0,
              "#f0f921"
             ]
            ],
            "type": "histogram2dcontour"
           }
          ],
          "histogram2d": [
           {
            "colorbar": {
             "outlinewidth": 0,
             "ticks": ""
            },
            "colorscale": [
             [
              0.0,
              "#0d0887"
             ],
             [
              0.1111111111111111,
              "#46039f"
             ],
             [
              0.2222222222222222,
              "#7201a8"
             ],
             [
              0.3333333333333333,
              "#9c179e"
             ],
             [
              0.4444444444444444,
              "#bd3786"
             ],
             [
              0.5555555555555556,
              "#d8576b"
             ],
             [
              0.6666666666666666,
              "#ed7953"
             ],
             [
              0.7777777777777778,
              "#fb9f3a"
             ],
             [
              0.8888888888888888,
              "#fdca26"
             ],
             [
              1.0,
              "#f0f921"
             ]
            ],
            "type": "histogram2d"
           }
          ],
          "histogram": [
           {
            "marker": {
             "pattern": {
              "fillmode": "overlay",
              "size": 10,
              "solidity": 0.2
             }
            },
            "type": "histogram"
           }
          ],
          "mesh3d": [
           {
            "colorbar": {
             "outlinewidth": 0,
             "ticks": ""
            },
            "type": "mesh3d"
           }
          ],
          "parcoords": [
           {
            "line": {
             "colorbar": {
              "outlinewidth": 0,
              "ticks": ""
             }
            },
            "type": "parcoords"
           }
          ],
          "pie": [
           {
            "automargin": true,
            "type": "pie"
           }
          ],
          "scatter3d": [
           {
            "line": {
             "colorbar": {
              "outlinewidth": 0,
              "ticks": ""
             }
            },
            "marker": {
             "colorbar": {
              "outlinewidth": 0,
              "ticks": ""
             }
            },
            "type": "scatter3d"
           }
          ],
          "scattercarpet": [
           {
            "marker": {
             "colorbar": {
              "outlinewidth": 0,
              "ticks": ""
             }
            },
            "type": "scattercarpet"
           }
          ],
          "scattergeo": [
           {
            "marker": {
             "colorbar": {
              "outlinewidth": 0,
              "ticks": ""
             }
            },
            "type": "scattergeo"
           }
          ],
          "scattergl": [
           {
            "marker": {
             "line": {
              "color": "#283442"
             }
            },
            "type": "scattergl"
           }
          ],
          "scattermapbox": [
           {
            "marker": {
             "colorbar": {
              "outlinewidth": 0,
              "ticks": ""
             }
            },
            "type": "scattermapbox"
           }
          ],
          "scatterpolargl": [
           {
            "marker": {
             "colorbar": {
              "outlinewidth": 0,
              "ticks": ""
             }
            },
            "type": "scatterpolargl"
           }
          ],
          "scatterpolar": [
           {
            "marker": {
             "colorbar": {
              "outlinewidth": 0,
              "ticks": ""
             }
            },
            "type": "scatterpolar"
           }
          ],
          "scatter": [
           {
            "marker": {
             "line": {
              "color": "#283442"
             }
            },
            "type": "scatter"
           }
          ],
          "scatterternary": [
           {
            "marker": {
             "colorbar": {
              "outlinewidth": 0,
              "ticks": ""
             }
            },
            "type": "scatterternary"
           }
          ],
          "surface": [
           {
            "colorbar": {
             "outlinewidth": 0,
             "ticks": ""
            },
            "colorscale": [
             [
              0.0,
              "#0d0887"
             ],
             [
              0.1111111111111111,
              "#46039f"
             ],
             [
              0.2222222222222222,
              "#7201a8"
             ],
             [
              0.3333333333333333,
              "#9c179e"
             ],
             [
              0.4444444444444444,
              "#bd3786"
             ],
             [
              0.5555555555555556,
              "#d8576b"
             ],
             [
              0.6666666666666666,
              "#ed7953"
             ],
             [
              0.7777777777777778,
              "#fb9f3a"
             ],
             [
              0.8888888888888888,
              "#fdca26"
             ],
             [
              1.0,
              "#f0f921"
             ]
            ],
            "type": "surface"
           }
          ],
          "table": [
           {
            "cells": {
             "fill": {
              "color": "#506784"
             },
             "line": {
              "color": "rgb(17,17,17)"
             }
            },
            "header": {
             "fill": {
              "color": "#2a3f5f"
             },
             "line": {
              "color": "rgb(17,17,17)"
             }
            },
            "type": "table"
           }
          ]
         },
         "layout": {
          "annotationdefaults": {
           "arrowcolor": "#f2f5fa",
           "arrowhead": 0,
           "arrowwidth": 1
          },
          "autotypenumbers": "strict",
          "coloraxis": {
           "colorbar": {
            "outlinewidth": 0,
            "ticks": ""
           }
          },
          "colorscale": {
           "diverging": [
            [
             0,
             "#8e0152"
            ],
            [
             0.1,
             "#c51b7d"
            ],
            [
             0.2,
             "#de77ae"
            ],
            [
             0.3,
             "#f1b6da"
            ],
            [
             0.4,
             "#fde0ef"
            ],
            [
             0.5,
             "#f7f7f7"
            ],
            [
             0.6,
             "#e6f5d0"
            ],
            [
             0.7,
             "#b8e186"
            ],
            [
             0.8,
             "#7fbc41"
            ],
            [
             0.9,
             "#4d9221"
            ],
            [
             1,
             "#276419"
            ]
           ],
           "sequential": [
            [
             0.0,
             "#0d0887"
            ],
            [
             0.1111111111111111,
             "#46039f"
            ],
            [
             0.2222222222222222,
             "#7201a8"
            ],
            [
             0.3333333333333333,
             "#9c179e"
            ],
            [
             0.4444444444444444,
             "#bd3786"
            ],
            [
             0.5555555555555556,
             "#d8576b"
            ],
            [
             0.6666666666666666,
             "#ed7953"
            ],
            [
             0.7777777777777778,
             "#fb9f3a"
            ],
            [
             0.8888888888888888,
             "#fdca26"
            ],
            [
             1.0,
             "#f0f921"
            ]
           ],
           "sequentialminus": [
            [
             0.0,
             "#0d0887"
            ],
            [
             0.1111111111111111,
             "#46039f"
            ],
            [
             0.2222222222222222,
             "#7201a8"
            ],
            [
             0.3333333333333333,
             "#9c179e"
            ],
            [
             0.4444444444444444,
             "#bd3786"
            ],
            [
             0.5555555555555556,
             "#d8576b"
            ],
            [
             0.6666666666666666,
             "#ed7953"
            ],
            [
             0.7777777777777778,
             "#fb9f3a"
            ],
            [
             0.8888888888888888,
             "#fdca26"
            ],
            [
             1.0,
             "#f0f921"
            ]
           ]
          },
          "colorway": [
           "#636efa",
           "#EF553B",
           "#00cc96",
           "#ab63fa",
           "#FFA15A",
           "#19d3f3",
           "#FF6692",
           "#B6E880",
           "#FF97FF",
           "#FECB52"
          ],
          "font": {
           "color": "#f2f5fa"
          },
          "geo": {
           "bgcolor": "rgb(17,17,17)",
           "lakecolor": "rgb(17,17,17)",
           "landcolor": "rgb(17,17,17)",
           "showlakes": true,
           "showland": true,
           "subunitcolor": "#506784"
          },
          "hoverlabel": {
           "align": "left"
          },
          "hovermode": "closest",
          "mapbox": {
           "style": "dark"
          },
          "paper_bgcolor": "rgb(17,17,17)",
          "plot_bgcolor": "rgb(17,17,17)",
          "polar": {
           "angularaxis": {
            "gridcolor": "#506784",
            "linecolor": "#506784",
            "ticks": ""
           },
           "bgcolor": "rgb(17,17,17)",
           "radialaxis": {
            "gridcolor": "#506784",
            "linecolor": "#506784",
            "ticks": ""
           }
          },
          "scene": {
           "xaxis": {
            "backgroundcolor": "rgb(17,17,17)",
            "gridcolor": "#506784",
            "gridwidth": 2,
            "linecolor": "#506784",
            "showbackground": true,
            "ticks": "",
            "zerolinecolor": "#C8D4E3"
           },
           "yaxis": {
            "backgroundcolor": "rgb(17,17,17)",
            "gridcolor": "#506784",
            "gridwidth": 2,
            "linecolor": "#506784",
            "showbackground": true,
            "ticks": "",
            "zerolinecolor": "#C8D4E3"
           },
           "zaxis": {
            "backgroundcolor": "rgb(17,17,17)",
            "gridcolor": "#506784",
            "gridwidth": 2,
            "linecolor": "#506784",
            "showbackground": true,
            "ticks": "",
            "zerolinecolor": "#C8D4E3"
           }
          },
          "shapedefaults": {
           "line": {
            "color": "#f2f5fa"
           }
          },
          "sliderdefaults": {
           "bgcolor": "#C8D4E3",
           "bordercolor": "rgb(17,17,17)",
           "borderwidth": 1,
           "tickwidth": 0
          },
          "ternary": {
           "aaxis": {
            "gridcolor": "#506784",
            "linecolor": "#506784",
            "ticks": ""
           },
           "baxis": {
            "gridcolor": "#506784",
            "linecolor": "#506784",
            "ticks": ""
           },
           "bgcolor": "rgb(17,17,17)",
           "caxis": {
            "gridcolor": "#506784",
            "linecolor": "#506784",
            "ticks": ""
           }
          },
          "title": {
           "x": 0.05
          },
          "updatemenudefaults": {
           "bgcolor": "#506784",
           "borderwidth": 0
          },
          "xaxis": {
           "automargin": true,
           "gridcolor": "#283442",
           "linecolor": "#506784",
           "ticks": "",
           "title": {
            "standoff": 15
           },
           "zerolinecolor": "#283442",
           "zerolinewidth": 2
          },
          "yaxis": {
           "automargin": true,
           "gridcolor": "#283442",
           "linecolor": "#506784",
           "ticks": "",
           "title": {
            "standoff": 15
           },
           "zerolinecolor": "#283442",
           "zerolinewidth": 2
          }
         }
        }
       },
       "config": {
        "showLink": false,
        "linkText": "Export to plot.ly",
        "plotlyServerURL": "https://plot.ly"
       }
      },
      "text/html": "<div>                            <div id=\"ee1549bf-a552-49e9-9db0-271f4d1fb3c1\" class=\"plotly-graph-div\" style=\"height:525px; width:100%;\"></div>            <script type=\"text/javascript\">                require([\"plotly\"], function(Plotly) {                    window.PLOTLYENV=window.PLOTLYENV || {};                                    if (document.getElementById(\"ee1549bf-a552-49e9-9db0-271f4d1fb3c1\")) {                    Plotly.newPlot(                        \"ee1549bf-a552-49e9-9db0-271f4d1fb3c1\",                        [{\"mode\":\"lines\",\"name\":\"fut\",\"x\":[69.0,69.25,69.5,69.75,70.0,70.25,70.5,70.75,71.0,71.25,71.5,71.75,72.0,72.25,72.5,72.75,73.0,73.25,73.5,73.75,74.0,74.25,74.4,74.5,74.75,75.0,75.2,75.25,75.5,75.75,76.0,76.25,76.5,76.75,77.0,77.25,77.5,77.75,78.0,78.25,78.5,78.75,79.0,79.25,79.5,79.75,80.0,80.25],\"y\":[-3.6299999999999955,-3.3799999999999955,-3.1299999999999955,-2.8799999999999955,-2.6299999999999955,-2.3799999999999955,-2.1299999999999955,-1.8799999999999955,-1.6299999999999955,-1.3799999999999955,-1.1299999999999955,-0.8799999999999955,-0.6299999999999955,-0.37999999999999545,-0.12999999999999545,0.12000000000000455,0.37000000000000455,0.6200000000000045,0.8700000000000045,1.1200000000000045,1.3700000000000045,1.6200000000000045,1.7700000000000102,1.8700000000000045,2.1200000000000045,2.3700000000000045,2.5700000000000074,2.6200000000000045,2.8700000000000045,3.1200000000000045,3.3700000000000045,3.6200000000000045,3.8700000000000045,4.1200000000000045,4.3700000000000045,4.6200000000000045,4.8700000000000045,5.1200000000000045,5.3700000000000045,5.6200000000000045,5.8700000000000045,6.1200000000000045,6.3700000000000045,6.6200000000000045,6.8700000000000045,7.1200000000000045,7.3700000000000045,7.6200000000000045],\"type\":\"scatter\"},{\"mode\":\"lines\",\"name\":\"call atm 72.75\",\"x\":[69.0,69.25,69.5,69.75,70.0,70.25,70.5,70.75,71.0,71.25,71.5,71.75,72.0,72.25,72.5,72.75,73.0,73.25,73.5,73.75,74.0,74.25,74.4,74.5,74.75,75.0,75.2,75.25,75.5,75.75,76.0,76.25,76.5,76.75,77.0,77.25,77.5,77.75,78.0,78.25,78.5,78.75,79.0,79.25,79.5,79.75,80.0,80.25],\"y\":[-0.5299999713897705,-0.5299999713897705,-0.5299999713897705,-0.5299999713897705,-0.5299999713897705,-0.5299999713897705,-0.5299999713897705,-0.5299999713897705,-0.5299999713897705,-0.5299999713897705,-0.5299999713897705,-0.5299999713897705,-0.5299999713897705,-0.5299999713897705,-0.5299999713897705,-0.40999997138976596,-0.15999997138976596,0.09000002861023404,0.34000002861023404,0.590000028610234,0.840000028610234,1.090000028610234,1.2400000286102397,1.340000028610234,1.590000028610234,1.840000028610234,2.040000028610237,2.090000028610234,2.340000028610234,2.590000028610234,2.840000028610234,3.090000028610234,3.340000028610234,3.590000028610234,3.840000028610234,4.090000028610234,4.340000028610234,4.590000028610234,4.840000028610234,5.090000028610234,5.340000028610234,5.590000028610234,5.840000028610234,6.090000028610234,6.340000028610234,6.590000028610234,6.840000028610234,7.090000028610234],\"type\":\"scatter\"},{\"mode\":\"lines\",\"name\":\"call 74.5\",\"x\":[69.0,69.25,69.5,69.75,70.0,70.25,70.5,70.75,71.0,71.25,71.5,71.75,72.0,72.25,72.5,72.75,73.0,73.25,73.5,73.75,74.0,74.25,74.4,74.5,74.75,75.0,75.2,75.25,75.5,75.75,76.0,76.25,76.5,76.75,77.0,77.25,77.5,77.75,78.0,78.25,78.5,78.75,79.0,79.25,79.5,79.75,80.0,80.25],\"y\":[-0.07000000029802322,-0.07000000029802322,-0.07000000029802322,-0.07000000029802322,-0.07000000029802322,-0.07000000029802322,-0.07000000029802322,-0.07000000029802322,-0.07000000029802322,-0.07000000029802322,-0.07000000029802322,-0.07000000029802322,-0.07000000029802322,-0.07000000029802322,-0.07000000029802322,0.049999999701981324,0.2999999997019813,0.5499999997019813,0.7999999997019813,1.0499999997019813,1.2999999997019813,1.5499999997019813,1.699999999701987,1.7999999997019813,2.0499999997019813,2.2999999997019813,2.499999999701984,2.5499999997019813,2.7999999997019813,3.0499999997019813,3.2999999997019813,3.5499999997019813,3.7999999997019813,4.049999999701981,4.299999999701981,4.549999999701981,4.799999999701981,5.049999999701981,5.299999999701981,5.549999999701981,5.799999999701981,6.049999999701981,6.299999999701981,6.549999999701981,6.799999999701981,7.049999999701981,7.299999999701981,7.549999999701981],\"type\":\"scatter\"}],                        {\"template\":{\"data\":{\"barpolar\":[{\"marker\":{\"line\":{\"color\":\"rgb(17,17,17)\",\"width\":0.5},\"pattern\":{\"fillmode\":\"overlay\",\"size\":10,\"solidity\":0.2}},\"type\":\"barpolar\"}],\"bar\":[{\"error_x\":{\"color\":\"#f2f5fa\"},\"error_y\":{\"color\":\"#f2f5fa\"},\"marker\":{\"line\":{\"color\":\"rgb(17,17,17)\",\"width\":0.5},\"pattern\":{\"fillmode\":\"overlay\",\"size\":10,\"solidity\":0.2}},\"type\":\"bar\"}],\"carpet\":[{\"aaxis\":{\"endlinecolor\":\"#A2B1C6\",\"gridcolor\":\"#506784\",\"linecolor\":\"#506784\",\"minorgridcolor\":\"#506784\",\"startlinecolor\":\"#A2B1C6\"},\"baxis\":{\"endlinecolor\":\"#A2B1C6\",\"gridcolor\":\"#506784\",\"linecolor\":\"#506784\",\"minorgridcolor\":\"#506784\",\"startlinecolor\":\"#A2B1C6\"},\"type\":\"carpet\"}],\"choropleth\":[{\"colorbar\":{\"outlinewidth\":0,\"ticks\":\"\"},\"type\":\"choropleth\"}],\"contourcarpet\":[{\"colorbar\":{\"outlinewidth\":0,\"ticks\":\"\"},\"type\":\"contourcarpet\"}],\"contour\":[{\"colorbar\":{\"outlinewidth\":0,\"ticks\":\"\"},\"colorscale\":[[0.0,\"#0d0887\"],[0.1111111111111111,\"#46039f\"],[0.2222222222222222,\"#7201a8\"],[0.3333333333333333,\"#9c179e\"],[0.4444444444444444,\"#bd3786\"],[0.5555555555555556,\"#d8576b\"],[0.6666666666666666,\"#ed7953\"],[0.7777777777777778,\"#fb9f3a\"],[0.8888888888888888,\"#fdca26\"],[1.0,\"#f0f921\"]],\"type\":\"contour\"}],\"heatmapgl\":[{\"colorbar\":{\"outlinewidth\":0,\"ticks\":\"\"},\"colorscale\":[[0.0,\"#0d0887\"],[0.1111111111111111,\"#46039f\"],[0.2222222222222222,\"#7201a8\"],[0.3333333333333333,\"#9c179e\"],[0.4444444444444444,\"#bd3786\"],[0.5555555555555556,\"#d8576b\"],[0.6666666666666666,\"#ed7953\"],[0.7777777777777778,\"#fb9f3a\"],[0.8888888888888888,\"#fdca26\"],[1.0,\"#f0f921\"]],\"type\":\"heatmapgl\"}],\"heatmap\":[{\"colorbar\":{\"outlinewidth\":0,\"ticks\":\"\"},\"colorscale\":[[0.0,\"#0d0887\"],[0.1111111111111111,\"#46039f\"],[0.2222222222222222,\"#7201a8\"],[0.3333333333333333,\"#9c179e\"],[0.4444444444444444,\"#bd3786\"],[0.5555555555555556,\"#d8576b\"],[0.6666666666666666,\"#ed7953\"],[0.7777777777777778,\"#fb9f3a\"],[0.8888888888888888,\"#fdca26\"],[1.0,\"#f0f921\"]],\"type\":\"heatmap\"}],\"histogram2dcontour\":[{\"colorbar\":{\"outlinewidth\":0,\"ticks\":\"\"},\"colorscale\":[[0.0,\"#0d0887\"],[0.1111111111111111,\"#46039f\"],[0.2222222222222222,\"#7201a8\"],[0.3333333333333333,\"#9c179e\"],[0.4444444444444444,\"#bd3786\"],[0.5555555555555556,\"#d8576b\"],[0.6666666666666666,\"#ed7953\"],[0.7777777777777778,\"#fb9f3a\"],[0.8888888888888888,\"#fdca26\"],[1.0,\"#f0f921\"]],\"type\":\"histogram2dcontour\"}],\"histogram2d\":[{\"colorbar\":{\"outlinewidth\":0,\"ticks\":\"\"},\"colorscale\":[[0.0,\"#0d0887\"],[0.1111111111111111,\"#46039f\"],[0.2222222222222222,\"#7201a8\"],[0.3333333333333333,\"#9c179e\"],[0.4444444444444444,\"#bd3786\"],[0.5555555555555556,\"#d8576b\"],[0.6666666666666666,\"#ed7953\"],[0.7777777777777778,\"#fb9f3a\"],[0.8888888888888888,\"#fdca26\"],[1.0,\"#f0f921\"]],\"type\":\"histogram2d\"}],\"histogram\":[{\"marker\":{\"pattern\":{\"fillmode\":\"overlay\",\"size\":10,\"solidity\":0.2}},\"type\":\"histogram\"}],\"mesh3d\":[{\"colorbar\":{\"outlinewidth\":0,\"ticks\":\"\"},\"type\":\"mesh3d\"}],\"parcoords\":[{\"line\":{\"colorbar\":{\"outlinewidth\":0,\"ticks\":\"\"}},\"type\":\"parcoords\"}],\"pie\":[{\"automargin\":true,\"type\":\"pie\"}],\"scatter3d\":[{\"line\":{\"colorbar\":{\"outlinewidth\":0,\"ticks\":\"\"}},\"marker\":{\"colorbar\":{\"outlinewidth\":0,\"ticks\":\"\"}},\"type\":\"scatter3d\"}],\"scattercarpet\":[{\"marker\":{\"colorbar\":{\"outlinewidth\":0,\"ticks\":\"\"}},\"type\":\"scattercarpet\"}],\"scattergeo\":[{\"marker\":{\"colorbar\":{\"outlinewidth\":0,\"ticks\":\"\"}},\"type\":\"scattergeo\"}],\"scattergl\":[{\"marker\":{\"line\":{\"color\":\"#283442\"}},\"type\":\"scattergl\"}],\"scattermapbox\":[{\"marker\":{\"colorbar\":{\"outlinewidth\":0,\"ticks\":\"\"}},\"type\":\"scattermapbox\"}],\"scatterpolargl\":[{\"marker\":{\"colorbar\":{\"outlinewidth\":0,\"ticks\":\"\"}},\"type\":\"scatterpolargl\"}],\"scatterpolar\":[{\"marker\":{\"colorbar\":{\"outlinewidth\":0,\"ticks\":\"\"}},\"type\":\"scatterpolar\"}],\"scatter\":[{\"marker\":{\"line\":{\"color\":\"#283442\"}},\"type\":\"scatter\"}],\"scatterternary\":[{\"marker\":{\"colorbar\":{\"outlinewidth\":0,\"ticks\":\"\"}},\"type\":\"scatterternary\"}],\"surface\":[{\"colorbar\":{\"outlinewidth\":0,\"ticks\":\"\"},\"colorscale\":[[0.0,\"#0d0887\"],[0.1111111111111111,\"#46039f\"],[0.2222222222222222,\"#7201a8\"],[0.3333333333333333,\"#9c179e\"],[0.4444444444444444,\"#bd3786\"],[0.5555555555555556,\"#d8576b\"],[0.6666666666666666,\"#ed7953\"],[0.7777777777777778,\"#fb9f3a\"],[0.8888888888888888,\"#fdca26\"],[1.0,\"#f0f921\"]],\"type\":\"surface\"}],\"table\":[{\"cells\":{\"fill\":{\"color\":\"#506784\"},\"line\":{\"color\":\"rgb(17,17,17)\"}},\"header\":{\"fill\":{\"color\":\"#2a3f5f\"},\"line\":{\"color\":\"rgb(17,17,17)\"}},\"type\":\"table\"}]},\"layout\":{\"annotationdefaults\":{\"arrowcolor\":\"#f2f5fa\",\"arrowhead\":0,\"arrowwidth\":1},\"autotypenumbers\":\"strict\",\"coloraxis\":{\"colorbar\":{\"outlinewidth\":0,\"ticks\":\"\"}},\"colorscale\":{\"diverging\":[[0,\"#8e0152\"],[0.1,\"#c51b7d\"],[0.2,\"#de77ae\"],[0.3,\"#f1b6da\"],[0.4,\"#fde0ef\"],[0.5,\"#f7f7f7\"],[0.6,\"#e6f5d0\"],[0.7,\"#b8e186\"],[0.8,\"#7fbc41\"],[0.9,\"#4d9221\"],[1,\"#276419\"]],\"sequential\":[[0.0,\"#0d0887\"],[0.1111111111111111,\"#46039f\"],[0.2222222222222222,\"#7201a8\"],[0.3333333333333333,\"#9c179e\"],[0.4444444444444444,\"#bd3786\"],[0.5555555555555556,\"#d8576b\"],[0.6666666666666666,\"#ed7953\"],[0.7777777777777778,\"#fb9f3a\"],[0.8888888888888888,\"#fdca26\"],[1.0,\"#f0f921\"]],\"sequentialminus\":[[0.0,\"#0d0887\"],[0.1111111111111111,\"#46039f\"],[0.2222222222222222,\"#7201a8\"],[0.3333333333333333,\"#9c179e\"],[0.4444444444444444,\"#bd3786\"],[0.5555555555555556,\"#d8576b\"],[0.6666666666666666,\"#ed7953\"],[0.7777777777777778,\"#fb9f3a\"],[0.8888888888888888,\"#fdca26\"],[1.0,\"#f0f921\"]]},\"colorway\":[\"#636efa\",\"#EF553B\",\"#00cc96\",\"#ab63fa\",\"#FFA15A\",\"#19d3f3\",\"#FF6692\",\"#B6E880\",\"#FF97FF\",\"#FECB52\"],\"font\":{\"color\":\"#f2f5fa\"},\"geo\":{\"bgcolor\":\"rgb(17,17,17)\",\"lakecolor\":\"rgb(17,17,17)\",\"landcolor\":\"rgb(17,17,17)\",\"showlakes\":true,\"showland\":true,\"subunitcolor\":\"#506784\"},\"hoverlabel\":{\"align\":\"left\"},\"hovermode\":\"closest\",\"mapbox\":{\"style\":\"dark\"},\"paper_bgcolor\":\"rgb(17,17,17)\",\"plot_bgcolor\":\"rgb(17,17,17)\",\"polar\":{\"angularaxis\":{\"gridcolor\":\"#506784\",\"linecolor\":\"#506784\",\"ticks\":\"\"},\"bgcolor\":\"rgb(17,17,17)\",\"radialaxis\":{\"gridcolor\":\"#506784\",\"linecolor\":\"#506784\",\"ticks\":\"\"}},\"scene\":{\"xaxis\":{\"backgroundcolor\":\"rgb(17,17,17)\",\"gridcolor\":\"#506784\",\"gridwidth\":2,\"linecolor\":\"#506784\",\"showbackground\":true,\"ticks\":\"\",\"zerolinecolor\":\"#C8D4E3\"},\"yaxis\":{\"backgroundcolor\":\"rgb(17,17,17)\",\"gridcolor\":\"#506784\",\"gridwidth\":2,\"linecolor\":\"#506784\",\"showbackground\":true,\"ticks\":\"\",\"zerolinecolor\":\"#C8D4E3\"},\"zaxis\":{\"backgroundcolor\":\"rgb(17,17,17)\",\"gridcolor\":\"#506784\",\"gridwidth\":2,\"linecolor\":\"#506784\",\"showbackground\":true,\"ticks\":\"\",\"zerolinecolor\":\"#C8D4E3\"}},\"shapedefaults\":{\"line\":{\"color\":\"#f2f5fa\"}},\"sliderdefaults\":{\"bgcolor\":\"#C8D4E3\",\"bordercolor\":\"rgb(17,17,17)\",\"borderwidth\":1,\"tickwidth\":0},\"ternary\":{\"aaxis\":{\"gridcolor\":\"#506784\",\"linecolor\":\"#506784\",\"ticks\":\"\"},\"baxis\":{\"gridcolor\":\"#506784\",\"linecolor\":\"#506784\",\"ticks\":\"\"},\"bgcolor\":\"rgb(17,17,17)\",\"caxis\":{\"gridcolor\":\"#506784\",\"linecolor\":\"#506784\",\"ticks\":\"\"}},\"title\":{\"x\":0.05},\"updatemenudefaults\":{\"bgcolor\":\"#506784\",\"borderwidth\":0},\"xaxis\":{\"automargin\":true,\"gridcolor\":\"#283442\",\"linecolor\":\"#506784\",\"ticks\":\"\",\"title\":{\"standoff\":15},\"zerolinecolor\":\"#283442\",\"zerolinewidth\":2},\"yaxis\":{\"automargin\":true,\"gridcolor\":\"#283442\",\"linecolor\":\"#506784\",\"ticks\":\"\",\"title\":{\"standoff\":15},\"zerolinecolor\":\"#283442\",\"zerolinewidth\":2}}}},                        {\"responsive\": true}                    ).then(function(){\n                            \nvar gd = document.getElementById('ee1549bf-a552-49e9-9db0-271f4d1fb3c1');\nvar x = new MutationObserver(function (mutations, observer) {{\n        var display = window.getComputedStyle(gd).display;\n        if (!display || display === 'none') {{\n            console.log([gd, 'removed!']);\n            Plotly.purge(gd);\n            observer.disconnect();\n        }}\n}});\n\n// Listen for the removal of the full notebook cells\nvar notebookContainer = gd.closest('#notebook-container');\nif (notebookContainer) {{\n    x.observe(notebookContainer, {childList: true});\n}}\n\n// Listen for the clearing of the current output cell\nvar outputEl = gd.closest('.output');\nif (outputEl) {{\n    x.observe(outputEl, {childList: true});\n}}\n\n                        })                };                });            </script>        </div>"
     },
     "metadata": {},
     "output_type": "display_data"
    }
   ],
   "source": [
    "data = [go.Scatter(x=fut_risk_profile.index.to_list(), y=fut_risk_profile['risk_pnl'].to_list(),mode='lines', name='fut'),\n",
    "        go.Scatter(x=call_risk_profile.index.to_list(), y=call_risk_profile['risk_pnl'].to_list(),mode='lines', name=f'call atm {call_legs[0].strike}'),\n",
    "        go.Scatter(x=call_risk_profile_1.index.to_list(), y=call_risk_profile_1['risk_pnl'].to_list(),mode='lines', name=f'call {call_legs_1[0].strike}')\n",
    "       ] # markers, lines\n",
    "iplot(data)"
   ]
  },
  {
   "cell_type": "code",
   "execution_count": 20,
   "id": "2f55f083-ea00-4665-b800-13464e9312d4",
   "metadata": {},
   "outputs": [],
   "source": []
  }
 ],
 "metadata": {
  "kernelspec": {
   "display_name": "Python 3 (ipykernel)",
   "language": "python",
   "name": "python3"
  },
  "language_info": {
   "codemirror_mode": {
    "name": "ipython",
    "version": 3
   },
   "file_extension": ".py",
   "mimetype": "text/x-python",
   "name": "python",
   "nbconvert_exporter": "python",
   "pygments_lexer": "ipython3",
   "version": "3.13.0"
  }
 },
 "nbformat": 4,
 "nbformat_minor": 5
}
