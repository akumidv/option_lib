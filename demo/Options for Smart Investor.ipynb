{
 "cells": [
  {
   "cell_type": "markdown",
   "id": "b15e828b-7014-4ca9-a5dc-92e65983e05d",
   "metadata": {},
   "source": [
    "### From articles \"Options for smart investor\"\n",
    "\n",
    "https://dzen.ru/id/5f6b2336d03ed90da6bf9d00\n"
   ]
  },
  {
   "cell_type": "code",
   "execution_count": 3,
   "id": "d69cb3a3-0b44-4ad9-b63d-59f32cacf86a",
   "metadata": {},
   "outputs": [
    {
     "data": {
      "text/html": "        <script type=\"text/javascript\">\n        window.PlotlyConfig = {MathJaxConfig: 'local'};\n        if (window.MathJax && window.MathJax.Hub && window.MathJax.Hub.Config) {window.MathJax.Hub.Config({SVG: {font: \"STIX-Web\"}});}\n        if (typeof require !== 'undefined') {\n        require.undef(\"plotly\");\n        requirejs.config({\n            paths: {\n                'plotly': ['https://cdn.plot.ly/plotly-2.35.2.min']\n            }\n        });\n        require(['plotly'], function(Plotly) {\n            window._Plotly = Plotly;\n        });\n        }\n        </script>\n        "
     },
     "metadata": {},
     "output_type": "display_data"
    }
   ],
   "source": [
    "import datetime\n",
    "import pandas as pd\n",
    "from chart_studio import plotly\n",
    "\n",
    "from plotly import graph_objs as go\n",
    "from plotly.offline import iplot, init_notebook_mode\n",
    "#import plotly.express as px\n",
    "\n",
    "from option_lib.provider import PandasLocalFileProvider, RequestParameters\n",
    "from option_lib.entities import OptionType, OptionMoneyStatus\n",
    "from option_lib import Option\n",
    "\n",
    "\n",
    "init_notebook_mode(connected=True)\n",
    "\n",
    "pd.set_option(\"display.max_rows\", 20, \"display.max_columns\", 30)"
   ]
  },
  {
   "cell_type": "code",
   "execution_count": 4,
   "outputs": [],
   "source": [
    "cme_provider = PandasLocalFileProvider('CME', '../data')\n",
    "cur_dt = datetime.date.today()\n",
    "provider_params = RequestParameters(period_to=cur_dt.year)\n",
    "brn = Option(cme_provider, 'BRN', provider_params)"
   ],
   "metadata": {
    "collapsed": false
   }
  },
  {
   "cell_type": "code",
   "execution_count": 5,
   "id": "9e861fa5-47b3-417d-8ec2-52a2b42ea203",
   "metadata": {},
   "outputs": [
    {
     "data": {
      "text/plain": "     datetime expiration_date  strike type       premium  \\\n0  2024-12-17      2024-12-23   250.0    c  7.243377e-84   \n1  2024-12-17      2024-12-23   250.0    p  1.768100e+02   \n\n  future_expiration_date  \n0             2024-12-30  \n1             2024-12-30  ",
      "text/html": "<div>\n<style scoped>\n    .dataframe tbody tr th:only-of-type {\n        vertical-align: middle;\n    }\n\n    .dataframe tbody tr th {\n        vertical-align: top;\n    }\n\n    .dataframe thead th {\n        text-align: right;\n    }\n</style>\n<table border=\"1\" class=\"dataframe\">\n  <thead>\n    <tr style=\"text-align: right;\">\n      <th></th>\n      <th>datetime</th>\n      <th>expiration_date</th>\n      <th>strike</th>\n      <th>type</th>\n      <th>premium</th>\n      <th>future_expiration_date</th>\n    </tr>\n  </thead>\n  <tbody>\n    <tr>\n      <th>0</th>\n      <td>2024-12-17</td>\n      <td>2024-12-23</td>\n      <td>250.0</td>\n      <td>c</td>\n      <td>7.243377e-84</td>\n      <td>2024-12-30</td>\n    </tr>\n    <tr>\n      <th>1</th>\n      <td>2024-12-17</td>\n      <td>2024-12-23</td>\n      <td>250.0</td>\n      <td>p</td>\n      <td>1.768100e+02</td>\n      <td>2024-12-30</td>\n    </tr>\n  </tbody>\n</table>\n</div>"
     },
     "execution_count": 5,
     "metadata": {},
     "output_type": "execute_result"
    }
   ],
   "source": [
    "df_opt = brn.df_opt\n",
    "df_opt.head(2)"
   ]
  },
  {
   "cell_type": "code",
   "execution_count": 6,
   "outputs": [
    {
     "data": {
      "text/plain": "     datetime expiration_date  price\n0  2024-12-17      2024-12-30  73.19\n1  2024-12-17      2025-01-31  72.85",
      "text/html": "<div>\n<style scoped>\n    .dataframe tbody tr th:only-of-type {\n        vertical-align: middle;\n    }\n\n    .dataframe tbody tr th {\n        vertical-align: top;\n    }\n\n    .dataframe thead th {\n        text-align: right;\n    }\n</style>\n<table border=\"1\" class=\"dataframe\">\n  <thead>\n    <tr style=\"text-align: right;\">\n      <th></th>\n      <th>datetime</th>\n      <th>expiration_date</th>\n      <th>price</th>\n    </tr>\n  </thead>\n  <tbody>\n    <tr>\n      <th>0</th>\n      <td>2024-12-17</td>\n      <td>2024-12-30</td>\n      <td>73.19</td>\n    </tr>\n    <tr>\n      <th>1</th>\n      <td>2024-12-17</td>\n      <td>2025-01-31</td>\n      <td>72.85</td>\n    </tr>\n  </tbody>\n</table>\n</div>"
     },
     "execution_count": 6,
     "metadata": {},
     "output_type": "execute_result"
    }
   ],
   "source": [
    "df_fut = brn.df_fut\n",
    "df_fut.head(2)"
   ],
   "metadata": {
    "collapsed": false
   }
  },
  {
   "cell_type": "code",
   "execution_count": 7,
   "outputs": [
    {
     "data": {
      "text/plain": "     datetime expiration_date  strike type       premium  \\\n0  2024-12-17      2024-12-23   250.0    c  7.243377e-84   \n1  2024-12-17      2024-12-23   250.0    p  1.768100e+02   \n\n  future_expiration_date  future_price  intrinsic_value    time_value  \n0             2024-12-30         73.19             0.00  7.243377e-84  \n1             2024-12-30         73.19           176.81 -2.441406e-06  ",
      "text/html": "<div>\n<style scoped>\n    .dataframe tbody tr th:only-of-type {\n        vertical-align: middle;\n    }\n\n    .dataframe tbody tr th {\n        vertical-align: top;\n    }\n\n    .dataframe thead th {\n        text-align: right;\n    }\n</style>\n<table border=\"1\" class=\"dataframe\">\n  <thead>\n    <tr style=\"text-align: right;\">\n      <th></th>\n      <th>datetime</th>\n      <th>expiration_date</th>\n      <th>strike</th>\n      <th>type</th>\n      <th>premium</th>\n      <th>future_expiration_date</th>\n      <th>future_price</th>\n      <th>intrinsic_value</th>\n      <th>time_value</th>\n    </tr>\n  </thead>\n  <tbody>\n    <tr>\n      <th>0</th>\n      <td>2024-12-17</td>\n      <td>2024-12-23</td>\n      <td>250.0</td>\n      <td>c</td>\n      <td>7.243377e-84</td>\n      <td>2024-12-30</td>\n      <td>73.19</td>\n      <td>0.00</td>\n      <td>7.243377e-84</td>\n    </tr>\n    <tr>\n      <th>1</th>\n      <td>2024-12-17</td>\n      <td>2024-12-23</td>\n      <td>250.0</td>\n      <td>p</td>\n      <td>1.768100e+02</td>\n      <td>2024-12-30</td>\n      <td>73.19</td>\n      <td>176.81</td>\n      <td>-2.441406e-06</td>\n    </tr>\n  </tbody>\n</table>\n</div>"
     },
     "execution_count": 7,
     "metadata": {},
     "output_type": "execute_result"
    }
   ],
   "source": [
    "brn.enrichment.add_future().add_intrinsic_and_time_value()\n",
    "brn.df_opt.head(2)"
   ],
   "metadata": {
    "collapsed": false
   }
  },
  {
   "cell_type": "code",
   "execution_count": 9,
   "id": "1351f71b-062f-4419-81cb-5e451b78ba6d",
   "metadata": {
    "editable": true,
    "slideshow": {
     "slide_type": ""
    },
    "tags": []
   },
   "outputs": [
    {
     "ename": "AttributeError",
     "evalue": "'OptionEnrichment' object has no attribute 'get_atm_itm_otm'",
     "output_type": "error",
     "traceback": [
      "\u001B[0;31m---------------------------------------------------------------------------\u001B[0m",
      "\u001B[0;31mAttributeError\u001B[0m                            Traceback (most recent call last)",
      "Cell \u001B[0;32mIn[9], line 1\u001B[0m\n\u001B[0;32m----> 1\u001B[0m df_opt[\u001B[38;5;124m'\u001B[39m\u001B[38;5;124mmoney_status\u001B[39m\u001B[38;5;124m'\u001B[39m] \u001B[38;5;241m=\u001B[39m \u001B[43mbrn\u001B[49m\u001B[38;5;241;43m.\u001B[39;49m\u001B[43menrichment\u001B[49m\u001B[38;5;241;43m.\u001B[39;49m\u001B[43mget_atm_itm_otm\u001B[49m(df_opt)\n\u001B[1;32m      2\u001B[0m df_opt[df_opt[\u001B[38;5;124m'\u001B[39m\u001B[38;5;124mmoney_status\u001B[39m\u001B[38;5;124m'\u001B[39m]\u001B[38;5;241m==\u001B[39mOptionMoneyStatus\u001B[38;5;241m.\u001B[39mATM\u001B[38;5;241m.\u001B[39mcode]\u001B[38;5;241m.\u001B[39mhead(\u001B[38;5;241m2\u001B[39m)\n",
      "\u001B[0;31mAttributeError\u001B[0m: 'OptionEnrichment' object has no attribute 'get_atm_itm_otm'"
     ]
    }
   ],
   "source": [
    "df_opt['money_status'] = brn.enrichment.get_atm_itm_otm(df_opt)\n",
    "df_opt[df_opt['money_status']==OptionMoneyStatus.ATM.code].head(2)"
   ]
  },
  {
   "cell_type": "code",
   "execution_count": null,
   "id": "6c1b52c4-fa39-4750-be1e-c258ad611962",
   "metadata": {},
   "outputs": [],
   "source": [
    "settlement_date = df_opt['datetime'].max()\n",
    "df_opt_date = df_opt[df_opt['datetime']==settlement_date]\n",
    "list(df_opt_date['expiration_date'].unique())[:5]"
   ]
  },
  {
   "cell_type": "code",
   "execution_count": null,
   "id": "280ab25e-4140-465c-b137-a50a5fa85819",
   "metadata": {},
   "outputs": [],
   "source": [
    "expiration_date = df_opt_date['expiration_date'].min()\n",
    "settlement_date, expiration_date"
   ]
  },
  {
   "cell_type": "code",
   "execution_count": null,
   "id": "fe03d5bf-c47e-4aea-bd65-44d7b2ae9487",
   "metadata": {},
   "outputs": [],
   "source": [
    "df_opt_chain = df_opt_date[df_opt_date['expiration_date']==expiration_date]\n",
    "df_opt_chain.head(2)"
   ]
  },
  {
   "cell_type": "markdown",
   "id": "5da1c84d-5f0d-43ca-ba5a-63614bfa35d1",
   "metadata": {},
   "source": [
    "Типы фьючерсов:\n",
    "* Валютные\n",
    "* Индексные\n",
    "* Товарные\n",
    "* Фондовые\n",
    "* Процентные\n",
    "\n",
    "  Криптовалютные?? отдельный тип или это валютные?\n"
   ]
  },
  {
   "cell_type": "markdown",
   "id": "7b45d294-0297-49cc-8adb-f506de46b0c0",
   "metadata": {},
   "source": [
    "Спецификация WTI https://www.cmegroup.com/markets/energy/crude-oil/light-sweet-crude.html\n",
    "https://www.investing.com/commodities/crude-oil - график"
   ]
  },
  {
   "cell_type": "code",
   "execution_count": null,
   "id": "c08e4dd5-a51b-4bc0-ab83-f0b23ec196cc",
   "metadata": {},
   "outputs": [],
   "source": [
    "atm_nearest_strikes = enrichment.chain.get_chain_atm_nearest_strikes(df_opt_chain)\n",
    "atm_strike = atm_nearest_strikes[0]\n",
    "atm_strike"
   ]
  },
  {
   "cell_type": "code",
   "execution_count": null,
   "id": "207f4e08-85ee-48c3-ba09-8627edc38b3e",
   "metadata": {},
   "outputs": [],
   "source": [
    "# options chain / desk\n",
    "df_opt_desk = enrichment.chain.convert_chain_to_desk(df_opt_chain, ['premium', 'iv' , 'delta', 'gamma', 'vega', 'theta', 'quick_delta', 'money_status', 'intrinsic_value', 'time_value', 'datetime', 'expiration_date', 'strike'])\n",
    "res_col = ['premium_call', 'iv_call', 'delta_call', 'gamma_call', 'vega_call', 'theta_call', 'quick_delta_call', 'intrinsic_value_call', 'time_value_call', 'money_status_call', 'strike', 'money_status_put','premium_put', 'iv_put', 'delta_put', 'gamma_put', 'vega_put', 'theta_put', 'quick_delta_put', 'intrinsic_value_put', 'time_value_put', 'datetime', 'underlying_price', 'expiration_date', 'underlying_expiration_date']\n",
    "df_opt_desk [df_opt_desk ['strike'].isin(atm_nearest_strikes[:10])][res_col]"
   ]
  },
  {
   "cell_type": "markdown",
   "id": "29a24774-8941-489a-80b7-1dba8b8c6bbf",
   "metadata": {
    "editable": true,
    "slideshow": {
     "slide_type": ""
    },
    "tags": []
   },
   "source": [
    "Временная стоимость опциона уменьшается к дате экспирации\n",
    "\n",
    "Опционы ITM имеют малую величину временной стоимости (малый вес) в общей цене опциона. По сути, чем глубже опцион в деньгах, тем меньше его временная стоимость и тем больше он походит на линейный базовый актив (т.е соответствующий фьючерс).\n",
    "\n",
    "Опционы OTM не имеют внутренней стоимости (что понятно – их невыгодно исполнять). Вся стоимость внеденежного опциона – это внутренняя стоимость. Важно понимать, что, если рынок не преодолеет страйк этого опциона, то итоговая цена опциона на экспирацию будет равна нулю.\n",
    "\n",
    "Опционы ATM имеют максимальный вес временной стоимости в цене опциона и максимальную нелинейность. По этой причине являются наиболее ликвидными на рынке. При движении БА вверх или вниз от текущих уровней ликвидность данных опционов будет снижаться."
   ]
  },
  {
   "cell_type": "code",
   "execution_count": null,
   "id": "cce9ce22-ab4f-4af6-8eec-384ae6cf14b1",
   "metadata": {},
   "outputs": [],
   "source": [
    "df_time_value_strike = df_opt[(df_opt['expiration_date']==expiration_date)&(df_opt['strike']==atm_strike)&(df_opt['type']==OptionType.CALL.code)].sort_values(by='datetime')[['datetime', 'time_value']]\n",
    "df_time_value_strike.iloc[[0,50,100]]\n",
    "df_time_value_atm = df_opt[(df_opt['expiration_date']==expiration_date)&(df_opt['money_status']==OptionMoneyStatus.ATM.code)&(df_opt['type']==OptionType.CALL.code)].sort_values(by='datetime')[['datetime', 'time_value']]\n",
    "# df_time_value_atm.iloc[[0,50,100]]"
   ]
  },
  {
   "cell_type": "code",
   "execution_count": null,
   "id": "8d5a3726-5984-4601-ae09-027e9d454acc",
   "metadata": {},
   "outputs": [],
   "source": [
    "# https://plotly.com/python/line-and-scatter/\n",
    "# Alternative\n",
    "#fig = px.scatter(df_time_value, x=\"datetime\", y=\"time_value\")\n",
    "#fig.show()\n",
    "data = [go.Scatter(x=df_time_value_strike['datetime'].to_list(), y=df_time_value_strike['time_value'].to_list(),mode='lines'),\n",
    "        go.Scatter(x=df_time_value_atm['datetime'].to_list(), y=df_time_value_atm['time_value'].to_list(),mode='lines')\n",
    "       ] # markers, lines\n",
    "iplot(data)"
   ]
  },
  {
   "cell_type": "markdown",
   "id": "3a293c1b-8c08-42bd-b75f-d5d328ab2652",
   "metadata": {},
   "source": [
    "## Нелинейность опционов"
   ]
  },
  {
   "cell_type": "code",
   "execution_count": null,
   "id": "8e6a792c-5bc0-436f-9bf5-6cbe3133330d",
   "metadata": {},
   "outputs": [],
   "source": [
    "atm_strike_df = df_opt_chain[df_opt_chain['strike'] == atm_strike]\n",
    "atm_strike_row = atm_strike_df[atm_strike_df['type']==OptionType.CALL.code].iloc[0]\n",
    "atm_strike_df"
   ]
  },
  {
   "cell_type": "code",
   "execution_count": null,
   "id": "9629a5c6-a150-4ecf-8faa-aae8023dba4c",
   "metadata": {},
   "outputs": [],
   "source": [
    "future_price = atm_strike_row['underlying_price']\n",
    "option_price = atm_strike_row['premium']\n",
    "contract_size = atm_strike_row['contact_size']\n",
    "# atm_strike = atm_strike_row['strike']\n",
    "future_price, option_price, atm_strike"
   ]
  },
  {
   "cell_type": "code",
   "execution_count": null,
   "id": "3d6e31a1-4013-4310-9b18-f55883ecd35e",
   "metadata": {
    "editable": true,
    "slideshow": {
     "slide_type": ""
    },
    "tags": []
   },
   "outputs": [],
   "source": [
    "prices = [price for price in range(int(future_price-25), int(future_price + 25))]\n",
    "df_trades = pd.DataFrame({'underlying_price': prices, 'future_pnl': [price * contract_size] for price in prices], 'option_pnl': []})\n",
    "df_trades"
   ]
  },
  {
   "cell_type": "code",
   "execution_count": null,
   "id": "0c56e063-ee5a-43e8-9645-b866550e27c3",
   "metadata": {},
   "outputs": [],
   "source": [
    "data = [go.Scatter(x=df_trades['underlying_price'].to_list(), y=df_trades['future_pnl'].to_list(),mode='lines'),\n",
    "        go.Scatter(x=df_trades['underlying_price'].to_list(), y=df_trades['option_pnl'].to_list(),mode='lines')\n",
    "       ] # markers, lines\n",
    "iplot(data)"
   ]
  },
  {
   "cell_type": "code",
   "execution_count": null,
   "id": "2f55f083-ea00-4665-b800-13464e9312d4",
   "metadata": {},
   "outputs": [],
   "source": []
  }
 ],
 "metadata": {
  "kernelspec": {
   "display_name": "Python 3 (ipykernel)",
   "language": "python",
   "name": "python3"
  },
  "language_info": {
   "codemirror_mode": {
    "name": "ipython",
    "version": 3
   },
   "file_extension": ".py",
   "mimetype": "text/x-python",
   "name": "python",
   "nbconvert_exporter": "python",
   "pygments_lexer": "ipython3",
   "version": "3.13.0"
  }
 },
 "nbformat": 4,
 "nbformat_minor": 5
}
