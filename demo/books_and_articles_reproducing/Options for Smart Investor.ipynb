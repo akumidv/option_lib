{
 "cells": [
  {
   "cell_type": "markdown",
   "id": "b15e828b-7014-4ca9-a5dc-92e65983e05d",
   "metadata": {},
   "source": [
    "### From articles \"Options for smart investor\"\n",
    "\n",
    "https://dzen.ru/id/5f6b2336d03ed90da6bf9d00\n"
   ]
  },
  {
   "cell_type": "code",
   "execution_count": 1,
   "outputs": [],
   "source": [
    "# Prepare data and option_lib to use in Google Collab\n",
    "!bash -c '\\\n",
    "OPT_LIB_PATH=\"/content/option_lib\"; \\\n",
    "if [[ ! (-z \"${COLAB_JUPYTER_IP}\" || -d \"${OPT_LIB_PATH}\" ) ]]; then \\\n",
    "  git clone https://github.com/akumidv/option_lib.git \"${OPT_LIB_PATH}\"; \\\n",
    "  DATA_PATH=\"/content/data\"; \\\n",
    "  mkdir -p \"${DATA_PATH}/DERIBIT/BTC-USD/EOD/futures\"; \\\n",
    "  mkdir -p \"${DATA_PATH}/DERIBIT/BTC-USD/EOD/options\"; \\\n",
    "  gdown --fuzzy \"https://drive.google.com/file/d/1n2T4jBHeanGLtBLlLWgYIHzK9hYsGT97/view?usp=sharing\"  -O \"/content/data/DERIBIT/BTC-USD/EOD/futures/2025.parquet\" ;\\\n",
    "  gdown --fuzzy \"https://drive.google.com/file/d/10Eo_4oNSlx0rbe2efn5OXToONAi5nPhV/view?usp=sharing\"  -O \"/content/data/DERIBIT/BTC-USD/EOD/options/2025.parquet\"  ;\\\n",
    "  export VENV_PATH=\"${OPT_LIB_PATH}/.venv\";\\\n",
    "  pip install poetry ;\\\n",
    "  cd ${OPT_LIB_PATH} ;\\\n",
    "  POETRY_VIRTUALENVS_IN_PROJECT=true poetry install --no-interaction;\\\n",
    "fi'\n",
    "import sys, os\n",
    "\n",
    "if os.path.isdir('/content/option_lib') and '/content/option_lib/src' not in sys.path:\n",
    "    sys.path.extend(['/content/option_lib/src', '/content/option_lib/.venv/'])  # Not work yet - poetry install somewhere else\n",
    "    os.environ['DATA_PATH'] = '/content/data'\n"
   ],
   "metadata": {
    "collapsed": false
   }
  },
  {
   "cell_type": "code",
   "execution_count": 2,
   "id": "d69cb3a3-0b44-4ad9-b63d-59f32cacf86a",
   "metadata": {},
   "outputs": [
    {
     "data": {
      "text/html": "        <script type=\"text/javascript\">\n        window.PlotlyConfig = {MathJaxConfig: 'local'};\n        if (window.MathJax && window.MathJax.Hub && window.MathJax.Hub.Config) {window.MathJax.Hub.Config({SVG: {font: \"STIX-Web\"}});}\n        if (typeof require !== 'undefined') {\n        require.undef(\"plotly\");\n        requirejs.config({\n            paths: {\n                'plotly': ['https://cdn.plot.ly/plotly-2.35.2.min']\n            }\n        });\n        require(['plotly'], function(Plotly) {\n            window._Plotly = Plotly;\n        });\n        }\n        </script>\n        "
     },
     "metadata": {},
     "output_type": "display_data"
    }
   ],
   "source": [
    "import datetime\n",
    "import pandas as pd\n",
    "from chart_studio import plotly\n",
    "\n",
    "from plotly import graph_objs as go\n",
    "from plotly.offline import iplot, init_notebook_mode\n",
    "#import plotly.express as px\n",
    "\n",
    "from option_lib.provider import PandasLocalFileProvider, RequestParameters\n",
    "from option_lib.entities import OptionType, OptionPriceStatus\n",
    "from option_lib import Option\n",
    "from option_lib.entities import LegType, OptionLeg\n",
    "\n",
    "init_notebook_mode(connected=True)\n",
    "\n",
    "pd.set_option(\"display.max_rows\", 20, \"display.max_columns\", 30)"
   ]
  },
  {
   "cell_type": "code",
   "execution_count": 3,
   "outputs": [],
   "source": [
    "deribit_provider = PandasLocalFileProvider('DERIBIT', os.environ.get('DATA_PATH', '../../data'))\n",
    "cur_dt = datetime.date.today()\n",
    "provider_params = RequestParameters(period_to=cur_dt.year)\n",
    "btc = Option(deribit_provider, 'BTC', provider_params,\n",
    "             option_columns=['timestamp', 'expiration_date', 'strike', 'option_type', 'price', 'underlying_expiration_date', 'exchange_price', 'exchange_iv', 'underlying_price']) #, 'iv', 'delta', 'gamma', 'vega', 'theta', 'quick_delta', 'contract_size'])\n"
   ],
   "metadata": {
    "collapsed": false
   }
  },
  {
   "cell_type": "code",
   "execution_count": 4,
   "id": "9e861fa5-47b3-417d-8ec2-52a2b42ea203",
   "metadata": {},
   "outputs": [
    {
     "data": {
      "text/plain": "                      timestamp           expiration_date    strike  \\\n96    2025-02-11 00:00:00+00:00 2025-02-12 00:00:00+00:00  100000.0   \n97    2025-02-12 00:00:00+00:00 2025-02-12 00:00:00+00:00  100000.0   \n99    2025-02-11 00:00:00+00:00 2025-02-12 00:00:00+00:00  100000.0   \n100   2025-02-12 00:00:00+00:00 2025-02-12 00:00:00+00:00  100000.0   \n102   2025-02-11 00:00:00+00:00 2025-02-12 00:00:00+00:00  101000.0   \n...                         ...                       ...       ...   \n12397 2025-02-21 00:00:00+00:00 2025-03-07 00:00:00+00:00   99000.0   \n12398 2025-02-22 00:00:00+00:00 2025-03-07 00:00:00+00:00   99000.0   \n12399 2025-02-23 00:00:00+00:00 2025-03-07 00:00:00+00:00   99000.0   \n12400 2025-02-24 00:00:00+00:00 2025-03-07 00:00:00+00:00   99000.0   \n12401 2025-02-25 00:00:00+00:00 2025-03-07 00:00:00+00:00   99000.0   \n\n      option_type        price underlying_expiration_date  exchange_price  \\\n96              c     9.575306  2025-02-12 00:00:00+00:00        5.254928   \n97              c     9.604906  2025-02-12 00:00:00+00:00        0.000000   \n99              p  2058.690790  2025-02-12 00:00:00+00:00     4247.351996   \n100             p  2065.054790  2025-02-12 00:00:00+00:00     3951.033792   \n102             c     9.575306  2025-02-12 00:00:00+00:00        1.639292   \n...           ...          ...                        ...             ...   \n12397           p  4085.454875  2025-03-07 00:00:00+00:00     4653.977163   \n12398           p  4104.510600  2025-03-07 00:00:00+00:00     4348.096403   \n12399           p  4091.734250  2025-03-07 00:00:00+00:00     4406.783346   \n12400           p  6903.768320  2025-03-07 00:00:00+00:00     7965.533140   \n12401           p  8045.002875  2025-03-07 00:00:00+00:00     7540.309044   \n\n       exchange_iv  underlying_price  \n96           60.36       95757.81054  \n97           62.78       96049.03000  \n99           60.36       95757.81054  \n100          62.78       96049.03000  \n102          63.79       95757.81054  \n...            ...               ...  \n12397        42.07       96305.61000  \n12398        42.86       96710.74000  \n12399        43.39       96468.32000  \n12400        44.42       91570.16000  \n12401        45.60       92110.07000  \n\n[11311 rows x 9 columns]",
      "text/html": "<div>\n<style scoped>\n    .dataframe tbody tr th:only-of-type {\n        vertical-align: middle;\n    }\n\n    .dataframe tbody tr th {\n        vertical-align: top;\n    }\n\n    .dataframe thead th {\n        text-align: right;\n    }\n</style>\n<table border=\"1\" class=\"dataframe\">\n  <thead>\n    <tr style=\"text-align: right;\">\n      <th></th>\n      <th>timestamp</th>\n      <th>expiration_date</th>\n      <th>strike</th>\n      <th>option_type</th>\n      <th>price</th>\n      <th>underlying_expiration_date</th>\n      <th>exchange_price</th>\n      <th>exchange_iv</th>\n      <th>underlying_price</th>\n    </tr>\n  </thead>\n  <tbody>\n    <tr>\n      <th>96</th>\n      <td>2025-02-11 00:00:00+00:00</td>\n      <td>2025-02-12 00:00:00+00:00</td>\n      <td>100000.0</td>\n      <td>c</td>\n      <td>9.575306</td>\n      <td>2025-02-12 00:00:00+00:00</td>\n      <td>5.254928</td>\n      <td>60.36</td>\n      <td>95757.81054</td>\n    </tr>\n    <tr>\n      <th>97</th>\n      <td>2025-02-12 00:00:00+00:00</td>\n      <td>2025-02-12 00:00:00+00:00</td>\n      <td>100000.0</td>\n      <td>c</td>\n      <td>9.604906</td>\n      <td>2025-02-12 00:00:00+00:00</td>\n      <td>0.000000</td>\n      <td>62.78</td>\n      <td>96049.03000</td>\n    </tr>\n    <tr>\n      <th>99</th>\n      <td>2025-02-11 00:00:00+00:00</td>\n      <td>2025-02-12 00:00:00+00:00</td>\n      <td>100000.0</td>\n      <td>p</td>\n      <td>2058.690790</td>\n      <td>2025-02-12 00:00:00+00:00</td>\n      <td>4247.351996</td>\n      <td>60.36</td>\n      <td>95757.81054</td>\n    </tr>\n    <tr>\n      <th>100</th>\n      <td>2025-02-12 00:00:00+00:00</td>\n      <td>2025-02-12 00:00:00+00:00</td>\n      <td>100000.0</td>\n      <td>p</td>\n      <td>2065.054790</td>\n      <td>2025-02-12 00:00:00+00:00</td>\n      <td>3951.033792</td>\n      <td>62.78</td>\n      <td>96049.03000</td>\n    </tr>\n    <tr>\n      <th>102</th>\n      <td>2025-02-11 00:00:00+00:00</td>\n      <td>2025-02-12 00:00:00+00:00</td>\n      <td>101000.0</td>\n      <td>c</td>\n      <td>9.575306</td>\n      <td>2025-02-12 00:00:00+00:00</td>\n      <td>1.639292</td>\n      <td>63.79</td>\n      <td>95757.81054</td>\n    </tr>\n    <tr>\n      <th>...</th>\n      <td>...</td>\n      <td>...</td>\n      <td>...</td>\n      <td>...</td>\n      <td>...</td>\n      <td>...</td>\n      <td>...</td>\n      <td>...</td>\n      <td>...</td>\n    </tr>\n    <tr>\n      <th>12397</th>\n      <td>2025-02-21 00:00:00+00:00</td>\n      <td>2025-03-07 00:00:00+00:00</td>\n      <td>99000.0</td>\n      <td>p</td>\n      <td>4085.454875</td>\n      <td>2025-03-07 00:00:00+00:00</td>\n      <td>4653.977163</td>\n      <td>42.07</td>\n      <td>96305.61000</td>\n    </tr>\n    <tr>\n      <th>12398</th>\n      <td>2025-02-22 00:00:00+00:00</td>\n      <td>2025-03-07 00:00:00+00:00</td>\n      <td>99000.0</td>\n      <td>p</td>\n      <td>4104.510600</td>\n      <td>2025-03-07 00:00:00+00:00</td>\n      <td>4348.096403</td>\n      <td>42.86</td>\n      <td>96710.74000</td>\n    </tr>\n    <tr>\n      <th>12399</th>\n      <td>2025-02-23 00:00:00+00:00</td>\n      <td>2025-03-07 00:00:00+00:00</td>\n      <td>99000.0</td>\n      <td>p</td>\n      <td>4091.734250</td>\n      <td>2025-03-07 00:00:00+00:00</td>\n      <td>4406.783346</td>\n      <td>43.39</td>\n      <td>96468.32000</td>\n    </tr>\n    <tr>\n      <th>12400</th>\n      <td>2025-02-24 00:00:00+00:00</td>\n      <td>2025-03-07 00:00:00+00:00</td>\n      <td>99000.0</td>\n      <td>p</td>\n      <td>6903.768320</td>\n      <td>2025-03-07 00:00:00+00:00</td>\n      <td>7965.533140</td>\n      <td>44.42</td>\n      <td>91570.16000</td>\n    </tr>\n    <tr>\n      <th>12401</th>\n      <td>2025-02-25 00:00:00+00:00</td>\n      <td>2025-03-07 00:00:00+00:00</td>\n      <td>99000.0</td>\n      <td>p</td>\n      <td>8045.002875</td>\n      <td>2025-03-07 00:00:00+00:00</td>\n      <td>7540.309044</td>\n      <td>45.60</td>\n      <td>92110.07000</td>\n    </tr>\n  </tbody>\n</table>\n<p>11311 rows × 9 columns</p>\n</div>"
     },
     "execution_count": 4,
     "metadata": {},
     "output_type": "execute_result"
    }
   ],
   "source": [
    "btc.df_hist"
   ]
  },
  {
   "cell_type": "code",
   "execution_count": 5,
   "outputs": [
    {
     "data": {
      "text/plain": "                  timestamp           expiration_date    price\n0 2025-02-11 00:00:00+00:00 2025-02-14 00:00:00+00:00  95800.0\n1 2025-02-12 00:00:00+00:00 2025-02-14 00:00:00+00:00  97942.5",
      "text/html": "<div>\n<style scoped>\n    .dataframe tbody tr th:only-of-type {\n        vertical-align: middle;\n    }\n\n    .dataframe tbody tr th {\n        vertical-align: top;\n    }\n\n    .dataframe thead th {\n        text-align: right;\n    }\n</style>\n<table border=\"1\" class=\"dataframe\">\n  <thead>\n    <tr style=\"text-align: right;\">\n      <th></th>\n      <th>timestamp</th>\n      <th>expiration_date</th>\n      <th>price</th>\n    </tr>\n  </thead>\n  <tbody>\n    <tr>\n      <th>0</th>\n      <td>2025-02-11 00:00:00+00:00</td>\n      <td>2025-02-14 00:00:00+00:00</td>\n      <td>95800.0</td>\n    </tr>\n    <tr>\n      <th>1</th>\n      <td>2025-02-12 00:00:00+00:00</td>\n      <td>2025-02-14 00:00:00+00:00</td>\n      <td>97942.5</td>\n    </tr>\n  </tbody>\n</table>\n</div>"
     },
     "execution_count": 5,
     "metadata": {},
     "output_type": "execute_result"
    }
   ],
   "source": [
    "df_fut = btc.df_fut\n",
    "df_fut.head(2)"
   ],
   "metadata": {
    "collapsed": false
   }
  },
  {
   "cell_type": "code",
   "execution_count": 6,
   "outputs": [
    {
     "data": {
      "text/plain": "                   timestamp           expiration_date    strike option_type  \\\n96 2025-02-11 00:00:00+00:00 2025-02-12 00:00:00+00:00  100000.0           c   \n97 2025-02-12 00:00:00+00:00 2025-02-12 00:00:00+00:00  100000.0           c   \n\n       price underlying_expiration_date  exchange_price  exchange_iv  \\\n96  9.575306  2025-02-12 00:00:00+00:00        5.254928        60.36   \n97  9.604906  2025-02-12 00:00:00+00:00        0.000000        62.78   \n\n    underlying_price  intrinsic_value  time_value  \n96       95757.81054              0.0    9.575306  \n97       96049.03000              0.0    9.604906  ",
      "text/html": "<div>\n<style scoped>\n    .dataframe tbody tr th:only-of-type {\n        vertical-align: middle;\n    }\n\n    .dataframe tbody tr th {\n        vertical-align: top;\n    }\n\n    .dataframe thead th {\n        text-align: right;\n    }\n</style>\n<table border=\"1\" class=\"dataframe\">\n  <thead>\n    <tr style=\"text-align: right;\">\n      <th></th>\n      <th>timestamp</th>\n      <th>expiration_date</th>\n      <th>strike</th>\n      <th>option_type</th>\n      <th>price</th>\n      <th>underlying_expiration_date</th>\n      <th>exchange_price</th>\n      <th>exchange_iv</th>\n      <th>underlying_price</th>\n      <th>intrinsic_value</th>\n      <th>time_value</th>\n    </tr>\n  </thead>\n  <tbody>\n    <tr>\n      <th>96</th>\n      <td>2025-02-11 00:00:00+00:00</td>\n      <td>2025-02-12 00:00:00+00:00</td>\n      <td>100000.0</td>\n      <td>c</td>\n      <td>9.575306</td>\n      <td>2025-02-12 00:00:00+00:00</td>\n      <td>5.254928</td>\n      <td>60.36</td>\n      <td>95757.81054</td>\n      <td>0.0</td>\n      <td>9.575306</td>\n    </tr>\n    <tr>\n      <th>97</th>\n      <td>2025-02-12 00:00:00+00:00</td>\n      <td>2025-02-12 00:00:00+00:00</td>\n      <td>100000.0</td>\n      <td>c</td>\n      <td>9.604906</td>\n      <td>2025-02-12 00:00:00+00:00</td>\n      <td>0.000000</td>\n      <td>62.78</td>\n      <td>96049.03000</td>\n      <td>0.0</td>\n      <td>9.604906</td>\n    </tr>\n  </tbody>\n</table>\n</div>"
     },
     "execution_count": 6,
     "metadata": {},
     "output_type": "execute_result"
    }
   ],
   "source": [
    "btc.enrichment.add_future().add_intrinsic_and_time_value()\n",
    "btc.df_hist.head(2)"
   ],
   "metadata": {
    "collapsed": false
   }
  },
  {
   "cell_type": "code",
   "execution_count": 7,
   "id": "1351f71b-062f-4419-81cb-5e451b78ba6d",
   "metadata": {
    "editable": true,
    "slideshow": {
     "slide_type": ""
    },
    "tags": []
   },
   "outputs": [
    {
     "data": {
      "text/plain": "                    timestamp           expiration_date   strike option_type  \\\n208 2025-02-11 00:00:00+00:00 2025-02-12 00:00:00+00:00  96000.0           c   \n209 2025-02-12 00:00:00+00:00 2025-02-12 00:00:00+00:00  96000.0           c   \n\n          price underlying_expiration_date  exchange_price  exchange_iv  \\\n208  526.641830  2025-02-12 00:00:00+00:00      338.273538        38.81   \n209   57.629436  2025-02-12 00:00:00+00:00       50.398863        27.13   \n\n     underlying_price  intrinsic_value  time_value price_status  \n208       95757.81054             0.00  526.641830          atm  \n209       96049.03000            49.03    8.599436          atm  ",
      "text/html": "<div>\n<style scoped>\n    .dataframe tbody tr th:only-of-type {\n        vertical-align: middle;\n    }\n\n    .dataframe tbody tr th {\n        vertical-align: top;\n    }\n\n    .dataframe thead th {\n        text-align: right;\n    }\n</style>\n<table border=\"1\" class=\"dataframe\">\n  <thead>\n    <tr style=\"text-align: right;\">\n      <th></th>\n      <th>timestamp</th>\n      <th>expiration_date</th>\n      <th>strike</th>\n      <th>option_type</th>\n      <th>price</th>\n      <th>underlying_expiration_date</th>\n      <th>exchange_price</th>\n      <th>exchange_iv</th>\n      <th>underlying_price</th>\n      <th>intrinsic_value</th>\n      <th>time_value</th>\n      <th>price_status</th>\n    </tr>\n  </thead>\n  <tbody>\n    <tr>\n      <th>208</th>\n      <td>2025-02-11 00:00:00+00:00</td>\n      <td>2025-02-12 00:00:00+00:00</td>\n      <td>96000.0</td>\n      <td>c</td>\n      <td>526.641830</td>\n      <td>2025-02-12 00:00:00+00:00</td>\n      <td>338.273538</td>\n      <td>38.81</td>\n      <td>95757.81054</td>\n      <td>0.00</td>\n      <td>526.641830</td>\n      <td>atm</td>\n    </tr>\n    <tr>\n      <th>209</th>\n      <td>2025-02-12 00:00:00+00:00</td>\n      <td>2025-02-12 00:00:00+00:00</td>\n      <td>96000.0</td>\n      <td>c</td>\n      <td>57.629436</td>\n      <td>2025-02-12 00:00:00+00:00</td>\n      <td>50.398863</td>\n      <td>27.13</td>\n      <td>96049.03000</td>\n      <td>49.03</td>\n      <td>8.599436</td>\n      <td>atm</td>\n    </tr>\n  </tbody>\n</table>\n</div>"
     },
     "execution_count": 7,
     "metadata": {},
     "output_type": "execute_result"
    }
   ],
   "source": [
    "btc.enrichment.add_atm_itm_otm()\n",
    "btc.df_hist[btc.df_hist['price_status'] == OptionPriceStatus.ATM.code].head(2)"
   ]
  },
  {
   "cell_type": "code",
   "execution_count": 8,
   "outputs": [
    {
     "data": {
      "text/plain": "                      timestamp           expiration_date    strike  \\\n96    2025-02-11 00:00:00+00:00 2025-02-12 00:00:00+00:00  100000.0   \n97    2025-02-12 00:00:00+00:00 2025-02-12 00:00:00+00:00  100000.0   \n99    2025-02-11 00:00:00+00:00 2025-02-12 00:00:00+00:00  100000.0   \n100   2025-02-12 00:00:00+00:00 2025-02-12 00:00:00+00:00  100000.0   \n102   2025-02-11 00:00:00+00:00 2025-02-12 00:00:00+00:00  101000.0   \n...                         ...                       ...       ...   \n12397 2025-02-21 00:00:00+00:00 2025-03-07 00:00:00+00:00   99000.0   \n12398 2025-02-22 00:00:00+00:00 2025-03-07 00:00:00+00:00   99000.0   \n12399 2025-02-23 00:00:00+00:00 2025-03-07 00:00:00+00:00   99000.0   \n12400 2025-02-24 00:00:00+00:00 2025-03-07 00:00:00+00:00   99000.0   \n12401 2025-02-25 00:00:00+00:00 2025-03-07 00:00:00+00:00   99000.0   \n\n      option_type        price underlying_expiration_date  exchange_price  \\\n96              c     9.575306  2025-02-12 00:00:00+00:00        5.254928   \n97              c     9.604906  2025-02-12 00:00:00+00:00        0.000000   \n99              p  2058.690790  2025-02-12 00:00:00+00:00     4247.351996   \n100             p  2065.054790  2025-02-12 00:00:00+00:00     3951.033792   \n102             c     9.575306  2025-02-12 00:00:00+00:00        1.639292   \n...           ...          ...                        ...             ...   \n12397           p  4085.454875  2025-03-07 00:00:00+00:00     4653.977163   \n12398           p  4104.510600  2025-03-07 00:00:00+00:00     4348.096403   \n12399           p  4091.734250  2025-03-07 00:00:00+00:00     4406.783346   \n12400           p  6903.768320  2025-03-07 00:00:00+00:00     7965.533140   \n12401           p  8045.002875  2025-03-07 00:00:00+00:00     7540.309044   \n\n       exchange_iv  underlying_price  intrinsic_value   time_value  \\\n96           60.36       95757.81054          0.00000     9.575306   \n97           62.78       96049.03000          0.00000     9.604906   \n99           60.36       95757.81054       4242.18946 -2183.498670   \n100          62.78       96049.03000       3950.97000 -1885.915210   \n102          63.79       95757.81054          0.00000     9.575306   \n...            ...               ...              ...          ...   \n12397        42.07       96305.61000       2694.39000  1391.064875   \n12398        42.86       96710.74000       2289.26000  1815.250600   \n12399        43.39       96468.32000       2531.68000  1560.054250   \n12400        44.42       91570.16000       7429.84000  -526.071680   \n12401        45.60       92110.07000       6889.93000  1155.072875   \n\n      price_status  \n96             otm  \n97             otm  \n99             itm  \n100            itm  \n102            otm  \n...            ...  \n12397          itm  \n12398          itm  \n12399          itm  \n12400          itm  \n12401          itm  \n\n[11311 rows x 12 columns]",
      "text/html": "<div>\n<style scoped>\n    .dataframe tbody tr th:only-of-type {\n        vertical-align: middle;\n    }\n\n    .dataframe tbody tr th {\n        vertical-align: top;\n    }\n\n    .dataframe thead th {\n        text-align: right;\n    }\n</style>\n<table border=\"1\" class=\"dataframe\">\n  <thead>\n    <tr style=\"text-align: right;\">\n      <th></th>\n      <th>timestamp</th>\n      <th>expiration_date</th>\n      <th>strike</th>\n      <th>option_type</th>\n      <th>price</th>\n      <th>underlying_expiration_date</th>\n      <th>exchange_price</th>\n      <th>exchange_iv</th>\n      <th>underlying_price</th>\n      <th>intrinsic_value</th>\n      <th>time_value</th>\n      <th>price_status</th>\n    </tr>\n  </thead>\n  <tbody>\n    <tr>\n      <th>96</th>\n      <td>2025-02-11 00:00:00+00:00</td>\n      <td>2025-02-12 00:00:00+00:00</td>\n      <td>100000.0</td>\n      <td>c</td>\n      <td>9.575306</td>\n      <td>2025-02-12 00:00:00+00:00</td>\n      <td>5.254928</td>\n      <td>60.36</td>\n      <td>95757.81054</td>\n      <td>0.00000</td>\n      <td>9.575306</td>\n      <td>otm</td>\n    </tr>\n    <tr>\n      <th>97</th>\n      <td>2025-02-12 00:00:00+00:00</td>\n      <td>2025-02-12 00:00:00+00:00</td>\n      <td>100000.0</td>\n      <td>c</td>\n      <td>9.604906</td>\n      <td>2025-02-12 00:00:00+00:00</td>\n      <td>0.000000</td>\n      <td>62.78</td>\n      <td>96049.03000</td>\n      <td>0.00000</td>\n      <td>9.604906</td>\n      <td>otm</td>\n    </tr>\n    <tr>\n      <th>99</th>\n      <td>2025-02-11 00:00:00+00:00</td>\n      <td>2025-02-12 00:00:00+00:00</td>\n      <td>100000.0</td>\n      <td>p</td>\n      <td>2058.690790</td>\n      <td>2025-02-12 00:00:00+00:00</td>\n      <td>4247.351996</td>\n      <td>60.36</td>\n      <td>95757.81054</td>\n      <td>4242.18946</td>\n      <td>-2183.498670</td>\n      <td>itm</td>\n    </tr>\n    <tr>\n      <th>100</th>\n      <td>2025-02-12 00:00:00+00:00</td>\n      <td>2025-02-12 00:00:00+00:00</td>\n      <td>100000.0</td>\n      <td>p</td>\n      <td>2065.054790</td>\n      <td>2025-02-12 00:00:00+00:00</td>\n      <td>3951.033792</td>\n      <td>62.78</td>\n      <td>96049.03000</td>\n      <td>3950.97000</td>\n      <td>-1885.915210</td>\n      <td>itm</td>\n    </tr>\n    <tr>\n      <th>102</th>\n      <td>2025-02-11 00:00:00+00:00</td>\n      <td>2025-02-12 00:00:00+00:00</td>\n      <td>101000.0</td>\n      <td>c</td>\n      <td>9.575306</td>\n      <td>2025-02-12 00:00:00+00:00</td>\n      <td>1.639292</td>\n      <td>63.79</td>\n      <td>95757.81054</td>\n      <td>0.00000</td>\n      <td>9.575306</td>\n      <td>otm</td>\n    </tr>\n    <tr>\n      <th>...</th>\n      <td>...</td>\n      <td>...</td>\n      <td>...</td>\n      <td>...</td>\n      <td>...</td>\n      <td>...</td>\n      <td>...</td>\n      <td>...</td>\n      <td>...</td>\n      <td>...</td>\n      <td>...</td>\n      <td>...</td>\n    </tr>\n    <tr>\n      <th>12397</th>\n      <td>2025-02-21 00:00:00+00:00</td>\n      <td>2025-03-07 00:00:00+00:00</td>\n      <td>99000.0</td>\n      <td>p</td>\n      <td>4085.454875</td>\n      <td>2025-03-07 00:00:00+00:00</td>\n      <td>4653.977163</td>\n      <td>42.07</td>\n      <td>96305.61000</td>\n      <td>2694.39000</td>\n      <td>1391.064875</td>\n      <td>itm</td>\n    </tr>\n    <tr>\n      <th>12398</th>\n      <td>2025-02-22 00:00:00+00:00</td>\n      <td>2025-03-07 00:00:00+00:00</td>\n      <td>99000.0</td>\n      <td>p</td>\n      <td>4104.510600</td>\n      <td>2025-03-07 00:00:00+00:00</td>\n      <td>4348.096403</td>\n      <td>42.86</td>\n      <td>96710.74000</td>\n      <td>2289.26000</td>\n      <td>1815.250600</td>\n      <td>itm</td>\n    </tr>\n    <tr>\n      <th>12399</th>\n      <td>2025-02-23 00:00:00+00:00</td>\n      <td>2025-03-07 00:00:00+00:00</td>\n      <td>99000.0</td>\n      <td>p</td>\n      <td>4091.734250</td>\n      <td>2025-03-07 00:00:00+00:00</td>\n      <td>4406.783346</td>\n      <td>43.39</td>\n      <td>96468.32000</td>\n      <td>2531.68000</td>\n      <td>1560.054250</td>\n      <td>itm</td>\n    </tr>\n    <tr>\n      <th>12400</th>\n      <td>2025-02-24 00:00:00+00:00</td>\n      <td>2025-03-07 00:00:00+00:00</td>\n      <td>99000.0</td>\n      <td>p</td>\n      <td>6903.768320</td>\n      <td>2025-03-07 00:00:00+00:00</td>\n      <td>7965.533140</td>\n      <td>44.42</td>\n      <td>91570.16000</td>\n      <td>7429.84000</td>\n      <td>-526.071680</td>\n      <td>itm</td>\n    </tr>\n    <tr>\n      <th>12401</th>\n      <td>2025-02-25 00:00:00+00:00</td>\n      <td>2025-03-07 00:00:00+00:00</td>\n      <td>99000.0</td>\n      <td>p</td>\n      <td>8045.002875</td>\n      <td>2025-03-07 00:00:00+00:00</td>\n      <td>7540.309044</td>\n      <td>45.60</td>\n      <td>92110.07000</td>\n      <td>6889.93000</td>\n      <td>1155.072875</td>\n      <td>itm</td>\n    </tr>\n  </tbody>\n</table>\n<p>11311 rows × 12 columns</p>\n</div>"
     },
     "execution_count": 8,
     "metadata": {},
     "output_type": "execute_result"
    }
   ],
   "source": [
    "df_opt = btc.df_hist\n",
    "df_opt"
   ],
   "metadata": {
    "collapsed": false
   }
  },
  {
   "cell_type": "code",
   "execution_count": 9,
   "outputs": [
    {
     "data": {
      "text/plain": "(Timestamp('2025-02-25 00:00:00+0000', tz='UTC'),\n Timestamp('2025-02-28 00:00:00+0000', tz='UTC'))"
     },
     "execution_count": 9,
     "metadata": {},
     "output_type": "execute_result"
    }
   ],
   "source": [
    "# search for longest timeseries expiration_date\n",
    "settlement_date = df_opt['timestamp'].max() # 2025-02-28 00:00:00+0000\n",
    "expiration_date = btc.chain.get_settlement_longest_period_expired_date(settlement_date)\n",
    "settlement_date, expiration_date"
   ],
   "metadata": {
    "collapsed": false
   }
  },
  {
   "cell_type": "code",
   "execution_count": 10,
   "id": "6c1b52c4-fa39-4750-be1e-c258ad611962",
   "metadata": {},
   "outputs": [
    {
     "data": {
      "text/plain": "                      timestamp           expiration_date    strike  \\\n8988  2025-02-25 00:00:00+00:00 2025-02-28 00:00:00+00:00  100000.0   \n9003  2025-02-25 00:00:00+00:00 2025-02-28 00:00:00+00:00  100000.0   \n9018  2025-02-25 00:00:00+00:00 2025-02-28 00:00:00+00:00  101000.0   \n9033  2025-02-25 00:00:00+00:00 2025-02-28 00:00:00+00:00  101000.0   \n9048  2025-02-25 00:00:00+00:00 2025-02-28 00:00:00+00:00  102000.0   \n...                         ...                       ...       ...   \n10293 2025-02-25 00:00:00+00:00 2025-02-28 00:00:00+00:00   97000.0   \n10308 2025-02-25 00:00:00+00:00 2025-02-28 00:00:00+00:00   98000.0   \n10323 2025-02-25 00:00:00+00:00 2025-02-28 00:00:00+00:00   98000.0   \n10338 2025-02-25 00:00:00+00:00 2025-02-28 00:00:00+00:00   99000.0   \n10353 2025-02-25 00:00:00+00:00 2025-02-28 00:00:00+00:00   99000.0   \n\n      option_type        price underlying_expiration_date  exchange_price  \\\n8988            c   110.331468  2025-02-28 00:00:00+00:00      104.521597   \n9003            p  8182.917210  2025-02-28 00:00:00+00:00     8092.723074   \n9018            c    91.942890  2025-02-28 00:00:00+00:00       78.415333   \n9033            p  8964.431775  2025-02-28 00:00:00+00:00     9065.927531   \n9048            c    64.360023  2025-02-28 00:00:00+00:00       59.634158   \n...           ...          ...                        ...             ...   \n10293           p  5838.373515  2025-02-28 00:00:00+00:00     5252.986006   \n10308           c   174.691491  2025-02-28 00:00:00+00:00      188.056309   \n10323           p  6527.945190  2025-02-28 00:00:00+00:00     6177.636343   \n10338           c   183.885780  2025-02-28 00:00:00+00:00      135.840103   \n10353           p  4872.973170  2025-02-28 00:00:00+00:00     7124.730859   \n\n       exchange_iv  underlying_price  intrinsic_value   time_value  \\\n8988         55.17          92004.13             0.00   110.331468   \n9003         55.17          92006.37          7993.63   189.287210   \n9018         57.08          92004.13             0.00    91.942890   \n9033         57.08          92006.37          8993.63   -29.198225   \n9048         59.02          92006.37             0.00    64.360023   \n...            ...               ...              ...          ...   \n10293        49.38          92004.13          4995.87   842.503515   \n10308        51.08          92004.13             0.00   174.691491   \n10323        51.08          92004.13          5995.87   532.075190   \n10338        52.82          92006.37             0.00   183.885780   \n10353        52.82          92006.37          6993.63 -2120.656830   \n\n      price_status  \n8988           otm  \n9003           itm  \n9018           otm  \n9033           itm  \n9048           otm  \n...            ...  \n10293          itm  \n10308          otm  \n10323          itm  \n10338          otm  \n10353          itm  \n\n[91 rows x 12 columns]",
      "text/html": "<div>\n<style scoped>\n    .dataframe tbody tr th:only-of-type {\n        vertical-align: middle;\n    }\n\n    .dataframe tbody tr th {\n        vertical-align: top;\n    }\n\n    .dataframe thead th {\n        text-align: right;\n    }\n</style>\n<table border=\"1\" class=\"dataframe\">\n  <thead>\n    <tr style=\"text-align: right;\">\n      <th></th>\n      <th>timestamp</th>\n      <th>expiration_date</th>\n      <th>strike</th>\n      <th>option_type</th>\n      <th>price</th>\n      <th>underlying_expiration_date</th>\n      <th>exchange_price</th>\n      <th>exchange_iv</th>\n      <th>underlying_price</th>\n      <th>intrinsic_value</th>\n      <th>time_value</th>\n      <th>price_status</th>\n    </tr>\n  </thead>\n  <tbody>\n    <tr>\n      <th>8988</th>\n      <td>2025-02-25 00:00:00+00:00</td>\n      <td>2025-02-28 00:00:00+00:00</td>\n      <td>100000.0</td>\n      <td>c</td>\n      <td>110.331468</td>\n      <td>2025-02-28 00:00:00+00:00</td>\n      <td>104.521597</td>\n      <td>55.17</td>\n      <td>92004.13</td>\n      <td>0.00</td>\n      <td>110.331468</td>\n      <td>otm</td>\n    </tr>\n    <tr>\n      <th>9003</th>\n      <td>2025-02-25 00:00:00+00:00</td>\n      <td>2025-02-28 00:00:00+00:00</td>\n      <td>100000.0</td>\n      <td>p</td>\n      <td>8182.917210</td>\n      <td>2025-02-28 00:00:00+00:00</td>\n      <td>8092.723074</td>\n      <td>55.17</td>\n      <td>92006.37</td>\n      <td>7993.63</td>\n      <td>189.287210</td>\n      <td>itm</td>\n    </tr>\n    <tr>\n      <th>9018</th>\n      <td>2025-02-25 00:00:00+00:00</td>\n      <td>2025-02-28 00:00:00+00:00</td>\n      <td>101000.0</td>\n      <td>c</td>\n      <td>91.942890</td>\n      <td>2025-02-28 00:00:00+00:00</td>\n      <td>78.415333</td>\n      <td>57.08</td>\n      <td>92004.13</td>\n      <td>0.00</td>\n      <td>91.942890</td>\n      <td>otm</td>\n    </tr>\n    <tr>\n      <th>9033</th>\n      <td>2025-02-25 00:00:00+00:00</td>\n      <td>2025-02-28 00:00:00+00:00</td>\n      <td>101000.0</td>\n      <td>p</td>\n      <td>8964.431775</td>\n      <td>2025-02-28 00:00:00+00:00</td>\n      <td>9065.927531</td>\n      <td>57.08</td>\n      <td>92006.37</td>\n      <td>8993.63</td>\n      <td>-29.198225</td>\n      <td>itm</td>\n    </tr>\n    <tr>\n      <th>9048</th>\n      <td>2025-02-25 00:00:00+00:00</td>\n      <td>2025-02-28 00:00:00+00:00</td>\n      <td>102000.0</td>\n      <td>c</td>\n      <td>64.360023</td>\n      <td>2025-02-28 00:00:00+00:00</td>\n      <td>59.634158</td>\n      <td>59.02</td>\n      <td>92006.37</td>\n      <td>0.00</td>\n      <td>64.360023</td>\n      <td>otm</td>\n    </tr>\n    <tr>\n      <th>...</th>\n      <td>...</td>\n      <td>...</td>\n      <td>...</td>\n      <td>...</td>\n      <td>...</td>\n      <td>...</td>\n      <td>...</td>\n      <td>...</td>\n      <td>...</td>\n      <td>...</td>\n      <td>...</td>\n      <td>...</td>\n    </tr>\n    <tr>\n      <th>10293</th>\n      <td>2025-02-25 00:00:00+00:00</td>\n      <td>2025-02-28 00:00:00+00:00</td>\n      <td>97000.0</td>\n      <td>p</td>\n      <td>5838.373515</td>\n      <td>2025-02-28 00:00:00+00:00</td>\n      <td>5252.986006</td>\n      <td>49.38</td>\n      <td>92004.13</td>\n      <td>4995.87</td>\n      <td>842.503515</td>\n      <td>itm</td>\n    </tr>\n    <tr>\n      <th>10308</th>\n      <td>2025-02-25 00:00:00+00:00</td>\n      <td>2025-02-28 00:00:00+00:00</td>\n      <td>98000.0</td>\n      <td>c</td>\n      <td>174.691491</td>\n      <td>2025-02-28 00:00:00+00:00</td>\n      <td>188.056309</td>\n      <td>51.08</td>\n      <td>92004.13</td>\n      <td>0.00</td>\n      <td>174.691491</td>\n      <td>otm</td>\n    </tr>\n    <tr>\n      <th>10323</th>\n      <td>2025-02-25 00:00:00+00:00</td>\n      <td>2025-02-28 00:00:00+00:00</td>\n      <td>98000.0</td>\n      <td>p</td>\n      <td>6527.945190</td>\n      <td>2025-02-28 00:00:00+00:00</td>\n      <td>6177.636343</td>\n      <td>51.08</td>\n      <td>92004.13</td>\n      <td>5995.87</td>\n      <td>532.075190</td>\n      <td>itm</td>\n    </tr>\n    <tr>\n      <th>10338</th>\n      <td>2025-02-25 00:00:00+00:00</td>\n      <td>2025-02-28 00:00:00+00:00</td>\n      <td>99000.0</td>\n      <td>c</td>\n      <td>183.885780</td>\n      <td>2025-02-28 00:00:00+00:00</td>\n      <td>135.840103</td>\n      <td>52.82</td>\n      <td>92006.37</td>\n      <td>0.00</td>\n      <td>183.885780</td>\n      <td>otm</td>\n    </tr>\n    <tr>\n      <th>10353</th>\n      <td>2025-02-25 00:00:00+00:00</td>\n      <td>2025-02-28 00:00:00+00:00</td>\n      <td>99000.0</td>\n      <td>p</td>\n      <td>4872.973170</td>\n      <td>2025-02-28 00:00:00+00:00</td>\n      <td>7124.730859</td>\n      <td>52.82</td>\n      <td>92006.37</td>\n      <td>6993.63</td>\n      <td>-2120.656830</td>\n      <td>itm</td>\n    </tr>\n  </tbody>\n</table>\n<p>91 rows × 12 columns</p>\n</div>"
     },
     "execution_count": 10,
     "metadata": {},
     "output_type": "execute_result"
    }
   ],
   "source": [
    "df_opt_chain = btc.chain.select_chain(settlement_date, expiration_date)\n",
    "\n",
    "df_opt_chain"
   ]
  },
  {
   "cell_type": "markdown",
   "id": "5da1c84d-5f0d-43ca-ba5a-63614bfa35d1",
   "metadata": {},
   "source": [
    "Futures types:\n",
    "* Currency\n",
    "* Index\n",
    "* Commodities\n",
    "* Stock\n",
    "* Percent\n",
    "\n",
    "Is crypto new type or currency?\n"
   ]
  },
  {
   "cell_type": "markdown",
   "id": "7b45d294-0297-49cc-8adb-f506de46b0c0",
   "metadata": {},
   "source": [
    "BRN specification https://www.cmegroup.com/markets/energy/crude-oil/brent-crude-oil.html\n",
    "\n",
    "Option chain https://www.barchart.com/futures/quotes/CB*0/options?futuresOptionsView=merged"
   ]
  },
  {
   "cell_type": "code",
   "execution_count": 11,
   "id": "c08e4dd5-a51b-4bc0-ab83-f0b23ec196cc",
   "metadata": {},
   "outputs": [
    {
     "data": {
      "text/plain": "np.float64(92000.0)"
     },
     "execution_count": 11,
     "metadata": {},
     "output_type": "execute_result"
    }
   ],
   "source": [
    "atm_nearest_strikes = btc.chain.get_atm_nearest_strikes()\n",
    "atm_strike = atm_nearest_strikes[0]\n",
    "atm_strike"
   ]
  },
  {
   "cell_type": "code",
   "execution_count": 12,
   "outputs": [
    {
     "data": {
      "text/plain": "                      timestamp           expiration_date   strike  \\\n10128 2025-02-25 00:00:00+00:00 2025-02-28 00:00:00+00:00  92000.0   \n10143 2025-02-25 00:00:00+00:00 2025-02-28 00:00:00+00:00  92000.0   \n\n      option_type        price underlying_expiration_date  exchange_price  \\\n10128           c  1517.057685  2025-02-28 00:00:00+00:00     1590.631305   \n10143           p  1563.029130  2025-02-28 00:00:00+00:00     1584.346089   \n\n       exchange_iv  underlying_price  intrinsic_value   time_value  \\\n10128        46.86          92006.37             6.37  1510.687685   \n10143        46.86          92004.13             0.00  1563.029130   \n\n      price_status  \n10128          atm  \n10143          atm  ",
      "text/html": "<div>\n<style scoped>\n    .dataframe tbody tr th:only-of-type {\n        vertical-align: middle;\n    }\n\n    .dataframe tbody tr th {\n        vertical-align: top;\n    }\n\n    .dataframe thead th {\n        text-align: right;\n    }\n</style>\n<table border=\"1\" class=\"dataframe\">\n  <thead>\n    <tr style=\"text-align: right;\">\n      <th></th>\n      <th>timestamp</th>\n      <th>expiration_date</th>\n      <th>strike</th>\n      <th>option_type</th>\n      <th>price</th>\n      <th>underlying_expiration_date</th>\n      <th>exchange_price</th>\n      <th>exchange_iv</th>\n      <th>underlying_price</th>\n      <th>intrinsic_value</th>\n      <th>time_value</th>\n      <th>price_status</th>\n    </tr>\n  </thead>\n  <tbody>\n    <tr>\n      <th>10128</th>\n      <td>2025-02-25 00:00:00+00:00</td>\n      <td>2025-02-28 00:00:00+00:00</td>\n      <td>92000.0</td>\n      <td>c</td>\n      <td>1517.057685</td>\n      <td>2025-02-28 00:00:00+00:00</td>\n      <td>1590.631305</td>\n      <td>46.86</td>\n      <td>92006.37</td>\n      <td>6.37</td>\n      <td>1510.687685</td>\n      <td>atm</td>\n    </tr>\n    <tr>\n      <th>10143</th>\n      <td>2025-02-25 00:00:00+00:00</td>\n      <td>2025-02-28 00:00:00+00:00</td>\n      <td>92000.0</td>\n      <td>p</td>\n      <td>1563.029130</td>\n      <td>2025-02-28 00:00:00+00:00</td>\n      <td>1584.346089</td>\n      <td>46.86</td>\n      <td>92004.13</td>\n      <td>0.00</td>\n      <td>1563.029130</td>\n      <td>atm</td>\n    </tr>\n  </tbody>\n</table>\n</div>"
     },
     "execution_count": 12,
     "metadata": {},
     "output_type": "execute_result"
    }
   ],
   "source": [
    "atm_strike_df = df_opt_chain[df_opt_chain['strike'] == atm_strike]\n",
    "atm_strike_row = atm_strike_df[atm_strike_df['option_type'] == OptionType.CALL.code].iloc[0]\n",
    "atm_strike_df"
   ],
   "metadata": {
    "collapsed": false
   }
  },
  {
   "cell_type": "code",
   "execution_count": 13,
   "id": "207f4e08-85ee-48c3-ba09-8627edc38b3e",
   "metadata": {},
   "outputs": [
    {
     "data": {
      "text/plain": "    time_value_call  intrinsic_value_call  exchange_iv_call  \\\n18       360.917275               4006.37             54.08   \n19       360.917275               4006.37             54.08   \n20       754.156700               2004.13             49.32   \n21       754.156700               2004.13             49.32   \n22      1202.499360               1004.13             47.68   \n23      1202.499360               1004.13             47.68   \n24      1510.687685                  6.37             46.86   \n25      1510.687685                  6.37             46.86   \n26      1149.286125                  0.00             46.62   \n27      1149.286125                  0.00             46.62   \n28       735.543120                  0.00             46.72   \n29       735.543120                  0.00             46.72   \n30       551.657340                  0.00             47.12   \n31       551.657340                  0.00             47.12   \n32       367.771560                  0.00             48.11   \n33       367.771560                  0.00             48.11   \n34       239.051514                  0.00             49.38   \n35       239.051514                  0.00             49.38   \n36       174.691491                  0.00             51.08   \n37       174.691491                  0.00             51.08   \n\n    exchange_price_call   price_call price_status_call   strike  \\\n18          4461.848699  4367.287275               itm  88000.0   \n19          4461.848699  4367.287275               itm  88000.0   \n20          2845.006314  2758.286700               itm  90000.0   \n21          2845.006314  2758.286700               itm  90000.0   \n22          2159.055350  2206.629360               itm  91000.0   \n23          2159.055350  2206.629360               itm  91000.0   \n24          1590.631305  1517.057685               atm  92000.0   \n25          1590.631305  1517.057685               atm  92000.0   \n26          1140.793360  1149.286125               otm  93000.0   \n27          1140.793360  1149.286125               otm  93000.0   \n28           797.382988   735.543120               otm  94000.0   \n29           797.382988   735.543120               otm  94000.0   \n30           546.718168   551.657340               otm  95000.0   \n31           546.718168   551.657340               otm  95000.0   \n32           377.671970   367.771560               otm  96000.0   \n33           377.671970   367.771560               otm  96000.0   \n34           262.717614   239.051514               otm  97000.0   \n35           262.717614   239.051514               otm  97000.0   \n36           188.056309   174.691491               otm  98000.0   \n37           188.056309   174.691491               otm  98000.0   \n\n   price_status_put    price_put  exchange_price_put  exchange_iv_put  \\\n18              otm   459.714450          458.319676            54.08   \n19              otm   459.714450          458.319676            54.08   \n20              otm   919.428900          840.098736            49.32   \n21              otm   919.428900          840.098736            49.32   \n22              otm  1149.286125         1153.458493            47.68   \n23              otm  1149.286125         1153.458493            47.68   \n24              atm  1563.029130         1584.346089            46.86   \n25              atm  1563.029130         1584.346089            46.86   \n26              itm  2114.686470         2133.817947            46.62   \n27              itm  2114.686470         2133.817947            46.62   \n28              itm  2942.172480         2789.719216            46.72   \n29              itm  2942.172480         2789.719216            46.72   \n30              itm  3172.029705         3538.365117            47.12   \n31              itm  3172.029705         3538.365117            47.12   \n32              itm  3999.515715         4368.630561            48.11   \n33              itm  3999.515715         4368.630561            48.11   \n34              itm  5838.373515         5252.986006            49.38   \n35              itm  5838.373515         5252.986006            49.38   \n36              itm  6527.945190         6177.636343            51.08   \n37              itm  6527.945190         6177.636343            51.08   \n\n    intrinsic_value_put  time_value_put                 timestamp  \\\n18                 0.00      459.714450 2025-02-25 00:00:00+00:00   \n19                 0.00      459.714450 2025-02-25 00:00:00+00:00   \n20                 0.00      919.428900 2025-02-25 00:00:00+00:00   \n21                 0.00      919.428900 2025-02-25 00:00:00+00:00   \n22                 0.00     1149.286125 2025-02-25 00:00:00+00:00   \n23                 0.00     1149.286125 2025-02-25 00:00:00+00:00   \n24                 0.00     1563.029130 2025-02-25 00:00:00+00:00   \n25                 0.00     1563.029130 2025-02-25 00:00:00+00:00   \n26               993.63     1121.056470 2025-02-25 00:00:00+00:00   \n27               993.63     1121.056470 2025-02-25 00:00:00+00:00   \n28              1995.87      946.302480 2025-02-25 00:00:00+00:00   \n29              1995.87      946.302480 2025-02-25 00:00:00+00:00   \n30              2993.63      178.399705 2025-02-25 00:00:00+00:00   \n31              2993.63      178.399705 2025-02-25 00:00:00+00:00   \n32              3995.87        3.645715 2025-02-25 00:00:00+00:00   \n33              3995.87        3.645715 2025-02-25 00:00:00+00:00   \n34              4995.87      842.503515 2025-02-25 00:00:00+00:00   \n35              4995.87      842.503515 2025-02-25 00:00:00+00:00   \n36              5995.87      532.075190 2025-02-25 00:00:00+00:00   \n37              5995.87      532.075190 2025-02-25 00:00:00+00:00   \n\n    underlying_price           expiration_date underlying_expiration_date  \n18          92004.13 2025-02-28 00:00:00+00:00  2025-02-28 00:00:00+00:00  \n19          92006.37 2025-02-28 00:00:00+00:00  2025-02-28 00:00:00+00:00  \n20          92004.13 2025-02-28 00:00:00+00:00  2025-02-28 00:00:00+00:00  \n21          92006.37 2025-02-28 00:00:00+00:00  2025-02-28 00:00:00+00:00  \n22          92004.13 2025-02-28 00:00:00+00:00  2025-02-28 00:00:00+00:00  \n23          92006.37 2025-02-28 00:00:00+00:00  2025-02-28 00:00:00+00:00  \n24          92004.13 2025-02-28 00:00:00+00:00  2025-02-28 00:00:00+00:00  \n25          92006.37 2025-02-28 00:00:00+00:00  2025-02-28 00:00:00+00:00  \n26          92004.13 2025-02-28 00:00:00+00:00  2025-02-28 00:00:00+00:00  \n27          92006.37 2025-02-28 00:00:00+00:00  2025-02-28 00:00:00+00:00  \n28          92004.13 2025-02-28 00:00:00+00:00  2025-02-28 00:00:00+00:00  \n29          92006.37 2025-02-28 00:00:00+00:00  2025-02-28 00:00:00+00:00  \n30          92004.13 2025-02-28 00:00:00+00:00  2025-02-28 00:00:00+00:00  \n31          92006.37 2025-02-28 00:00:00+00:00  2025-02-28 00:00:00+00:00  \n32          92004.13 2025-02-28 00:00:00+00:00  2025-02-28 00:00:00+00:00  \n33          92006.37 2025-02-28 00:00:00+00:00  2025-02-28 00:00:00+00:00  \n34          92004.13 2025-02-28 00:00:00+00:00  2025-02-28 00:00:00+00:00  \n35          92006.37 2025-02-28 00:00:00+00:00  2025-02-28 00:00:00+00:00  \n36          92004.13 2025-02-28 00:00:00+00:00  2025-02-28 00:00:00+00:00  \n37          92006.37 2025-02-28 00:00:00+00:00  2025-02-28 00:00:00+00:00  ",
      "text/html": "<div>\n<style scoped>\n    .dataframe tbody tr th:only-of-type {\n        vertical-align: middle;\n    }\n\n    .dataframe tbody tr th {\n        vertical-align: top;\n    }\n\n    .dataframe thead th {\n        text-align: right;\n    }\n</style>\n<table border=\"1\" class=\"dataframe\">\n  <thead>\n    <tr style=\"text-align: right;\">\n      <th></th>\n      <th>time_value_call</th>\n      <th>intrinsic_value_call</th>\n      <th>exchange_iv_call</th>\n      <th>exchange_price_call</th>\n      <th>price_call</th>\n      <th>price_status_call</th>\n      <th>strike</th>\n      <th>price_status_put</th>\n      <th>price_put</th>\n      <th>exchange_price_put</th>\n      <th>exchange_iv_put</th>\n      <th>intrinsic_value_put</th>\n      <th>time_value_put</th>\n      <th>timestamp</th>\n      <th>underlying_price</th>\n      <th>expiration_date</th>\n      <th>underlying_expiration_date</th>\n    </tr>\n  </thead>\n  <tbody>\n    <tr>\n      <th>18</th>\n      <td>360.917275</td>\n      <td>4006.37</td>\n      <td>54.08</td>\n      <td>4461.848699</td>\n      <td>4367.287275</td>\n      <td>itm</td>\n      <td>88000.0</td>\n      <td>otm</td>\n      <td>459.714450</td>\n      <td>458.319676</td>\n      <td>54.08</td>\n      <td>0.00</td>\n      <td>459.714450</td>\n      <td>2025-02-25 00:00:00+00:00</td>\n      <td>92004.13</td>\n      <td>2025-02-28 00:00:00+00:00</td>\n      <td>2025-02-28 00:00:00+00:00</td>\n    </tr>\n    <tr>\n      <th>19</th>\n      <td>360.917275</td>\n      <td>4006.37</td>\n      <td>54.08</td>\n      <td>4461.848699</td>\n      <td>4367.287275</td>\n      <td>itm</td>\n      <td>88000.0</td>\n      <td>otm</td>\n      <td>459.714450</td>\n      <td>458.319676</td>\n      <td>54.08</td>\n      <td>0.00</td>\n      <td>459.714450</td>\n      <td>2025-02-25 00:00:00+00:00</td>\n      <td>92006.37</td>\n      <td>2025-02-28 00:00:00+00:00</td>\n      <td>2025-02-28 00:00:00+00:00</td>\n    </tr>\n    <tr>\n      <th>20</th>\n      <td>754.156700</td>\n      <td>2004.13</td>\n      <td>49.32</td>\n      <td>2845.006314</td>\n      <td>2758.286700</td>\n      <td>itm</td>\n      <td>90000.0</td>\n      <td>otm</td>\n      <td>919.428900</td>\n      <td>840.098736</td>\n      <td>49.32</td>\n      <td>0.00</td>\n      <td>919.428900</td>\n      <td>2025-02-25 00:00:00+00:00</td>\n      <td>92004.13</td>\n      <td>2025-02-28 00:00:00+00:00</td>\n      <td>2025-02-28 00:00:00+00:00</td>\n    </tr>\n    <tr>\n      <th>21</th>\n      <td>754.156700</td>\n      <td>2004.13</td>\n      <td>49.32</td>\n      <td>2845.006314</td>\n      <td>2758.286700</td>\n      <td>itm</td>\n      <td>90000.0</td>\n      <td>otm</td>\n      <td>919.428900</td>\n      <td>840.098736</td>\n      <td>49.32</td>\n      <td>0.00</td>\n      <td>919.428900</td>\n      <td>2025-02-25 00:00:00+00:00</td>\n      <td>92006.37</td>\n      <td>2025-02-28 00:00:00+00:00</td>\n      <td>2025-02-28 00:00:00+00:00</td>\n    </tr>\n    <tr>\n      <th>22</th>\n      <td>1202.499360</td>\n      <td>1004.13</td>\n      <td>47.68</td>\n      <td>2159.055350</td>\n      <td>2206.629360</td>\n      <td>itm</td>\n      <td>91000.0</td>\n      <td>otm</td>\n      <td>1149.286125</td>\n      <td>1153.458493</td>\n      <td>47.68</td>\n      <td>0.00</td>\n      <td>1149.286125</td>\n      <td>2025-02-25 00:00:00+00:00</td>\n      <td>92004.13</td>\n      <td>2025-02-28 00:00:00+00:00</td>\n      <td>2025-02-28 00:00:00+00:00</td>\n    </tr>\n    <tr>\n      <th>23</th>\n      <td>1202.499360</td>\n      <td>1004.13</td>\n      <td>47.68</td>\n      <td>2159.055350</td>\n      <td>2206.629360</td>\n      <td>itm</td>\n      <td>91000.0</td>\n      <td>otm</td>\n      <td>1149.286125</td>\n      <td>1153.458493</td>\n      <td>47.68</td>\n      <td>0.00</td>\n      <td>1149.286125</td>\n      <td>2025-02-25 00:00:00+00:00</td>\n      <td>92006.37</td>\n      <td>2025-02-28 00:00:00+00:00</td>\n      <td>2025-02-28 00:00:00+00:00</td>\n    </tr>\n    <tr>\n      <th>24</th>\n      <td>1510.687685</td>\n      <td>6.37</td>\n      <td>46.86</td>\n      <td>1590.631305</td>\n      <td>1517.057685</td>\n      <td>atm</td>\n      <td>92000.0</td>\n      <td>atm</td>\n      <td>1563.029130</td>\n      <td>1584.346089</td>\n      <td>46.86</td>\n      <td>0.00</td>\n      <td>1563.029130</td>\n      <td>2025-02-25 00:00:00+00:00</td>\n      <td>92004.13</td>\n      <td>2025-02-28 00:00:00+00:00</td>\n      <td>2025-02-28 00:00:00+00:00</td>\n    </tr>\n    <tr>\n      <th>25</th>\n      <td>1510.687685</td>\n      <td>6.37</td>\n      <td>46.86</td>\n      <td>1590.631305</td>\n      <td>1517.057685</td>\n      <td>atm</td>\n      <td>92000.0</td>\n      <td>atm</td>\n      <td>1563.029130</td>\n      <td>1584.346089</td>\n      <td>46.86</td>\n      <td>0.00</td>\n      <td>1563.029130</td>\n      <td>2025-02-25 00:00:00+00:00</td>\n      <td>92006.37</td>\n      <td>2025-02-28 00:00:00+00:00</td>\n      <td>2025-02-28 00:00:00+00:00</td>\n    </tr>\n    <tr>\n      <th>26</th>\n      <td>1149.286125</td>\n      <td>0.00</td>\n      <td>46.62</td>\n      <td>1140.793360</td>\n      <td>1149.286125</td>\n      <td>otm</td>\n      <td>93000.0</td>\n      <td>itm</td>\n      <td>2114.686470</td>\n      <td>2133.817947</td>\n      <td>46.62</td>\n      <td>993.63</td>\n      <td>1121.056470</td>\n      <td>2025-02-25 00:00:00+00:00</td>\n      <td>92004.13</td>\n      <td>2025-02-28 00:00:00+00:00</td>\n      <td>2025-02-28 00:00:00+00:00</td>\n    </tr>\n    <tr>\n      <th>27</th>\n      <td>1149.286125</td>\n      <td>0.00</td>\n      <td>46.62</td>\n      <td>1140.793360</td>\n      <td>1149.286125</td>\n      <td>otm</td>\n      <td>93000.0</td>\n      <td>itm</td>\n      <td>2114.686470</td>\n      <td>2133.817947</td>\n      <td>46.62</td>\n      <td>993.63</td>\n      <td>1121.056470</td>\n      <td>2025-02-25 00:00:00+00:00</td>\n      <td>92006.37</td>\n      <td>2025-02-28 00:00:00+00:00</td>\n      <td>2025-02-28 00:00:00+00:00</td>\n    </tr>\n    <tr>\n      <th>28</th>\n      <td>735.543120</td>\n      <td>0.00</td>\n      <td>46.72</td>\n      <td>797.382988</td>\n      <td>735.543120</td>\n      <td>otm</td>\n      <td>94000.0</td>\n      <td>itm</td>\n      <td>2942.172480</td>\n      <td>2789.719216</td>\n      <td>46.72</td>\n      <td>1995.87</td>\n      <td>946.302480</td>\n      <td>2025-02-25 00:00:00+00:00</td>\n      <td>92004.13</td>\n      <td>2025-02-28 00:00:00+00:00</td>\n      <td>2025-02-28 00:00:00+00:00</td>\n    </tr>\n    <tr>\n      <th>29</th>\n      <td>735.543120</td>\n      <td>0.00</td>\n      <td>46.72</td>\n      <td>797.382988</td>\n      <td>735.543120</td>\n      <td>otm</td>\n      <td>94000.0</td>\n      <td>itm</td>\n      <td>2942.172480</td>\n      <td>2789.719216</td>\n      <td>46.72</td>\n      <td>1995.87</td>\n      <td>946.302480</td>\n      <td>2025-02-25 00:00:00+00:00</td>\n      <td>92006.37</td>\n      <td>2025-02-28 00:00:00+00:00</td>\n      <td>2025-02-28 00:00:00+00:00</td>\n    </tr>\n    <tr>\n      <th>30</th>\n      <td>551.657340</td>\n      <td>0.00</td>\n      <td>47.12</td>\n      <td>546.718168</td>\n      <td>551.657340</td>\n      <td>otm</td>\n      <td>95000.0</td>\n      <td>itm</td>\n      <td>3172.029705</td>\n      <td>3538.365117</td>\n      <td>47.12</td>\n      <td>2993.63</td>\n      <td>178.399705</td>\n      <td>2025-02-25 00:00:00+00:00</td>\n      <td>92004.13</td>\n      <td>2025-02-28 00:00:00+00:00</td>\n      <td>2025-02-28 00:00:00+00:00</td>\n    </tr>\n    <tr>\n      <th>31</th>\n      <td>551.657340</td>\n      <td>0.00</td>\n      <td>47.12</td>\n      <td>546.718168</td>\n      <td>551.657340</td>\n      <td>otm</td>\n      <td>95000.0</td>\n      <td>itm</td>\n      <td>3172.029705</td>\n      <td>3538.365117</td>\n      <td>47.12</td>\n      <td>2993.63</td>\n      <td>178.399705</td>\n      <td>2025-02-25 00:00:00+00:00</td>\n      <td>92006.37</td>\n      <td>2025-02-28 00:00:00+00:00</td>\n      <td>2025-02-28 00:00:00+00:00</td>\n    </tr>\n    <tr>\n      <th>32</th>\n      <td>367.771560</td>\n      <td>0.00</td>\n      <td>48.11</td>\n      <td>377.671970</td>\n      <td>367.771560</td>\n      <td>otm</td>\n      <td>96000.0</td>\n      <td>itm</td>\n      <td>3999.515715</td>\n      <td>4368.630561</td>\n      <td>48.11</td>\n      <td>3995.87</td>\n      <td>3.645715</td>\n      <td>2025-02-25 00:00:00+00:00</td>\n      <td>92004.13</td>\n      <td>2025-02-28 00:00:00+00:00</td>\n      <td>2025-02-28 00:00:00+00:00</td>\n    </tr>\n    <tr>\n      <th>33</th>\n      <td>367.771560</td>\n      <td>0.00</td>\n      <td>48.11</td>\n      <td>377.671970</td>\n      <td>367.771560</td>\n      <td>otm</td>\n      <td>96000.0</td>\n      <td>itm</td>\n      <td>3999.515715</td>\n      <td>4368.630561</td>\n      <td>48.11</td>\n      <td>3995.87</td>\n      <td>3.645715</td>\n      <td>2025-02-25 00:00:00+00:00</td>\n      <td>92006.37</td>\n      <td>2025-02-28 00:00:00+00:00</td>\n      <td>2025-02-28 00:00:00+00:00</td>\n    </tr>\n    <tr>\n      <th>34</th>\n      <td>239.051514</td>\n      <td>0.00</td>\n      <td>49.38</td>\n      <td>262.717614</td>\n      <td>239.051514</td>\n      <td>otm</td>\n      <td>97000.0</td>\n      <td>itm</td>\n      <td>5838.373515</td>\n      <td>5252.986006</td>\n      <td>49.38</td>\n      <td>4995.87</td>\n      <td>842.503515</td>\n      <td>2025-02-25 00:00:00+00:00</td>\n      <td>92004.13</td>\n      <td>2025-02-28 00:00:00+00:00</td>\n      <td>2025-02-28 00:00:00+00:00</td>\n    </tr>\n    <tr>\n      <th>35</th>\n      <td>239.051514</td>\n      <td>0.00</td>\n      <td>49.38</td>\n      <td>262.717614</td>\n      <td>239.051514</td>\n      <td>otm</td>\n      <td>97000.0</td>\n      <td>itm</td>\n      <td>5838.373515</td>\n      <td>5252.986006</td>\n      <td>49.38</td>\n      <td>4995.87</td>\n      <td>842.503515</td>\n      <td>2025-02-25 00:00:00+00:00</td>\n      <td>92006.37</td>\n      <td>2025-02-28 00:00:00+00:00</td>\n      <td>2025-02-28 00:00:00+00:00</td>\n    </tr>\n    <tr>\n      <th>36</th>\n      <td>174.691491</td>\n      <td>0.00</td>\n      <td>51.08</td>\n      <td>188.056309</td>\n      <td>174.691491</td>\n      <td>otm</td>\n      <td>98000.0</td>\n      <td>itm</td>\n      <td>6527.945190</td>\n      <td>6177.636343</td>\n      <td>51.08</td>\n      <td>5995.87</td>\n      <td>532.075190</td>\n      <td>2025-02-25 00:00:00+00:00</td>\n      <td>92004.13</td>\n      <td>2025-02-28 00:00:00+00:00</td>\n      <td>2025-02-28 00:00:00+00:00</td>\n    </tr>\n    <tr>\n      <th>37</th>\n      <td>174.691491</td>\n      <td>0.00</td>\n      <td>51.08</td>\n      <td>188.056309</td>\n      <td>174.691491</td>\n      <td>otm</td>\n      <td>98000.0</td>\n      <td>itm</td>\n      <td>6527.945190</td>\n      <td>6177.636343</td>\n      <td>51.08</td>\n      <td>5995.87</td>\n      <td>532.075190</td>\n      <td>2025-02-25 00:00:00+00:00</td>\n      <td>92006.37</td>\n      <td>2025-02-28 00:00:00+00:00</td>\n      <td>2025-02-28 00:00:00+00:00</td>\n    </tr>\n  </tbody>\n</table>\n</div>"
     },
     "execution_count": 13,
     "metadata": {},
     "output_type": "execute_result"
    }
   ],
   "source": [
    "df_desk = btc.chain.get_desk(\n",
    "    option_columns=['price', 'exchange_price', 'exchange_iv','price_status',\n",
    "                    'intrinsic_value', 'time_value', 'timestamp', 'expiration_date', 'strike'])\n",
    "res_col = ['time_value_call', 'intrinsic_value_call', 'exchange_iv_call', 'exchange_price_call', 'price_call', 'price_status_call',\n",
    "            'strike',\n",
    "           'price_status_put', 'price_put', 'exchange_price_put', 'exchange_iv_put', 'intrinsic_value_put', 'time_value_put',\n",
    "           'timestamp', 'underlying_price', 'expiration_date', 'underlying_expiration_date']\n",
    "df_desk[df_desk['strike'].isin(atm_nearest_strikes[:10])][res_col]"
   ]
  },
  {
   "cell_type": "markdown",
   "id": "29a24774-8941-489a-80b7-1dba8b8c6bbf",
   "metadata": {
    "editable": true,
    "slideshow": {
     "slide_type": ""
    },
    "tags": []
   },
   "source": [
    "The time value of the option decreases by the expiration date\n",
    "\n",
    "ITM options have a low time value (low weight) in the total option price. In fact, the deeper an option is in the money, the lower its time value and the more it resembles a linear underlying asset (i.e., the corresponding futures).\n",
    "\n",
    "OTM options have no intrinsic value (which is understandable – they are unprofitable to execute). The entire value of an out–of-money option is the intrinsic value. It is important to understand that if the market does not overcome the strike of this option, the final expiration option price will be zero.\n",
    "\n",
    "ATM options have the maximum weight of the time value in the option price and the maximum non-linearity. For this reason, they are the most liquid on the market. When the underlying asset moves up or down from current levels, the liquidity of these options will decrease."
   ]
  },
  {
   "cell_type": "code",
   "execution_count": 14,
   "outputs": [
    {
     "data": {
      "text/plain": "(Timestamp('2025-02-25 00:00:00+0000', tz='UTC'),\n Timestamp('2025-02-28 00:00:00+0000', tz='UTC'))"
     },
     "execution_count": 14,
     "metadata": {},
     "output_type": "execute_result"
    }
   ],
   "source": [
    "settlement_date, expiration_date = btc.chain.get_settlement_and_expiration_date()\n",
    "settlement_date, expiration_date"
   ],
   "metadata": {
    "collapsed": false
   }
  },
  {
   "cell_type": "code",
   "execution_count": 15,
   "outputs": [
    {
     "data": {
      "application/vnd.plotly.v1+json": {
       "data": [
        {
         "mode": "lines",
         "name": "ATM",
         "x": [
          "2025-02-11T00:00:00+00:00",
          "2025-02-12T00:00:00+00:00",
          "2025-02-13T00:00:00+00:00",
          "2025-02-14T00:00:00+00:00",
          "2025-02-15T00:00:00+00:00",
          "2025-02-16T00:00:00+00:00",
          "2025-02-17T00:00:00+00:00",
          "2025-02-18T00:00:00+00:00",
          "2025-02-19T00:00:00+00:00",
          "2025-02-20T00:00:00+00:00",
          "2025-02-21T00:00:00+00:00",
          "2025-02-22T00:00:00+00:00",
          "2025-02-23T00:00:00+00:00",
          "2025-02-24T00:00:00+00:00",
          "2025-02-25T00:00:00+00:00"
         ],
         "y": [
          3995.688519999998,
          3629.3757800000008,
          3381.6471500000007,
          3169.066225,
          3171.710425,
          3263.247559999994,
          2729.68041,
          2485.65252,
          2222.59672,
          1966.586,
          1902.9636999999993,
          1834.95768,
          1334.0517500000014,
          1676.85504,
          1510.6876850000046
         ],
         "type": "scatter"
        }
       ],
       "layout": {
        "template": {
         "data": {
          "barpolar": [
           {
            "marker": {
             "line": {
              "color": "rgb(17,17,17)",
              "width": 0.5
             },
             "pattern": {
              "fillmode": "overlay",
              "size": 10,
              "solidity": 0.2
             }
            },
            "type": "barpolar"
           }
          ],
          "bar": [
           {
            "error_x": {
             "color": "#f2f5fa"
            },
            "error_y": {
             "color": "#f2f5fa"
            },
            "marker": {
             "line": {
              "color": "rgb(17,17,17)",
              "width": 0.5
             },
             "pattern": {
              "fillmode": "overlay",
              "size": 10,
              "solidity": 0.2
             }
            },
            "type": "bar"
           }
          ],
          "carpet": [
           {
            "aaxis": {
             "endlinecolor": "#A2B1C6",
             "gridcolor": "#506784",
             "linecolor": "#506784",
             "minorgridcolor": "#506784",
             "startlinecolor": "#A2B1C6"
            },
            "baxis": {
             "endlinecolor": "#A2B1C6",
             "gridcolor": "#506784",
             "linecolor": "#506784",
             "minorgridcolor": "#506784",
             "startlinecolor": "#A2B1C6"
            },
            "type": "carpet"
           }
          ],
          "choropleth": [
           {
            "colorbar": {
             "outlinewidth": 0,
             "ticks": ""
            },
            "type": "choropleth"
           }
          ],
          "contourcarpet": [
           {
            "colorbar": {
             "outlinewidth": 0,
             "ticks": ""
            },
            "type": "contourcarpet"
           }
          ],
          "contour": [
           {
            "colorbar": {
             "outlinewidth": 0,
             "ticks": ""
            },
            "colorscale": [
             [
              0.0,
              "#0d0887"
             ],
             [
              0.1111111111111111,
              "#46039f"
             ],
             [
              0.2222222222222222,
              "#7201a8"
             ],
             [
              0.3333333333333333,
              "#9c179e"
             ],
             [
              0.4444444444444444,
              "#bd3786"
             ],
             [
              0.5555555555555556,
              "#d8576b"
             ],
             [
              0.6666666666666666,
              "#ed7953"
             ],
             [
              0.7777777777777778,
              "#fb9f3a"
             ],
             [
              0.8888888888888888,
              "#fdca26"
             ],
             [
              1.0,
              "#f0f921"
             ]
            ],
            "type": "contour"
           }
          ],
          "heatmapgl": [
           {
            "colorbar": {
             "outlinewidth": 0,
             "ticks": ""
            },
            "colorscale": [
             [
              0.0,
              "#0d0887"
             ],
             [
              0.1111111111111111,
              "#46039f"
             ],
             [
              0.2222222222222222,
              "#7201a8"
             ],
             [
              0.3333333333333333,
              "#9c179e"
             ],
             [
              0.4444444444444444,
              "#bd3786"
             ],
             [
              0.5555555555555556,
              "#d8576b"
             ],
             [
              0.6666666666666666,
              "#ed7953"
             ],
             [
              0.7777777777777778,
              "#fb9f3a"
             ],
             [
              0.8888888888888888,
              "#fdca26"
             ],
             [
              1.0,
              "#f0f921"
             ]
            ],
            "type": "heatmapgl"
           }
          ],
          "heatmap": [
           {
            "colorbar": {
             "outlinewidth": 0,
             "ticks": ""
            },
            "colorscale": [
             [
              0.0,
              "#0d0887"
             ],
             [
              0.1111111111111111,
              "#46039f"
             ],
             [
              0.2222222222222222,
              "#7201a8"
             ],
             [
              0.3333333333333333,
              "#9c179e"
             ],
             [
              0.4444444444444444,
              "#bd3786"
             ],
             [
              0.5555555555555556,
              "#d8576b"
             ],
             [
              0.6666666666666666,
              "#ed7953"
             ],
             [
              0.7777777777777778,
              "#fb9f3a"
             ],
             [
              0.8888888888888888,
              "#fdca26"
             ],
             [
              1.0,
              "#f0f921"
             ]
            ],
            "type": "heatmap"
           }
          ],
          "histogram2dcontour": [
           {
            "colorbar": {
             "outlinewidth": 0,
             "ticks": ""
            },
            "colorscale": [
             [
              0.0,
              "#0d0887"
             ],
             [
              0.1111111111111111,
              "#46039f"
             ],
             [
              0.2222222222222222,
              "#7201a8"
             ],
             [
              0.3333333333333333,
              "#9c179e"
             ],
             [
              0.4444444444444444,
              "#bd3786"
             ],
             [
              0.5555555555555556,
              "#d8576b"
             ],
             [
              0.6666666666666666,
              "#ed7953"
             ],
             [
              0.7777777777777778,
              "#fb9f3a"
             ],
             [
              0.8888888888888888,
              "#fdca26"
             ],
             [
              1.0,
              "#f0f921"
             ]
            ],
            "type": "histogram2dcontour"
           }
          ],
          "histogram2d": [
           {
            "colorbar": {
             "outlinewidth": 0,
             "ticks": ""
            },
            "colorscale": [
             [
              0.0,
              "#0d0887"
             ],
             [
              0.1111111111111111,
              "#46039f"
             ],
             [
              0.2222222222222222,
              "#7201a8"
             ],
             [
              0.3333333333333333,
              "#9c179e"
             ],
             [
              0.4444444444444444,
              "#bd3786"
             ],
             [
              0.5555555555555556,
              "#d8576b"
             ],
             [
              0.6666666666666666,
              "#ed7953"
             ],
             [
              0.7777777777777778,
              "#fb9f3a"
             ],
             [
              0.8888888888888888,
              "#fdca26"
             ],
             [
              1.0,
              "#f0f921"
             ]
            ],
            "type": "histogram2d"
           }
          ],
          "histogram": [
           {
            "marker": {
             "pattern": {
              "fillmode": "overlay",
              "size": 10,
              "solidity": 0.2
             }
            },
            "type": "histogram"
           }
          ],
          "mesh3d": [
           {
            "colorbar": {
             "outlinewidth": 0,
             "ticks": ""
            },
            "type": "mesh3d"
           }
          ],
          "parcoords": [
           {
            "line": {
             "colorbar": {
              "outlinewidth": 0,
              "ticks": ""
             }
            },
            "type": "parcoords"
           }
          ],
          "pie": [
           {
            "automargin": true,
            "type": "pie"
           }
          ],
          "scatter3d": [
           {
            "line": {
             "colorbar": {
              "outlinewidth": 0,
              "ticks": ""
             }
            },
            "marker": {
             "colorbar": {
              "outlinewidth": 0,
              "ticks": ""
             }
            },
            "type": "scatter3d"
           }
          ],
          "scattercarpet": [
           {
            "marker": {
             "colorbar": {
              "outlinewidth": 0,
              "ticks": ""
             }
            },
            "type": "scattercarpet"
           }
          ],
          "scattergeo": [
           {
            "marker": {
             "colorbar": {
              "outlinewidth": 0,
              "ticks": ""
             }
            },
            "type": "scattergeo"
           }
          ],
          "scattergl": [
           {
            "marker": {
             "line": {
              "color": "#283442"
             }
            },
            "type": "scattergl"
           }
          ],
          "scattermapbox": [
           {
            "marker": {
             "colorbar": {
              "outlinewidth": 0,
              "ticks": ""
             }
            },
            "type": "scattermapbox"
           }
          ],
          "scatterpolargl": [
           {
            "marker": {
             "colorbar": {
              "outlinewidth": 0,
              "ticks": ""
             }
            },
            "type": "scatterpolargl"
           }
          ],
          "scatterpolar": [
           {
            "marker": {
             "colorbar": {
              "outlinewidth": 0,
              "ticks": ""
             }
            },
            "type": "scatterpolar"
           }
          ],
          "scatter": [
           {
            "marker": {
             "line": {
              "color": "#283442"
             }
            },
            "type": "scatter"
           }
          ],
          "scatterternary": [
           {
            "marker": {
             "colorbar": {
              "outlinewidth": 0,
              "ticks": ""
             }
            },
            "type": "scatterternary"
           }
          ],
          "surface": [
           {
            "colorbar": {
             "outlinewidth": 0,
             "ticks": ""
            },
            "colorscale": [
             [
              0.0,
              "#0d0887"
             ],
             [
              0.1111111111111111,
              "#46039f"
             ],
             [
              0.2222222222222222,
              "#7201a8"
             ],
             [
              0.3333333333333333,
              "#9c179e"
             ],
             [
              0.4444444444444444,
              "#bd3786"
             ],
             [
              0.5555555555555556,
              "#d8576b"
             ],
             [
              0.6666666666666666,
              "#ed7953"
             ],
             [
              0.7777777777777778,
              "#fb9f3a"
             ],
             [
              0.8888888888888888,
              "#fdca26"
             ],
             [
              1.0,
              "#f0f921"
             ]
            ],
            "type": "surface"
           }
          ],
          "table": [
           {
            "cells": {
             "fill": {
              "color": "#506784"
             },
             "line": {
              "color": "rgb(17,17,17)"
             }
            },
            "header": {
             "fill": {
              "color": "#2a3f5f"
             },
             "line": {
              "color": "rgb(17,17,17)"
             }
            },
            "type": "table"
           }
          ]
         },
         "layout": {
          "annotationdefaults": {
           "arrowcolor": "#f2f5fa",
           "arrowhead": 0,
           "arrowwidth": 1
          },
          "autotypenumbers": "strict",
          "coloraxis": {
           "colorbar": {
            "outlinewidth": 0,
            "ticks": ""
           }
          },
          "colorscale": {
           "diverging": [
            [
             0,
             "#8e0152"
            ],
            [
             0.1,
             "#c51b7d"
            ],
            [
             0.2,
             "#de77ae"
            ],
            [
             0.3,
             "#f1b6da"
            ],
            [
             0.4,
             "#fde0ef"
            ],
            [
             0.5,
             "#f7f7f7"
            ],
            [
             0.6,
             "#e6f5d0"
            ],
            [
             0.7,
             "#b8e186"
            ],
            [
             0.8,
             "#7fbc41"
            ],
            [
             0.9,
             "#4d9221"
            ],
            [
             1,
             "#276419"
            ]
           ],
           "sequential": [
            [
             0.0,
             "#0d0887"
            ],
            [
             0.1111111111111111,
             "#46039f"
            ],
            [
             0.2222222222222222,
             "#7201a8"
            ],
            [
             0.3333333333333333,
             "#9c179e"
            ],
            [
             0.4444444444444444,
             "#bd3786"
            ],
            [
             0.5555555555555556,
             "#d8576b"
            ],
            [
             0.6666666666666666,
             "#ed7953"
            ],
            [
             0.7777777777777778,
             "#fb9f3a"
            ],
            [
             0.8888888888888888,
             "#fdca26"
            ],
            [
             1.0,
             "#f0f921"
            ]
           ],
           "sequentialminus": [
            [
             0.0,
             "#0d0887"
            ],
            [
             0.1111111111111111,
             "#46039f"
            ],
            [
             0.2222222222222222,
             "#7201a8"
            ],
            [
             0.3333333333333333,
             "#9c179e"
            ],
            [
             0.4444444444444444,
             "#bd3786"
            ],
            [
             0.5555555555555556,
             "#d8576b"
            ],
            [
             0.6666666666666666,
             "#ed7953"
            ],
            [
             0.7777777777777778,
             "#fb9f3a"
            ],
            [
             0.8888888888888888,
             "#fdca26"
            ],
            [
             1.0,
             "#f0f921"
            ]
           ]
          },
          "colorway": [
           "#636efa",
           "#EF553B",
           "#00cc96",
           "#ab63fa",
           "#FFA15A",
           "#19d3f3",
           "#FF6692",
           "#B6E880",
           "#FF97FF",
           "#FECB52"
          ],
          "font": {
           "color": "#f2f5fa"
          },
          "geo": {
           "bgcolor": "rgb(17,17,17)",
           "lakecolor": "rgb(17,17,17)",
           "landcolor": "rgb(17,17,17)",
           "showlakes": true,
           "showland": true,
           "subunitcolor": "#506784"
          },
          "hoverlabel": {
           "align": "left"
          },
          "hovermode": "closest",
          "mapbox": {
           "style": "dark"
          },
          "paper_bgcolor": "rgb(17,17,17)",
          "plot_bgcolor": "rgb(17,17,17)",
          "polar": {
           "angularaxis": {
            "gridcolor": "#506784",
            "linecolor": "#506784",
            "ticks": ""
           },
           "bgcolor": "rgb(17,17,17)",
           "radialaxis": {
            "gridcolor": "#506784",
            "linecolor": "#506784",
            "ticks": ""
           }
          },
          "scene": {
           "xaxis": {
            "backgroundcolor": "rgb(17,17,17)",
            "gridcolor": "#506784",
            "gridwidth": 2,
            "linecolor": "#506784",
            "showbackground": true,
            "ticks": "",
            "zerolinecolor": "#C8D4E3"
           },
           "yaxis": {
            "backgroundcolor": "rgb(17,17,17)",
            "gridcolor": "#506784",
            "gridwidth": 2,
            "linecolor": "#506784",
            "showbackground": true,
            "ticks": "",
            "zerolinecolor": "#C8D4E3"
           },
           "zaxis": {
            "backgroundcolor": "rgb(17,17,17)",
            "gridcolor": "#506784",
            "gridwidth": 2,
            "linecolor": "#506784",
            "showbackground": true,
            "ticks": "",
            "zerolinecolor": "#C8D4E3"
           }
          },
          "shapedefaults": {
           "line": {
            "color": "#f2f5fa"
           }
          },
          "sliderdefaults": {
           "bgcolor": "#C8D4E3",
           "bordercolor": "rgb(17,17,17)",
           "borderwidth": 1,
           "tickwidth": 0
          },
          "ternary": {
           "aaxis": {
            "gridcolor": "#506784",
            "linecolor": "#506784",
            "ticks": ""
           },
           "baxis": {
            "gridcolor": "#506784",
            "linecolor": "#506784",
            "ticks": ""
           },
           "bgcolor": "rgb(17,17,17)",
           "caxis": {
            "gridcolor": "#506784",
            "linecolor": "#506784",
            "ticks": ""
           }
          },
          "title": {
           "x": 0.05
          },
          "updatemenudefaults": {
           "bgcolor": "#506784",
           "borderwidth": 0
          },
          "xaxis": {
           "automargin": true,
           "gridcolor": "#283442",
           "linecolor": "#506784",
           "ticks": "",
           "title": {
            "standoff": 15
           },
           "zerolinecolor": "#283442",
           "zerolinewidth": 2
          },
          "yaxis": {
           "automargin": true,
           "gridcolor": "#283442",
           "linecolor": "#506784",
           "ticks": "",
           "title": {
            "standoff": 15
           },
           "zerolinecolor": "#283442",
           "zerolinewidth": 2
          }
         }
        }
       },
       "config": {
        "showLink": false,
        "linkText": "Export to plot.ly",
        "plotlyServerURL": "https://plot.ly"
       }
      },
      "text/html": "<div>                            <div id=\"6f1d24f9-69d9-4c2c-b436-9353affb73eb\" class=\"plotly-graph-div\" style=\"height:525px; width:100%;\"></div>            <script type=\"text/javascript\">                require([\"plotly\"], function(Plotly) {                    window.PLOTLYENV=window.PLOTLYENV || {};                                    if (document.getElementById(\"6f1d24f9-69d9-4c2c-b436-9353affb73eb\")) {                    Plotly.newPlot(                        \"6f1d24f9-69d9-4c2c-b436-9353affb73eb\",                        [{\"mode\":\"lines\",\"name\":\"ATM\",\"x\":[\"2025-02-11T00:00:00+00:00\",\"2025-02-12T00:00:00+00:00\",\"2025-02-13T00:00:00+00:00\",\"2025-02-14T00:00:00+00:00\",\"2025-02-15T00:00:00+00:00\",\"2025-02-16T00:00:00+00:00\",\"2025-02-17T00:00:00+00:00\",\"2025-02-18T00:00:00+00:00\",\"2025-02-19T00:00:00+00:00\",\"2025-02-20T00:00:00+00:00\",\"2025-02-21T00:00:00+00:00\",\"2025-02-22T00:00:00+00:00\",\"2025-02-23T00:00:00+00:00\",\"2025-02-24T00:00:00+00:00\",\"2025-02-25T00:00:00+00:00\"],\"y\":[3995.688519999998,3629.3757800000008,3381.6471500000007,3169.066225,3171.710425,3263.247559999994,2729.68041,2485.65252,2222.59672,1966.586,1902.9636999999993,1834.95768,1334.0517500000014,1676.85504,1510.6876850000046],\"type\":\"scatter\"}],                        {\"template\":{\"data\":{\"barpolar\":[{\"marker\":{\"line\":{\"color\":\"rgb(17,17,17)\",\"width\":0.5},\"pattern\":{\"fillmode\":\"overlay\",\"size\":10,\"solidity\":0.2}},\"type\":\"barpolar\"}],\"bar\":[{\"error_x\":{\"color\":\"#f2f5fa\"},\"error_y\":{\"color\":\"#f2f5fa\"},\"marker\":{\"line\":{\"color\":\"rgb(17,17,17)\",\"width\":0.5},\"pattern\":{\"fillmode\":\"overlay\",\"size\":10,\"solidity\":0.2}},\"type\":\"bar\"}],\"carpet\":[{\"aaxis\":{\"endlinecolor\":\"#A2B1C6\",\"gridcolor\":\"#506784\",\"linecolor\":\"#506784\",\"minorgridcolor\":\"#506784\",\"startlinecolor\":\"#A2B1C6\"},\"baxis\":{\"endlinecolor\":\"#A2B1C6\",\"gridcolor\":\"#506784\",\"linecolor\":\"#506784\",\"minorgridcolor\":\"#506784\",\"startlinecolor\":\"#A2B1C6\"},\"type\":\"carpet\"}],\"choropleth\":[{\"colorbar\":{\"outlinewidth\":0,\"ticks\":\"\"},\"type\":\"choropleth\"}],\"contourcarpet\":[{\"colorbar\":{\"outlinewidth\":0,\"ticks\":\"\"},\"type\":\"contourcarpet\"}],\"contour\":[{\"colorbar\":{\"outlinewidth\":0,\"ticks\":\"\"},\"colorscale\":[[0.0,\"#0d0887\"],[0.1111111111111111,\"#46039f\"],[0.2222222222222222,\"#7201a8\"],[0.3333333333333333,\"#9c179e\"],[0.4444444444444444,\"#bd3786\"],[0.5555555555555556,\"#d8576b\"],[0.6666666666666666,\"#ed7953\"],[0.7777777777777778,\"#fb9f3a\"],[0.8888888888888888,\"#fdca26\"],[1.0,\"#f0f921\"]],\"type\":\"contour\"}],\"heatmapgl\":[{\"colorbar\":{\"outlinewidth\":0,\"ticks\":\"\"},\"colorscale\":[[0.0,\"#0d0887\"],[0.1111111111111111,\"#46039f\"],[0.2222222222222222,\"#7201a8\"],[0.3333333333333333,\"#9c179e\"],[0.4444444444444444,\"#bd3786\"],[0.5555555555555556,\"#d8576b\"],[0.6666666666666666,\"#ed7953\"],[0.7777777777777778,\"#fb9f3a\"],[0.8888888888888888,\"#fdca26\"],[1.0,\"#f0f921\"]],\"type\":\"heatmapgl\"}],\"heatmap\":[{\"colorbar\":{\"outlinewidth\":0,\"ticks\":\"\"},\"colorscale\":[[0.0,\"#0d0887\"],[0.1111111111111111,\"#46039f\"],[0.2222222222222222,\"#7201a8\"],[0.3333333333333333,\"#9c179e\"],[0.4444444444444444,\"#bd3786\"],[0.5555555555555556,\"#d8576b\"],[0.6666666666666666,\"#ed7953\"],[0.7777777777777778,\"#fb9f3a\"],[0.8888888888888888,\"#fdca26\"],[1.0,\"#f0f921\"]],\"type\":\"heatmap\"}],\"histogram2dcontour\":[{\"colorbar\":{\"outlinewidth\":0,\"ticks\":\"\"},\"colorscale\":[[0.0,\"#0d0887\"],[0.1111111111111111,\"#46039f\"],[0.2222222222222222,\"#7201a8\"],[0.3333333333333333,\"#9c179e\"],[0.4444444444444444,\"#bd3786\"],[0.5555555555555556,\"#d8576b\"],[0.6666666666666666,\"#ed7953\"],[0.7777777777777778,\"#fb9f3a\"],[0.8888888888888888,\"#fdca26\"],[1.0,\"#f0f921\"]],\"type\":\"histogram2dcontour\"}],\"histogram2d\":[{\"colorbar\":{\"outlinewidth\":0,\"ticks\":\"\"},\"colorscale\":[[0.0,\"#0d0887\"],[0.1111111111111111,\"#46039f\"],[0.2222222222222222,\"#7201a8\"],[0.3333333333333333,\"#9c179e\"],[0.4444444444444444,\"#bd3786\"],[0.5555555555555556,\"#d8576b\"],[0.6666666666666666,\"#ed7953\"],[0.7777777777777778,\"#fb9f3a\"],[0.8888888888888888,\"#fdca26\"],[1.0,\"#f0f921\"]],\"type\":\"histogram2d\"}],\"histogram\":[{\"marker\":{\"pattern\":{\"fillmode\":\"overlay\",\"size\":10,\"solidity\":0.2}},\"type\":\"histogram\"}],\"mesh3d\":[{\"colorbar\":{\"outlinewidth\":0,\"ticks\":\"\"},\"type\":\"mesh3d\"}],\"parcoords\":[{\"line\":{\"colorbar\":{\"outlinewidth\":0,\"ticks\":\"\"}},\"type\":\"parcoords\"}],\"pie\":[{\"automargin\":true,\"type\":\"pie\"}],\"scatter3d\":[{\"line\":{\"colorbar\":{\"outlinewidth\":0,\"ticks\":\"\"}},\"marker\":{\"colorbar\":{\"outlinewidth\":0,\"ticks\":\"\"}},\"type\":\"scatter3d\"}],\"scattercarpet\":[{\"marker\":{\"colorbar\":{\"outlinewidth\":0,\"ticks\":\"\"}},\"type\":\"scattercarpet\"}],\"scattergeo\":[{\"marker\":{\"colorbar\":{\"outlinewidth\":0,\"ticks\":\"\"}},\"type\":\"scattergeo\"}],\"scattergl\":[{\"marker\":{\"line\":{\"color\":\"#283442\"}},\"type\":\"scattergl\"}],\"scattermapbox\":[{\"marker\":{\"colorbar\":{\"outlinewidth\":0,\"ticks\":\"\"}},\"type\":\"scattermapbox\"}],\"scatterpolargl\":[{\"marker\":{\"colorbar\":{\"outlinewidth\":0,\"ticks\":\"\"}},\"type\":\"scatterpolargl\"}],\"scatterpolar\":[{\"marker\":{\"colorbar\":{\"outlinewidth\":0,\"ticks\":\"\"}},\"type\":\"scatterpolar\"}],\"scatter\":[{\"marker\":{\"line\":{\"color\":\"#283442\"}},\"type\":\"scatter\"}],\"scatterternary\":[{\"marker\":{\"colorbar\":{\"outlinewidth\":0,\"ticks\":\"\"}},\"type\":\"scatterternary\"}],\"surface\":[{\"colorbar\":{\"outlinewidth\":0,\"ticks\":\"\"},\"colorscale\":[[0.0,\"#0d0887\"],[0.1111111111111111,\"#46039f\"],[0.2222222222222222,\"#7201a8\"],[0.3333333333333333,\"#9c179e\"],[0.4444444444444444,\"#bd3786\"],[0.5555555555555556,\"#d8576b\"],[0.6666666666666666,\"#ed7953\"],[0.7777777777777778,\"#fb9f3a\"],[0.8888888888888888,\"#fdca26\"],[1.0,\"#f0f921\"]],\"type\":\"surface\"}],\"table\":[{\"cells\":{\"fill\":{\"color\":\"#506784\"},\"line\":{\"color\":\"rgb(17,17,17)\"}},\"header\":{\"fill\":{\"color\":\"#2a3f5f\"},\"line\":{\"color\":\"rgb(17,17,17)\"}},\"type\":\"table\"}]},\"layout\":{\"annotationdefaults\":{\"arrowcolor\":\"#f2f5fa\",\"arrowhead\":0,\"arrowwidth\":1},\"autotypenumbers\":\"strict\",\"coloraxis\":{\"colorbar\":{\"outlinewidth\":0,\"ticks\":\"\"}},\"colorscale\":{\"diverging\":[[0,\"#8e0152\"],[0.1,\"#c51b7d\"],[0.2,\"#de77ae\"],[0.3,\"#f1b6da\"],[0.4,\"#fde0ef\"],[0.5,\"#f7f7f7\"],[0.6,\"#e6f5d0\"],[0.7,\"#b8e186\"],[0.8,\"#7fbc41\"],[0.9,\"#4d9221\"],[1,\"#276419\"]],\"sequential\":[[0.0,\"#0d0887\"],[0.1111111111111111,\"#46039f\"],[0.2222222222222222,\"#7201a8\"],[0.3333333333333333,\"#9c179e\"],[0.4444444444444444,\"#bd3786\"],[0.5555555555555556,\"#d8576b\"],[0.6666666666666666,\"#ed7953\"],[0.7777777777777778,\"#fb9f3a\"],[0.8888888888888888,\"#fdca26\"],[1.0,\"#f0f921\"]],\"sequentialminus\":[[0.0,\"#0d0887\"],[0.1111111111111111,\"#46039f\"],[0.2222222222222222,\"#7201a8\"],[0.3333333333333333,\"#9c179e\"],[0.4444444444444444,\"#bd3786\"],[0.5555555555555556,\"#d8576b\"],[0.6666666666666666,\"#ed7953\"],[0.7777777777777778,\"#fb9f3a\"],[0.8888888888888888,\"#fdca26\"],[1.0,\"#f0f921\"]]},\"colorway\":[\"#636efa\",\"#EF553B\",\"#00cc96\",\"#ab63fa\",\"#FFA15A\",\"#19d3f3\",\"#FF6692\",\"#B6E880\",\"#FF97FF\",\"#FECB52\"],\"font\":{\"color\":\"#f2f5fa\"},\"geo\":{\"bgcolor\":\"rgb(17,17,17)\",\"lakecolor\":\"rgb(17,17,17)\",\"landcolor\":\"rgb(17,17,17)\",\"showlakes\":true,\"showland\":true,\"subunitcolor\":\"#506784\"},\"hoverlabel\":{\"align\":\"left\"},\"hovermode\":\"closest\",\"mapbox\":{\"style\":\"dark\"},\"paper_bgcolor\":\"rgb(17,17,17)\",\"plot_bgcolor\":\"rgb(17,17,17)\",\"polar\":{\"angularaxis\":{\"gridcolor\":\"#506784\",\"linecolor\":\"#506784\",\"ticks\":\"\"},\"bgcolor\":\"rgb(17,17,17)\",\"radialaxis\":{\"gridcolor\":\"#506784\",\"linecolor\":\"#506784\",\"ticks\":\"\"}},\"scene\":{\"xaxis\":{\"backgroundcolor\":\"rgb(17,17,17)\",\"gridcolor\":\"#506784\",\"gridwidth\":2,\"linecolor\":\"#506784\",\"showbackground\":true,\"ticks\":\"\",\"zerolinecolor\":\"#C8D4E3\"},\"yaxis\":{\"backgroundcolor\":\"rgb(17,17,17)\",\"gridcolor\":\"#506784\",\"gridwidth\":2,\"linecolor\":\"#506784\",\"showbackground\":true,\"ticks\":\"\",\"zerolinecolor\":\"#C8D4E3\"},\"zaxis\":{\"backgroundcolor\":\"rgb(17,17,17)\",\"gridcolor\":\"#506784\",\"gridwidth\":2,\"linecolor\":\"#506784\",\"showbackground\":true,\"ticks\":\"\",\"zerolinecolor\":\"#C8D4E3\"}},\"shapedefaults\":{\"line\":{\"color\":\"#f2f5fa\"}},\"sliderdefaults\":{\"bgcolor\":\"#C8D4E3\",\"bordercolor\":\"rgb(17,17,17)\",\"borderwidth\":1,\"tickwidth\":0},\"ternary\":{\"aaxis\":{\"gridcolor\":\"#506784\",\"linecolor\":\"#506784\",\"ticks\":\"\"},\"baxis\":{\"gridcolor\":\"#506784\",\"linecolor\":\"#506784\",\"ticks\":\"\"},\"bgcolor\":\"rgb(17,17,17)\",\"caxis\":{\"gridcolor\":\"#506784\",\"linecolor\":\"#506784\",\"ticks\":\"\"}},\"title\":{\"x\":0.05},\"updatemenudefaults\":{\"bgcolor\":\"#506784\",\"borderwidth\":0},\"xaxis\":{\"automargin\":true,\"gridcolor\":\"#283442\",\"linecolor\":\"#506784\",\"ticks\":\"\",\"title\":{\"standoff\":15},\"zerolinecolor\":\"#283442\",\"zerolinewidth\":2},\"yaxis\":{\"automargin\":true,\"gridcolor\":\"#283442\",\"linecolor\":\"#506784\",\"ticks\":\"\",\"title\":{\"standoff\":15},\"zerolinecolor\":\"#283442\",\"zerolinewidth\":2}}}},                        {\"responsive\": true}                    ).then(function(){\n                            \nvar gd = document.getElementById('6f1d24f9-69d9-4c2c-b436-9353affb73eb');\nvar x = new MutationObserver(function (mutations, observer) {{\n        var display = window.getComputedStyle(gd).display;\n        if (!display || display === 'none') {{\n            console.log([gd, 'removed!']);\n            Plotly.purge(gd);\n            observer.disconnect();\n        }}\n}});\n\n// Listen for the removal of the full notebook cells\nvar notebookContainer = gd.closest('#notebook-container');\nif (notebookContainer) {{\n    x.observe(notebookContainer, {childList: true});\n}}\n\n// Listen for the clearing of the current output cell\nvar outputEl = gd.closest('.output');\nif (outputEl) {{\n    x.observe(outputEl, {childList: true});\n}}\n\n                        })                };                });            </script>        </div>"
     },
     "metadata": {},
     "output_type": "display_data"
    }
   ],
   "source": [
    "btc.chart.init()\n",
    "btc.chart.price.time_values(expiration_date=expiration_date, name='ATM')\n",
    "btc.chart.show()"
   ],
   "metadata": {
    "collapsed": false
   }
  },
  {
   "cell_type": "code",
   "execution_count": 16,
   "outputs": [
    {
     "data": {
      "application/vnd.plotly.v1+json": {
       "data": [
        {
         "mode": "lines",
         "name": "ATM",
         "x": [
          "2025-02-11T00:00:00+00:00",
          "2025-02-12T00:00:00+00:00",
          "2025-02-13T00:00:00+00:00",
          "2025-02-14T00:00:00+00:00",
          "2025-02-15T00:00:00+00:00",
          "2025-02-16T00:00:00+00:00",
          "2025-02-17T00:00:00+00:00",
          "2025-02-18T00:00:00+00:00",
          "2025-02-19T00:00:00+00:00",
          "2025-02-20T00:00:00+00:00",
          "2025-02-21T00:00:00+00:00",
          "2025-02-22T00:00:00+00:00",
          "2025-02-23T00:00:00+00:00",
          "2025-02-24T00:00:00+00:00",
          "2025-02-25T00:00:00+00:00"
         ],
         "y": [
          3995.688519999998,
          3629.3757800000008,
          3381.6471500000007,
          3169.066225,
          3171.710425,
          3263.247559999994,
          2729.68041,
          2485.65252,
          2222.59672,
          1966.586,
          1902.9636999999993,
          1834.95768,
          1334.0517500000014,
          1676.85504,
          1510.6876850000046
         ],
         "type": "scatter"
        },
        {
         "mode": "lines",
         "name": "strike 94000.0",
         "x": [
          "2025-02-11T00:00:00+00:00",
          "2025-02-12T00:00:00+00:00",
          "2025-02-13T00:00:00+00:00",
          "2025-02-14T00:00:00+00:00",
          "2025-02-15T00:00:00+00:00",
          "2025-02-16T00:00:00+00:00",
          "2025-02-17T00:00:00+00:00",
          "2025-02-18T00:00:00+00:00",
          "2025-02-19T00:00:00+00:00",
          "2025-02-20T00:00:00+00:00",
          "2025-02-21T00:00:00+00:00",
          "2025-02-22T00:00:00+00:00",
          "2025-02-23T00:00:00+00:00",
          "2025-02-24T00:00:00+00:00",
          "2025-02-25T00:00:00+00:00"
         ],
         "y": [
          2489.5795599999997,
          2545.01052,
          2270.5345150000003,
          2096.459195,
          2000.6173450000001,
          2260.08007,
          1676.1195500000001,
          1051.62222,
          1062.98104,
          884.9636999999999,
          913.219325,
          772.6137600000001,
          818.3468500000001,
          822.9657599999999,
          551.65734
         ],
         "type": "scatter"
        },
        {
         "mode": "lines",
         "name": "ATM distance 1",
         "x": [
          "2025-02-11T00:00:00+00:00",
          "2025-02-12T00:00:00+00:00",
          "2025-02-13T00:00:00+00:00",
          "2025-02-14T00:00:00+00:00",
          "2025-02-15T00:00:00+00:00",
          "2025-02-16T00:00:00+00:00",
          "2025-02-17T00:00:00+00:00",
          "2025-02-18T00:00:00+00:00",
          "2025-02-19T00:00:00+00:00",
          "2025-02-20T00:00:00+00:00",
          "2025-02-21T00:00:00+00:00",
          "2025-02-22T00:00:00+00:00",
          "2025-02-23T00:00:00+00:00",
          "2025-02-24T00:00:00+00:00",
          "2025-02-25T00:00:00+00:00"
         ],
         "y": [
          3995.688519999998,
          3629.3757800000008,
          3381.6471500000007,
          3169.066225,
          3171.710425,
          3263.247559999994,
          2729.68041,
          2485.65252,
          2222.59672,
          1966.586,
          1902.9636999999993,
          1834.95768,
          1334.0517500000014,
          1676.85504,
          1510.6876850000046
         ],
         "type": "scatter"
        }
       ],
       "layout": {
        "template": {
         "data": {
          "barpolar": [
           {
            "marker": {
             "line": {
              "color": "rgb(17,17,17)",
              "width": 0.5
             },
             "pattern": {
              "fillmode": "overlay",
              "size": 10,
              "solidity": 0.2
             }
            },
            "type": "barpolar"
           }
          ],
          "bar": [
           {
            "error_x": {
             "color": "#f2f5fa"
            },
            "error_y": {
             "color": "#f2f5fa"
            },
            "marker": {
             "line": {
              "color": "rgb(17,17,17)",
              "width": 0.5
             },
             "pattern": {
              "fillmode": "overlay",
              "size": 10,
              "solidity": 0.2
             }
            },
            "type": "bar"
           }
          ],
          "carpet": [
           {
            "aaxis": {
             "endlinecolor": "#A2B1C6",
             "gridcolor": "#506784",
             "linecolor": "#506784",
             "minorgridcolor": "#506784",
             "startlinecolor": "#A2B1C6"
            },
            "baxis": {
             "endlinecolor": "#A2B1C6",
             "gridcolor": "#506784",
             "linecolor": "#506784",
             "minorgridcolor": "#506784",
             "startlinecolor": "#A2B1C6"
            },
            "type": "carpet"
           }
          ],
          "choropleth": [
           {
            "colorbar": {
             "outlinewidth": 0,
             "ticks": ""
            },
            "type": "choropleth"
           }
          ],
          "contourcarpet": [
           {
            "colorbar": {
             "outlinewidth": 0,
             "ticks": ""
            },
            "type": "contourcarpet"
           }
          ],
          "contour": [
           {
            "colorbar": {
             "outlinewidth": 0,
             "ticks": ""
            },
            "colorscale": [
             [
              0.0,
              "#0d0887"
             ],
             [
              0.1111111111111111,
              "#46039f"
             ],
             [
              0.2222222222222222,
              "#7201a8"
             ],
             [
              0.3333333333333333,
              "#9c179e"
             ],
             [
              0.4444444444444444,
              "#bd3786"
             ],
             [
              0.5555555555555556,
              "#d8576b"
             ],
             [
              0.6666666666666666,
              "#ed7953"
             ],
             [
              0.7777777777777778,
              "#fb9f3a"
             ],
             [
              0.8888888888888888,
              "#fdca26"
             ],
             [
              1.0,
              "#f0f921"
             ]
            ],
            "type": "contour"
           }
          ],
          "heatmapgl": [
           {
            "colorbar": {
             "outlinewidth": 0,
             "ticks": ""
            },
            "colorscale": [
             [
              0.0,
              "#0d0887"
             ],
             [
              0.1111111111111111,
              "#46039f"
             ],
             [
              0.2222222222222222,
              "#7201a8"
             ],
             [
              0.3333333333333333,
              "#9c179e"
             ],
             [
              0.4444444444444444,
              "#bd3786"
             ],
             [
              0.5555555555555556,
              "#d8576b"
             ],
             [
              0.6666666666666666,
              "#ed7953"
             ],
             [
              0.7777777777777778,
              "#fb9f3a"
             ],
             [
              0.8888888888888888,
              "#fdca26"
             ],
             [
              1.0,
              "#f0f921"
             ]
            ],
            "type": "heatmapgl"
           }
          ],
          "heatmap": [
           {
            "colorbar": {
             "outlinewidth": 0,
             "ticks": ""
            },
            "colorscale": [
             [
              0.0,
              "#0d0887"
             ],
             [
              0.1111111111111111,
              "#46039f"
             ],
             [
              0.2222222222222222,
              "#7201a8"
             ],
             [
              0.3333333333333333,
              "#9c179e"
             ],
             [
              0.4444444444444444,
              "#bd3786"
             ],
             [
              0.5555555555555556,
              "#d8576b"
             ],
             [
              0.6666666666666666,
              "#ed7953"
             ],
             [
              0.7777777777777778,
              "#fb9f3a"
             ],
             [
              0.8888888888888888,
              "#fdca26"
             ],
             [
              1.0,
              "#f0f921"
             ]
            ],
            "type": "heatmap"
           }
          ],
          "histogram2dcontour": [
           {
            "colorbar": {
             "outlinewidth": 0,
             "ticks": ""
            },
            "colorscale": [
             [
              0.0,
              "#0d0887"
             ],
             [
              0.1111111111111111,
              "#46039f"
             ],
             [
              0.2222222222222222,
              "#7201a8"
             ],
             [
              0.3333333333333333,
              "#9c179e"
             ],
             [
              0.4444444444444444,
              "#bd3786"
             ],
             [
              0.5555555555555556,
              "#d8576b"
             ],
             [
              0.6666666666666666,
              "#ed7953"
             ],
             [
              0.7777777777777778,
              "#fb9f3a"
             ],
             [
              0.8888888888888888,
              "#fdca26"
             ],
             [
              1.0,
              "#f0f921"
             ]
            ],
            "type": "histogram2dcontour"
           }
          ],
          "histogram2d": [
           {
            "colorbar": {
             "outlinewidth": 0,
             "ticks": ""
            },
            "colorscale": [
             [
              0.0,
              "#0d0887"
             ],
             [
              0.1111111111111111,
              "#46039f"
             ],
             [
              0.2222222222222222,
              "#7201a8"
             ],
             [
              0.3333333333333333,
              "#9c179e"
             ],
             [
              0.4444444444444444,
              "#bd3786"
             ],
             [
              0.5555555555555556,
              "#d8576b"
             ],
             [
              0.6666666666666666,
              "#ed7953"
             ],
             [
              0.7777777777777778,
              "#fb9f3a"
             ],
             [
              0.8888888888888888,
              "#fdca26"
             ],
             [
              1.0,
              "#f0f921"
             ]
            ],
            "type": "histogram2d"
           }
          ],
          "histogram": [
           {
            "marker": {
             "pattern": {
              "fillmode": "overlay",
              "size": 10,
              "solidity": 0.2
             }
            },
            "type": "histogram"
           }
          ],
          "mesh3d": [
           {
            "colorbar": {
             "outlinewidth": 0,
             "ticks": ""
            },
            "type": "mesh3d"
           }
          ],
          "parcoords": [
           {
            "line": {
             "colorbar": {
              "outlinewidth": 0,
              "ticks": ""
             }
            },
            "type": "parcoords"
           }
          ],
          "pie": [
           {
            "automargin": true,
            "type": "pie"
           }
          ],
          "scatter3d": [
           {
            "line": {
             "colorbar": {
              "outlinewidth": 0,
              "ticks": ""
             }
            },
            "marker": {
             "colorbar": {
              "outlinewidth": 0,
              "ticks": ""
             }
            },
            "type": "scatter3d"
           }
          ],
          "scattercarpet": [
           {
            "marker": {
             "colorbar": {
              "outlinewidth": 0,
              "ticks": ""
             }
            },
            "type": "scattercarpet"
           }
          ],
          "scattergeo": [
           {
            "marker": {
             "colorbar": {
              "outlinewidth": 0,
              "ticks": ""
             }
            },
            "type": "scattergeo"
           }
          ],
          "scattergl": [
           {
            "marker": {
             "line": {
              "color": "#283442"
             }
            },
            "type": "scattergl"
           }
          ],
          "scattermapbox": [
           {
            "marker": {
             "colorbar": {
              "outlinewidth": 0,
              "ticks": ""
             }
            },
            "type": "scattermapbox"
           }
          ],
          "scatterpolargl": [
           {
            "marker": {
             "colorbar": {
              "outlinewidth": 0,
              "ticks": ""
             }
            },
            "type": "scatterpolargl"
           }
          ],
          "scatterpolar": [
           {
            "marker": {
             "colorbar": {
              "outlinewidth": 0,
              "ticks": ""
             }
            },
            "type": "scatterpolar"
           }
          ],
          "scatter": [
           {
            "marker": {
             "line": {
              "color": "#283442"
             }
            },
            "type": "scatter"
           }
          ],
          "scatterternary": [
           {
            "marker": {
             "colorbar": {
              "outlinewidth": 0,
              "ticks": ""
             }
            },
            "type": "scatterternary"
           }
          ],
          "surface": [
           {
            "colorbar": {
             "outlinewidth": 0,
             "ticks": ""
            },
            "colorscale": [
             [
              0.0,
              "#0d0887"
             ],
             [
              0.1111111111111111,
              "#46039f"
             ],
             [
              0.2222222222222222,
              "#7201a8"
             ],
             [
              0.3333333333333333,
              "#9c179e"
             ],
             [
              0.4444444444444444,
              "#bd3786"
             ],
             [
              0.5555555555555556,
              "#d8576b"
             ],
             [
              0.6666666666666666,
              "#ed7953"
             ],
             [
              0.7777777777777778,
              "#fb9f3a"
             ],
             [
              0.8888888888888888,
              "#fdca26"
             ],
             [
              1.0,
              "#f0f921"
             ]
            ],
            "type": "surface"
           }
          ],
          "table": [
           {
            "cells": {
             "fill": {
              "color": "#506784"
             },
             "line": {
              "color": "rgb(17,17,17)"
             }
            },
            "header": {
             "fill": {
              "color": "#2a3f5f"
             },
             "line": {
              "color": "rgb(17,17,17)"
             }
            },
            "type": "table"
           }
          ]
         },
         "layout": {
          "annotationdefaults": {
           "arrowcolor": "#f2f5fa",
           "arrowhead": 0,
           "arrowwidth": 1
          },
          "autotypenumbers": "strict",
          "coloraxis": {
           "colorbar": {
            "outlinewidth": 0,
            "ticks": ""
           }
          },
          "colorscale": {
           "diverging": [
            [
             0,
             "#8e0152"
            ],
            [
             0.1,
             "#c51b7d"
            ],
            [
             0.2,
             "#de77ae"
            ],
            [
             0.3,
             "#f1b6da"
            ],
            [
             0.4,
             "#fde0ef"
            ],
            [
             0.5,
             "#f7f7f7"
            ],
            [
             0.6,
             "#e6f5d0"
            ],
            [
             0.7,
             "#b8e186"
            ],
            [
             0.8,
             "#7fbc41"
            ],
            [
             0.9,
             "#4d9221"
            ],
            [
             1,
             "#276419"
            ]
           ],
           "sequential": [
            [
             0.0,
             "#0d0887"
            ],
            [
             0.1111111111111111,
             "#46039f"
            ],
            [
             0.2222222222222222,
             "#7201a8"
            ],
            [
             0.3333333333333333,
             "#9c179e"
            ],
            [
             0.4444444444444444,
             "#bd3786"
            ],
            [
             0.5555555555555556,
             "#d8576b"
            ],
            [
             0.6666666666666666,
             "#ed7953"
            ],
            [
             0.7777777777777778,
             "#fb9f3a"
            ],
            [
             0.8888888888888888,
             "#fdca26"
            ],
            [
             1.0,
             "#f0f921"
            ]
           ],
           "sequentialminus": [
            [
             0.0,
             "#0d0887"
            ],
            [
             0.1111111111111111,
             "#46039f"
            ],
            [
             0.2222222222222222,
             "#7201a8"
            ],
            [
             0.3333333333333333,
             "#9c179e"
            ],
            [
             0.4444444444444444,
             "#bd3786"
            ],
            [
             0.5555555555555556,
             "#d8576b"
            ],
            [
             0.6666666666666666,
             "#ed7953"
            ],
            [
             0.7777777777777778,
             "#fb9f3a"
            ],
            [
             0.8888888888888888,
             "#fdca26"
            ],
            [
             1.0,
             "#f0f921"
            ]
           ]
          },
          "colorway": [
           "#636efa",
           "#EF553B",
           "#00cc96",
           "#ab63fa",
           "#FFA15A",
           "#19d3f3",
           "#FF6692",
           "#B6E880",
           "#FF97FF",
           "#FECB52"
          ],
          "font": {
           "color": "#f2f5fa"
          },
          "geo": {
           "bgcolor": "rgb(17,17,17)",
           "lakecolor": "rgb(17,17,17)",
           "landcolor": "rgb(17,17,17)",
           "showlakes": true,
           "showland": true,
           "subunitcolor": "#506784"
          },
          "hoverlabel": {
           "align": "left"
          },
          "hovermode": "closest",
          "mapbox": {
           "style": "dark"
          },
          "paper_bgcolor": "rgb(17,17,17)",
          "plot_bgcolor": "rgb(17,17,17)",
          "polar": {
           "angularaxis": {
            "gridcolor": "#506784",
            "linecolor": "#506784",
            "ticks": ""
           },
           "bgcolor": "rgb(17,17,17)",
           "radialaxis": {
            "gridcolor": "#506784",
            "linecolor": "#506784",
            "ticks": ""
           }
          },
          "scene": {
           "xaxis": {
            "backgroundcolor": "rgb(17,17,17)",
            "gridcolor": "#506784",
            "gridwidth": 2,
            "linecolor": "#506784",
            "showbackground": true,
            "ticks": "",
            "zerolinecolor": "#C8D4E3"
           },
           "yaxis": {
            "backgroundcolor": "rgb(17,17,17)",
            "gridcolor": "#506784",
            "gridwidth": 2,
            "linecolor": "#506784",
            "showbackground": true,
            "ticks": "",
            "zerolinecolor": "#C8D4E3"
           },
           "zaxis": {
            "backgroundcolor": "rgb(17,17,17)",
            "gridcolor": "#506784",
            "gridwidth": 2,
            "linecolor": "#506784",
            "showbackground": true,
            "ticks": "",
            "zerolinecolor": "#C8D4E3"
           }
          },
          "shapedefaults": {
           "line": {
            "color": "#f2f5fa"
           }
          },
          "sliderdefaults": {
           "bgcolor": "#C8D4E3",
           "bordercolor": "rgb(17,17,17)",
           "borderwidth": 1,
           "tickwidth": 0
          },
          "ternary": {
           "aaxis": {
            "gridcolor": "#506784",
            "linecolor": "#506784",
            "ticks": ""
           },
           "baxis": {
            "gridcolor": "#506784",
            "linecolor": "#506784",
            "ticks": ""
           },
           "bgcolor": "rgb(17,17,17)",
           "caxis": {
            "gridcolor": "#506784",
            "linecolor": "#506784",
            "ticks": ""
           }
          },
          "title": {
           "x": 0.05
          },
          "updatemenudefaults": {
           "bgcolor": "#506784",
           "borderwidth": 0
          },
          "xaxis": {
           "automargin": true,
           "gridcolor": "#283442",
           "linecolor": "#506784",
           "ticks": "",
           "title": {
            "standoff": 15
           },
           "zerolinecolor": "#283442",
           "zerolinewidth": 2
          },
          "yaxis": {
           "automargin": true,
           "gridcolor": "#283442",
           "linecolor": "#506784",
           "ticks": "",
           "title": {
            "standoff": 15
           },
           "zerolinecolor": "#283442",
           "zerolinewidth": 2
          }
         }
        }
       },
       "config": {
        "showLink": false,
        "linkText": "Export to plot.ly",
        "plotlyServerURL": "https://plot.ly"
       }
      },
      "text/html": "<div>                            <div id=\"f53c2932-7034-4ab4-9eb0-3cf5bf095945\" class=\"plotly-graph-div\" style=\"height:525px; width:100%;\"></div>            <script type=\"text/javascript\">                require([\"plotly\"], function(Plotly) {                    window.PLOTLYENV=window.PLOTLYENV || {};                                    if (document.getElementById(\"f53c2932-7034-4ab4-9eb0-3cf5bf095945\")) {                    Plotly.newPlot(                        \"f53c2932-7034-4ab4-9eb0-3cf5bf095945\",                        [{\"mode\":\"lines\",\"name\":\"ATM\",\"x\":[\"2025-02-11T00:00:00+00:00\",\"2025-02-12T00:00:00+00:00\",\"2025-02-13T00:00:00+00:00\",\"2025-02-14T00:00:00+00:00\",\"2025-02-15T00:00:00+00:00\",\"2025-02-16T00:00:00+00:00\",\"2025-02-17T00:00:00+00:00\",\"2025-02-18T00:00:00+00:00\",\"2025-02-19T00:00:00+00:00\",\"2025-02-20T00:00:00+00:00\",\"2025-02-21T00:00:00+00:00\",\"2025-02-22T00:00:00+00:00\",\"2025-02-23T00:00:00+00:00\",\"2025-02-24T00:00:00+00:00\",\"2025-02-25T00:00:00+00:00\"],\"y\":[3995.688519999998,3629.3757800000008,3381.6471500000007,3169.066225,3171.710425,3263.247559999994,2729.68041,2485.65252,2222.59672,1966.586,1902.9636999999993,1834.95768,1334.0517500000014,1676.85504,1510.6876850000046],\"type\":\"scatter\"},{\"mode\":\"lines\",\"name\":\"strike 94000.0\",\"x\":[\"2025-02-11T00:00:00+00:00\",\"2025-02-12T00:00:00+00:00\",\"2025-02-13T00:00:00+00:00\",\"2025-02-14T00:00:00+00:00\",\"2025-02-15T00:00:00+00:00\",\"2025-02-16T00:00:00+00:00\",\"2025-02-17T00:00:00+00:00\",\"2025-02-18T00:00:00+00:00\",\"2025-02-19T00:00:00+00:00\",\"2025-02-20T00:00:00+00:00\",\"2025-02-21T00:00:00+00:00\",\"2025-02-22T00:00:00+00:00\",\"2025-02-23T00:00:00+00:00\",\"2025-02-24T00:00:00+00:00\",\"2025-02-25T00:00:00+00:00\"],\"y\":[2489.5795599999997,2545.01052,2270.5345150000003,2096.459195,2000.6173450000001,2260.08007,1676.1195500000001,1051.62222,1062.98104,884.9636999999999,913.219325,772.6137600000001,818.3468500000001,822.9657599999999,551.65734],\"type\":\"scatter\"},{\"mode\":\"lines\",\"name\":\"ATM distance 1\",\"x\":[\"2025-02-11T00:00:00+00:00\",\"2025-02-12T00:00:00+00:00\",\"2025-02-13T00:00:00+00:00\",\"2025-02-14T00:00:00+00:00\",\"2025-02-15T00:00:00+00:00\",\"2025-02-16T00:00:00+00:00\",\"2025-02-17T00:00:00+00:00\",\"2025-02-18T00:00:00+00:00\",\"2025-02-19T00:00:00+00:00\",\"2025-02-20T00:00:00+00:00\",\"2025-02-21T00:00:00+00:00\",\"2025-02-22T00:00:00+00:00\",\"2025-02-23T00:00:00+00:00\",\"2025-02-24T00:00:00+00:00\",\"2025-02-25T00:00:00+00:00\"],\"y\":[3995.688519999998,3629.3757800000008,3381.6471500000007,3169.066225,3171.710425,3263.247559999994,2729.68041,2485.65252,2222.59672,1966.586,1902.9636999999993,1834.95768,1334.0517500000014,1676.85504,1510.6876850000046],\"type\":\"scatter\"}],                        {\"template\":{\"data\":{\"barpolar\":[{\"marker\":{\"line\":{\"color\":\"rgb(17,17,17)\",\"width\":0.5},\"pattern\":{\"fillmode\":\"overlay\",\"size\":10,\"solidity\":0.2}},\"type\":\"barpolar\"}],\"bar\":[{\"error_x\":{\"color\":\"#f2f5fa\"},\"error_y\":{\"color\":\"#f2f5fa\"},\"marker\":{\"line\":{\"color\":\"rgb(17,17,17)\",\"width\":0.5},\"pattern\":{\"fillmode\":\"overlay\",\"size\":10,\"solidity\":0.2}},\"type\":\"bar\"}],\"carpet\":[{\"aaxis\":{\"endlinecolor\":\"#A2B1C6\",\"gridcolor\":\"#506784\",\"linecolor\":\"#506784\",\"minorgridcolor\":\"#506784\",\"startlinecolor\":\"#A2B1C6\"},\"baxis\":{\"endlinecolor\":\"#A2B1C6\",\"gridcolor\":\"#506784\",\"linecolor\":\"#506784\",\"minorgridcolor\":\"#506784\",\"startlinecolor\":\"#A2B1C6\"},\"type\":\"carpet\"}],\"choropleth\":[{\"colorbar\":{\"outlinewidth\":0,\"ticks\":\"\"},\"type\":\"choropleth\"}],\"contourcarpet\":[{\"colorbar\":{\"outlinewidth\":0,\"ticks\":\"\"},\"type\":\"contourcarpet\"}],\"contour\":[{\"colorbar\":{\"outlinewidth\":0,\"ticks\":\"\"},\"colorscale\":[[0.0,\"#0d0887\"],[0.1111111111111111,\"#46039f\"],[0.2222222222222222,\"#7201a8\"],[0.3333333333333333,\"#9c179e\"],[0.4444444444444444,\"#bd3786\"],[0.5555555555555556,\"#d8576b\"],[0.6666666666666666,\"#ed7953\"],[0.7777777777777778,\"#fb9f3a\"],[0.8888888888888888,\"#fdca26\"],[1.0,\"#f0f921\"]],\"type\":\"contour\"}],\"heatmapgl\":[{\"colorbar\":{\"outlinewidth\":0,\"ticks\":\"\"},\"colorscale\":[[0.0,\"#0d0887\"],[0.1111111111111111,\"#46039f\"],[0.2222222222222222,\"#7201a8\"],[0.3333333333333333,\"#9c179e\"],[0.4444444444444444,\"#bd3786\"],[0.5555555555555556,\"#d8576b\"],[0.6666666666666666,\"#ed7953\"],[0.7777777777777778,\"#fb9f3a\"],[0.8888888888888888,\"#fdca26\"],[1.0,\"#f0f921\"]],\"type\":\"heatmapgl\"}],\"heatmap\":[{\"colorbar\":{\"outlinewidth\":0,\"ticks\":\"\"},\"colorscale\":[[0.0,\"#0d0887\"],[0.1111111111111111,\"#46039f\"],[0.2222222222222222,\"#7201a8\"],[0.3333333333333333,\"#9c179e\"],[0.4444444444444444,\"#bd3786\"],[0.5555555555555556,\"#d8576b\"],[0.6666666666666666,\"#ed7953\"],[0.7777777777777778,\"#fb9f3a\"],[0.8888888888888888,\"#fdca26\"],[1.0,\"#f0f921\"]],\"type\":\"heatmap\"}],\"histogram2dcontour\":[{\"colorbar\":{\"outlinewidth\":0,\"ticks\":\"\"},\"colorscale\":[[0.0,\"#0d0887\"],[0.1111111111111111,\"#46039f\"],[0.2222222222222222,\"#7201a8\"],[0.3333333333333333,\"#9c179e\"],[0.4444444444444444,\"#bd3786\"],[0.5555555555555556,\"#d8576b\"],[0.6666666666666666,\"#ed7953\"],[0.7777777777777778,\"#fb9f3a\"],[0.8888888888888888,\"#fdca26\"],[1.0,\"#f0f921\"]],\"type\":\"histogram2dcontour\"}],\"histogram2d\":[{\"colorbar\":{\"outlinewidth\":0,\"ticks\":\"\"},\"colorscale\":[[0.0,\"#0d0887\"],[0.1111111111111111,\"#46039f\"],[0.2222222222222222,\"#7201a8\"],[0.3333333333333333,\"#9c179e\"],[0.4444444444444444,\"#bd3786\"],[0.5555555555555556,\"#d8576b\"],[0.6666666666666666,\"#ed7953\"],[0.7777777777777778,\"#fb9f3a\"],[0.8888888888888888,\"#fdca26\"],[1.0,\"#f0f921\"]],\"type\":\"histogram2d\"}],\"histogram\":[{\"marker\":{\"pattern\":{\"fillmode\":\"overlay\",\"size\":10,\"solidity\":0.2}},\"type\":\"histogram\"}],\"mesh3d\":[{\"colorbar\":{\"outlinewidth\":0,\"ticks\":\"\"},\"type\":\"mesh3d\"}],\"parcoords\":[{\"line\":{\"colorbar\":{\"outlinewidth\":0,\"ticks\":\"\"}},\"type\":\"parcoords\"}],\"pie\":[{\"automargin\":true,\"type\":\"pie\"}],\"scatter3d\":[{\"line\":{\"colorbar\":{\"outlinewidth\":0,\"ticks\":\"\"}},\"marker\":{\"colorbar\":{\"outlinewidth\":0,\"ticks\":\"\"}},\"type\":\"scatter3d\"}],\"scattercarpet\":[{\"marker\":{\"colorbar\":{\"outlinewidth\":0,\"ticks\":\"\"}},\"type\":\"scattercarpet\"}],\"scattergeo\":[{\"marker\":{\"colorbar\":{\"outlinewidth\":0,\"ticks\":\"\"}},\"type\":\"scattergeo\"}],\"scattergl\":[{\"marker\":{\"line\":{\"color\":\"#283442\"}},\"type\":\"scattergl\"}],\"scattermapbox\":[{\"marker\":{\"colorbar\":{\"outlinewidth\":0,\"ticks\":\"\"}},\"type\":\"scattermapbox\"}],\"scatterpolargl\":[{\"marker\":{\"colorbar\":{\"outlinewidth\":0,\"ticks\":\"\"}},\"type\":\"scatterpolargl\"}],\"scatterpolar\":[{\"marker\":{\"colorbar\":{\"outlinewidth\":0,\"ticks\":\"\"}},\"type\":\"scatterpolar\"}],\"scatter\":[{\"marker\":{\"line\":{\"color\":\"#283442\"}},\"type\":\"scatter\"}],\"scatterternary\":[{\"marker\":{\"colorbar\":{\"outlinewidth\":0,\"ticks\":\"\"}},\"type\":\"scatterternary\"}],\"surface\":[{\"colorbar\":{\"outlinewidth\":0,\"ticks\":\"\"},\"colorscale\":[[0.0,\"#0d0887\"],[0.1111111111111111,\"#46039f\"],[0.2222222222222222,\"#7201a8\"],[0.3333333333333333,\"#9c179e\"],[0.4444444444444444,\"#bd3786\"],[0.5555555555555556,\"#d8576b\"],[0.6666666666666666,\"#ed7953\"],[0.7777777777777778,\"#fb9f3a\"],[0.8888888888888888,\"#fdca26\"],[1.0,\"#f0f921\"]],\"type\":\"surface\"}],\"table\":[{\"cells\":{\"fill\":{\"color\":\"#506784\"},\"line\":{\"color\":\"rgb(17,17,17)\"}},\"header\":{\"fill\":{\"color\":\"#2a3f5f\"},\"line\":{\"color\":\"rgb(17,17,17)\"}},\"type\":\"table\"}]},\"layout\":{\"annotationdefaults\":{\"arrowcolor\":\"#f2f5fa\",\"arrowhead\":0,\"arrowwidth\":1},\"autotypenumbers\":\"strict\",\"coloraxis\":{\"colorbar\":{\"outlinewidth\":0,\"ticks\":\"\"}},\"colorscale\":{\"diverging\":[[0,\"#8e0152\"],[0.1,\"#c51b7d\"],[0.2,\"#de77ae\"],[0.3,\"#f1b6da\"],[0.4,\"#fde0ef\"],[0.5,\"#f7f7f7\"],[0.6,\"#e6f5d0\"],[0.7,\"#b8e186\"],[0.8,\"#7fbc41\"],[0.9,\"#4d9221\"],[1,\"#276419\"]],\"sequential\":[[0.0,\"#0d0887\"],[0.1111111111111111,\"#46039f\"],[0.2222222222222222,\"#7201a8\"],[0.3333333333333333,\"#9c179e\"],[0.4444444444444444,\"#bd3786\"],[0.5555555555555556,\"#d8576b\"],[0.6666666666666666,\"#ed7953\"],[0.7777777777777778,\"#fb9f3a\"],[0.8888888888888888,\"#fdca26\"],[1.0,\"#f0f921\"]],\"sequentialminus\":[[0.0,\"#0d0887\"],[0.1111111111111111,\"#46039f\"],[0.2222222222222222,\"#7201a8\"],[0.3333333333333333,\"#9c179e\"],[0.4444444444444444,\"#bd3786\"],[0.5555555555555556,\"#d8576b\"],[0.6666666666666666,\"#ed7953\"],[0.7777777777777778,\"#fb9f3a\"],[0.8888888888888888,\"#fdca26\"],[1.0,\"#f0f921\"]]},\"colorway\":[\"#636efa\",\"#EF553B\",\"#00cc96\",\"#ab63fa\",\"#FFA15A\",\"#19d3f3\",\"#FF6692\",\"#B6E880\",\"#FF97FF\",\"#FECB52\"],\"font\":{\"color\":\"#f2f5fa\"},\"geo\":{\"bgcolor\":\"rgb(17,17,17)\",\"lakecolor\":\"rgb(17,17,17)\",\"landcolor\":\"rgb(17,17,17)\",\"showlakes\":true,\"showland\":true,\"subunitcolor\":\"#506784\"},\"hoverlabel\":{\"align\":\"left\"},\"hovermode\":\"closest\",\"mapbox\":{\"style\":\"dark\"},\"paper_bgcolor\":\"rgb(17,17,17)\",\"plot_bgcolor\":\"rgb(17,17,17)\",\"polar\":{\"angularaxis\":{\"gridcolor\":\"#506784\",\"linecolor\":\"#506784\",\"ticks\":\"\"},\"bgcolor\":\"rgb(17,17,17)\",\"radialaxis\":{\"gridcolor\":\"#506784\",\"linecolor\":\"#506784\",\"ticks\":\"\"}},\"scene\":{\"xaxis\":{\"backgroundcolor\":\"rgb(17,17,17)\",\"gridcolor\":\"#506784\",\"gridwidth\":2,\"linecolor\":\"#506784\",\"showbackground\":true,\"ticks\":\"\",\"zerolinecolor\":\"#C8D4E3\"},\"yaxis\":{\"backgroundcolor\":\"rgb(17,17,17)\",\"gridcolor\":\"#506784\",\"gridwidth\":2,\"linecolor\":\"#506784\",\"showbackground\":true,\"ticks\":\"\",\"zerolinecolor\":\"#C8D4E3\"},\"zaxis\":{\"backgroundcolor\":\"rgb(17,17,17)\",\"gridcolor\":\"#506784\",\"gridwidth\":2,\"linecolor\":\"#506784\",\"showbackground\":true,\"ticks\":\"\",\"zerolinecolor\":\"#C8D4E3\"}},\"shapedefaults\":{\"line\":{\"color\":\"#f2f5fa\"}},\"sliderdefaults\":{\"bgcolor\":\"#C8D4E3\",\"bordercolor\":\"rgb(17,17,17)\",\"borderwidth\":1,\"tickwidth\":0},\"ternary\":{\"aaxis\":{\"gridcolor\":\"#506784\",\"linecolor\":\"#506784\",\"ticks\":\"\"},\"baxis\":{\"gridcolor\":\"#506784\",\"linecolor\":\"#506784\",\"ticks\":\"\"},\"bgcolor\":\"rgb(17,17,17)\",\"caxis\":{\"gridcolor\":\"#506784\",\"linecolor\":\"#506784\",\"ticks\":\"\"}},\"title\":{\"x\":0.05},\"updatemenudefaults\":{\"bgcolor\":\"#506784\",\"borderwidth\":0},\"xaxis\":{\"automargin\":true,\"gridcolor\":\"#283442\",\"linecolor\":\"#506784\",\"ticks\":\"\",\"title\":{\"standoff\":15},\"zerolinecolor\":\"#283442\",\"zerolinewidth\":2},\"yaxis\":{\"automargin\":true,\"gridcolor\":\"#283442\",\"linecolor\":\"#506784\",\"ticks\":\"\",\"title\":{\"standoff\":15},\"zerolinecolor\":\"#283442\",\"zerolinewidth\":2}}}},                        {\"responsive\": true}                    ).then(function(){\n                            \nvar gd = document.getElementById('f53c2932-7034-4ab4-9eb0-3cf5bf095945');\nvar x = new MutationObserver(function (mutations, observer) {{\n        var display = window.getComputedStyle(gd).display;\n        if (!display || display === 'none') {{\n            console.log([gd, 'removed!']);\n            Plotly.purge(gd);\n            observer.disconnect();\n        }}\n}});\n\n// Listen for the removal of the full notebook cells\nvar notebookContainer = gd.closest('#notebook-container');\nif (notebookContainer) {{\n    x.observe(notebookContainer, {childList: true});\n}}\n\n// Listen for the clearing of the current output cell\nvar outputEl = gd.closest('.output');\nif (outputEl) {{\n    x.observe(outputEl, {childList: true});\n}}\n\n                        })                };                });            </script>        </div>"
     },
     "metadata": {},
     "output_type": "display_data"
    }
   ],
   "source": [
    "#btc.chart.init()\n",
    "btc.chart.price.time_values_for_strike(expiration_date=expiration_date, strike=atm_nearest_strikes[5], name=f'strike {atm_nearest_strikes[3]}')\n",
    "btc.chart.price.time_values_for_distance(expiration_date=expiration_date, distance=2, name='ATM distance 1')\n",
    "btc.chart.show()"
   ],
   "metadata": {
    "collapsed": false
   }
  },
  {
   "cell_type": "code",
   "execution_count": 17,
   "outputs": [
    {
     "data": {
      "text/plain": "                   timestamp    strike  time_value\n0  2025-02-22 00:00:00+00:00  100000.0  270.414816\n50 2025-02-24 00:00:00+00:00   95000.0   18.288128\n92 2025-02-25 00:00:00+00:00   95000.0    9.194289",
      "text/html": "<div>\n<style scoped>\n    .dataframe tbody tr th:only-of-type {\n        vertical-align: middle;\n    }\n\n    .dataframe tbody tr th {\n        vertical-align: top;\n    }\n\n    .dataframe thead th {\n        text-align: right;\n    }\n</style>\n<table border=\"1\" class=\"dataframe\">\n  <thead>\n    <tr style=\"text-align: right;\">\n      <th></th>\n      <th>timestamp</th>\n      <th>strike</th>\n      <th>time_value</th>\n    </tr>\n  </thead>\n  <tbody>\n    <tr>\n      <th>0</th>\n      <td>2025-02-22 00:00:00+00:00</td>\n      <td>100000.0</td>\n      <td>270.414816</td>\n    </tr>\n    <tr>\n      <th>50</th>\n      <td>2025-02-24 00:00:00+00:00</td>\n      <td>95000.0</td>\n      <td>18.288128</td>\n    </tr>\n    <tr>\n      <th>92</th>\n      <td>2025-02-25 00:00:00+00:00</td>\n      <td>95000.0</td>\n      <td>9.194289</td>\n    </tr>\n  </tbody>\n</table>\n</div>"
     },
     "execution_count": 17,
     "metadata": {},
     "output_type": "execute_result"
    }
   ],
   "source": [
    "df_time_value_strike = btc.analytic.price.time_value_series_by_strike_to_atm_distance(strike=atm_nearest_strikes[5])\n",
    "df_time_value_strike.iloc[[0, int(len(df_time_value_strike) / 2), -1]]"
   ],
   "metadata": {
    "collapsed": false
   }
  },
  {
   "cell_type": "code",
   "execution_count": 18,
   "outputs": [
    {
     "data": {
      "text/plain": "                   timestamp   strike   time_value\n17 2025-02-22 00:00:00+00:00  97000.0  1062.343920\n23 2025-02-23 00:00:00+00:00  96000.0   952.502524\n52 2025-02-24 00:00:00+00:00  92000.0   365.762560\n85 2025-02-25 00:00:00+00:00  92000.0   229.857225",
      "text/html": "<div>\n<style scoped>\n    .dataframe tbody tr th:only-of-type {\n        vertical-align: middle;\n    }\n\n    .dataframe tbody tr th {\n        vertical-align: top;\n    }\n\n    .dataframe thead th {\n        text-align: right;\n    }\n</style>\n<table border=\"1\" class=\"dataframe\">\n  <thead>\n    <tr style=\"text-align: right;\">\n      <th></th>\n      <th>timestamp</th>\n      <th>strike</th>\n      <th>time_value</th>\n    </tr>\n  </thead>\n  <tbody>\n    <tr>\n      <th>17</th>\n      <td>2025-02-22 00:00:00+00:00</td>\n      <td>97000.0</td>\n      <td>1062.343920</td>\n    </tr>\n    <tr>\n      <th>23</th>\n      <td>2025-02-23 00:00:00+00:00</td>\n      <td>96000.0</td>\n      <td>952.502524</td>\n    </tr>\n    <tr>\n      <th>52</th>\n      <td>2025-02-24 00:00:00+00:00</td>\n      <td>92000.0</td>\n      <td>365.762560</td>\n    </tr>\n    <tr>\n      <th>85</th>\n      <td>2025-02-25 00:00:00+00:00</td>\n      <td>92000.0</td>\n      <td>229.857225</td>\n    </tr>\n  </tbody>\n</table>\n</div>"
     },
     "execution_count": 18,
     "metadata": {},
     "output_type": "execute_result"
    }
   ],
   "source": [
    "df_time_value_atm = btc.analytic.price.time_value_series_by_atm_distance(distance=0)\n",
    "df_time_value_atm"
   ],
   "metadata": {
    "collapsed": false
   }
  },
  {
   "cell_type": "code",
   "execution_count": 19,
   "outputs": [
    {
     "data": {
      "application/vnd.plotly.v1+json": {
       "data": [
        {
         "mode": "lines",
         "name": "Strike cur ATM 92000.0",
         "x": [
          "2025-02-22T00:00:00+00:00",
          "2025-02-23T00:00:00+00:00",
          "2025-02-24T00:00:00+00:00",
          "2025-02-25T00:00:00+00:00"
         ],
         "y": [
          270.414816,
          202.17981,
          18.288128,
          9.194289000000001
         ],
         "type": "scatter"
        },
        {
         "mode": "lines",
         "name": "ATM",
         "x": [
          "2025-02-22T00:00:00+00:00",
          "2025-02-23T00:00:00+00:00",
          "2025-02-24T00:00:00+00:00",
          "2025-02-25T00:00:00+00:00"
         ],
         "y": [
          1062.34392,
          952.502523915748,
          365.76256,
          229.857225
         ],
         "type": "scatter"
        }
       ],
       "layout": {
        "template": {
         "data": {
          "barpolar": [
           {
            "marker": {
             "line": {
              "color": "rgb(17,17,17)",
              "width": 0.5
             },
             "pattern": {
              "fillmode": "overlay",
              "size": 10,
              "solidity": 0.2
             }
            },
            "type": "barpolar"
           }
          ],
          "bar": [
           {
            "error_x": {
             "color": "#f2f5fa"
            },
            "error_y": {
             "color": "#f2f5fa"
            },
            "marker": {
             "line": {
              "color": "rgb(17,17,17)",
              "width": 0.5
             },
             "pattern": {
              "fillmode": "overlay",
              "size": 10,
              "solidity": 0.2
             }
            },
            "type": "bar"
           }
          ],
          "carpet": [
           {
            "aaxis": {
             "endlinecolor": "#A2B1C6",
             "gridcolor": "#506784",
             "linecolor": "#506784",
             "minorgridcolor": "#506784",
             "startlinecolor": "#A2B1C6"
            },
            "baxis": {
             "endlinecolor": "#A2B1C6",
             "gridcolor": "#506784",
             "linecolor": "#506784",
             "minorgridcolor": "#506784",
             "startlinecolor": "#A2B1C6"
            },
            "type": "carpet"
           }
          ],
          "choropleth": [
           {
            "colorbar": {
             "outlinewidth": 0,
             "ticks": ""
            },
            "type": "choropleth"
           }
          ],
          "contourcarpet": [
           {
            "colorbar": {
             "outlinewidth": 0,
             "ticks": ""
            },
            "type": "contourcarpet"
           }
          ],
          "contour": [
           {
            "colorbar": {
             "outlinewidth": 0,
             "ticks": ""
            },
            "colorscale": [
             [
              0.0,
              "#0d0887"
             ],
             [
              0.1111111111111111,
              "#46039f"
             ],
             [
              0.2222222222222222,
              "#7201a8"
             ],
             [
              0.3333333333333333,
              "#9c179e"
             ],
             [
              0.4444444444444444,
              "#bd3786"
             ],
             [
              0.5555555555555556,
              "#d8576b"
             ],
             [
              0.6666666666666666,
              "#ed7953"
             ],
             [
              0.7777777777777778,
              "#fb9f3a"
             ],
             [
              0.8888888888888888,
              "#fdca26"
             ],
             [
              1.0,
              "#f0f921"
             ]
            ],
            "type": "contour"
           }
          ],
          "heatmapgl": [
           {
            "colorbar": {
             "outlinewidth": 0,
             "ticks": ""
            },
            "colorscale": [
             [
              0.0,
              "#0d0887"
             ],
             [
              0.1111111111111111,
              "#46039f"
             ],
             [
              0.2222222222222222,
              "#7201a8"
             ],
             [
              0.3333333333333333,
              "#9c179e"
             ],
             [
              0.4444444444444444,
              "#bd3786"
             ],
             [
              0.5555555555555556,
              "#d8576b"
             ],
             [
              0.6666666666666666,
              "#ed7953"
             ],
             [
              0.7777777777777778,
              "#fb9f3a"
             ],
             [
              0.8888888888888888,
              "#fdca26"
             ],
             [
              1.0,
              "#f0f921"
             ]
            ],
            "type": "heatmapgl"
           }
          ],
          "heatmap": [
           {
            "colorbar": {
             "outlinewidth": 0,
             "ticks": ""
            },
            "colorscale": [
             [
              0.0,
              "#0d0887"
             ],
             [
              0.1111111111111111,
              "#46039f"
             ],
             [
              0.2222222222222222,
              "#7201a8"
             ],
             [
              0.3333333333333333,
              "#9c179e"
             ],
             [
              0.4444444444444444,
              "#bd3786"
             ],
             [
              0.5555555555555556,
              "#d8576b"
             ],
             [
              0.6666666666666666,
              "#ed7953"
             ],
             [
              0.7777777777777778,
              "#fb9f3a"
             ],
             [
              0.8888888888888888,
              "#fdca26"
             ],
             [
              1.0,
              "#f0f921"
             ]
            ],
            "type": "heatmap"
           }
          ],
          "histogram2dcontour": [
           {
            "colorbar": {
             "outlinewidth": 0,
             "ticks": ""
            },
            "colorscale": [
             [
              0.0,
              "#0d0887"
             ],
             [
              0.1111111111111111,
              "#46039f"
             ],
             [
              0.2222222222222222,
              "#7201a8"
             ],
             [
              0.3333333333333333,
              "#9c179e"
             ],
             [
              0.4444444444444444,
              "#bd3786"
             ],
             [
              0.5555555555555556,
              "#d8576b"
             ],
             [
              0.6666666666666666,
              "#ed7953"
             ],
             [
              0.7777777777777778,
              "#fb9f3a"
             ],
             [
              0.8888888888888888,
              "#fdca26"
             ],
             [
              1.0,
              "#f0f921"
             ]
            ],
            "type": "histogram2dcontour"
           }
          ],
          "histogram2d": [
           {
            "colorbar": {
             "outlinewidth": 0,
             "ticks": ""
            },
            "colorscale": [
             [
              0.0,
              "#0d0887"
             ],
             [
              0.1111111111111111,
              "#46039f"
             ],
             [
              0.2222222222222222,
              "#7201a8"
             ],
             [
              0.3333333333333333,
              "#9c179e"
             ],
             [
              0.4444444444444444,
              "#bd3786"
             ],
             [
              0.5555555555555556,
              "#d8576b"
             ],
             [
              0.6666666666666666,
              "#ed7953"
             ],
             [
              0.7777777777777778,
              "#fb9f3a"
             ],
             [
              0.8888888888888888,
              "#fdca26"
             ],
             [
              1.0,
              "#f0f921"
             ]
            ],
            "type": "histogram2d"
           }
          ],
          "histogram": [
           {
            "marker": {
             "pattern": {
              "fillmode": "overlay",
              "size": 10,
              "solidity": 0.2
             }
            },
            "type": "histogram"
           }
          ],
          "mesh3d": [
           {
            "colorbar": {
             "outlinewidth": 0,
             "ticks": ""
            },
            "type": "mesh3d"
           }
          ],
          "parcoords": [
           {
            "line": {
             "colorbar": {
              "outlinewidth": 0,
              "ticks": ""
             }
            },
            "type": "parcoords"
           }
          ],
          "pie": [
           {
            "automargin": true,
            "type": "pie"
           }
          ],
          "scatter3d": [
           {
            "line": {
             "colorbar": {
              "outlinewidth": 0,
              "ticks": ""
             }
            },
            "marker": {
             "colorbar": {
              "outlinewidth": 0,
              "ticks": ""
             }
            },
            "type": "scatter3d"
           }
          ],
          "scattercarpet": [
           {
            "marker": {
             "colorbar": {
              "outlinewidth": 0,
              "ticks": ""
             }
            },
            "type": "scattercarpet"
           }
          ],
          "scattergeo": [
           {
            "marker": {
             "colorbar": {
              "outlinewidth": 0,
              "ticks": ""
             }
            },
            "type": "scattergeo"
           }
          ],
          "scattergl": [
           {
            "marker": {
             "line": {
              "color": "#283442"
             }
            },
            "type": "scattergl"
           }
          ],
          "scattermapbox": [
           {
            "marker": {
             "colorbar": {
              "outlinewidth": 0,
              "ticks": ""
             }
            },
            "type": "scattermapbox"
           }
          ],
          "scatterpolargl": [
           {
            "marker": {
             "colorbar": {
              "outlinewidth": 0,
              "ticks": ""
             }
            },
            "type": "scatterpolargl"
           }
          ],
          "scatterpolar": [
           {
            "marker": {
             "colorbar": {
              "outlinewidth": 0,
              "ticks": ""
             }
            },
            "type": "scatterpolar"
           }
          ],
          "scatter": [
           {
            "marker": {
             "line": {
              "color": "#283442"
             }
            },
            "type": "scatter"
           }
          ],
          "scatterternary": [
           {
            "marker": {
             "colorbar": {
              "outlinewidth": 0,
              "ticks": ""
             }
            },
            "type": "scatterternary"
           }
          ],
          "surface": [
           {
            "colorbar": {
             "outlinewidth": 0,
             "ticks": ""
            },
            "colorscale": [
             [
              0.0,
              "#0d0887"
             ],
             [
              0.1111111111111111,
              "#46039f"
             ],
             [
              0.2222222222222222,
              "#7201a8"
             ],
             [
              0.3333333333333333,
              "#9c179e"
             ],
             [
              0.4444444444444444,
              "#bd3786"
             ],
             [
              0.5555555555555556,
              "#d8576b"
             ],
             [
              0.6666666666666666,
              "#ed7953"
             ],
             [
              0.7777777777777778,
              "#fb9f3a"
             ],
             [
              0.8888888888888888,
              "#fdca26"
             ],
             [
              1.0,
              "#f0f921"
             ]
            ],
            "type": "surface"
           }
          ],
          "table": [
           {
            "cells": {
             "fill": {
              "color": "#506784"
             },
             "line": {
              "color": "rgb(17,17,17)"
             }
            },
            "header": {
             "fill": {
              "color": "#2a3f5f"
             },
             "line": {
              "color": "rgb(17,17,17)"
             }
            },
            "type": "table"
           }
          ]
         },
         "layout": {
          "annotationdefaults": {
           "arrowcolor": "#f2f5fa",
           "arrowhead": 0,
           "arrowwidth": 1
          },
          "autotypenumbers": "strict",
          "coloraxis": {
           "colorbar": {
            "outlinewidth": 0,
            "ticks": ""
           }
          },
          "colorscale": {
           "diverging": [
            [
             0,
             "#8e0152"
            ],
            [
             0.1,
             "#c51b7d"
            ],
            [
             0.2,
             "#de77ae"
            ],
            [
             0.3,
             "#f1b6da"
            ],
            [
             0.4,
             "#fde0ef"
            ],
            [
             0.5,
             "#f7f7f7"
            ],
            [
             0.6,
             "#e6f5d0"
            ],
            [
             0.7,
             "#b8e186"
            ],
            [
             0.8,
             "#7fbc41"
            ],
            [
             0.9,
             "#4d9221"
            ],
            [
             1,
             "#276419"
            ]
           ],
           "sequential": [
            [
             0.0,
             "#0d0887"
            ],
            [
             0.1111111111111111,
             "#46039f"
            ],
            [
             0.2222222222222222,
             "#7201a8"
            ],
            [
             0.3333333333333333,
             "#9c179e"
            ],
            [
             0.4444444444444444,
             "#bd3786"
            ],
            [
             0.5555555555555556,
             "#d8576b"
            ],
            [
             0.6666666666666666,
             "#ed7953"
            ],
            [
             0.7777777777777778,
             "#fb9f3a"
            ],
            [
             0.8888888888888888,
             "#fdca26"
            ],
            [
             1.0,
             "#f0f921"
            ]
           ],
           "sequentialminus": [
            [
             0.0,
             "#0d0887"
            ],
            [
             0.1111111111111111,
             "#46039f"
            ],
            [
             0.2222222222222222,
             "#7201a8"
            ],
            [
             0.3333333333333333,
             "#9c179e"
            ],
            [
             0.4444444444444444,
             "#bd3786"
            ],
            [
             0.5555555555555556,
             "#d8576b"
            ],
            [
             0.6666666666666666,
             "#ed7953"
            ],
            [
             0.7777777777777778,
             "#fb9f3a"
            ],
            [
             0.8888888888888888,
             "#fdca26"
            ],
            [
             1.0,
             "#f0f921"
            ]
           ]
          },
          "colorway": [
           "#636efa",
           "#EF553B",
           "#00cc96",
           "#ab63fa",
           "#FFA15A",
           "#19d3f3",
           "#FF6692",
           "#B6E880",
           "#FF97FF",
           "#FECB52"
          ],
          "font": {
           "color": "#f2f5fa"
          },
          "geo": {
           "bgcolor": "rgb(17,17,17)",
           "lakecolor": "rgb(17,17,17)",
           "landcolor": "rgb(17,17,17)",
           "showlakes": true,
           "showland": true,
           "subunitcolor": "#506784"
          },
          "hoverlabel": {
           "align": "left"
          },
          "hovermode": "closest",
          "mapbox": {
           "style": "dark"
          },
          "paper_bgcolor": "rgb(17,17,17)",
          "plot_bgcolor": "rgb(17,17,17)",
          "polar": {
           "angularaxis": {
            "gridcolor": "#506784",
            "linecolor": "#506784",
            "ticks": ""
           },
           "bgcolor": "rgb(17,17,17)",
           "radialaxis": {
            "gridcolor": "#506784",
            "linecolor": "#506784",
            "ticks": ""
           }
          },
          "scene": {
           "xaxis": {
            "backgroundcolor": "rgb(17,17,17)",
            "gridcolor": "#506784",
            "gridwidth": 2,
            "linecolor": "#506784",
            "showbackground": true,
            "ticks": "",
            "zerolinecolor": "#C8D4E3"
           },
           "yaxis": {
            "backgroundcolor": "rgb(17,17,17)",
            "gridcolor": "#506784",
            "gridwidth": 2,
            "linecolor": "#506784",
            "showbackground": true,
            "ticks": "",
            "zerolinecolor": "#C8D4E3"
           },
           "zaxis": {
            "backgroundcolor": "rgb(17,17,17)",
            "gridcolor": "#506784",
            "gridwidth": 2,
            "linecolor": "#506784",
            "showbackground": true,
            "ticks": "",
            "zerolinecolor": "#C8D4E3"
           }
          },
          "shapedefaults": {
           "line": {
            "color": "#f2f5fa"
           }
          },
          "sliderdefaults": {
           "bgcolor": "#C8D4E3",
           "bordercolor": "rgb(17,17,17)",
           "borderwidth": 1,
           "tickwidth": 0
          },
          "ternary": {
           "aaxis": {
            "gridcolor": "#506784",
            "linecolor": "#506784",
            "ticks": ""
           },
           "baxis": {
            "gridcolor": "#506784",
            "linecolor": "#506784",
            "ticks": ""
           },
           "bgcolor": "rgb(17,17,17)",
           "caxis": {
            "gridcolor": "#506784",
            "linecolor": "#506784",
            "ticks": ""
           }
          },
          "title": {
           "x": 0.05
          },
          "updatemenudefaults": {
           "bgcolor": "#506784",
           "borderwidth": 0
          },
          "xaxis": {
           "automargin": true,
           "gridcolor": "#283442",
           "linecolor": "#506784",
           "ticks": "",
           "title": {
            "standoff": 15
           },
           "zerolinecolor": "#283442",
           "zerolinewidth": 2
          },
          "yaxis": {
           "automargin": true,
           "gridcolor": "#283442",
           "linecolor": "#506784",
           "ticks": "",
           "title": {
            "standoff": 15
           },
           "zerolinecolor": "#283442",
           "zerolinewidth": 2
          }
         }
        }
       },
       "config": {
        "showLink": false,
        "linkText": "Export to plot.ly",
        "plotlyServerURL": "https://plot.ly"
       }
      },
      "text/html": "<div>                            <div id=\"3b654e93-1946-42d3-b940-3d89de7ab8d1\" class=\"plotly-graph-div\" style=\"height:525px; width:100%;\"></div>            <script type=\"text/javascript\">                require([\"plotly\"], function(Plotly) {                    window.PLOTLYENV=window.PLOTLYENV || {};                                    if (document.getElementById(\"3b654e93-1946-42d3-b940-3d89de7ab8d1\")) {                    Plotly.newPlot(                        \"3b654e93-1946-42d3-b940-3d89de7ab8d1\",                        [{\"mode\":\"lines\",\"name\":\"Strike cur ATM 92000.0\",\"x\":[\"2025-02-22T00:00:00+00:00\",\"2025-02-23T00:00:00+00:00\",\"2025-02-24T00:00:00+00:00\",\"2025-02-25T00:00:00+00:00\"],\"y\":[270.414816,202.17981,18.288128,9.194289000000001],\"type\":\"scatter\"},{\"mode\":\"lines\",\"name\":\"ATM\",\"x\":[\"2025-02-22T00:00:00+00:00\",\"2025-02-23T00:00:00+00:00\",\"2025-02-24T00:00:00+00:00\",\"2025-02-25T00:00:00+00:00\"],\"y\":[1062.34392,952.502523915748,365.76256,229.857225],\"type\":\"scatter\"}],                        {\"template\":{\"data\":{\"barpolar\":[{\"marker\":{\"line\":{\"color\":\"rgb(17,17,17)\",\"width\":0.5},\"pattern\":{\"fillmode\":\"overlay\",\"size\":10,\"solidity\":0.2}},\"type\":\"barpolar\"}],\"bar\":[{\"error_x\":{\"color\":\"#f2f5fa\"},\"error_y\":{\"color\":\"#f2f5fa\"},\"marker\":{\"line\":{\"color\":\"rgb(17,17,17)\",\"width\":0.5},\"pattern\":{\"fillmode\":\"overlay\",\"size\":10,\"solidity\":0.2}},\"type\":\"bar\"}],\"carpet\":[{\"aaxis\":{\"endlinecolor\":\"#A2B1C6\",\"gridcolor\":\"#506784\",\"linecolor\":\"#506784\",\"minorgridcolor\":\"#506784\",\"startlinecolor\":\"#A2B1C6\"},\"baxis\":{\"endlinecolor\":\"#A2B1C6\",\"gridcolor\":\"#506784\",\"linecolor\":\"#506784\",\"minorgridcolor\":\"#506784\",\"startlinecolor\":\"#A2B1C6\"},\"type\":\"carpet\"}],\"choropleth\":[{\"colorbar\":{\"outlinewidth\":0,\"ticks\":\"\"},\"type\":\"choropleth\"}],\"contourcarpet\":[{\"colorbar\":{\"outlinewidth\":0,\"ticks\":\"\"},\"type\":\"contourcarpet\"}],\"contour\":[{\"colorbar\":{\"outlinewidth\":0,\"ticks\":\"\"},\"colorscale\":[[0.0,\"#0d0887\"],[0.1111111111111111,\"#46039f\"],[0.2222222222222222,\"#7201a8\"],[0.3333333333333333,\"#9c179e\"],[0.4444444444444444,\"#bd3786\"],[0.5555555555555556,\"#d8576b\"],[0.6666666666666666,\"#ed7953\"],[0.7777777777777778,\"#fb9f3a\"],[0.8888888888888888,\"#fdca26\"],[1.0,\"#f0f921\"]],\"type\":\"contour\"}],\"heatmapgl\":[{\"colorbar\":{\"outlinewidth\":0,\"ticks\":\"\"},\"colorscale\":[[0.0,\"#0d0887\"],[0.1111111111111111,\"#46039f\"],[0.2222222222222222,\"#7201a8\"],[0.3333333333333333,\"#9c179e\"],[0.4444444444444444,\"#bd3786\"],[0.5555555555555556,\"#d8576b\"],[0.6666666666666666,\"#ed7953\"],[0.7777777777777778,\"#fb9f3a\"],[0.8888888888888888,\"#fdca26\"],[1.0,\"#f0f921\"]],\"type\":\"heatmapgl\"}],\"heatmap\":[{\"colorbar\":{\"outlinewidth\":0,\"ticks\":\"\"},\"colorscale\":[[0.0,\"#0d0887\"],[0.1111111111111111,\"#46039f\"],[0.2222222222222222,\"#7201a8\"],[0.3333333333333333,\"#9c179e\"],[0.4444444444444444,\"#bd3786\"],[0.5555555555555556,\"#d8576b\"],[0.6666666666666666,\"#ed7953\"],[0.7777777777777778,\"#fb9f3a\"],[0.8888888888888888,\"#fdca26\"],[1.0,\"#f0f921\"]],\"type\":\"heatmap\"}],\"histogram2dcontour\":[{\"colorbar\":{\"outlinewidth\":0,\"ticks\":\"\"},\"colorscale\":[[0.0,\"#0d0887\"],[0.1111111111111111,\"#46039f\"],[0.2222222222222222,\"#7201a8\"],[0.3333333333333333,\"#9c179e\"],[0.4444444444444444,\"#bd3786\"],[0.5555555555555556,\"#d8576b\"],[0.6666666666666666,\"#ed7953\"],[0.7777777777777778,\"#fb9f3a\"],[0.8888888888888888,\"#fdca26\"],[1.0,\"#f0f921\"]],\"type\":\"histogram2dcontour\"}],\"histogram2d\":[{\"colorbar\":{\"outlinewidth\":0,\"ticks\":\"\"},\"colorscale\":[[0.0,\"#0d0887\"],[0.1111111111111111,\"#46039f\"],[0.2222222222222222,\"#7201a8\"],[0.3333333333333333,\"#9c179e\"],[0.4444444444444444,\"#bd3786\"],[0.5555555555555556,\"#d8576b\"],[0.6666666666666666,\"#ed7953\"],[0.7777777777777778,\"#fb9f3a\"],[0.8888888888888888,\"#fdca26\"],[1.0,\"#f0f921\"]],\"type\":\"histogram2d\"}],\"histogram\":[{\"marker\":{\"pattern\":{\"fillmode\":\"overlay\",\"size\":10,\"solidity\":0.2}},\"type\":\"histogram\"}],\"mesh3d\":[{\"colorbar\":{\"outlinewidth\":0,\"ticks\":\"\"},\"type\":\"mesh3d\"}],\"parcoords\":[{\"line\":{\"colorbar\":{\"outlinewidth\":0,\"ticks\":\"\"}},\"type\":\"parcoords\"}],\"pie\":[{\"automargin\":true,\"type\":\"pie\"}],\"scatter3d\":[{\"line\":{\"colorbar\":{\"outlinewidth\":0,\"ticks\":\"\"}},\"marker\":{\"colorbar\":{\"outlinewidth\":0,\"ticks\":\"\"}},\"type\":\"scatter3d\"}],\"scattercarpet\":[{\"marker\":{\"colorbar\":{\"outlinewidth\":0,\"ticks\":\"\"}},\"type\":\"scattercarpet\"}],\"scattergeo\":[{\"marker\":{\"colorbar\":{\"outlinewidth\":0,\"ticks\":\"\"}},\"type\":\"scattergeo\"}],\"scattergl\":[{\"marker\":{\"line\":{\"color\":\"#283442\"}},\"type\":\"scattergl\"}],\"scattermapbox\":[{\"marker\":{\"colorbar\":{\"outlinewidth\":0,\"ticks\":\"\"}},\"type\":\"scattermapbox\"}],\"scatterpolargl\":[{\"marker\":{\"colorbar\":{\"outlinewidth\":0,\"ticks\":\"\"}},\"type\":\"scatterpolargl\"}],\"scatterpolar\":[{\"marker\":{\"colorbar\":{\"outlinewidth\":0,\"ticks\":\"\"}},\"type\":\"scatterpolar\"}],\"scatter\":[{\"marker\":{\"line\":{\"color\":\"#283442\"}},\"type\":\"scatter\"}],\"scatterternary\":[{\"marker\":{\"colorbar\":{\"outlinewidth\":0,\"ticks\":\"\"}},\"type\":\"scatterternary\"}],\"surface\":[{\"colorbar\":{\"outlinewidth\":0,\"ticks\":\"\"},\"colorscale\":[[0.0,\"#0d0887\"],[0.1111111111111111,\"#46039f\"],[0.2222222222222222,\"#7201a8\"],[0.3333333333333333,\"#9c179e\"],[0.4444444444444444,\"#bd3786\"],[0.5555555555555556,\"#d8576b\"],[0.6666666666666666,\"#ed7953\"],[0.7777777777777778,\"#fb9f3a\"],[0.8888888888888888,\"#fdca26\"],[1.0,\"#f0f921\"]],\"type\":\"surface\"}],\"table\":[{\"cells\":{\"fill\":{\"color\":\"#506784\"},\"line\":{\"color\":\"rgb(17,17,17)\"}},\"header\":{\"fill\":{\"color\":\"#2a3f5f\"},\"line\":{\"color\":\"rgb(17,17,17)\"}},\"type\":\"table\"}]},\"layout\":{\"annotationdefaults\":{\"arrowcolor\":\"#f2f5fa\",\"arrowhead\":0,\"arrowwidth\":1},\"autotypenumbers\":\"strict\",\"coloraxis\":{\"colorbar\":{\"outlinewidth\":0,\"ticks\":\"\"}},\"colorscale\":{\"diverging\":[[0,\"#8e0152\"],[0.1,\"#c51b7d\"],[0.2,\"#de77ae\"],[0.3,\"#f1b6da\"],[0.4,\"#fde0ef\"],[0.5,\"#f7f7f7\"],[0.6,\"#e6f5d0\"],[0.7,\"#b8e186\"],[0.8,\"#7fbc41\"],[0.9,\"#4d9221\"],[1,\"#276419\"]],\"sequential\":[[0.0,\"#0d0887\"],[0.1111111111111111,\"#46039f\"],[0.2222222222222222,\"#7201a8\"],[0.3333333333333333,\"#9c179e\"],[0.4444444444444444,\"#bd3786\"],[0.5555555555555556,\"#d8576b\"],[0.6666666666666666,\"#ed7953\"],[0.7777777777777778,\"#fb9f3a\"],[0.8888888888888888,\"#fdca26\"],[1.0,\"#f0f921\"]],\"sequentialminus\":[[0.0,\"#0d0887\"],[0.1111111111111111,\"#46039f\"],[0.2222222222222222,\"#7201a8\"],[0.3333333333333333,\"#9c179e\"],[0.4444444444444444,\"#bd3786\"],[0.5555555555555556,\"#d8576b\"],[0.6666666666666666,\"#ed7953\"],[0.7777777777777778,\"#fb9f3a\"],[0.8888888888888888,\"#fdca26\"],[1.0,\"#f0f921\"]]},\"colorway\":[\"#636efa\",\"#EF553B\",\"#00cc96\",\"#ab63fa\",\"#FFA15A\",\"#19d3f3\",\"#FF6692\",\"#B6E880\",\"#FF97FF\",\"#FECB52\"],\"font\":{\"color\":\"#f2f5fa\"},\"geo\":{\"bgcolor\":\"rgb(17,17,17)\",\"lakecolor\":\"rgb(17,17,17)\",\"landcolor\":\"rgb(17,17,17)\",\"showlakes\":true,\"showland\":true,\"subunitcolor\":\"#506784\"},\"hoverlabel\":{\"align\":\"left\"},\"hovermode\":\"closest\",\"mapbox\":{\"style\":\"dark\"},\"paper_bgcolor\":\"rgb(17,17,17)\",\"plot_bgcolor\":\"rgb(17,17,17)\",\"polar\":{\"angularaxis\":{\"gridcolor\":\"#506784\",\"linecolor\":\"#506784\",\"ticks\":\"\"},\"bgcolor\":\"rgb(17,17,17)\",\"radialaxis\":{\"gridcolor\":\"#506784\",\"linecolor\":\"#506784\",\"ticks\":\"\"}},\"scene\":{\"xaxis\":{\"backgroundcolor\":\"rgb(17,17,17)\",\"gridcolor\":\"#506784\",\"gridwidth\":2,\"linecolor\":\"#506784\",\"showbackground\":true,\"ticks\":\"\",\"zerolinecolor\":\"#C8D4E3\"},\"yaxis\":{\"backgroundcolor\":\"rgb(17,17,17)\",\"gridcolor\":\"#506784\",\"gridwidth\":2,\"linecolor\":\"#506784\",\"showbackground\":true,\"ticks\":\"\",\"zerolinecolor\":\"#C8D4E3\"},\"zaxis\":{\"backgroundcolor\":\"rgb(17,17,17)\",\"gridcolor\":\"#506784\",\"gridwidth\":2,\"linecolor\":\"#506784\",\"showbackground\":true,\"ticks\":\"\",\"zerolinecolor\":\"#C8D4E3\"}},\"shapedefaults\":{\"line\":{\"color\":\"#f2f5fa\"}},\"sliderdefaults\":{\"bgcolor\":\"#C8D4E3\",\"bordercolor\":\"rgb(17,17,17)\",\"borderwidth\":1,\"tickwidth\":0},\"ternary\":{\"aaxis\":{\"gridcolor\":\"#506784\",\"linecolor\":\"#506784\",\"ticks\":\"\"},\"baxis\":{\"gridcolor\":\"#506784\",\"linecolor\":\"#506784\",\"ticks\":\"\"},\"bgcolor\":\"rgb(17,17,17)\",\"caxis\":{\"gridcolor\":\"#506784\",\"linecolor\":\"#506784\",\"ticks\":\"\"}},\"title\":{\"x\":0.05},\"updatemenudefaults\":{\"bgcolor\":\"#506784\",\"borderwidth\":0},\"xaxis\":{\"automargin\":true,\"gridcolor\":\"#283442\",\"linecolor\":\"#506784\",\"ticks\":\"\",\"title\":{\"standoff\":15},\"zerolinecolor\":\"#283442\",\"zerolinewidth\":2},\"yaxis\":{\"automargin\":true,\"gridcolor\":\"#283442\",\"linecolor\":\"#506784\",\"ticks\":\"\",\"title\":{\"standoff\":15},\"zerolinecolor\":\"#283442\",\"zerolinewidth\":2}}}},                        {\"responsive\": true}                    ).then(function(){\n                            \nvar gd = document.getElementById('3b654e93-1946-42d3-b940-3d89de7ab8d1');\nvar x = new MutationObserver(function (mutations, observer) {{\n        var display = window.getComputedStyle(gd).display;\n        if (!display || display === 'none') {{\n            console.log([gd, 'removed!']);\n            Plotly.purge(gd);\n            observer.disconnect();\n        }}\n}});\n\n// Listen for the removal of the full notebook cells\nvar notebookContainer = gd.closest('#notebook-container');\nif (notebookContainer) {{\n    x.observe(notebookContainer, {childList: true});\n}}\n\n// Listen for the clearing of the current output cell\nvar outputEl = gd.closest('.output');\nif (outputEl) {{\n    x.observe(outputEl, {childList: true});\n}}\n\n                        })                };                });            </script>        </div>"
     },
     "metadata": {},
     "output_type": "display_data"
    }
   ],
   "source": [
    "btc.chart.init()\n",
    "btc.chart.price.time_values([df_time_value_strike, df_time_value_atm], [f'Strike cur ATM {atm_strike}', 'ATM'], expiration_date=expiration_date)\n",
    "btc.chart.show()"
   ],
   "metadata": {
    "collapsed": false
   }
  },
  {
   "cell_type": "markdown",
   "id": "3a293c1b-8c08-42bd-b75f-d5d328ab2652",
   "metadata": {},
   "source": [
    "## Non-linearity of options"
   ]
  },
  {
   "cell_type": "code",
   "execution_count": 38,
   "id": "9629a5c6-a150-4ecf-8faa-aae8023dba4c",
   "metadata": {},
   "outputs": [
    {
     "data": {
      "text/plain": "(np.float64(86000.0), np.float64(114000.0))"
     },
     "execution_count": 38,
     "metadata": {},
     "output_type": "execute_result"
    }
   ],
   "source": [
    "strikes = btc.chain.get_atm_nearest_strikes()\n",
    "max_strike_risk_2 = strikes[15]\n",
    "strike_start = sorted(filter(lambda x: x <= atm_strike * 0.95, strikes))[-1]\n",
    "strike_end = sorted(filter(lambda x: x >= max_strike_risk_2 * 1.1, strikes))[0]\n",
    "strike_start, strike_end"
   ]
  },
  {
   "cell_type": "code",
   "execution_count": 39,
   "outputs": [
    {
     "data": {
      "text/plain": "         risk_pnl\nstrike           \n86000.0  -6004.13\n88000.0  -4006.37",
      "text/html": "<div>\n<style scoped>\n    .dataframe tbody tr th:only-of-type {\n        vertical-align: middle;\n    }\n\n    .dataframe tbody tr th {\n        vertical-align: top;\n    }\n\n    .dataframe thead th {\n        text-align: right;\n    }\n</style>\n<table border=\"1\" class=\"dataframe\">\n  <thead>\n    <tr style=\"text-align: right;\">\n      <th></th>\n      <th>risk_pnl</th>\n    </tr>\n    <tr>\n      <th>strike</th>\n      <th></th>\n    </tr>\n  </thead>\n  <tbody>\n    <tr>\n      <th>86000.0</th>\n      <td>-6004.13</td>\n    </tr>\n    <tr>\n      <th>88000.0</th>\n      <td>-4006.37</td>\n    </tr>\n  </tbody>\n</table>\n</div>"
     },
     "execution_count": 39,
     "metadata": {},
     "output_type": "execute_result"
    }
   ],
   "source": [
    "fut_legs = [OptionLeg(strike=0, lots=1, type=LegType.FUTURE)]\n",
    "fut_risk_profile, fut_risk_legs_pnl = btc.analytic.risk.chain_risk_profile(fut_legs)\n",
    "fut_risk_profile = fut_risk_profile.loc[strike_start:strike_end]\n",
    "fut_risk_profile.head(2)"
   ],
   "metadata": {
    "collapsed": false
   }
  },
  {
   "cell_type": "code",
   "execution_count": 40,
   "outputs": [
    {
     "data": {
      "text/plain": "            risk_pnl\nstrike              \n86000.0 -1517.057685\n88000.0 -1517.057685",
      "text/html": "<div>\n<style scoped>\n    .dataframe tbody tr th:only-of-type {\n        vertical-align: middle;\n    }\n\n    .dataframe tbody tr th {\n        vertical-align: top;\n    }\n\n    .dataframe thead th {\n        text-align: right;\n    }\n</style>\n<table border=\"1\" class=\"dataframe\">\n  <thead>\n    <tr style=\"text-align: right;\">\n      <th></th>\n      <th>risk_pnl</th>\n    </tr>\n    <tr>\n      <th>strike</th>\n      <th></th>\n    </tr>\n  </thead>\n  <tbody>\n    <tr>\n      <th>86000.0</th>\n      <td>-1517.057685</td>\n    </tr>\n    <tr>\n      <th>88000.0</th>\n      <td>-1517.057685</td>\n    </tr>\n  </tbody>\n</table>\n</div>"
     },
     "execution_count": 40,
     "metadata": {},
     "output_type": "execute_result"
    }
   ],
   "source": [
    "call_legs = [OptionLeg(strike=atm_strike, lots=1, type=LegType.OPTION_CALL)]\n",
    "call_risk_profile, call_risk_legs_pnl = btc.analytic.risk.chain_risk_profile(call_legs)\n",
    "call_risk_profile = call_risk_profile.loc[strike_start:strike_end]\n",
    "call_risk_profile.head(2)"
   ],
   "metadata": {
    "collapsed": false
   }
  },
  {
   "cell_type": "code",
   "execution_count": 43,
   "outputs": [
    {
     "data": {
      "text/plain": "          risk_pnl\nstrike            \n86000.0 -64.360023\n88000.0 -64.360023",
      "text/html": "<div>\n<style scoped>\n    .dataframe tbody tr th:only-of-type {\n        vertical-align: middle;\n    }\n\n    .dataframe tbody tr th {\n        vertical-align: top;\n    }\n\n    .dataframe thead th {\n        text-align: right;\n    }\n</style>\n<table border=\"1\" class=\"dataframe\">\n  <thead>\n    <tr style=\"text-align: right;\">\n      <th></th>\n      <th>risk_pnl</th>\n    </tr>\n    <tr>\n      <th>strike</th>\n      <th></th>\n    </tr>\n  </thead>\n  <tbody>\n    <tr>\n      <th>86000.0</th>\n      <td>-64.360023</td>\n    </tr>\n    <tr>\n      <th>88000.0</th>\n      <td>-64.360023</td>\n    </tr>\n  </tbody>\n</table>\n</div>"
     },
     "execution_count": 43,
     "metadata": {},
     "output_type": "execute_result"
    }
   ],
   "source": [
    "call_legs_1 = [OptionLeg(strike=max_strike_risk_2, lots=1, type=LegType.OPTION_CALL)]\n",
    "call_risk_profile_1, _ = btc.analytic.risk.chain_risk_profile(call_legs_1)\n",
    "call_risk_profile_1 = call_risk_profile_1.loc[strike_start:strike_end]\n",
    "call_risk_profile_1.head(2)"
   ],
   "metadata": {
    "collapsed": false
   }
  },
  {
   "cell_type": "code",
   "execution_count": 44,
   "id": "0c56e063-ee5a-43e8-9645-b866550e27c3",
   "metadata": {},
   "outputs": [
    {
     "data": {
      "application/vnd.plotly.v1+json": {
       "data": [
        {
         "mode": "lines",
         "name": "fut",
         "x": [
          86000.0,
          88000.0,
          90000.0,
          91000.0,
          92000.0,
          93000.0,
          94000.0,
          95000.0,
          96000.0,
          97000.0,
          98000.0,
          99000.0,
          100000.0,
          101000.0,
          102000.0,
          103000.0,
          104000.0,
          105000.0,
          106000.0,
          108000.0,
          110000.0,
          112000.0,
          114000.0
         ],
         "y": [
          -6004.130000000005,
          -4006.3699999999953,
          -2004.1300000000047,
          -1004.1300000000047,
          -6.369999999995343,
          995.8699999999953,
          1995.8699999999953,
          2995.8699999999953,
          3995.8699999999953,
          4993.630000000005,
          5995.869999999995,
          6993.630000000005,
          7995.869999999995,
          8995.869999999995,
          9993.630000000005,
          10993.630000000005,
          11993.630000000005,
          12993.630000000005,
          13993.630000000005,
          15995.869999999995,
          17993.630000000005,
          19993.630000000005,
          21995.869999999995
         ],
         "type": "scatter"
        },
        {
         "mode": "lines",
         "name": "call atm 92000.0",
         "x": [
          86000.0,
          88000.0,
          90000.0,
          91000.0,
          92000.0,
          93000.0,
          94000.0,
          95000.0,
          96000.0,
          97000.0,
          98000.0,
          99000.0,
          100000.0,
          101000.0,
          102000.0,
          103000.0,
          104000.0,
          105000.0,
          106000.0,
          108000.0,
          110000.0,
          112000.0,
          114000.0
         ],
         "y": [
          -1517.057685,
          -1517.057685,
          -1517.057685,
          -1517.057685,
          -1517.057685,
          -517.057685,
          482.942315,
          1482.942315,
          2482.9423150000002,
          3482.9423150000002,
          4482.942315,
          5482.942315,
          6482.942315,
          7482.942315,
          8482.942315,
          9482.942315,
          10482.942315,
          11482.942315,
          12482.942315,
          14482.942315,
          16482.942315,
          18482.942315,
          20482.942315
         ],
         "type": "scatter"
        },
        {
         "mode": "lines",
         "name": "call 102000.0",
         "x": [
          86000.0,
          88000.0,
          90000.0,
          91000.0,
          92000.0,
          93000.0,
          94000.0,
          95000.0,
          96000.0,
          97000.0,
          98000.0,
          99000.0,
          100000.0,
          101000.0,
          102000.0,
          103000.0,
          104000.0,
          105000.0,
          106000.0,
          108000.0,
          110000.0,
          112000.0,
          114000.0
         ],
         "y": [
          -64.360023,
          -64.360023,
          -64.360023,
          -64.360023,
          -64.360023,
          -64.360023,
          -64.360023,
          -64.360023,
          -64.360023,
          -64.360023,
          -64.360023,
          -64.360023,
          -64.360023,
          -64.360023,
          -64.360023,
          935.639977,
          1935.639977,
          2935.639977,
          3935.639977,
          5935.639977,
          7935.639977,
          9935.639977,
          11935.639977
         ],
         "type": "scatter"
        }
       ],
       "layout": {
        "template": {
         "data": {
          "barpolar": [
           {
            "marker": {
             "line": {
              "color": "rgb(17,17,17)",
              "width": 0.5
             },
             "pattern": {
              "fillmode": "overlay",
              "size": 10,
              "solidity": 0.2
             }
            },
            "type": "barpolar"
           }
          ],
          "bar": [
           {
            "error_x": {
             "color": "#f2f5fa"
            },
            "error_y": {
             "color": "#f2f5fa"
            },
            "marker": {
             "line": {
              "color": "rgb(17,17,17)",
              "width": 0.5
             },
             "pattern": {
              "fillmode": "overlay",
              "size": 10,
              "solidity": 0.2
             }
            },
            "type": "bar"
           }
          ],
          "carpet": [
           {
            "aaxis": {
             "endlinecolor": "#A2B1C6",
             "gridcolor": "#506784",
             "linecolor": "#506784",
             "minorgridcolor": "#506784",
             "startlinecolor": "#A2B1C6"
            },
            "baxis": {
             "endlinecolor": "#A2B1C6",
             "gridcolor": "#506784",
             "linecolor": "#506784",
             "minorgridcolor": "#506784",
             "startlinecolor": "#A2B1C6"
            },
            "type": "carpet"
           }
          ],
          "choropleth": [
           {
            "colorbar": {
             "outlinewidth": 0,
             "ticks": ""
            },
            "type": "choropleth"
           }
          ],
          "contourcarpet": [
           {
            "colorbar": {
             "outlinewidth": 0,
             "ticks": ""
            },
            "type": "contourcarpet"
           }
          ],
          "contour": [
           {
            "colorbar": {
             "outlinewidth": 0,
             "ticks": ""
            },
            "colorscale": [
             [
              0.0,
              "#0d0887"
             ],
             [
              0.1111111111111111,
              "#46039f"
             ],
             [
              0.2222222222222222,
              "#7201a8"
             ],
             [
              0.3333333333333333,
              "#9c179e"
             ],
             [
              0.4444444444444444,
              "#bd3786"
             ],
             [
              0.5555555555555556,
              "#d8576b"
             ],
             [
              0.6666666666666666,
              "#ed7953"
             ],
             [
              0.7777777777777778,
              "#fb9f3a"
             ],
             [
              0.8888888888888888,
              "#fdca26"
             ],
             [
              1.0,
              "#f0f921"
             ]
            ],
            "type": "contour"
           }
          ],
          "heatmapgl": [
           {
            "colorbar": {
             "outlinewidth": 0,
             "ticks": ""
            },
            "colorscale": [
             [
              0.0,
              "#0d0887"
             ],
             [
              0.1111111111111111,
              "#46039f"
             ],
             [
              0.2222222222222222,
              "#7201a8"
             ],
             [
              0.3333333333333333,
              "#9c179e"
             ],
             [
              0.4444444444444444,
              "#bd3786"
             ],
             [
              0.5555555555555556,
              "#d8576b"
             ],
             [
              0.6666666666666666,
              "#ed7953"
             ],
             [
              0.7777777777777778,
              "#fb9f3a"
             ],
             [
              0.8888888888888888,
              "#fdca26"
             ],
             [
              1.0,
              "#f0f921"
             ]
            ],
            "type": "heatmapgl"
           }
          ],
          "heatmap": [
           {
            "colorbar": {
             "outlinewidth": 0,
             "ticks": ""
            },
            "colorscale": [
             [
              0.0,
              "#0d0887"
             ],
             [
              0.1111111111111111,
              "#46039f"
             ],
             [
              0.2222222222222222,
              "#7201a8"
             ],
             [
              0.3333333333333333,
              "#9c179e"
             ],
             [
              0.4444444444444444,
              "#bd3786"
             ],
             [
              0.5555555555555556,
              "#d8576b"
             ],
             [
              0.6666666666666666,
              "#ed7953"
             ],
             [
              0.7777777777777778,
              "#fb9f3a"
             ],
             [
              0.8888888888888888,
              "#fdca26"
             ],
             [
              1.0,
              "#f0f921"
             ]
            ],
            "type": "heatmap"
           }
          ],
          "histogram2dcontour": [
           {
            "colorbar": {
             "outlinewidth": 0,
             "ticks": ""
            },
            "colorscale": [
             [
              0.0,
              "#0d0887"
             ],
             [
              0.1111111111111111,
              "#46039f"
             ],
             [
              0.2222222222222222,
              "#7201a8"
             ],
             [
              0.3333333333333333,
              "#9c179e"
             ],
             [
              0.4444444444444444,
              "#bd3786"
             ],
             [
              0.5555555555555556,
              "#d8576b"
             ],
             [
              0.6666666666666666,
              "#ed7953"
             ],
             [
              0.7777777777777778,
              "#fb9f3a"
             ],
             [
              0.8888888888888888,
              "#fdca26"
             ],
             [
              1.0,
              "#f0f921"
             ]
            ],
            "type": "histogram2dcontour"
           }
          ],
          "histogram2d": [
           {
            "colorbar": {
             "outlinewidth": 0,
             "ticks": ""
            },
            "colorscale": [
             [
              0.0,
              "#0d0887"
             ],
             [
              0.1111111111111111,
              "#46039f"
             ],
             [
              0.2222222222222222,
              "#7201a8"
             ],
             [
              0.3333333333333333,
              "#9c179e"
             ],
             [
              0.4444444444444444,
              "#bd3786"
             ],
             [
              0.5555555555555556,
              "#d8576b"
             ],
             [
              0.6666666666666666,
              "#ed7953"
             ],
             [
              0.7777777777777778,
              "#fb9f3a"
             ],
             [
              0.8888888888888888,
              "#fdca26"
             ],
             [
              1.0,
              "#f0f921"
             ]
            ],
            "type": "histogram2d"
           }
          ],
          "histogram": [
           {
            "marker": {
             "pattern": {
              "fillmode": "overlay",
              "size": 10,
              "solidity": 0.2
             }
            },
            "type": "histogram"
           }
          ],
          "mesh3d": [
           {
            "colorbar": {
             "outlinewidth": 0,
             "ticks": ""
            },
            "type": "mesh3d"
           }
          ],
          "parcoords": [
           {
            "line": {
             "colorbar": {
              "outlinewidth": 0,
              "ticks": ""
             }
            },
            "type": "parcoords"
           }
          ],
          "pie": [
           {
            "automargin": true,
            "type": "pie"
           }
          ],
          "scatter3d": [
           {
            "line": {
             "colorbar": {
              "outlinewidth": 0,
              "ticks": ""
             }
            },
            "marker": {
             "colorbar": {
              "outlinewidth": 0,
              "ticks": ""
             }
            },
            "type": "scatter3d"
           }
          ],
          "scattercarpet": [
           {
            "marker": {
             "colorbar": {
              "outlinewidth": 0,
              "ticks": ""
             }
            },
            "type": "scattercarpet"
           }
          ],
          "scattergeo": [
           {
            "marker": {
             "colorbar": {
              "outlinewidth": 0,
              "ticks": ""
             }
            },
            "type": "scattergeo"
           }
          ],
          "scattergl": [
           {
            "marker": {
             "line": {
              "color": "#283442"
             }
            },
            "type": "scattergl"
           }
          ],
          "scattermapbox": [
           {
            "marker": {
             "colorbar": {
              "outlinewidth": 0,
              "ticks": ""
             }
            },
            "type": "scattermapbox"
           }
          ],
          "scatterpolargl": [
           {
            "marker": {
             "colorbar": {
              "outlinewidth": 0,
              "ticks": ""
             }
            },
            "type": "scatterpolargl"
           }
          ],
          "scatterpolar": [
           {
            "marker": {
             "colorbar": {
              "outlinewidth": 0,
              "ticks": ""
             }
            },
            "type": "scatterpolar"
           }
          ],
          "scatter": [
           {
            "marker": {
             "line": {
              "color": "#283442"
             }
            },
            "type": "scatter"
           }
          ],
          "scatterternary": [
           {
            "marker": {
             "colorbar": {
              "outlinewidth": 0,
              "ticks": ""
             }
            },
            "type": "scatterternary"
           }
          ],
          "surface": [
           {
            "colorbar": {
             "outlinewidth": 0,
             "ticks": ""
            },
            "colorscale": [
             [
              0.0,
              "#0d0887"
             ],
             [
              0.1111111111111111,
              "#46039f"
             ],
             [
              0.2222222222222222,
              "#7201a8"
             ],
             [
              0.3333333333333333,
              "#9c179e"
             ],
             [
              0.4444444444444444,
              "#bd3786"
             ],
             [
              0.5555555555555556,
              "#d8576b"
             ],
             [
              0.6666666666666666,
              "#ed7953"
             ],
             [
              0.7777777777777778,
              "#fb9f3a"
             ],
             [
              0.8888888888888888,
              "#fdca26"
             ],
             [
              1.0,
              "#f0f921"
             ]
            ],
            "type": "surface"
           }
          ],
          "table": [
           {
            "cells": {
             "fill": {
              "color": "#506784"
             },
             "line": {
              "color": "rgb(17,17,17)"
             }
            },
            "header": {
             "fill": {
              "color": "#2a3f5f"
             },
             "line": {
              "color": "rgb(17,17,17)"
             }
            },
            "type": "table"
           }
          ]
         },
         "layout": {
          "annotationdefaults": {
           "arrowcolor": "#f2f5fa",
           "arrowhead": 0,
           "arrowwidth": 1
          },
          "autotypenumbers": "strict",
          "coloraxis": {
           "colorbar": {
            "outlinewidth": 0,
            "ticks": ""
           }
          },
          "colorscale": {
           "diverging": [
            [
             0,
             "#8e0152"
            ],
            [
             0.1,
             "#c51b7d"
            ],
            [
             0.2,
             "#de77ae"
            ],
            [
             0.3,
             "#f1b6da"
            ],
            [
             0.4,
             "#fde0ef"
            ],
            [
             0.5,
             "#f7f7f7"
            ],
            [
             0.6,
             "#e6f5d0"
            ],
            [
             0.7,
             "#b8e186"
            ],
            [
             0.8,
             "#7fbc41"
            ],
            [
             0.9,
             "#4d9221"
            ],
            [
             1,
             "#276419"
            ]
           ],
           "sequential": [
            [
             0.0,
             "#0d0887"
            ],
            [
             0.1111111111111111,
             "#46039f"
            ],
            [
             0.2222222222222222,
             "#7201a8"
            ],
            [
             0.3333333333333333,
             "#9c179e"
            ],
            [
             0.4444444444444444,
             "#bd3786"
            ],
            [
             0.5555555555555556,
             "#d8576b"
            ],
            [
             0.6666666666666666,
             "#ed7953"
            ],
            [
             0.7777777777777778,
             "#fb9f3a"
            ],
            [
             0.8888888888888888,
             "#fdca26"
            ],
            [
             1.0,
             "#f0f921"
            ]
           ],
           "sequentialminus": [
            [
             0.0,
             "#0d0887"
            ],
            [
             0.1111111111111111,
             "#46039f"
            ],
            [
             0.2222222222222222,
             "#7201a8"
            ],
            [
             0.3333333333333333,
             "#9c179e"
            ],
            [
             0.4444444444444444,
             "#bd3786"
            ],
            [
             0.5555555555555556,
             "#d8576b"
            ],
            [
             0.6666666666666666,
             "#ed7953"
            ],
            [
             0.7777777777777778,
             "#fb9f3a"
            ],
            [
             0.8888888888888888,
             "#fdca26"
            ],
            [
             1.0,
             "#f0f921"
            ]
           ]
          },
          "colorway": [
           "#636efa",
           "#EF553B",
           "#00cc96",
           "#ab63fa",
           "#FFA15A",
           "#19d3f3",
           "#FF6692",
           "#B6E880",
           "#FF97FF",
           "#FECB52"
          ],
          "font": {
           "color": "#f2f5fa"
          },
          "geo": {
           "bgcolor": "rgb(17,17,17)",
           "lakecolor": "rgb(17,17,17)",
           "landcolor": "rgb(17,17,17)",
           "showlakes": true,
           "showland": true,
           "subunitcolor": "#506784"
          },
          "hoverlabel": {
           "align": "left"
          },
          "hovermode": "closest",
          "mapbox": {
           "style": "dark"
          },
          "paper_bgcolor": "rgb(17,17,17)",
          "plot_bgcolor": "rgb(17,17,17)",
          "polar": {
           "angularaxis": {
            "gridcolor": "#506784",
            "linecolor": "#506784",
            "ticks": ""
           },
           "bgcolor": "rgb(17,17,17)",
           "radialaxis": {
            "gridcolor": "#506784",
            "linecolor": "#506784",
            "ticks": ""
           }
          },
          "scene": {
           "xaxis": {
            "backgroundcolor": "rgb(17,17,17)",
            "gridcolor": "#506784",
            "gridwidth": 2,
            "linecolor": "#506784",
            "showbackground": true,
            "ticks": "",
            "zerolinecolor": "#C8D4E3"
           },
           "yaxis": {
            "backgroundcolor": "rgb(17,17,17)",
            "gridcolor": "#506784",
            "gridwidth": 2,
            "linecolor": "#506784",
            "showbackground": true,
            "ticks": "",
            "zerolinecolor": "#C8D4E3"
           },
           "zaxis": {
            "backgroundcolor": "rgb(17,17,17)",
            "gridcolor": "#506784",
            "gridwidth": 2,
            "linecolor": "#506784",
            "showbackground": true,
            "ticks": "",
            "zerolinecolor": "#C8D4E3"
           }
          },
          "shapedefaults": {
           "line": {
            "color": "#f2f5fa"
           }
          },
          "sliderdefaults": {
           "bgcolor": "#C8D4E3",
           "bordercolor": "rgb(17,17,17)",
           "borderwidth": 1,
           "tickwidth": 0
          },
          "ternary": {
           "aaxis": {
            "gridcolor": "#506784",
            "linecolor": "#506784",
            "ticks": ""
           },
           "baxis": {
            "gridcolor": "#506784",
            "linecolor": "#506784",
            "ticks": ""
           },
           "bgcolor": "rgb(17,17,17)",
           "caxis": {
            "gridcolor": "#506784",
            "linecolor": "#506784",
            "ticks": ""
           }
          },
          "title": {
           "x": 0.05
          },
          "updatemenudefaults": {
           "bgcolor": "#506784",
           "borderwidth": 0
          },
          "xaxis": {
           "automargin": true,
           "gridcolor": "#283442",
           "linecolor": "#506784",
           "ticks": "",
           "title": {
            "standoff": 15
           },
           "zerolinecolor": "#283442",
           "zerolinewidth": 2
          },
          "yaxis": {
           "automargin": true,
           "gridcolor": "#283442",
           "linecolor": "#506784",
           "ticks": "",
           "title": {
            "standoff": 15
           },
           "zerolinecolor": "#283442",
           "zerolinewidth": 2
          }
         }
        }
       },
       "config": {
        "showLink": false,
        "linkText": "Export to plot.ly",
        "plotlyServerURL": "https://plot.ly"
       }
      },
      "text/html": "<div>                            <div id=\"318bd27e-49fb-4aea-a88e-cfeb370d73c1\" class=\"plotly-graph-div\" style=\"height:525px; width:100%;\"></div>            <script type=\"text/javascript\">                require([\"plotly\"], function(Plotly) {                    window.PLOTLYENV=window.PLOTLYENV || {};                                    if (document.getElementById(\"318bd27e-49fb-4aea-a88e-cfeb370d73c1\")) {                    Plotly.newPlot(                        \"318bd27e-49fb-4aea-a88e-cfeb370d73c1\",                        [{\"mode\":\"lines\",\"name\":\"fut\",\"x\":[86000.0,88000.0,90000.0,91000.0,92000.0,93000.0,94000.0,95000.0,96000.0,97000.0,98000.0,99000.0,100000.0,101000.0,102000.0,103000.0,104000.0,105000.0,106000.0,108000.0,110000.0,112000.0,114000.0],\"y\":[-6004.130000000005,-4006.3699999999953,-2004.1300000000047,-1004.1300000000047,-6.369999999995343,995.8699999999953,1995.8699999999953,2995.8699999999953,3995.8699999999953,4993.630000000005,5995.869999999995,6993.630000000005,7995.869999999995,8995.869999999995,9993.630000000005,10993.630000000005,11993.630000000005,12993.630000000005,13993.630000000005,15995.869999999995,17993.630000000005,19993.630000000005,21995.869999999995],\"type\":\"scatter\"},{\"mode\":\"lines\",\"name\":\"call atm 92000.0\",\"x\":[86000.0,88000.0,90000.0,91000.0,92000.0,93000.0,94000.0,95000.0,96000.0,97000.0,98000.0,99000.0,100000.0,101000.0,102000.0,103000.0,104000.0,105000.0,106000.0,108000.0,110000.0,112000.0,114000.0],\"y\":[-1517.057685,-1517.057685,-1517.057685,-1517.057685,-1517.057685,-517.057685,482.942315,1482.942315,2482.9423150000002,3482.9423150000002,4482.942315,5482.942315,6482.942315,7482.942315,8482.942315,9482.942315,10482.942315,11482.942315,12482.942315,14482.942315,16482.942315,18482.942315,20482.942315],\"type\":\"scatter\"},{\"mode\":\"lines\",\"name\":\"call 102000.0\",\"x\":[86000.0,88000.0,90000.0,91000.0,92000.0,93000.0,94000.0,95000.0,96000.0,97000.0,98000.0,99000.0,100000.0,101000.0,102000.0,103000.0,104000.0,105000.0,106000.0,108000.0,110000.0,112000.0,114000.0],\"y\":[-64.360023,-64.360023,-64.360023,-64.360023,-64.360023,-64.360023,-64.360023,-64.360023,-64.360023,-64.360023,-64.360023,-64.360023,-64.360023,-64.360023,-64.360023,935.639977,1935.639977,2935.639977,3935.639977,5935.639977,7935.639977,9935.639977,11935.639977],\"type\":\"scatter\"}],                        {\"template\":{\"data\":{\"barpolar\":[{\"marker\":{\"line\":{\"color\":\"rgb(17,17,17)\",\"width\":0.5},\"pattern\":{\"fillmode\":\"overlay\",\"size\":10,\"solidity\":0.2}},\"type\":\"barpolar\"}],\"bar\":[{\"error_x\":{\"color\":\"#f2f5fa\"},\"error_y\":{\"color\":\"#f2f5fa\"},\"marker\":{\"line\":{\"color\":\"rgb(17,17,17)\",\"width\":0.5},\"pattern\":{\"fillmode\":\"overlay\",\"size\":10,\"solidity\":0.2}},\"type\":\"bar\"}],\"carpet\":[{\"aaxis\":{\"endlinecolor\":\"#A2B1C6\",\"gridcolor\":\"#506784\",\"linecolor\":\"#506784\",\"minorgridcolor\":\"#506784\",\"startlinecolor\":\"#A2B1C6\"},\"baxis\":{\"endlinecolor\":\"#A2B1C6\",\"gridcolor\":\"#506784\",\"linecolor\":\"#506784\",\"minorgridcolor\":\"#506784\",\"startlinecolor\":\"#A2B1C6\"},\"type\":\"carpet\"}],\"choropleth\":[{\"colorbar\":{\"outlinewidth\":0,\"ticks\":\"\"},\"type\":\"choropleth\"}],\"contourcarpet\":[{\"colorbar\":{\"outlinewidth\":0,\"ticks\":\"\"},\"type\":\"contourcarpet\"}],\"contour\":[{\"colorbar\":{\"outlinewidth\":0,\"ticks\":\"\"},\"colorscale\":[[0.0,\"#0d0887\"],[0.1111111111111111,\"#46039f\"],[0.2222222222222222,\"#7201a8\"],[0.3333333333333333,\"#9c179e\"],[0.4444444444444444,\"#bd3786\"],[0.5555555555555556,\"#d8576b\"],[0.6666666666666666,\"#ed7953\"],[0.7777777777777778,\"#fb9f3a\"],[0.8888888888888888,\"#fdca26\"],[1.0,\"#f0f921\"]],\"type\":\"contour\"}],\"heatmapgl\":[{\"colorbar\":{\"outlinewidth\":0,\"ticks\":\"\"},\"colorscale\":[[0.0,\"#0d0887\"],[0.1111111111111111,\"#46039f\"],[0.2222222222222222,\"#7201a8\"],[0.3333333333333333,\"#9c179e\"],[0.4444444444444444,\"#bd3786\"],[0.5555555555555556,\"#d8576b\"],[0.6666666666666666,\"#ed7953\"],[0.7777777777777778,\"#fb9f3a\"],[0.8888888888888888,\"#fdca26\"],[1.0,\"#f0f921\"]],\"type\":\"heatmapgl\"}],\"heatmap\":[{\"colorbar\":{\"outlinewidth\":0,\"ticks\":\"\"},\"colorscale\":[[0.0,\"#0d0887\"],[0.1111111111111111,\"#46039f\"],[0.2222222222222222,\"#7201a8\"],[0.3333333333333333,\"#9c179e\"],[0.4444444444444444,\"#bd3786\"],[0.5555555555555556,\"#d8576b\"],[0.6666666666666666,\"#ed7953\"],[0.7777777777777778,\"#fb9f3a\"],[0.8888888888888888,\"#fdca26\"],[1.0,\"#f0f921\"]],\"type\":\"heatmap\"}],\"histogram2dcontour\":[{\"colorbar\":{\"outlinewidth\":0,\"ticks\":\"\"},\"colorscale\":[[0.0,\"#0d0887\"],[0.1111111111111111,\"#46039f\"],[0.2222222222222222,\"#7201a8\"],[0.3333333333333333,\"#9c179e\"],[0.4444444444444444,\"#bd3786\"],[0.5555555555555556,\"#d8576b\"],[0.6666666666666666,\"#ed7953\"],[0.7777777777777778,\"#fb9f3a\"],[0.8888888888888888,\"#fdca26\"],[1.0,\"#f0f921\"]],\"type\":\"histogram2dcontour\"}],\"histogram2d\":[{\"colorbar\":{\"outlinewidth\":0,\"ticks\":\"\"},\"colorscale\":[[0.0,\"#0d0887\"],[0.1111111111111111,\"#46039f\"],[0.2222222222222222,\"#7201a8\"],[0.3333333333333333,\"#9c179e\"],[0.4444444444444444,\"#bd3786\"],[0.5555555555555556,\"#d8576b\"],[0.6666666666666666,\"#ed7953\"],[0.7777777777777778,\"#fb9f3a\"],[0.8888888888888888,\"#fdca26\"],[1.0,\"#f0f921\"]],\"type\":\"histogram2d\"}],\"histogram\":[{\"marker\":{\"pattern\":{\"fillmode\":\"overlay\",\"size\":10,\"solidity\":0.2}},\"type\":\"histogram\"}],\"mesh3d\":[{\"colorbar\":{\"outlinewidth\":0,\"ticks\":\"\"},\"type\":\"mesh3d\"}],\"parcoords\":[{\"line\":{\"colorbar\":{\"outlinewidth\":0,\"ticks\":\"\"}},\"type\":\"parcoords\"}],\"pie\":[{\"automargin\":true,\"type\":\"pie\"}],\"scatter3d\":[{\"line\":{\"colorbar\":{\"outlinewidth\":0,\"ticks\":\"\"}},\"marker\":{\"colorbar\":{\"outlinewidth\":0,\"ticks\":\"\"}},\"type\":\"scatter3d\"}],\"scattercarpet\":[{\"marker\":{\"colorbar\":{\"outlinewidth\":0,\"ticks\":\"\"}},\"type\":\"scattercarpet\"}],\"scattergeo\":[{\"marker\":{\"colorbar\":{\"outlinewidth\":0,\"ticks\":\"\"}},\"type\":\"scattergeo\"}],\"scattergl\":[{\"marker\":{\"line\":{\"color\":\"#283442\"}},\"type\":\"scattergl\"}],\"scattermapbox\":[{\"marker\":{\"colorbar\":{\"outlinewidth\":0,\"ticks\":\"\"}},\"type\":\"scattermapbox\"}],\"scatterpolargl\":[{\"marker\":{\"colorbar\":{\"outlinewidth\":0,\"ticks\":\"\"}},\"type\":\"scatterpolargl\"}],\"scatterpolar\":[{\"marker\":{\"colorbar\":{\"outlinewidth\":0,\"ticks\":\"\"}},\"type\":\"scatterpolar\"}],\"scatter\":[{\"marker\":{\"line\":{\"color\":\"#283442\"}},\"type\":\"scatter\"}],\"scatterternary\":[{\"marker\":{\"colorbar\":{\"outlinewidth\":0,\"ticks\":\"\"}},\"type\":\"scatterternary\"}],\"surface\":[{\"colorbar\":{\"outlinewidth\":0,\"ticks\":\"\"},\"colorscale\":[[0.0,\"#0d0887\"],[0.1111111111111111,\"#46039f\"],[0.2222222222222222,\"#7201a8\"],[0.3333333333333333,\"#9c179e\"],[0.4444444444444444,\"#bd3786\"],[0.5555555555555556,\"#d8576b\"],[0.6666666666666666,\"#ed7953\"],[0.7777777777777778,\"#fb9f3a\"],[0.8888888888888888,\"#fdca26\"],[1.0,\"#f0f921\"]],\"type\":\"surface\"}],\"table\":[{\"cells\":{\"fill\":{\"color\":\"#506784\"},\"line\":{\"color\":\"rgb(17,17,17)\"}},\"header\":{\"fill\":{\"color\":\"#2a3f5f\"},\"line\":{\"color\":\"rgb(17,17,17)\"}},\"type\":\"table\"}]},\"layout\":{\"annotationdefaults\":{\"arrowcolor\":\"#f2f5fa\",\"arrowhead\":0,\"arrowwidth\":1},\"autotypenumbers\":\"strict\",\"coloraxis\":{\"colorbar\":{\"outlinewidth\":0,\"ticks\":\"\"}},\"colorscale\":{\"diverging\":[[0,\"#8e0152\"],[0.1,\"#c51b7d\"],[0.2,\"#de77ae\"],[0.3,\"#f1b6da\"],[0.4,\"#fde0ef\"],[0.5,\"#f7f7f7\"],[0.6,\"#e6f5d0\"],[0.7,\"#b8e186\"],[0.8,\"#7fbc41\"],[0.9,\"#4d9221\"],[1,\"#276419\"]],\"sequential\":[[0.0,\"#0d0887\"],[0.1111111111111111,\"#46039f\"],[0.2222222222222222,\"#7201a8\"],[0.3333333333333333,\"#9c179e\"],[0.4444444444444444,\"#bd3786\"],[0.5555555555555556,\"#d8576b\"],[0.6666666666666666,\"#ed7953\"],[0.7777777777777778,\"#fb9f3a\"],[0.8888888888888888,\"#fdca26\"],[1.0,\"#f0f921\"]],\"sequentialminus\":[[0.0,\"#0d0887\"],[0.1111111111111111,\"#46039f\"],[0.2222222222222222,\"#7201a8\"],[0.3333333333333333,\"#9c179e\"],[0.4444444444444444,\"#bd3786\"],[0.5555555555555556,\"#d8576b\"],[0.6666666666666666,\"#ed7953\"],[0.7777777777777778,\"#fb9f3a\"],[0.8888888888888888,\"#fdca26\"],[1.0,\"#f0f921\"]]},\"colorway\":[\"#636efa\",\"#EF553B\",\"#00cc96\",\"#ab63fa\",\"#FFA15A\",\"#19d3f3\",\"#FF6692\",\"#B6E880\",\"#FF97FF\",\"#FECB52\"],\"font\":{\"color\":\"#f2f5fa\"},\"geo\":{\"bgcolor\":\"rgb(17,17,17)\",\"lakecolor\":\"rgb(17,17,17)\",\"landcolor\":\"rgb(17,17,17)\",\"showlakes\":true,\"showland\":true,\"subunitcolor\":\"#506784\"},\"hoverlabel\":{\"align\":\"left\"},\"hovermode\":\"closest\",\"mapbox\":{\"style\":\"dark\"},\"paper_bgcolor\":\"rgb(17,17,17)\",\"plot_bgcolor\":\"rgb(17,17,17)\",\"polar\":{\"angularaxis\":{\"gridcolor\":\"#506784\",\"linecolor\":\"#506784\",\"ticks\":\"\"},\"bgcolor\":\"rgb(17,17,17)\",\"radialaxis\":{\"gridcolor\":\"#506784\",\"linecolor\":\"#506784\",\"ticks\":\"\"}},\"scene\":{\"xaxis\":{\"backgroundcolor\":\"rgb(17,17,17)\",\"gridcolor\":\"#506784\",\"gridwidth\":2,\"linecolor\":\"#506784\",\"showbackground\":true,\"ticks\":\"\",\"zerolinecolor\":\"#C8D4E3\"},\"yaxis\":{\"backgroundcolor\":\"rgb(17,17,17)\",\"gridcolor\":\"#506784\",\"gridwidth\":2,\"linecolor\":\"#506784\",\"showbackground\":true,\"ticks\":\"\",\"zerolinecolor\":\"#C8D4E3\"},\"zaxis\":{\"backgroundcolor\":\"rgb(17,17,17)\",\"gridcolor\":\"#506784\",\"gridwidth\":2,\"linecolor\":\"#506784\",\"showbackground\":true,\"ticks\":\"\",\"zerolinecolor\":\"#C8D4E3\"}},\"shapedefaults\":{\"line\":{\"color\":\"#f2f5fa\"}},\"sliderdefaults\":{\"bgcolor\":\"#C8D4E3\",\"bordercolor\":\"rgb(17,17,17)\",\"borderwidth\":1,\"tickwidth\":0},\"ternary\":{\"aaxis\":{\"gridcolor\":\"#506784\",\"linecolor\":\"#506784\",\"ticks\":\"\"},\"baxis\":{\"gridcolor\":\"#506784\",\"linecolor\":\"#506784\",\"ticks\":\"\"},\"bgcolor\":\"rgb(17,17,17)\",\"caxis\":{\"gridcolor\":\"#506784\",\"linecolor\":\"#506784\",\"ticks\":\"\"}},\"title\":{\"x\":0.05},\"updatemenudefaults\":{\"bgcolor\":\"#506784\",\"borderwidth\":0},\"xaxis\":{\"automargin\":true,\"gridcolor\":\"#283442\",\"linecolor\":\"#506784\",\"ticks\":\"\",\"title\":{\"standoff\":15},\"zerolinecolor\":\"#283442\",\"zerolinewidth\":2},\"yaxis\":{\"automargin\":true,\"gridcolor\":\"#283442\",\"linecolor\":\"#506784\",\"ticks\":\"\",\"title\":{\"standoff\":15},\"zerolinecolor\":\"#283442\",\"zerolinewidth\":2}}}},                        {\"responsive\": true}                    ).then(function(){\n                            \nvar gd = document.getElementById('318bd27e-49fb-4aea-a88e-cfeb370d73c1');\nvar x = new MutationObserver(function (mutations, observer) {{\n        var display = window.getComputedStyle(gd).display;\n        if (!display || display === 'none') {{\n            console.log([gd, 'removed!']);\n            Plotly.purge(gd);\n            observer.disconnect();\n        }}\n}});\n\n// Listen for the removal of the full notebook cells\nvar notebookContainer = gd.closest('#notebook-container');\nif (notebookContainer) {{\n    x.observe(notebookContainer, {childList: true});\n}}\n\n// Listen for the clearing of the current output cell\nvar outputEl = gd.closest('.output');\nif (outputEl) {{\n    x.observe(outputEl, {childList: true});\n}}\n\n                        })                };                });            </script>        </div>"
     },
     "metadata": {},
     "output_type": "display_data"
    }
   ],
   "source": [
    "data = [\n",
    "    go.Scatter(x=fut_risk_profile.index.to_list(), y=fut_risk_profile['risk_pnl'].to_list(), mode='lines', name='fut'),\n",
    "    go.Scatter(x=call_risk_profile.index.to_list(), y=call_risk_profile['risk_pnl'].to_list(), mode='lines',\n",
    "               name=f'call atm {call_legs[0].strike}'),\n",
    "    go.Scatter(x=call_risk_profile_1.index.to_list(), y=call_risk_profile_1['risk_pnl'].to_list(), mode='lines',\n",
    "               name=f'call {call_legs_1[0].strike}')\n",
    "]  # markers, lines\n",
    "iplot(data)"
   ]
  },
  {
   "cell_type": "code",
   "execution_count": 25,
   "id": "2f55f083-ea00-4665-b800-13464e9312d4",
   "metadata": {},
   "outputs": [],
   "source": []
  }
 ],
 "metadata": {
  "kernelspec": {
   "display_name": "Python 3 (ipykernel)",
   "language": "python",
   "name": "python3"
  },
  "language_info": {
   "codemirror_mode": {
    "name": "ipython",
    "version": 3
   },
   "file_extension": ".py",
   "mimetype": "text/x-python",
   "name": "python",
   "nbconvert_exporter": "python",
   "pygments_lexer": "ipython3",
   "version": "3.13.0"
  }
 },
 "nbformat": 4,
 "nbformat_minor": 5
}
